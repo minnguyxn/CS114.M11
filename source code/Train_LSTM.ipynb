{
  "cells": [
    {
      "cell_type": "markdown",
      "metadata": {
        "id": "view-in-github",
        "colab_type": "text"
      },
      "source": [
        "<a href=\"https://colab.research.google.com/github/minz1337/CS114.M11/blob/main/source%20code/Train_LSTM.ipynb\" target=\"_parent\"><img src=\"https://colab.research.google.com/assets/colab-badge.svg\" alt=\"Open In Colab\"/></a>"
      ]
    },
    {
      "cell_type": "markdown",
      "metadata": {
        "id": "7g6zy23Egitb"
      },
      "source": [
        "# Library"
      ]
    },
    {
      "cell_type": "code",
      "execution_count": null,
      "metadata": {
        "id": "7unsdAX1ghDL"
      },
      "outputs": [],
      "source": [
        "import sys\n",
        "import numpy as np \n",
        "from scipy.stats import randint\n",
        "import pandas as pd \n",
        "import matplotlib.pyplot as plt \n",
        "from keras.regularizers import L1L2\n",
        "import keras\n",
        "from keras.layers import Dense\n",
        "from keras.models import Sequential\n",
        "from keras.callbacks import EarlyStopping\n",
        "from keras.utils import np_utils\n",
        "import itertools\n",
        "from keras.layers import LSTM,Bidirectional\n",
        "from keras.layers.convolutional import Conv1D\n",
        "from keras.layers.convolutional import MaxPooling1D\n",
        "from keras.layers import Dropout\n",
        "import tensorflow"
      ]
    },
    {
      "cell_type": "markdown",
      "metadata": {
        "id": "YBpRlqSUgrip"
      },
      "source": [
        "# Read data & prepare"
      ]
    },
    {
      "cell_type": "markdown",
      "metadata": {
        "id": "84xzcv4mgvT-"
      },
      "source": [
        "# Model"
      ]
    },
    {
      "cell_type": "code",
      "execution_count": null,
      "metadata": {
        "id": "fhgCgBmugxYm"
      },
      "outputs": [],
      "source": [
        "#regularizers = [L1L2(l1=0.0, l2=0.0), L1L2(l1=0.01, l2=0.0), L1L2(l1=0.0, l2=0.01), L1L2(l1=0.01, l2=0.01)]\n",
        "def LSTM_base(input_shape):\n",
        "  model = Sequential()\n",
        "  model.add(LSTM (units=100, input_shape=input_shape, return_sequences=True,\n",
        "                  activity_regularizer=L1L2(l1=0.0, l2=0.01)\n",
        "                  )) \n",
        "  #model.add(Bidirectional(LSTM(100, \n",
        "  #      implementation = 2, recurrent_activation = 'sigmoid'),\n",
        "  #      input_shape=input_shape))\n",
        "  model.add(Dropout(0.6))\n",
        "  model.add(Dense(1,activation='sigmoid'))\n",
        "  model.compile(loss='binary_crossentropy', optimizer=tensorflow.keras.optimizers.Adam(lr=0.00005), metrics=['accuracy'])\n",
        "  return model\n",
        "\n",
        "def LSTM_FullyConnected(input_shape):\n",
        "  model = Sequential()\n",
        "  model.add(LSTM(units=128, activation='sigmoid', input_shape=input_shape,return_sequences=True))\n",
        "  model.add(Dropout(0.1))\n",
        "  model.add(Dense(64))\n",
        "  model.add(Dropout(0.1))\n",
        "  model.add(Dense(1))\n",
        "  model.compile(loss='mse', optimizer='adam')\n",
        "  return model\n",
        "\n",
        "def LSTM_stacked(input_shape):\n",
        "  model = Sequential()\n",
        "  model.add(LSTM(units=50, activation='relu', input_shape=input_shape, return_sequences=True))\n",
        "  model.add(Dropout(0.3))\n",
        "\n",
        "  model.add(LSTM(units=50, return_sequences=True))\n",
        "  model.add(Dropout(0.3))\n",
        "\n",
        "  model.add(LSTM(units=50))\n",
        "  model.add(Dropout(0.3))\n",
        "  model.add(Dense(1))\n",
        "  model.compile(loss='mse', optimizer='adam')\n",
        "  return model"
      ]
    },
    {
      "cell_type": "code",
      "execution_count": null,
      "metadata": {
        "id": "S_2bdYp-g2CW"
      },
      "outputs": [],
      "source": [
        "def summarize_loss(history, epochs):\n",
        "  acc = history.history['accuracy']\n",
        "  val_acc = history.history['val_accuracy']\n",
        "\n",
        "  loss = history.history['loss']\n",
        "  val_loss = history.history['val_loss']\n",
        "\n",
        "  epochs_range = range(epochs)\n",
        "\n",
        "  plt.figure(figsize=(8, 8))\n",
        "  plt.subplot(1, 2, 1)\n",
        "  plt.plot(epochs_range, acc, label='Training Accuracy')\n",
        "  plt.plot(epochs_range, val_acc, label='Validation Accuracy')\n",
        "  plt.legend(loc='lower right')\n",
        "  plt.title('Training and Validation Accuracy')\n",
        "\n",
        "  plt.subplot(1, 2, 2)\n",
        "  plt.plot(epochs_range, loss, label='Training Loss')\n",
        "  plt.plot(epochs_range, val_loss, label='Validation Loss')\n",
        "  plt.legend(loc='upper right')\n",
        "  plt.title('Training and Validation Loss')\n",
        "  plt.show()"
      ]
    },
    {
      "cell_type": "markdown",
      "metadata": {
        "id": "kBo9wo_mg3Gh"
      },
      "source": [
        "# Train Model"
      ]
    },
    {
      "cell_type": "code",
      "execution_count": null,
      "metadata": {
        "colab": {
          "base_uri": "https://localhost:8080/"
        },
        "id": "B2I60S4KTXeG",
        "outputId": "a544ec99-c7a5-4192-efc8-b4ace4dd999f"
      },
      "outputs": [
        {
          "output_type": "stream",
          "name": "stdout",
          "text": [
            "Mounted at /content/drive\n"
          ]
        }
      ],
      "source": [
        "from google.colab import drive\n",
        "drive.mount('/content/drive')"
      ]
    },
    {
      "cell_type": "code",
      "execution_count": null,
      "metadata": {
        "id": "qgwkGCeFjl84"
      },
      "outputs": [],
      "source": [
        "import h5py\n",
        "import numpy as np\n",
        "from tqdm import tqdm\n",
        "import math\n",
        "import os\n",
        "# read dataa= train\n",
        "dataset1 = h5py.File('/content/drive/MyDrive/CS114.M11/DOANCK/dataset/Feature/Train_highlight', 'r')\n",
        "dataset2 = h5py.File('/content/drive/MyDrive/CS114.M11/DOANCK/dataset/Feature/Train_non_highlight', 'r')\n",
        "dataset3 = h5py.File('/content/drive/MyDrive/CS114.M11/DOANCK/dataset/Feature/Train_highlight1', 'r')"
      ]
    },
    {
      "cell_type": "code",
      "execution_count": null,
      "metadata": {
        "id": "phRC_JXhjLTG"
      },
      "outputs": [],
      "source": [
        "import torch\n",
        "X_train=[]\n",
        "y_train=[]\n",
        "for key in dataset1.keys():\n",
        "  seq = dataset1[key]['features'][...] # sequence of features, (seq_len, dim)\n",
        "  if seq.shape == (20,2048):\n",
        "    X_train.append(seq) # input shape (seq_len, dim)\n",
        "    y_train.append(1) # label"
      ]
    },
    {
      "cell_type": "code",
      "execution_count": null,
      "metadata": {
        "id": "87O0fCBQkvMT"
      },
      "outputs": [],
      "source": [
        "for key in dataset2.keys():\n",
        "  seq = dataset2[key]['features'][...]\n",
        "  if seq.shape == (20,2048): # sequence of features, (seq_len, dim)\n",
        "    X_train.append(seq) # input shape ( seq_len, dim)\n",
        "    y_train.append(0) #label"
      ]
    },
    {
      "cell_type": "code",
      "execution_count": null,
      "metadata": {
        "id": "F1mGP0IV2mnX"
      },
      "outputs": [],
      "source": [
        "for key in dataset3.keys():\n",
        "  seq = dataset3[key]['features'][...] # sequence of features, (seq_len, dim)\n",
        "  if seq.shape == (20,2048):\n",
        "    X_train.append(seq) # input shape ( seq_len, dim)\n",
        "    y_train.append(1) # label"
      ]
    },
    {
      "cell_type": "code",
      "execution_count": null,
      "metadata": {
        "id": "YFOpx9KOz8vm"
      },
      "outputs": [],
      "source": [
        "y_train=np.array(y_train).reshape(len(y_train),-1) # reshape (sample , label)\n",
        "X_train=np.array(X_train) "
      ]
    },
    {
      "cell_type": "code",
      "execution_count": null,
      "metadata": {
        "id": "uQMdEun_MBra"
      },
      "outputs": [],
      "source": [
        "import tensorflow as tf\n",
        "# shuffle data\n",
        "indices = tf.range(start=0, limit=y_train.shape[0], dtype=tf.int32)\n",
        "shuffled_indices = tf.random.shuffle(indices)\n",
        "\n",
        "y_train = tf.gather(y_train, shuffled_indices)\n",
        "X_train = tf.gather(X_train, shuffled_indices)"
      ]
    },
    {
      "cell_type": "code",
      "execution_count": null,
      "metadata": {
        "colab": {
          "base_uri": "https://localhost:8080/"
        },
        "id": "AXTws7L13UIS",
        "outputId": "f3c575f0-950e-48e6-a01d-b71d54e3c7ae"
      },
      "outputs": [
        {
          "output_type": "execute_result",
          "data": {
            "text/plain": [
              "(TensorShape([1726, 20, 2048]), TensorShape([1726, 1]))"
            ]
          },
          "metadata": {},
          "execution_count": 9
        }
      ],
      "source": [
        "X_train.shape , y_train.shape"
      ]
    },
    {
      "cell_type": "markdown",
      "metadata": {
        "id": "8gVREAlA8y9B"
      },
      "source": [
        "## data test"
      ]
    },
    {
      "cell_type": "code",
      "execution_count": null,
      "metadata": {
        "id": "1IuJLtrj8_X4"
      },
      "outputs": [],
      "source": [
        "# read data test\n",
        "dataset4 = h5py.File('/content/drive/MyDrive/CS114.M11/DOANCK/dataset/Feature/test-hl', 'r')\n",
        "dataset5 = h5py.File('/content/drive/MyDrive/CS114.M11/DOANCK/dataset/Feature/test-non', 'r')"
      ]
    },
    {
      "cell_type": "code",
      "execution_count": null,
      "metadata": {
        "id": "UuLZlNXE8xar"
      },
      "outputs": [],
      "source": [
        "X_test=[]\n",
        "y_test=[]\n",
        "for key in dataset4.keys():\n",
        "  seq = dataset4[key]['features'][...] # sequence of features, (seq_len, dim)\n",
        "  if seq.shape == (20,2048):\n",
        "    X_test.append(seq) # input shape (seq_len, dim)\n",
        "    y_test.append(1)"
      ]
    },
    {
      "cell_type": "code",
      "execution_count": null,
      "metadata": {
        "id": "AdN4JUQn9QlU"
      },
      "outputs": [],
      "source": [
        "for key in dataset5.keys():\n",
        "  seq = dataset5[key]['features'][...] # sequence of features, (seq_len, dim)\n",
        "  if seq.shape == (20,2048):\n",
        "    X_test.append(seq) # input shape (seq_len, dim)\n",
        "    y_test.append(0)"
      ]
    },
    {
      "cell_type": "code",
      "execution_count": null,
      "metadata": {
        "id": "9QdFi9Oe9hz3"
      },
      "outputs": [],
      "source": [
        "y_test=np.array(y_test).reshape(len(y_test),-1)\n",
        "X_test=np.array(X_test)"
      ]
    },
    {
      "cell_type": "code",
      "execution_count": null,
      "metadata": {
        "colab": {
          "base_uri": "https://localhost:8080/"
        },
        "id": "lhV4OhY09hz4",
        "outputId": "e66c7aef-b364-4ecd-9eca-fab83bc1be17"
      },
      "outputs": [
        {
          "output_type": "execute_result",
          "data": {
            "text/plain": [
              "((264, 20, 2048), (264, 1))"
            ]
          },
          "metadata": {},
          "execution_count": 14
        }
      ],
      "source": [
        "X_test.shape , y_test.shape"
      ]
    },
    {
      "cell_type": "markdown",
      "source": [
        "## Train"
      ],
      "metadata": {
        "id": "vS1yemeYjk8q"
      }
    },
    {
      "cell_type": "code",
      "execution_count": null,
      "metadata": {
        "id": "xw0xyMt51QEq"
      },
      "outputs": [],
      "source": [
        "import tensorflow as tf\n",
        "callbacks = [\n",
        "    tf.keras.callbacks.ModelCheckpoint(filepath='/content/LSTM.h5',\n",
        "                                       monitor='val_loss',\n",
        "                                       verbose=1, \n",
        "                                       save_weight_only=True,\n",
        "                                       save_best_only=True,\n",
        "                                       mode='min')\n",
        "]"
      ]
    },
    {
      "cell_type": "code",
      "execution_count": null,
      "metadata": {
        "colab": {
          "base_uri": "https://localhost:8080/"
        },
        "id": "l9Zz16p_g5TC",
        "outputId": "5daa29a4-2a35-4001-ebb9-f50993ed3e58"
      },
      "outputs": [
        {
          "output_type": "stream",
          "name": "stderr",
          "text": [
            "/usr/local/lib/python3.7/dist-packages/keras/optimizer_v2/adam.py:105: UserWarning: The `lr` argument is deprecated, use `learning_rate` instead.\n",
            "  super(Adam, self).__init__(name, **kwargs)\n"
          ]
        },
        {
          "output_type": "stream",
          "name": "stdout",
          "text": [
            "Model: \"sequential_1\"\n",
            "_________________________________________________________________\n",
            " Layer (type)                Output Shape              Param #   \n",
            "=================================================================\n",
            " lstm_1 (LSTM)               (None, 20, 100)           859600    \n",
            "                                                                 \n",
            " dropout_1 (Dropout)         (None, 20, 100)           0         \n",
            "                                                                 \n",
            " dense_1 (Dense)             (None, 20, 1)             101       \n",
            "                                                                 \n",
            "=================================================================\n",
            "Total params: 859,701\n",
            "Trainable params: 859,701\n",
            "Non-trainable params: 0\n",
            "_________________________________________________________________\n",
            "Epoch 1/30\n",
            "43/44 [============================>.] - ETA: 0s - loss: 1.1734 - accuracy: 0.6547\n",
            "Epoch 00001: val_loss did not improve from 0.47662\n",
            "44/44 [==============================] - 7s 104ms/step - loss: 1.1718 - accuracy: 0.6549 - val_loss: 0.6930 - val_accuracy: 0.6618\n",
            "Epoch 2/30\n",
            "43/44 [============================>.] - ETA: 0s - loss: 0.6733 - accuracy: 0.6793\n",
            "Epoch 00002: val_loss did not improve from 0.47662\n",
            "44/44 [==============================] - 4s 94ms/step - loss: 0.6733 - accuracy: 0.6795 - val_loss: 0.6660 - val_accuracy: 0.6618\n",
            "Epoch 3/30\n",
            "43/44 [============================>.] - ETA: 0s - loss: 0.6570 - accuracy: 0.6797\n",
            "Epoch 00003: val_loss did not improve from 0.47662\n",
            "44/44 [==============================] - 4s 92ms/step - loss: 0.6566 - accuracy: 0.6806 - val_loss: 0.6533 - val_accuracy: 0.6634\n",
            "Epoch 4/30\n",
            "43/44 [============================>.] - ETA: 0s - loss: 0.6460 - accuracy: 0.6859\n",
            "Epoch 00004: val_loss did not improve from 0.47662\n",
            "44/44 [==============================] - 4s 93ms/step - loss: 0.6459 - accuracy: 0.6862 - val_loss: 0.6430 - val_accuracy: 0.6684\n",
            "Epoch 5/30\n",
            "43/44 [============================>.] - ETA: 0s - loss: 0.6341 - accuracy: 0.6968\n",
            "Epoch 00005: val_loss did not improve from 0.47662\n",
            "44/44 [==============================] - 4s 92ms/step - loss: 0.6340 - accuracy: 0.6970 - val_loss: 0.6340 - val_accuracy: 0.7105\n",
            "Epoch 6/30\n",
            "43/44 [============================>.] - ETA: 0s - loss: 0.6250 - accuracy: 0.7292\n",
            "Epoch 00006: val_loss did not improve from 0.47662\n",
            "44/44 [==============================] - 4s 93ms/step - loss: 0.6247 - accuracy: 0.7299 - val_loss: 0.6216 - val_accuracy: 0.7305\n",
            "Epoch 7/30\n",
            "43/44 [============================>.] - ETA: 0s - loss: 0.6125 - accuracy: 0.7730\n",
            "Epoch 00007: val_loss did not improve from 0.47662\n",
            "44/44 [==============================] - 4s 93ms/step - loss: 0.6121 - accuracy: 0.7737 - val_loss: 0.6104 - val_accuracy: 0.7672\n",
            "Epoch 8/30\n",
            "43/44 [============================>.] - ETA: 0s - loss: 0.6023 - accuracy: 0.8001\n",
            "Epoch 00008: val_loss did not improve from 0.47662\n",
            "44/44 [==============================] - 4s 93ms/step - loss: 0.6020 - accuracy: 0.8007 - val_loss: 0.6005 - val_accuracy: 0.7915\n",
            "Epoch 9/30\n",
            "43/44 [============================>.] - ETA: 0s - loss: 0.5923 - accuracy: 0.8236\n",
            "Epoch 00009: val_loss did not improve from 0.47662\n",
            "44/44 [==============================] - 4s 94ms/step - loss: 0.5922 - accuracy: 0.8241 - val_loss: 0.5906 - val_accuracy: 0.8240\n",
            "Epoch 10/30\n",
            "43/44 [============================>.] - ETA: 0s - loss: 0.5828 - accuracy: 0.8475\n",
            "Epoch 00010: val_loss did not improve from 0.47662\n",
            "44/44 [==============================] - 4s 93ms/step - loss: 0.5828 - accuracy: 0.8478 - val_loss: 0.5826 - val_accuracy: 0.8376\n",
            "Epoch 11/30\n",
            "43/44 [============================>.] - ETA: 0s - loss: 0.5759 - accuracy: 0.8616\n",
            "Epoch 00011: val_loss did not improve from 0.47662\n",
            "44/44 [==============================] - 4s 91ms/step - loss: 0.5756 - accuracy: 0.8620 - val_loss: 0.5747 - val_accuracy: 0.8478\n",
            "Epoch 12/30\n",
            "43/44 [============================>.] - ETA: 0s - loss: 0.5672 - accuracy: 0.8656\n",
            "Epoch 00012: val_loss did not improve from 0.47662\n",
            "44/44 [==============================] - 4s 93ms/step - loss: 0.5671 - accuracy: 0.8656 - val_loss: 0.5668 - val_accuracy: 0.8603\n",
            "Epoch 13/30\n",
            "43/44 [============================>.] - ETA: 0s - loss: 0.5591 - accuracy: 0.8797\n",
            "Epoch 00013: val_loss did not improve from 0.47662\n",
            "44/44 [==============================] - 4s 92ms/step - loss: 0.5589 - accuracy: 0.8801 - val_loss: 0.5595 - val_accuracy: 0.8708\n",
            "Epoch 14/30\n",
            "43/44 [============================>.] - ETA: 0s - loss: 0.5534 - accuracy: 0.8809\n",
            "Epoch 00014: val_loss did not improve from 0.47662\n",
            "44/44 [==============================] - 4s 92ms/step - loss: 0.5534 - accuracy: 0.8811 - val_loss: 0.5541 - val_accuracy: 0.8812\n",
            "Epoch 15/30\n",
            "43/44 [============================>.] - ETA: 0s - loss: 0.5454 - accuracy: 0.8891\n",
            "Epoch 00015: val_loss did not improve from 0.47662\n",
            "44/44 [==============================] - 4s 92ms/step - loss: 0.5452 - accuracy: 0.8894 - val_loss: 0.5469 - val_accuracy: 0.8762\n",
            "Epoch 16/30\n",
            "43/44 [============================>.] - ETA: 0s - loss: 0.5385 - accuracy: 0.8945\n",
            "Epoch 00016: val_loss did not improve from 0.47662\n",
            "44/44 [==============================] - 4s 95ms/step - loss: 0.5384 - accuracy: 0.8948 - val_loss: 0.5404 - val_accuracy: 0.8788\n",
            "Epoch 17/30\n",
            "43/44 [============================>.] - ETA: 0s - loss: 0.5320 - accuracy: 0.8975\n",
            "Epoch 00017: val_loss did not improve from 0.47662\n",
            "44/44 [==============================] - 4s 94ms/step - loss: 0.5322 - accuracy: 0.8971 - val_loss: 0.5338 - val_accuracy: 0.8935\n",
            "Epoch 18/30\n",
            "43/44 [============================>.] - ETA: 0s - loss: 0.5270 - accuracy: 0.9005\n",
            "Epoch 00018: val_loss did not improve from 0.47662\n",
            "44/44 [==============================] - 4s 95ms/step - loss: 0.5268 - accuracy: 0.9008 - val_loss: 0.5275 - val_accuracy: 0.8975\n",
            "Epoch 19/30\n",
            "43/44 [============================>.] - ETA: 0s - loss: 0.5179 - accuracy: 0.9069\n",
            "Epoch 00019: val_loss did not improve from 0.47662\n",
            "44/44 [==============================] - 4s 96ms/step - loss: 0.5183 - accuracy: 0.9065 - val_loss: 0.5222 - val_accuracy: 0.8980\n",
            "Epoch 20/30\n",
            "43/44 [============================>.] - ETA: 0s - loss: 0.5134 - accuracy: 0.9079\n",
            "Epoch 00020: val_loss did not improve from 0.47662\n",
            "44/44 [==============================] - 4s 96ms/step - loss: 0.5132 - accuracy: 0.9082 - val_loss: 0.5198 - val_accuracy: 0.8905\n",
            "Epoch 21/30\n",
            "43/44 [============================>.] - ETA: 0s - loss: 0.5080 - accuracy: 0.9119\n",
            "Epoch 00021: val_loss did not improve from 0.47662\n",
            "44/44 [==============================] - 4s 94ms/step - loss: 0.5078 - accuracy: 0.9121 - val_loss: 0.5120 - val_accuracy: 0.9013\n",
            "Epoch 22/30\n",
            "44/44 [==============================] - ETA: 0s - loss: 0.5025 - accuracy: 0.9138\n",
            "Epoch 00022: val_loss did not improve from 0.47662\n",
            "44/44 [==============================] - 4s 94ms/step - loss: 0.5025 - accuracy: 0.9138 - val_loss: 0.5061 - val_accuracy: 0.9087\n",
            "Epoch 23/30\n",
            "43/44 [============================>.] - ETA: 0s - loss: 0.4980 - accuracy: 0.9172\n",
            "Epoch 00023: val_loss did not improve from 0.47662\n",
            "44/44 [==============================] - 4s 94ms/step - loss: 0.4985 - accuracy: 0.9167 - val_loss: 0.5095 - val_accuracy: 0.8867\n",
            "Epoch 24/30\n",
            "43/44 [============================>.] - ETA: 0s - loss: 0.4933 - accuracy: 0.9182\n",
            "Epoch 00024: val_loss did not improve from 0.47662\n",
            "44/44 [==============================] - 4s 95ms/step - loss: 0.4933 - accuracy: 0.9180 - val_loss: 0.4982 - val_accuracy: 0.9085\n",
            "Epoch 25/30\n",
            "43/44 [============================>.] - ETA: 0s - loss: 0.4882 - accuracy: 0.9178\n",
            "Epoch 00025: val_loss did not improve from 0.47662\n",
            "44/44 [==============================] - 4s 94ms/step - loss: 0.4886 - accuracy: 0.9173 - val_loss: 0.4965 - val_accuracy: 0.9022\n",
            "Epoch 26/30\n",
            "43/44 [============================>.] - ETA: 0s - loss: 0.4835 - accuracy: 0.9230\n",
            "Epoch 00026: val_loss did not improve from 0.47662\n",
            "44/44 [==============================] - 4s 95ms/step - loss: 0.4834 - accuracy: 0.9230 - val_loss: 0.4968 - val_accuracy: 0.8945\n",
            "Epoch 27/30\n",
            "43/44 [============================>.] - ETA: 0s - loss: 0.4804 - accuracy: 0.9210\n",
            "Epoch 00027: val_loss did not improve from 0.47662\n",
            "44/44 [==============================] - 4s 95ms/step - loss: 0.4801 - accuracy: 0.9213 - val_loss: 0.4845 - val_accuracy: 0.9178\n",
            "Epoch 28/30\n",
            "43/44 [============================>.] - ETA: 0s - loss: 0.4747 - accuracy: 0.9260\n",
            "Epoch 00028: val_loss did not improve from 0.47662\n",
            "44/44 [==============================] - 4s 95ms/step - loss: 0.4745 - accuracy: 0.9261 - val_loss: 0.4817 - val_accuracy: 0.9118\n",
            "Epoch 29/30\n",
            "43/44 [============================>.] - ETA: 0s - loss: 0.4690 - accuracy: 0.9278\n",
            "Epoch 00029: val_loss did not improve from 0.47662\n",
            "44/44 [==============================] - 4s 94ms/step - loss: 0.4688 - accuracy: 0.9280 - val_loss: 0.4772 - val_accuracy: 0.9182\n",
            "Epoch 30/30\n",
            "43/44 [============================>.] - ETA: 0s - loss: 0.4653 - accuracy: 0.9283\n",
            "Epoch 00030: val_loss improved from 0.47662 to 0.47507, saving model to /content/LSTM.h5\n",
            "44/44 [==============================] - 4s 97ms/step - loss: 0.4654 - accuracy: 0.9279 - val_loss: 0.4751 - val_accuracy: 0.9134\n"
          ]
        }
      ],
      "source": [
        "model = LSTM_base((20,2048)) # init model\n",
        "model.summary()\n",
        "#fit newtwork\n",
        "epochs=30\n",
        "history = model.fit(X_train, y_train, validation_split=0.2,\n",
        "                      epochs=epochs,\n",
        "                      callbacks=callbacks\n",
        "                    )\n"
      ]
    },
    {
      "cell_type": "code",
      "source": [
        "summarize_loss(history, epochs) # plot result"
      ],
      "metadata": {
        "colab": {
          "base_uri": "https://localhost:8080/",
          "height": 499
        },
        "id": "_f_ptQLpQGaM",
        "outputId": "2b0d9cb0-9901-4e01-d2bd-80b113f0c840"
      },
      "execution_count": null,
      "outputs": [
        {
          "output_type": "display_data",
          "data": {
            "image/png": "[encoded data removed]",
            "text/plain": [
              "<Figure size 576x576 with 2 Axes>"
            ]
          },
          "metadata": {
            "needs_background": "light"
          }
        }
      ]
    },
    {
      "cell_type": "code",
      "source": [
        "model = tensorflow.keras.models.load_model(filepath=\"/content/LSTM.h5\")"
      ],
      "metadata": {
        "id": "HjMjv54tRHpo"
      },
      "execution_count": null,
      "outputs": []
    },
    {
      "cell_type": "code",
      "source": [
        "model.evaluate(X_test,y_test) # evaluate by data test"
      ],
      "metadata": {
        "colab": {
          "base_uri": "https://localhost:8080/"
        },
        "id": "N0J4wqxCP9gA",
        "outputId": "102cec4d-ee00-4d1c-ab95-de863274bdab"
      },
      "execution_count": null,
      "outputs": [
        {
          "output_type": "stream",
          "name": "stdout",
          "text": [
            "9/9 [==============================] - 0s 34ms/step - loss: 0.8411 - accuracy: 0.5047\n"
          ]
        },
        {
          "output_type": "execute_result",
          "data": {
            "text/plain": [
              "[0.8410683870315552, 0.5047348737716675]"
            ]
          },
          "metadata": {},
          "execution_count": 27
        }
      ]
    }
  ],
  "metadata": {
    "colab": {
      "collapsed_sections": [],
      "name": "Train LSTM.ipynb",
      "provenance": [],
      "include_colab_link": true
    },
    "kernelspec": {
      "display_name": "Python 3",
      "name": "python3"
    },
    "language_info": {
      "name": "python"
    }
  },
  "nbformat": 4,
  "nbformat_minor": 0
}