{
  "nbformat": 4,
  "nbformat_minor": 0,
  "metadata": {
    "colab": {
      "name": "Attract Feature LSTM.ipynb",
      "provenance": [],
      "authorship_tag": "ABX9TyPbDoZgysQw0vIccdcAkRc9",
      "include_colab_link": true
    },
    "kernelspec": {
      "name": "python3",
      "display_name": "Python 3"
    },
    "language_info": {
      "name": "python"
    },
    "accelerator": "GPU",
    "widgets": {
      "application/vnd.jupyter.widget-state+json": {
        "f721efbe4a1e40ecae0dc47a2b60e2c2": {
          "model_module": "@jupyter-widgets/controls",
          "model_name": "HBoxModel",
          "model_module_version": "1.5.0",
          "state": {
            "_view_name": "HBoxView",
            "_dom_classes": [],
            "_model_name": "HBoxModel",
            "_view_module": "@jupyter-widgets/controls",
            "_model_module_version": "1.5.0",
            "_view_count": null,
            "_view_module_version": "1.5.0",
            "box_style": "",
            "layout": "IPY_MODEL_539c358a56044986a15fb8a9e30ac2d7",
            "_model_module": "@jupyter-widgets/controls",
            "children": [
              "IPY_MODEL_baa873bb78ec4d54ad1cb04dacb5cd0b",
              "IPY_MODEL_524adbbab34c4a76933334d9b29d5b72",
              "IPY_MODEL_7e96332fc3134a9d93cde7e20f2f9146"
            ]
          }
        },
        "539c358a56044986a15fb8a9e30ac2d7": {
          "model_module": "@jupyter-widgets/base",
          "model_name": "LayoutModel",
          "model_module_version": "1.2.0",
          "state": {
            "_view_name": "LayoutView",
            "grid_template_rows": null,
            "right": null,
            "justify_content": null,
            "_view_module": "@jupyter-widgets/base",
            "overflow": null,
            "_model_module_version": "1.2.0",
            "_view_count": null,
            "flex_flow": null,
            "width": null,
            "min_width": null,
            "border": null,
            "align_items": null,
            "bottom": null,
            "_model_module": "@jupyter-widgets/base",
            "top": null,
            "grid_column": null,
            "overflow_y": null,
            "overflow_x": null,
            "grid_auto_flow": null,
            "grid_area": null,
            "grid_template_columns": null,
            "flex": null,
            "_model_name": "LayoutModel",
            "justify_items": null,
            "grid_row": null,
            "max_height": null,
            "align_content": null,
            "visibility": null,
            "align_self": null,
            "height": null,
            "min_height": null,
            "padding": null,
            "grid_auto_rows": null,
            "grid_gap": null,
            "max_width": null,
            "order": null,
            "_view_module_version": "1.2.0",
            "grid_template_areas": null,
            "object_position": null,
            "object_fit": null,
            "grid_auto_columns": null,
            "margin": null,
            "display": null,
            "left": null
          }
        },
        "baa873bb78ec4d54ad1cb04dacb5cd0b": {
          "model_module": "@jupyter-widgets/controls",
          "model_name": "HTMLModel",
          "model_module_version": "1.5.0",
          "state": {
            "_view_name": "HTMLView",
            "style": "IPY_MODEL_b01dc4d0d2334f8293586fb3dfacb0b8",
            "_dom_classes": [],
            "description": "",
            "_model_name": "HTMLModel",
            "placeholder": "​",
            "_view_module": "@jupyter-widgets/controls",
            "_model_module_version": "1.5.0",
            "value": "100%",
            "_view_count": null,
            "_view_module_version": "1.5.0",
            "description_tooltip": null,
            "_model_module": "@jupyter-widgets/controls",
            "layout": "IPY_MODEL_ae47f517fa4f477dbd01dad606499fd4"
          }
        },
        "524adbbab34c4a76933334d9b29d5b72": {
          "model_module": "@jupyter-widgets/controls",
          "model_name": "FloatProgressModel",
          "model_module_version": "1.5.0",
          "state": {
            "_view_name": "ProgressView",
            "style": "IPY_MODEL_ddb595c7ea564ea39b5c1ca8b9099c95",
            "_dom_classes": [],
            "description": "",
            "_model_name": "FloatProgressModel",
            "bar_style": "success",
            "max": 241627721,
            "_view_module": "@jupyter-widgets/controls",
            "_model_module_version": "1.5.0",
            "value": 241627721,
            "_view_count": null,
            "_view_module_version": "1.5.0",
            "orientation": "horizontal",
            "min": 0,
            "description_tooltip": null,
            "_model_module": "@jupyter-widgets/controls",
            "layout": "IPY_MODEL_e29af557907643bd87cb9a62d3bb5b8d"
          }
        },
        "7e96332fc3134a9d93cde7e20f2f9146": {
          "model_module": "@jupyter-widgets/controls",
          "model_name": "HTMLModel",
          "model_module_version": "1.5.0",
          "state": {
            "_view_name": "HTMLView",
            "style": "IPY_MODEL_11553ed921d54b2ba1f4bab940fdd85a",
            "_dom_classes": [],
            "description": "",
            "_model_name": "HTMLModel",
            "placeholder": "​",
            "_view_module": "@jupyter-widgets/controls",
            "_model_module_version": "1.5.0",
            "value": " 230M/230M [00:01&lt;00:00, 164MB/s]",
            "_view_count": null,
            "_view_module_version": "1.5.0",
            "description_tooltip": null,
            "_model_module": "@jupyter-widgets/controls",
            "layout": "IPY_MODEL_62e99a93b5e04e93b304be2b0e71014a"
          }
        },
        "b01dc4d0d2334f8293586fb3dfacb0b8": {
          "model_module": "@jupyter-widgets/controls",
          "model_name": "DescriptionStyleModel",
          "model_module_version": "1.5.0",
          "state": {
            "_view_name": "StyleView",
            "_model_name": "DescriptionStyleModel",
            "description_width": "",
            "_view_module": "@jupyter-widgets/base",
            "_model_module_version": "1.5.0",
            "_view_count": null,
            "_view_module_version": "1.2.0",
            "_model_module": "@jupyter-widgets/controls"
          }
        },
        "ae47f517fa4f477dbd01dad606499fd4": {
          "model_module": "@jupyter-widgets/base",
          "model_name": "LayoutModel",
          "model_module_version": "1.2.0",
          "state": {
            "_view_name": "LayoutView",
            "grid_template_rows": null,
            "right": null,
            "justify_content": null,
            "_view_module": "@jupyter-widgets/base",
            "overflow": null,
            "_model_module_version": "1.2.0",
            "_view_count": null,
            "flex_flow": null,
            "width": null,
            "min_width": null,
            "border": null,
            "align_items": null,
            "bottom": null,
            "_model_module": "@jupyter-widgets/base",
            "top": null,
            "grid_column": null,
            "overflow_y": null,
            "overflow_x": null,
            "grid_auto_flow": null,
            "grid_area": null,
            "grid_template_columns": null,
            "flex": null,
            "_model_name": "LayoutModel",
            "justify_items": null,
            "grid_row": null,
            "max_height": null,
            "align_content": null,
            "visibility": null,
            "align_self": null,
            "height": null,
            "min_height": null,
            "padding": null,
            "grid_auto_rows": null,
            "grid_gap": null,
            "max_width": null,
            "order": null,
            "_view_module_version": "1.2.0",
            "grid_template_areas": null,
            "object_position": null,
            "object_fit": null,
            "grid_auto_columns": null,
            "margin": null,
            "display": null,
            "left": null
          }
        },
        "ddb595c7ea564ea39b5c1ca8b9099c95": {
          "model_module": "@jupyter-widgets/controls",
          "model_name": "ProgressStyleModel",
          "model_module_version": "1.5.0",
          "state": {
            "_view_name": "StyleView",
            "_model_name": "ProgressStyleModel",
            "description_width": "",
            "_view_module": "@jupyter-widgets/base",
            "_model_module_version": "1.5.0",
            "_view_count": null,
            "_view_module_version": "1.2.0",
            "bar_color": null,
            "_model_module": "@jupyter-widgets/controls"
          }
        },
        "e29af557907643bd87cb9a62d3bb5b8d": {
          "model_module": "@jupyter-widgets/base",
          "model_name": "LayoutModel",
          "model_module_version": "1.2.0",
          "state": {
            "_view_name": "LayoutView",
            "grid_template_rows": null,
            "right": null,
            "justify_content": null,
            "_view_module": "@jupyter-widgets/base",
            "overflow": null,
            "_model_module_version": "1.2.0",
            "_view_count": null,
            "flex_flow": null,
            "width": null,
            "min_width": null,
            "border": null,
            "align_items": null,
            "bottom": null,
            "_model_module": "@jupyter-widgets/base",
            "top": null,
            "grid_column": null,
            "overflow_y": null,
            "overflow_x": null,
            "grid_auto_flow": null,
            "grid_area": null,
            "grid_template_columns": null,
            "flex": null,
            "_model_name": "LayoutModel",
            "justify_items": null,
            "grid_row": null,
            "max_height": null,
            "align_content": null,
            "visibility": null,
            "align_self": null,
            "height": null,
            "min_height": null,
            "padding": null,
            "grid_auto_rows": null,
            "grid_gap": null,
            "max_width": null,
            "order": null,
            "_view_module_version": "1.2.0",
            "grid_template_areas": null,
            "object_position": null,
            "object_fit": null,
            "grid_auto_columns": null,
            "margin": null,
            "display": null,
            "left": null
          }
        },
        "11553ed921d54b2ba1f4bab940fdd85a": {
          "model_module": "@jupyter-widgets/controls",
          "model_name": "DescriptionStyleModel",
          "model_module_version": "1.5.0",
          "state": {
            "_view_name": "StyleView",
            "_model_name": "DescriptionStyleModel",
            "description_width": "",
            "_view_module": "@jupyter-widgets/base",
            "_model_module_version": "1.5.0",
            "_view_count": null,
            "_view_module_version": "1.2.0",
            "_model_module": "@jupyter-widgets/controls"
          }
        },
        "62e99a93b5e04e93b304be2b0e71014a": {
          "model_module": "@jupyter-widgets/base",
          "model_name": "LayoutModel",
          "model_module_version": "1.2.0",
          "state": {
            "_view_name": "LayoutView",
            "grid_template_rows": null,
            "right": null,
            "justify_content": null,
            "_view_module": "@jupyter-widgets/base",
            "overflow": null,
            "_model_module_version": "1.2.0",
            "_view_count": null,
            "flex_flow": null,
            "width": null,
            "min_width": null,
            "border": null,
            "align_items": null,
            "bottom": null,
            "_model_module": "@jupyter-widgets/base",
            "top": null,
            "grid_column": null,
            "overflow_y": null,
            "overflow_x": null,
            "grid_auto_flow": null,
            "grid_area": null,
            "grid_template_columns": null,
            "flex": null,
            "_model_name": "LayoutModel",
            "justify_items": null,
            "grid_row": null,
            "max_height": null,
            "align_content": null,
            "visibility": null,
            "align_self": null,
            "height": null,
            "min_height": null,
            "padding": null,
            "grid_auto_rows": null,
            "grid_gap": null,
            "max_width": null,
            "order": null,
            "_view_module_version": "1.2.0",
            "grid_template_areas": null,
            "object_position": null,
            "object_fit": null,
            "grid_auto_columns": null,
            "margin": null,
            "display": null,
            "left": null
          }
        }
      }
    }
  },
  "cells": [
    {
      "cell_type": "markdown",
      "metadata": {
        "id": "view-in-github",
        "colab_type": "text"
      },
      "source": [
        "<a href=\"https://colab.research.google.com/github/minz1337/CS114.M11/blob/main/source%20code/Attract_Feature_LSTM.ipynb\" target=\"_parent\"><img src=\"https://colab.research.google.com/assets/colab-badge.svg\" alt=\"Open In Colab\"/></a>"
      ]
    },
    {
      "cell_type": "code",
      "execution_count": null,
      "metadata": {
        "colab": {
          "base_uri": "https://localhost:8080/"
        },
        "id": "DhBtYldjp331",
        "outputId": "09807d46-8641-42f2-fdb4-0a5adb93ea1c"
      },
      "outputs": [
        {
          "output_type": "stream",
          "name": "stdout",
          "text": [
            "Mounted at /content/drive\n"
          ]
        }
      ],
      "source": [
        "from google.colab import drive\n",
        "drive.mount('/content/drive')"
      ]
    },
    {
      "cell_type": "code",
      "source": [
        "import torch.nn as nn\n",
        "import torch as T\n",
        "from torch.nn import functional as F\n",
        "from torchvision import transforms, models\n",
        "from torch.autograd import Variable\n",
        "\n",
        "\"\"\"\n",
        "pre-trained ResNet\n",
        "\"\"\"\n",
        "\n",
        "class ResNet(nn.Module):\n",
        "    \"\"\"\n",
        "    Args:\n",
        "        fea_type: string, resnet101 or resnet 152\n",
        "    \"\"\"\n",
        "\n",
        "    def __init__(self, fea_type = 'resnet152'):\n",
        "        super(ResNet, self).__init__()\n",
        "        self.fea_type = fea_type\n",
        "        # rescale and normalize transformation\n",
        "        self.transform = transforms.Compose([\n",
        "            transforms.ToTensor(),\n",
        "            transforms.Normalize([0.485, 0.456, 0.406], [0.229, 0.224, 0.225])\n",
        "        ])\n",
        "\n",
        "        if fea_type == 'resnet101':\n",
        "            resnet = models.resnet101(pretrained=True)  # dim of pool5 is 2048\n",
        "        elif fea_type == 'resnet152':\n",
        "            resnet = models.resnet152(pretrained=True)\n",
        "        else:\n",
        "            raise Exception('No such ResNet!')\n",
        "\n",
        "        resnet.float()\n",
        "        resnet.cuda()\n",
        "        resnet.eval()\n",
        "\n",
        "        module_list = list(resnet.children())\n",
        "        self.conv5 = nn.Sequential(*module_list[: -2])\n",
        "        self.pool5 = module_list[-2]\n",
        "\n",
        "    # rescale and normalize image, then pass it through ResNet\n",
        "    def forward(self, x):\n",
        "        x = self.transform(x)\n",
        "        x = x.unsqueeze(0)  # reshape the single image s.t. it has a batch dim\n",
        "        x = Variable(x).cuda()\n",
        "        res_conv5 = self.conv5(x)\n",
        "        res_pool5 = self.pool5(res_conv5)\n",
        "        res_pool5 = res_pool5.view(res_pool5.size(0), -1)\n",
        "\n",
        "        return res_pool5\n",
        "\n",
        "\n",
        "class DSN(nn.Module):\n",
        "    \"\"\" Deep Summarization Network \"\"\"\n",
        "\n",
        "    def __init__(self, in_dim=2048, hid_dim=256, num_layers=1, cell='lstm'):\n",
        "        super(DSN, self).__init__()\n",
        "        assert cell in ['lstm', 'gru'], \"cell must be either 'lstm' or 'gru\"\n",
        "\n",
        "        if cell == 'lstm':\n",
        "            self.rnn = nn.LSTM(in_dim, hid_dim, num_layers=num_layers, bidirectional=True, batch_first=True)\n",
        "        elif cell == 'gru':\n",
        "            self.rnn = nn.GRU(in_dim, hid_dim, num_layers=num_layers, bidirectional=True, batch_first=True)\n",
        "\n",
        "        self.fc = nn.Linear(hid_dim*2, 1)\n",
        "\n",
        "    def forward(self, x):\n",
        "        h, _ = self.rnn(x)\n",
        "        p = T.sigmoid(self.fc(h))\n",
        "\n",
        "        return p"
      ],
      "metadata": {
        "id": "zjC9ZRbEqfPH"
      },
      "execution_count": null,
      "outputs": []
    },
    {
      "cell_type": "code",
      "source": [
        "import numpy as np\n",
        "#from scipy import weave\n",
        "\n",
        "def calc_scatters(K):\n",
        "    \"\"\"\n",
        "    Calculate scatter matrix:\n",
        "    scatters[i,j] = {scatter of the sequence with starting frame i and ending frame j}\n",
        "    \"\"\"\n",
        "    n = K.shape[0]\n",
        "    K1 = np.cumsum([0] + list(np.diag(K)))\n",
        "    K2 = np.zeros((n+1, n+1))\n",
        "    K2[1:, 1:] = np.cumsum(np.cumsum(K, 0), 1); # TODO: use the fact that K - symmetric\n",
        "\n",
        "    scatters = np.zeros((n, n))\n",
        "\n",
        "    diagK2 = np.diag(K2)\n",
        "\n",
        "    i = np.arange(n).reshape((-1,1))\n",
        "    j = np.arange(n).reshape((1,-1))\n",
        "    scatters = (K1[1:].reshape((1,-1))-K1[:-1].reshape((-1,1))\n",
        "                - (diagK2[1:].reshape((1,-1)) + diagK2[:-1].reshape((-1,1)) - K2[1:,:-1].T - K2[:-1,1:]) / ((j-i+1).astype(float) + (j==i-1).astype(float)))\n",
        "    scatters[j<i]=0\n",
        "    #code = r\"\"\"\n",
        "    #for (int i = 0; i < n; i++) {\n",
        "    #    for (int j = i; j < n; j++) {\n",
        "    #        scatters(i,j) = K1(j+1)-K1(i) - (K2(j+1,j+1)+K2(i,i)-K2(j+1,i)-K2(i,j+1))/(j-i+1);\n",
        "    #    }\n",
        "    #}\n",
        "    #\"\"\"\n",
        "    #weave.inline(code, ['K1','K2','scatters','n'], global_dict = \\\n",
        "    #    {'K1':K1, 'K2':K2, 'scatters':scatters, 'n':n}, type_converters=weave.converters.blitz)\n",
        "\n",
        "    return scatters\n",
        "\n",
        "def cpd_nonlin(K, ncp, lmin=1, lmax=100000, backtrack=True, verbose=True,\n",
        "    out_scatters=None):\n",
        "    \"\"\" Change point detection with dynamic programming\n",
        "    K - square kernel matrix\n",
        "    ncp - number of change points to detect (ncp >= 0)\n",
        "    lmin - minimal length of a segment\n",
        "    lmax - maximal length of a segment\n",
        "    backtrack - when False - only evaluate objective scores (to save memory)\n",
        "    Returns: (cps, obj)\n",
        "        cps - detected array of change points: mean is thought to be constant on [ cps[i], cps[i+1] )\n",
        "        obj_vals - values of the objective function for 0..m changepoints\n",
        "    \"\"\"\n",
        "    m = int(ncp)  # prevent numpy.int64\n",
        "\n",
        "    (n, n1) = K.shape\n",
        "    assert(n == n1), \"Kernel matrix awaited.\"\n",
        "\n",
        "    assert(n >= (m + 1)*lmin)\n",
        "    assert(n <= (m + 1)*lmax)\n",
        "    assert(lmax >= lmin >= 1)\n",
        "\n",
        "    if verbose:\n",
        "        #print \"n =\", n\n",
        "        print(\"Precomputing scatters...\")\n",
        "    J = calc_scatters(K)\n",
        "\n",
        "    if out_scatters != None:\n",
        "        out_scatters[0] = J\n",
        "\n",
        "    if verbose:\n",
        "        print(\"Inferring best change points...\")\n",
        "    # I[k, l] - value of the objective for k change-points and l first frames\n",
        "    I = 1e101*np.ones((m+1, n+1))\n",
        "    I[0, lmin:lmax] = J[0, lmin-1:lmax-1]\n",
        "\n",
        "    if backtrack:\n",
        "        # p[k, l] --- \"previous change\" --- best t[k] when t[k+1] equals l\n",
        "        p = np.zeros((m+1, n+1), dtype=int)\n",
        "    else:\n",
        "        p = np.zeros((1,1), dtype=int)\n",
        "\n",
        "    for k in range(1,m+1):\n",
        "        for l in range((k+1)*lmin, n+1):\n",
        "            tmin = max(k*lmin, l-lmax)\n",
        "            tmax = l-lmin+1\n",
        "            c = J[tmin:tmax,l-1].reshape(-1) + I[k-1, tmin:tmax].reshape(-1)\n",
        "            I[k,l] = np.min(c)\n",
        "            if backtrack:\n",
        "                p[k,l] = np.argmin(c)+tmin\n",
        "\n",
        "\n",
        "\n",
        "    # Collect change points\n",
        "    cps = np.zeros(m, dtype=int)\n",
        "\n",
        "    if backtrack:\n",
        "        cur = n\n",
        "        for k in range(m, 0, -1):\n",
        "            cps[k-1] = p[k, cur]\n",
        "            cur = cps[k-1]\n",
        "\n",
        "    scores = I[:, n].copy()\n",
        "    scores[scores > 1e99] = np.inf\n",
        "    return cps, scores\n",
        "def cpd_auto(K, ncp, vmax, desc_rate=1, **kwargs):\n",
        "    \"\"\"Main interface\n",
        "    \n",
        "    Detect change points automatically selecting their number\n",
        "        K       - kernel between each pair of frames in video\n",
        "        ncp     - maximum ncp\n",
        "        vmax    - special parameter\n",
        "    Optional arguments:\n",
        "        lmin     - minimum segment length\n",
        "        lmax     - maximum segment length\n",
        "        desc_rate - rate of descriptor sampling (vmax always corresponds to 1x)\n",
        "    Note:\n",
        "        - cps are always calculated in subsampled coordinates irrespective to\n",
        "            desc_rate\n",
        "        - lmin and m should be in agreement\n",
        "    ---\n",
        "    Returns: (cps, costs)\n",
        "        cps   - best selected change-points\n",
        "        costs - costs for 0,1,2,...,m change-points\n",
        "        \n",
        "    Memory requirement: ~ (3*N*N + N*ncp)*4 bytes ~= 16 * N^2 bytes\n",
        "    That is 1,6 Gb for the N=10000.\n",
        "    \"\"\"\n",
        "    m = ncp\n",
        "    (_, scores) = cpd_nonlin(K, m, backtrack=False, **kwargs)\n",
        "    \n",
        "    N = K.shape[0]\n",
        "    N2 = N*desc_rate  # length of the video before subsampling\n",
        "    \n",
        "    penalties = np.zeros(m+1)\n",
        "    # Prevent division by zero (in case of 0 changes)\n",
        "    ncp = np.arange(1, m+1)\n",
        "    penalties[1:] = (vmax*ncp/(2.0*N2))*(np.log(float(N2)/ncp)+1)\n",
        "    \n",
        "    costs = scores/float(N) + penalties\n",
        "    m_best = np.argmin(costs)\n",
        "    (cps, scores2) = cpd_nonlin(K, m_best, **kwargs)\n",
        "\n",
        "    return (cps, costs)\n",
        "    \n",
        "\n",
        "# ------------------------------------------------------------------------------\n",
        "# Extra functions (currently not used)\n",
        "\n",
        "def estimate_vmax(K_stable):\n",
        "    \"\"\"K_stable - kernel between all frames of a stable segment\"\"\"\n",
        "    n = K_stable.shape[0]\n",
        "    vmax = np.trace(centering(K_stable)/n)\n",
        "    return vmax\n",
        "\n",
        "\n",
        "def centering(K):\n",
        "    \"\"\"Apply kernel centering\"\"\"\n",
        "    mean_rows = np.mean(K, 1)[:, np.newaxis]\n",
        "    return K - mean_rows - mean_rows.T + np.mean(mean_rows)\n",
        "\n",
        "\n",
        "def eval_score(K, cps):\n",
        "    \"\"\" Evaluate unnormalized empirical score\n",
        "        (sum of kernelized scatters) for the given change-points \"\"\"\n",
        "    N = K.shape[0]\n",
        "    cps = [0] + list(cps) + [N]\n",
        "    V1 = 0\n",
        "    V2 = 0\n",
        "    for i in range(len(cps)-1):\n",
        "        K_sub = K[cps[i]:cps[i+1], :][:, cps[i]:cps[i+1]]\n",
        "        V1 += np.sum(np.diag(K_sub))\n",
        "        V2 += np.sum(K_sub) / float(cps[i+1] - cps[i])\n",
        "    return (V1 - V2)\n",
        "\n",
        "\n",
        "def eval_cost(K, cps, score, vmax):\n",
        "    \"\"\" Evaluate cost function for automatic number of change points selection\n",
        "    K      - kernel between all frames\n",
        "    cps    - selected change-points\n",
        "    score  - unnormalized empirical score (sum of kernelized scatters)\n",
        "    vmax   - vmax parameter\"\"\"\n",
        "    \n",
        "    N = K.shape[0]\n",
        "    penalty = (vmax*len(cps)/(2.0*N))*(np.log(float(N)/len(cps))+1)\n",
        "    return score/float(N) + penalty"
      ],
      "metadata": {
        "id": "yEhM-LRRtfph"
      },
      "execution_count": null,
      "outputs": []
    },
    {
      "cell_type": "code",
      "source": [
        "import os\n",
        "\n",
        "from tqdm import tqdm\n",
        "import math\n",
        "import cv2\n",
        "import numpy as np\n",
        "import h5py\n",
        "\n",
        "class Generate_Dataset:\n",
        "    def __init__(self, video_path, save_path):\n",
        "        self.resnet = ResNet()\n",
        "        self.dataset = {}\n",
        "        self.video_list = []\n",
        "        self.video_path = ''\n",
        "        self.h5_file = h5py.File(save_path, 'w')\n",
        "\n",
        "        self._set_video_list(video_path)\n",
        "\n",
        "    def _set_video_list(self, video_path):\n",
        "        if os.path.isdir(video_path):\n",
        "            self.video_path = video_path\n",
        "            self.video_list = os.listdir(video_path)\n",
        "            self.video_list.sort()\n",
        "        else:\n",
        "            self.video_path = ''\n",
        "            self.video_list.append(video_path)\n",
        "\n",
        "        for idx, file_name in enumerate(self.video_list):\n",
        "            self.dataset['video_{}'.format(idx+1)] = {}\n",
        "            self.h5_file.create_group('video_{}'.format(idx+1))\n",
        "\n",
        "\n",
        "    def _extract_feature(self, frame):\n",
        "        frame = cv2.cvtColor(frame, cv2.COLOR_BGR2RGB)\n",
        "        frame = cv2.resize(frame, (224, 224))\n",
        "        res_pool5 = self.resnet(frame)\n",
        "        frame_feat = res_pool5.cpu().data.numpy().flatten()\n",
        "\n",
        "        return frame_feat\n",
        "\n",
        "    def _get_change_points(self, video_feat, n_frame, fps):\n",
        "        n = n_frame / fps\n",
        "        m = int(math.ceil(n/2.0))\n",
        "        K = np.dot(video_feat, video_feat.T)\n",
        "        change_points, _ = cpd_auto(K, m, 1)\n",
        "        change_points = np.concatenate(([0], change_points, [n_frame-1]))\n",
        "\n",
        "        temp_change_points = []\n",
        "        for idx in range(len(change_points)-1):\n",
        "            segment = [change_points[idx], change_points[idx+1]-1]\n",
        "            if idx == len(change_points)-2:\n",
        "                segment = [change_points[idx], change_points[idx+1]]\n",
        "\n",
        "            temp_change_points.append(segment)\n",
        "        change_points = np.array(list(temp_change_points))\n",
        "\n",
        "        temp_n_frame_per_seg = []\n",
        "        for change_points_idx in range(len(change_points)):\n",
        "            n_frame = change_points[change_points_idx][1] - change_points[change_points_idx][0]\n",
        "            temp_n_frame_per_seg.append(n_frame)\n",
        "        n_frame_per_seg = np.array(list(temp_n_frame_per_seg))\n",
        "\n",
        "        return change_points, n_frame_per_seg\n",
        "\n",
        "    # TODO : save dataset\n",
        "    def _save_dataset(self):\n",
        "        pass\n",
        "\n",
        "    def generate_dataset(self):\n",
        "        print('[INFO] CNN processing')\n",
        "        for video_idx, video_filename in enumerate(self.video_list):\n",
        "            video_path = video_filename\n",
        "            if \".h5\" in video_path:\n",
        "                continue\n",
        "            if os.path.isdir(self.video_path):\n",
        "                video_path = os.path.join(self.video_path, video_filename)\n",
        "\n",
        "            video_basename = os.path.basename(video_path).split('.')[0]\n",
        "\n",
        "            video_capture = cv2.VideoCapture(video_path)\n",
        "\n",
        "            fps = video_capture.get(cv2.CAP_PROP_FPS)\n",
        "            n_frames = int(video_capture.get(cv2.CAP_PROP_FRAME_COUNT))\n",
        "\n",
        "            frame_list = []\n",
        "            picks = []\n",
        "            video_feat = None\n",
        "            video_feat_for_train = None\n",
        "            for frame_idx in tqdm(range(n_frames-1)):\n",
        "                success, frame = video_capture.read()\n",
        "                if success:\n",
        "                    frame_feat = self._extract_feature(frame)\n",
        "\n",
        "                    if frame_idx % 15 == 0:\n",
        "                        picks.append(frame_idx)\n",
        "\n",
        "                        if video_feat_for_train is None:\n",
        "                            video_feat_for_train = frame_feat\n",
        "                        else:\n",
        "                            video_feat_for_train = np.vstack((video_feat_for_train, frame_feat))\n",
        "\n",
        "                    if video_feat is None:\n",
        "                        video_feat = frame_feat\n",
        "                    else:\n",
        "                        video_feat = np.vstack((video_feat, frame_feat))\n",
        "                else:\n",
        "                    break\n",
        "\n",
        "            video_capture.release()\n",
        "\n",
        "            change_points, n_frame_per_seg = self._get_change_points(video_feat, n_frames, fps)\n",
        "            self.h5_file['video_{}'.format(video_idx+1)]['features'] = list(video_feat_for_train)\n",
        "            self.h5_file['video_{}'.format(video_idx+1)]['picks'] = np.array(list(picks))\n",
        "            self.h5_file['video_{}'.format(video_idx+1)]['n_frames'] = n_frames\n",
        "            self.h5_file['video_{}'.format(video_idx+1)]['fps'] = fps\n",
        "            self.h5_file['video_{}'.format(video_idx + 1)]['video_name'] = video_filename.split('.')[0]\n",
        "            self.h5_file['video_{}'.format(video_idx+1)]['change_points'] = change_points\n",
        "            self.h5_file['video_{}'.format(video_idx+1)]['n_frame_per_seg'] = n_frame_per_seg\n",
        "        self.h5_file.close()"
      ],
      "metadata": {
        "id": "EmyVlKTYtoEr"
      },
      "execution_count": null,
      "outputs": []
    },
    {
      "cell_type": "code",
      "source": [
        "data = Generate_Dataset('/content/drive/MyDrive/CS114.M11/DOANCK/dataset/non-highlight/Video','/content/drive/MyDrive/CS114.M11/DOANCK/dataset/Feature/Train_non_highlight')"
      ],
      "metadata": {
        "colab": {
          "base_uri": "https://localhost:8080/",
          "height": 67,
          "referenced_widgets": [
            "f721efbe4a1e40ecae0dc47a2b60e2c2",
            "539c358a56044986a15fb8a9e30ac2d7",
            "baa873bb78ec4d54ad1cb04dacb5cd0b",
            "524adbbab34c4a76933334d9b29d5b72",
            "7e96332fc3134a9d93cde7e20f2f9146",
            "b01dc4d0d2334f8293586fb3dfacb0b8",
            "ae47f517fa4f477dbd01dad606499fd4",
            "ddb595c7ea564ea39b5c1ca8b9099c95",
            "e29af557907643bd87cb9a62d3bb5b8d",
            "11553ed921d54b2ba1f4bab940fdd85a",
            "62e99a93b5e04e93b304be2b0e71014a"
          ]
        },
        "id": "vLvryVemtsJw",
        "outputId": "02ee56e3-106b-4e87-8eb5-faa38ac30bcc"
      },
      "execution_count": null,
      "outputs": [
        {
          "output_type": "stream",
          "name": "stderr",
          "text": [
            "Downloading: \"https://download.pytorch.org/models/resnet152-394f9c45.pth\" to /root/.cache/torch/hub/checkpoints/resnet152-394f9c45.pth\n"
          ]
        },
        {
          "output_type": "display_data",
          "data": {
            "application/vnd.jupyter.widget-view+json": {
              "model_id": "f721efbe4a1e40ecae0dc47a2b60e2c2",
              "version_minor": 0,
              "version_major": 2
            },
            "text/plain": [
              "  0%|          | 0.00/230M [00:00<?, ?B/s]"
            ]
          },
          "metadata": {}
        }
      ]
    },
    {
      "cell_type": "code",
      "source": [
        "data.generate_dataset()"
      ],
      "metadata": {
        "colab": {
          "base_uri": "https://localhost:8080/"
        },
        "id": "1jWHLwXItviM",
        "outputId": "f46f4339-5f2e-408e-f635-298f4c2fb5bd"
      },
      "execution_count": null,
      "outputs": [
        {
          "output_type": "stream",
          "name": "stdout",
          "text": [
            "[INFO] CNN processing\n"
          ]
        },
        {
          "output_type": "stream",
          "name": "stderr",
          "text": [
            "100%|██████████| 300/300 [00:09<00:00, 32.45it/s]\n"
          ]
        },
        {
          "output_type": "stream",
          "name": "stdout",
          "text": [
            "Precomputing scatters...\n",
            "Inferring best change points...\n",
            "Precomputing scatters...\n",
            "Inferring best change points...\n"
          ]
        },
        {
          "output_type": "stream",
          "name": "stderr",
          "text": [
            "100%|██████████| 300/300 [00:08<00:00, 33.60it/s]\n"
          ]
        },
        {
          "output_type": "stream",
          "name": "stdout",
          "text": [
            "Precomputing scatters...\n",
            "Inferring best change points...\n",
            "Precomputing scatters...\n",
            "Inferring best change points...\n"
          ]
        },
        {
          "output_type": "stream",
          "name": "stderr",
          "text": [
            "100%|██████████| 300/300 [00:08<00:00, 34.02it/s]\n"
          ]
        },
        {
          "output_type": "stream",
          "name": "stdout",
          "text": [
            "Precomputing scatters...\n",
            "Inferring best change points...\n",
            "Precomputing scatters...\n",
            "Inferring best change points...\n"
          ]
        },
        {
          "output_type": "stream",
          "name": "stderr",
          "text": [
            "100%|██████████| 300/300 [00:08<00:00, 33.54it/s]\n"
          ]
        },
        {
          "output_type": "stream",
          "name": "stdout",
          "text": [
            "Precomputing scatters...\n",
            "Inferring best change points...\n",
            "Precomputing scatters...\n",
            "Inferring best change points...\n"
          ]
        },
        {
          "output_type": "stream",
          "name": "stderr",
          "text": [
            "100%|██████████| 300/300 [00:08<00:00, 33.77it/s]\n"
          ]
        },
        {
          "output_type": "stream",
          "name": "stdout",
          "text": [
            "Precomputing scatters...\n",
            "Inferring best change points...\n",
            "Precomputing scatters...\n",
            "Inferring best change points...\n"
          ]
        },
        {
          "output_type": "stream",
          "name": "stderr",
          "text": [
            "100%|██████████| 300/300 [00:08<00:00, 33.91it/s]\n"
          ]
        },
        {
          "output_type": "stream",
          "name": "stdout",
          "text": [
            "Precomputing scatters...\n",
            "Inferring best change points...\n",
            "Precomputing scatters...\n",
            "Inferring best change points...\n"
          ]
        },
        {
          "output_type": "stream",
          "name": "stderr",
          "text": [
            "100%|██████████| 300/300 [00:08<00:00, 33.92it/s]\n"
          ]
        },
        {
          "output_type": "stream",
          "name": "stdout",
          "text": [
            "Precomputing scatters...\n",
            "Inferring best change points...\n",
            "Precomputing scatters...\n",
            "Inferring best change points...\n"
          ]
        },
        {
          "output_type": "stream",
          "name": "stderr",
          "text": [
            "100%|██████████| 300/300 [00:08<00:00, 33.54it/s]\n"
          ]
        },
        {
          "output_type": "stream",
          "name": "stdout",
          "text": [
            "Precomputing scatters...\n",
            "Inferring best change points...\n",
            "Precomputing scatters...\n",
            "Inferring best change points...\n"
          ]
        },
        {
          "output_type": "stream",
          "name": "stderr",
          "text": [
            "100%|██████████| 300/300 [00:08<00:00, 33.54it/s]\n"
          ]
        },
        {
          "output_type": "stream",
          "name": "stdout",
          "text": [
            "Precomputing scatters...\n",
            "Inferring best change points...\n",
            "Precomputing scatters...\n",
            "Inferring best change points...\n"
          ]
        },
        {
          "output_type": "stream",
          "name": "stderr",
          "text": [
            "100%|██████████| 300/300 [00:08<00:00, 33.93it/s]\n"
          ]
        },
        {
          "output_type": "stream",
          "name": "stdout",
          "text": [
            "Precomputing scatters...\n",
            "Inferring best change points...\n",
            "Precomputing scatters...\n",
            "Inferring best change points...\n"
          ]
        },
        {
          "output_type": "stream",
          "name": "stderr",
          "text": [
            "100%|██████████| 300/300 [00:08<00:00, 33.71it/s]\n"
          ]
        },
        {
          "output_type": "stream",
          "name": "stdout",
          "text": [
            "Precomputing scatters...\n",
            "Inferring best change points...\n",
            "Precomputing scatters...\n",
            "Inferring best change points...\n"
          ]
        },
        {
          "output_type": "stream",
          "name": "stderr",
          "text": [
            "100%|██████████| 300/300 [00:10<00:00, 27.92it/s]\n"
          ]
        },
        {
          "output_type": "stream",
          "name": "stdout",
          "text": [
            "Precomputing scatters...\n",
            "Inferring best change points...\n",
            "Precomputing scatters...\n",
            "Inferring best change points...\n"
          ]
        },
        {
          "output_type": "stream",
          "name": "stderr",
          "text": [
            "100%|██████████| 300/300 [00:08<00:00, 33.60it/s]\n"
          ]
        },
        {
          "output_type": "stream",
          "name": "stdout",
          "text": [
            "Precomputing scatters...\n",
            "Inferring best change points...\n",
            "Precomputing scatters...\n",
            "Inferring best change points...\n"
          ]
        },
        {
          "output_type": "stream",
          "name": "stderr",
          "text": [
            "100%|██████████| 300/300 [00:08<00:00, 33.98it/s]\n"
          ]
        },
        {
          "output_type": "stream",
          "name": "stdout",
          "text": [
            "Precomputing scatters...\n",
            "Inferring best change points...\n",
            "Precomputing scatters...\n",
            "Inferring best change points...\n"
          ]
        },
        {
          "output_type": "stream",
          "name": "stderr",
          "text": [
            "100%|██████████| 300/300 [00:08<00:00, 33.42it/s]\n"
          ]
        },
        {
          "output_type": "stream",
          "name": "stdout",
          "text": [
            "Precomputing scatters...\n",
            "Inferring best change points...\n",
            "Precomputing scatters...\n",
            "Inferring best change points...\n"
          ]
        },
        {
          "output_type": "stream",
          "name": "stderr",
          "text": [
            "100%|██████████| 300/300 [00:08<00:00, 33.50it/s]\n"
          ]
        },
        {
          "output_type": "stream",
          "name": "stdout",
          "text": [
            "Precomputing scatters...\n",
            "Inferring best change points...\n",
            "Precomputing scatters...\n",
            "Inferring best change points...\n"
          ]
        },
        {
          "output_type": "stream",
          "name": "stderr",
          "text": [
            "100%|██████████| 300/300 [00:08<00:00, 33.52it/s]\n"
          ]
        },
        {
          "output_type": "stream",
          "name": "stdout",
          "text": [
            "Precomputing scatters...\n",
            "Inferring best change points...\n",
            "Precomputing scatters...\n",
            "Inferring best change points...\n"
          ]
        },
        {
          "output_type": "stream",
          "name": "stderr",
          "text": [
            "100%|██████████| 300/300 [00:08<00:00, 33.57it/s]\n"
          ]
        },
        {
          "output_type": "stream",
          "name": "stdout",
          "text": [
            "Precomputing scatters...\n",
            "Inferring best change points...\n",
            "Precomputing scatters...\n",
            "Inferring best change points...\n"
          ]
        },
        {
          "output_type": "stream",
          "name": "stderr",
          "text": [
            "100%|██████████| 300/300 [00:08<00:00, 33.83it/s]\n"
          ]
        },
        {
          "output_type": "stream",
          "name": "stdout",
          "text": [
            "Precomputing scatters...\n",
            "Inferring best change points...\n",
            "Precomputing scatters...\n",
            "Inferring best change points...\n"
          ]
        },
        {
          "output_type": "stream",
          "name": "stderr",
          "text": [
            "100%|██████████| 300/300 [00:08<00:00, 33.37it/s]\n"
          ]
        },
        {
          "output_type": "stream",
          "name": "stdout",
          "text": [
            "Precomputing scatters...\n",
            "Inferring best change points...\n",
            "Precomputing scatters...\n",
            "Inferring best change points...\n"
          ]
        },
        {
          "output_type": "stream",
          "name": "stderr",
          "text": [
            "100%|██████████| 300/300 [00:08<00:00, 33.71it/s]\n"
          ]
        },
        {
          "output_type": "stream",
          "name": "stdout",
          "text": [
            "Precomputing scatters...\n",
            "Inferring best change points...\n",
            "Precomputing scatters...\n",
            "Inferring best change points...\n"
          ]
        },
        {
          "output_type": "stream",
          "name": "stderr",
          "text": [
            "100%|██████████| 300/300 [00:08<00:00, 33.93it/s]\n"
          ]
        },
        {
          "output_type": "stream",
          "name": "stdout",
          "text": [
            "Precomputing scatters...\n",
            "Inferring best change points...\n",
            "Precomputing scatters...\n",
            "Inferring best change points...\n"
          ]
        },
        {
          "output_type": "stream",
          "name": "stderr",
          "text": [
            "100%|██████████| 300/300 [00:08<00:00, 33.40it/s]\n"
          ]
        },
        {
          "output_type": "stream",
          "name": "stdout",
          "text": [
            "Precomputing scatters...\n",
            "Inferring best change points...\n",
            "Precomputing scatters...\n",
            "Inferring best change points...\n"
          ]
        },
        {
          "output_type": "stream",
          "name": "stderr",
          "text": [
            "100%|██████████| 300/300 [00:09<00:00, 32.97it/s]\n"
          ]
        },
        {
          "output_type": "stream",
          "name": "stdout",
          "text": [
            "Precomputing scatters...\n",
            "Inferring best change points...\n",
            "Precomputing scatters...\n",
            "Inferring best change points...\n"
          ]
        },
        {
          "output_type": "stream",
          "name": "stderr",
          "text": [
            "100%|██████████| 300/300 [00:09<00:00, 32.82it/s]\n"
          ]
        },
        {
          "output_type": "stream",
          "name": "stdout",
          "text": [
            "Precomputing scatters...\n",
            "Inferring best change points...\n",
            "Precomputing scatters...\n",
            "Inferring best change points...\n"
          ]
        },
        {
          "output_type": "stream",
          "name": "stderr",
          "text": [
            "100%|██████████| 300/300 [00:09<00:00, 32.04it/s]\n"
          ]
        },
        {
          "output_type": "stream",
          "name": "stdout",
          "text": [
            "Precomputing scatters...\n",
            "Inferring best change points...\n",
            "Precomputing scatters...\n",
            "Inferring best change points...\n"
          ]
        },
        {
          "output_type": "stream",
          "name": "stderr",
          "text": [
            "100%|██████████| 300/300 [00:09<00:00, 31.49it/s]\n"
          ]
        },
        {
          "output_type": "stream",
          "name": "stdout",
          "text": [
            "Precomputing scatters...\n",
            "Inferring best change points...\n",
            "Precomputing scatters...\n",
            "Inferring best change points...\n"
          ]
        },
        {
          "output_type": "stream",
          "name": "stderr",
          "text": [
            "100%|██████████| 300/300 [00:09<00:00, 31.70it/s]\n"
          ]
        },
        {
          "output_type": "stream",
          "name": "stdout",
          "text": [
            "Precomputing scatters...\n",
            "Inferring best change points...\n",
            "Precomputing scatters...\n",
            "Inferring best change points...\n"
          ]
        },
        {
          "output_type": "stream",
          "name": "stderr",
          "text": [
            "100%|██████████| 300/300 [00:09<00:00, 30.96it/s]\n"
          ]
        },
        {
          "output_type": "stream",
          "name": "stdout",
          "text": [
            "Precomputing scatters...\n",
            "Inferring best change points...\n",
            "Precomputing scatters...\n",
            "Inferring best change points...\n"
          ]
        },
        {
          "output_type": "stream",
          "name": "stderr",
          "text": [
            "100%|██████████| 300/300 [00:09<00:00, 31.62it/s]\n"
          ]
        },
        {
          "output_type": "stream",
          "name": "stdout",
          "text": [
            "Precomputing scatters...\n",
            "Inferring best change points...\n",
            "Precomputing scatters...\n",
            "Inferring best change points...\n"
          ]
        },
        {
          "output_type": "stream",
          "name": "stderr",
          "text": [
            "100%|██████████| 300/300 [00:08<00:00, 33.35it/s]\n"
          ]
        },
        {
          "output_type": "stream",
          "name": "stdout",
          "text": [
            "Precomputing scatters...\n",
            "Inferring best change points...\n",
            "Precomputing scatters...\n",
            "Inferring best change points...\n"
          ]
        },
        {
          "output_type": "stream",
          "name": "stderr",
          "text": [
            "100%|██████████| 300/300 [00:08<00:00, 33.37it/s]\n"
          ]
        },
        {
          "output_type": "stream",
          "name": "stdout",
          "text": [
            "Precomputing scatters...\n",
            "Inferring best change points...\n",
            "Precomputing scatters...\n",
            "Inferring best change points...\n"
          ]
        },
        {
          "output_type": "stream",
          "name": "stderr",
          "text": [
            "100%|██████████| 300/300 [00:09<00:00, 33.20it/s]\n"
          ]
        },
        {
          "output_type": "stream",
          "name": "stdout",
          "text": [
            "Precomputing scatters...\n",
            "Inferring best change points...\n",
            "Precomputing scatters...\n",
            "Inferring best change points...\n"
          ]
        },
        {
          "output_type": "stream",
          "name": "stderr",
          "text": [
            "100%|██████████| 300/300 [00:09<00:00, 31.76it/s]\n"
          ]
        },
        {
          "output_type": "stream",
          "name": "stdout",
          "text": [
            "Precomputing scatters...\n",
            "Inferring best change points...\n",
            "Precomputing scatters...\n",
            "Inferring best change points...\n"
          ]
        },
        {
          "output_type": "stream",
          "name": "stderr",
          "text": [
            "100%|██████████| 300/300 [00:09<00:00, 31.03it/s]\n"
          ]
        },
        {
          "output_type": "stream",
          "name": "stdout",
          "text": [
            "Precomputing scatters...\n",
            "Inferring best change points...\n",
            "Precomputing scatters...\n",
            "Inferring best change points...\n"
          ]
        },
        {
          "output_type": "stream",
          "name": "stderr",
          "text": [
            "100%|██████████| 300/300 [00:09<00:00, 32.99it/s]\n"
          ]
        },
        {
          "output_type": "stream",
          "name": "stdout",
          "text": [
            "Precomputing scatters...\n",
            "Inferring best change points...\n",
            "Precomputing scatters...\n",
            "Inferring best change points...\n"
          ]
        },
        {
          "output_type": "stream",
          "name": "stderr",
          "text": [
            "100%|██████████| 300/300 [00:09<00:00, 32.45it/s]\n"
          ]
        },
        {
          "output_type": "stream",
          "name": "stdout",
          "text": [
            "Precomputing scatters...\n",
            "Inferring best change points...\n",
            "Precomputing scatters...\n",
            "Inferring best change points...\n"
          ]
        },
        {
          "output_type": "stream",
          "name": "stderr",
          "text": [
            "100%|██████████| 300/300 [00:09<00:00, 31.89it/s]\n"
          ]
        },
        {
          "output_type": "stream",
          "name": "stdout",
          "text": [
            "Precomputing scatters...\n",
            "Inferring best change points...\n",
            "Precomputing scatters...\n",
            "Inferring best change points...\n"
          ]
        },
        {
          "output_type": "stream",
          "name": "stderr",
          "text": [
            "100%|██████████| 300/300 [00:09<00:00, 32.40it/s]\n"
          ]
        },
        {
          "output_type": "stream",
          "name": "stdout",
          "text": [
            "Precomputing scatters...\n",
            "Inferring best change points...\n",
            "Precomputing scatters...\n",
            "Inferring best change points...\n"
          ]
        },
        {
          "output_type": "stream",
          "name": "stderr",
          "text": [
            "100%|██████████| 300/300 [00:09<00:00, 32.06it/s]\n"
          ]
        },
        {
          "output_type": "stream",
          "name": "stdout",
          "text": [
            "Precomputing scatters...\n",
            "Inferring best change points...\n",
            "Precomputing scatters...\n",
            "Inferring best change points...\n"
          ]
        },
        {
          "output_type": "stream",
          "name": "stderr",
          "text": [
            "100%|██████████| 300/300 [00:09<00:00, 32.37it/s]\n"
          ]
        },
        {
          "output_type": "stream",
          "name": "stdout",
          "text": [
            "Precomputing scatters...\n",
            "Inferring best change points...\n",
            "Precomputing scatters...\n",
            "Inferring best change points...\n"
          ]
        },
        {
          "output_type": "stream",
          "name": "stderr",
          "text": [
            "100%|██████████| 300/300 [00:09<00:00, 33.00it/s]\n"
          ]
        },
        {
          "output_type": "stream",
          "name": "stdout",
          "text": [
            "Precomputing scatters...\n",
            "Inferring best change points...\n",
            "Precomputing scatters...\n",
            "Inferring best change points...\n"
          ]
        },
        {
          "output_type": "stream",
          "name": "stderr",
          "text": [
            "100%|██████████| 300/300 [00:09<00:00, 33.26it/s]\n"
          ]
        },
        {
          "output_type": "stream",
          "name": "stdout",
          "text": [
            "Precomputing scatters...\n",
            "Inferring best change points...\n",
            "Precomputing scatters...\n",
            "Inferring best change points...\n"
          ]
        },
        {
          "output_type": "stream",
          "name": "stderr",
          "text": [
            "100%|██████████| 300/300 [00:09<00:00, 32.73it/s]\n"
          ]
        },
        {
          "output_type": "stream",
          "name": "stdout",
          "text": [
            "Precomputing scatters...\n",
            "Inferring best change points...\n",
            "Precomputing scatters...\n",
            "Inferring best change points...\n"
          ]
        },
        {
          "output_type": "stream",
          "name": "stderr",
          "text": [
            "100%|██████████| 300/300 [00:09<00:00, 33.29it/s]\n"
          ]
        },
        {
          "output_type": "stream",
          "name": "stdout",
          "text": [
            "Precomputing scatters...\n",
            "Inferring best change points...\n",
            "Precomputing scatters...\n",
            "Inferring best change points...\n"
          ]
        },
        {
          "output_type": "stream",
          "name": "stderr",
          "text": [
            "100%|██████████| 300/300 [00:08<00:00, 33.71it/s]\n"
          ]
        },
        {
          "output_type": "stream",
          "name": "stdout",
          "text": [
            "Precomputing scatters...\n",
            "Inferring best change points...\n",
            "Precomputing scatters...\n",
            "Inferring best change points...\n"
          ]
        },
        {
          "output_type": "stream",
          "name": "stderr",
          "text": [
            "100%|██████████| 300/300 [00:08<00:00, 33.46it/s]\n"
          ]
        },
        {
          "output_type": "stream",
          "name": "stdout",
          "text": [
            "Precomputing scatters...\n",
            "Inferring best change points...\n",
            "Precomputing scatters...\n",
            "Inferring best change points...\n"
          ]
        },
        {
          "output_type": "stream",
          "name": "stderr",
          "text": [
            "100%|██████████| 300/300 [00:09<00:00, 32.62it/s]\n"
          ]
        },
        {
          "output_type": "stream",
          "name": "stdout",
          "text": [
            "Precomputing scatters...\n",
            "Inferring best change points...\n",
            "Precomputing scatters...\n",
            "Inferring best change points...\n"
          ]
        },
        {
          "output_type": "stream",
          "name": "stderr",
          "text": [
            "100%|██████████| 300/300 [00:09<00:00, 33.10it/s]\n"
          ]
        },
        {
          "output_type": "stream",
          "name": "stdout",
          "text": [
            "Precomputing scatters...\n",
            "Inferring best change points...\n",
            "Precomputing scatters...\n",
            "Inferring best change points...\n"
          ]
        },
        {
          "output_type": "stream",
          "name": "stderr",
          "text": [
            "100%|██████████| 300/300 [00:09<00:00, 32.93it/s]\n"
          ]
        },
        {
          "output_type": "stream",
          "name": "stdout",
          "text": [
            "Precomputing scatters...\n",
            "Inferring best change points...\n",
            "Precomputing scatters...\n",
            "Inferring best change points...\n"
          ]
        },
        {
          "output_type": "stream",
          "name": "stderr",
          "text": [
            "100%|██████████| 300/300 [00:09<00:00, 32.73it/s]\n"
          ]
        },
        {
          "output_type": "stream",
          "name": "stdout",
          "text": [
            "Precomputing scatters...\n",
            "Inferring best change points...\n",
            "Precomputing scatters...\n",
            "Inferring best change points...\n"
          ]
        },
        {
          "output_type": "stream",
          "name": "stderr",
          "text": [
            "100%|██████████| 300/300 [00:09<00:00, 31.80it/s]\n"
          ]
        },
        {
          "output_type": "stream",
          "name": "stdout",
          "text": [
            "Precomputing scatters...\n",
            "Inferring best change points...\n",
            "Precomputing scatters...\n",
            "Inferring best change points...\n"
          ]
        },
        {
          "output_type": "stream",
          "name": "stderr",
          "text": [
            "100%|██████████| 300/300 [00:09<00:00, 30.06it/s]\n"
          ]
        },
        {
          "output_type": "stream",
          "name": "stdout",
          "text": [
            "Precomputing scatters...\n",
            "Inferring best change points...\n",
            "Precomputing scatters...\n",
            "Inferring best change points...\n"
          ]
        },
        {
          "output_type": "stream",
          "name": "stderr",
          "text": [
            "100%|██████████| 300/300 [00:09<00:00, 31.35it/s]\n"
          ]
        },
        {
          "output_type": "stream",
          "name": "stdout",
          "text": [
            "Precomputing scatters...\n",
            "Inferring best change points...\n",
            "Precomputing scatters...\n",
            "Inferring best change points...\n"
          ]
        },
        {
          "output_type": "stream",
          "name": "stderr",
          "text": [
            "100%|██████████| 300/300 [00:09<00:00, 33.19it/s]\n"
          ]
        },
        {
          "output_type": "stream",
          "name": "stdout",
          "text": [
            "Precomputing scatters...\n",
            "Inferring best change points...\n",
            "Precomputing scatters...\n",
            "Inferring best change points...\n"
          ]
        },
        {
          "output_type": "stream",
          "name": "stderr",
          "text": [
            "100%|██████████| 300/300 [00:08<00:00, 33.49it/s]\n"
          ]
        },
        {
          "output_type": "stream",
          "name": "stdout",
          "text": [
            "Precomputing scatters...\n",
            "Inferring best change points...\n",
            "Precomputing scatters...\n",
            "Inferring best change points...\n"
          ]
        },
        {
          "output_type": "stream",
          "name": "stderr",
          "text": [
            "100%|██████████| 300/300 [00:09<00:00, 32.80it/s]\n"
          ]
        },
        {
          "output_type": "stream",
          "name": "stdout",
          "text": [
            "Precomputing scatters...\n",
            "Inferring best change points...\n",
            "Precomputing scatters...\n",
            "Inferring best change points...\n"
          ]
        },
        {
          "output_type": "stream",
          "name": "stderr",
          "text": [
            "100%|██████████| 300/300 [00:09<00:00, 32.29it/s]\n"
          ]
        },
        {
          "output_type": "stream",
          "name": "stdout",
          "text": [
            "Precomputing scatters...\n",
            "Inferring best change points...\n",
            "Precomputing scatters...\n",
            "Inferring best change points...\n"
          ]
        },
        {
          "output_type": "stream",
          "name": "stderr",
          "text": [
            "100%|██████████| 300/300 [00:09<00:00, 33.32it/s]\n"
          ]
        },
        {
          "output_type": "stream",
          "name": "stdout",
          "text": [
            "Precomputing scatters...\n",
            "Inferring best change points...\n",
            "Precomputing scatters...\n",
            "Inferring best change points...\n"
          ]
        },
        {
          "output_type": "stream",
          "name": "stderr",
          "text": [
            "100%|██████████| 300/300 [00:09<00:00, 33.31it/s]\n"
          ]
        },
        {
          "output_type": "stream",
          "name": "stdout",
          "text": [
            "Precomputing scatters...\n",
            "Inferring best change points...\n",
            "Precomputing scatters...\n",
            "Inferring best change points...\n"
          ]
        },
        {
          "output_type": "stream",
          "name": "stderr",
          "text": [
            "100%|██████████| 300/300 [00:09<00:00, 33.32it/s]\n"
          ]
        },
        {
          "output_type": "stream",
          "name": "stdout",
          "text": [
            "Precomputing scatters...\n",
            "Inferring best change points...\n",
            "Precomputing scatters...\n",
            "Inferring best change points...\n"
          ]
        },
        {
          "output_type": "stream",
          "name": "stderr",
          "text": [
            "100%|██████████| 300/300 [00:08<00:00, 33.37it/s]\n"
          ]
        },
        {
          "output_type": "stream",
          "name": "stdout",
          "text": [
            "Precomputing scatters...\n",
            "Inferring best change points...\n",
            "Precomputing scatters...\n",
            "Inferring best change points...\n"
          ]
        },
        {
          "output_type": "stream",
          "name": "stderr",
          "text": [
            "100%|██████████| 300/300 [00:08<00:00, 33.56it/s]\n"
          ]
        },
        {
          "output_type": "stream",
          "name": "stdout",
          "text": [
            "Precomputing scatters...\n",
            "Inferring best change points...\n",
            "Precomputing scatters...\n",
            "Inferring best change points...\n"
          ]
        },
        {
          "output_type": "stream",
          "name": "stderr",
          "text": [
            "100%|██████████| 300/300 [00:09<00:00, 33.13it/s]\n"
          ]
        },
        {
          "output_type": "stream",
          "name": "stdout",
          "text": [
            "Precomputing scatters...\n",
            "Inferring best change points...\n",
            "Precomputing scatters...\n",
            "Inferring best change points...\n"
          ]
        },
        {
          "output_type": "stream",
          "name": "stderr",
          "text": [
            "100%|██████████| 300/300 [00:09<00:00, 32.98it/s]\n"
          ]
        },
        {
          "output_type": "stream",
          "name": "stdout",
          "text": [
            "Precomputing scatters...\n",
            "Inferring best change points...\n",
            "Precomputing scatters...\n",
            "Inferring best change points...\n"
          ]
        },
        {
          "output_type": "stream",
          "name": "stderr",
          "text": [
            "100%|██████████| 300/300 [00:09<00:00, 33.16it/s]\n"
          ]
        },
        {
          "output_type": "stream",
          "name": "stdout",
          "text": [
            "Precomputing scatters...\n",
            "Inferring best change points...\n",
            "Precomputing scatters...\n",
            "Inferring best change points...\n"
          ]
        },
        {
          "output_type": "stream",
          "name": "stderr",
          "text": [
            "100%|██████████| 300/300 [00:09<00:00, 33.03it/s]\n"
          ]
        },
        {
          "output_type": "stream",
          "name": "stdout",
          "text": [
            "Precomputing scatters...\n",
            "Inferring best change points...\n",
            "Precomputing scatters...\n",
            "Inferring best change points...\n"
          ]
        },
        {
          "output_type": "stream",
          "name": "stderr",
          "text": [
            "100%|██████████| 300/300 [00:09<00:00, 32.93it/s]\n"
          ]
        },
        {
          "output_type": "stream",
          "name": "stdout",
          "text": [
            "Precomputing scatters...\n",
            "Inferring best change points...\n",
            "Precomputing scatters...\n",
            "Inferring best change points...\n"
          ]
        },
        {
          "output_type": "stream",
          "name": "stderr",
          "text": [
            "100%|██████████| 300/300 [00:09<00:00, 33.24it/s]\n"
          ]
        },
        {
          "output_type": "stream",
          "name": "stdout",
          "text": [
            "Precomputing scatters...\n",
            "Inferring best change points...\n",
            "Precomputing scatters...\n",
            "Inferring best change points...\n"
          ]
        },
        {
          "output_type": "stream",
          "name": "stderr",
          "text": [
            "100%|██████████| 300/300 [00:09<00:00, 33.26it/s]\n"
          ]
        },
        {
          "output_type": "stream",
          "name": "stdout",
          "text": [
            "Precomputing scatters...\n",
            "Inferring best change points...\n",
            "Precomputing scatters...\n",
            "Inferring best change points...\n"
          ]
        },
        {
          "output_type": "stream",
          "name": "stderr",
          "text": [
            "100%|██████████| 300/300 [00:09<00:00, 33.10it/s]\n"
          ]
        },
        {
          "output_type": "stream",
          "name": "stdout",
          "text": [
            "Precomputing scatters...\n",
            "Inferring best change points...\n",
            "Precomputing scatters...\n",
            "Inferring best change points...\n"
          ]
        },
        {
          "output_type": "stream",
          "name": "stderr",
          "text": [
            "100%|██████████| 300/300 [00:09<00:00, 33.27it/s]\n"
          ]
        },
        {
          "output_type": "stream",
          "name": "stdout",
          "text": [
            "Precomputing scatters...\n",
            "Inferring best change points...\n",
            "Precomputing scatters...\n",
            "Inferring best change points...\n"
          ]
        },
        {
          "output_type": "stream",
          "name": "stderr",
          "text": [
            "100%|██████████| 300/300 [00:08<00:00, 33.37it/s]\n"
          ]
        },
        {
          "output_type": "stream",
          "name": "stdout",
          "text": [
            "Precomputing scatters...\n",
            "Inferring best change points...\n",
            "Precomputing scatters...\n",
            "Inferring best change points...\n"
          ]
        },
        {
          "output_type": "stream",
          "name": "stderr",
          "text": [
            "100%|██████████| 300/300 [00:09<00:00, 33.18it/s]\n"
          ]
        },
        {
          "output_type": "stream",
          "name": "stdout",
          "text": [
            "Precomputing scatters...\n",
            "Inferring best change points...\n",
            "Precomputing scatters...\n",
            "Inferring best change points...\n"
          ]
        },
        {
          "output_type": "stream",
          "name": "stderr",
          "text": [
            "100%|██████████| 300/300 [00:09<00:00, 33.03it/s]\n"
          ]
        },
        {
          "output_type": "stream",
          "name": "stdout",
          "text": [
            "Precomputing scatters...\n",
            "Inferring best change points...\n",
            "Precomputing scatters...\n",
            "Inferring best change points...\n"
          ]
        },
        {
          "output_type": "stream",
          "name": "stderr",
          "text": [
            "100%|██████████| 300/300 [00:09<00:00, 32.93it/s]\n"
          ]
        },
        {
          "output_type": "stream",
          "name": "stdout",
          "text": [
            "Precomputing scatters...\n",
            "Inferring best change points...\n",
            "Precomputing scatters...\n",
            "Inferring best change points...\n"
          ]
        },
        {
          "output_type": "stream",
          "name": "stderr",
          "text": [
            "100%|██████████| 300/300 [00:09<00:00, 33.25it/s]\n"
          ]
        },
        {
          "output_type": "stream",
          "name": "stdout",
          "text": [
            "Precomputing scatters...\n",
            "Inferring best change points...\n",
            "Precomputing scatters...\n",
            "Inferring best change points...\n"
          ]
        },
        {
          "output_type": "stream",
          "name": "stderr",
          "text": [
            "100%|██████████| 300/300 [00:08<00:00, 33.34it/s]\n"
          ]
        },
        {
          "output_type": "stream",
          "name": "stdout",
          "text": [
            "Precomputing scatters...\n",
            "Inferring best change points...\n",
            "Precomputing scatters...\n",
            "Inferring best change points...\n"
          ]
        },
        {
          "output_type": "stream",
          "name": "stderr",
          "text": [
            "100%|██████████| 300/300 [00:09<00:00, 33.33it/s]\n"
          ]
        },
        {
          "output_type": "stream",
          "name": "stdout",
          "text": [
            "Precomputing scatters...\n",
            "Inferring best change points...\n",
            "Precomputing scatters...\n",
            "Inferring best change points...\n"
          ]
        },
        {
          "output_type": "stream",
          "name": "stderr",
          "text": [
            "100%|██████████| 300/300 [00:09<00:00, 32.37it/s]\n"
          ]
        },
        {
          "output_type": "stream",
          "name": "stdout",
          "text": [
            "Precomputing scatters...\n",
            "Inferring best change points...\n",
            "Precomputing scatters...\n",
            "Inferring best change points...\n"
          ]
        },
        {
          "output_type": "stream",
          "name": "stderr",
          "text": [
            "100%|██████████| 300/300 [00:09<00:00, 32.86it/s]\n"
          ]
        },
        {
          "output_type": "stream",
          "name": "stdout",
          "text": [
            "Precomputing scatters...\n",
            "Inferring best change points...\n",
            "Precomputing scatters...\n",
            "Inferring best change points...\n"
          ]
        },
        {
          "output_type": "stream",
          "name": "stderr",
          "text": [
            "100%|██████████| 300/300 [00:09<00:00, 33.15it/s]\n"
          ]
        },
        {
          "output_type": "stream",
          "name": "stdout",
          "text": [
            "Precomputing scatters...\n",
            "Inferring best change points...\n",
            "Precomputing scatters...\n",
            "Inferring best change points...\n"
          ]
        },
        {
          "output_type": "stream",
          "name": "stderr",
          "text": [
            "100%|██████████| 300/300 [00:09<00:00, 32.77it/s]\n"
          ]
        },
        {
          "output_type": "stream",
          "name": "stdout",
          "text": [
            "Precomputing scatters...\n",
            "Inferring best change points...\n",
            "Precomputing scatters...\n",
            "Inferring best change points...\n"
          ]
        },
        {
          "output_type": "stream",
          "name": "stderr",
          "text": [
            "100%|██████████| 300/300 [00:09<00:00, 32.64it/s]\n"
          ]
        },
        {
          "output_type": "stream",
          "name": "stdout",
          "text": [
            "Precomputing scatters...\n",
            "Inferring best change points...\n",
            "Precomputing scatters...\n",
            "Inferring best change points...\n"
          ]
        },
        {
          "output_type": "stream",
          "name": "stderr",
          "text": [
            "100%|██████████| 300/300 [00:08<00:00, 33.40it/s]\n"
          ]
        },
        {
          "output_type": "stream",
          "name": "stdout",
          "text": [
            "Precomputing scatters...\n",
            "Inferring best change points...\n",
            "Precomputing scatters...\n",
            "Inferring best change points...\n"
          ]
        },
        {
          "output_type": "stream",
          "name": "stderr",
          "text": [
            "100%|██████████| 300/300 [00:08<00:00, 33.62it/s]\n"
          ]
        },
        {
          "output_type": "stream",
          "name": "stdout",
          "text": [
            "Precomputing scatters...\n",
            "Inferring best change points...\n",
            "Precomputing scatters...\n",
            "Inferring best change points...\n"
          ]
        },
        {
          "output_type": "stream",
          "name": "stderr",
          "text": [
            "100%|██████████| 300/300 [00:09<00:00, 33.07it/s]\n"
          ]
        },
        {
          "output_type": "stream",
          "name": "stdout",
          "text": [
            "Precomputing scatters...\n",
            "Inferring best change points...\n",
            "Precomputing scatters...\n",
            "Inferring best change points...\n"
          ]
        },
        {
          "output_type": "stream",
          "name": "stderr",
          "text": [
            "100%|██████████| 300/300 [00:09<00:00, 33.17it/s]\n"
          ]
        },
        {
          "output_type": "stream",
          "name": "stdout",
          "text": [
            "Precomputing scatters...\n",
            "Inferring best change points...\n",
            "Precomputing scatters...\n",
            "Inferring best change points...\n"
          ]
        },
        {
          "output_type": "stream",
          "name": "stderr",
          "text": [
            "100%|██████████| 300/300 [00:08<00:00, 33.66it/s]\n"
          ]
        },
        {
          "output_type": "stream",
          "name": "stdout",
          "text": [
            "Precomputing scatters...\n",
            "Inferring best change points...\n",
            "Precomputing scatters...\n",
            "Inferring best change points...\n"
          ]
        },
        {
          "output_type": "stream",
          "name": "stderr",
          "text": [
            "100%|██████████| 300/300 [00:09<00:00, 33.26it/s]\n"
          ]
        },
        {
          "output_type": "stream",
          "name": "stdout",
          "text": [
            "Precomputing scatters...\n",
            "Inferring best change points...\n",
            "Precomputing scatters...\n",
            "Inferring best change points...\n"
          ]
        },
        {
          "output_type": "stream",
          "name": "stderr",
          "text": [
            "100%|██████████| 300/300 [00:09<00:00, 33.18it/s]\n"
          ]
        },
        {
          "output_type": "stream",
          "name": "stdout",
          "text": [
            "Precomputing scatters...\n",
            "Inferring best change points...\n",
            "Precomputing scatters...\n",
            "Inferring best change points...\n"
          ]
        },
        {
          "output_type": "stream",
          "name": "stderr",
          "text": [
            "100%|██████████| 300/300 [00:09<00:00, 33.13it/s]\n"
          ]
        },
        {
          "output_type": "stream",
          "name": "stdout",
          "text": [
            "Precomputing scatters...\n",
            "Inferring best change points...\n",
            "Precomputing scatters...\n",
            "Inferring best change points...\n"
          ]
        },
        {
          "output_type": "stream",
          "name": "stderr",
          "text": [
            "100%|██████████| 300/300 [00:09<00:00, 32.90it/s]\n"
          ]
        },
        {
          "output_type": "stream",
          "name": "stdout",
          "text": [
            "Precomputing scatters...\n",
            "Inferring best change points...\n",
            "Precomputing scatters...\n",
            "Inferring best change points...\n"
          ]
        },
        {
          "output_type": "stream",
          "name": "stderr",
          "text": [
            "100%|██████████| 300/300 [00:09<00:00, 32.86it/s]\n"
          ]
        },
        {
          "output_type": "stream",
          "name": "stdout",
          "text": [
            "Precomputing scatters...\n",
            "Inferring best change points...\n",
            "Precomputing scatters...\n",
            "Inferring best change points...\n"
          ]
        },
        {
          "output_type": "stream",
          "name": "stderr",
          "text": [
            "100%|██████████| 300/300 [00:09<00:00, 33.32it/s]\n"
          ]
        },
        {
          "output_type": "stream",
          "name": "stdout",
          "text": [
            "Precomputing scatters...\n",
            "Inferring best change points...\n",
            "Precomputing scatters...\n",
            "Inferring best change points...\n"
          ]
        },
        {
          "output_type": "stream",
          "name": "stderr",
          "text": [
            "100%|██████████| 300/300 [00:09<00:00, 33.22it/s]\n"
          ]
        },
        {
          "output_type": "stream",
          "name": "stdout",
          "text": [
            "Precomputing scatters...\n",
            "Inferring best change points...\n",
            "Precomputing scatters...\n",
            "Inferring best change points...\n"
          ]
        },
        {
          "output_type": "stream",
          "name": "stderr",
          "text": [
            "100%|██████████| 300/300 [00:09<00:00, 33.22it/s]\n"
          ]
        },
        {
          "output_type": "stream",
          "name": "stdout",
          "text": [
            "Precomputing scatters...\n",
            "Inferring best change points...\n",
            "Precomputing scatters...\n",
            "Inferring best change points...\n"
          ]
        },
        {
          "output_type": "stream",
          "name": "stderr",
          "text": [
            "100%|██████████| 300/300 [00:09<00:00, 32.69it/s]\n"
          ]
        },
        {
          "output_type": "stream",
          "name": "stdout",
          "text": [
            "Precomputing scatters...\n",
            "Inferring best change points...\n",
            "Precomputing scatters...\n",
            "Inferring best change points...\n"
          ]
        },
        {
          "output_type": "stream",
          "name": "stderr",
          "text": [
            "100%|██████████| 300/300 [00:09<00:00, 32.47it/s]\n"
          ]
        },
        {
          "output_type": "stream",
          "name": "stdout",
          "text": [
            "Precomputing scatters...\n",
            "Inferring best change points...\n",
            "Precomputing scatters...\n",
            "Inferring best change points...\n"
          ]
        },
        {
          "output_type": "stream",
          "name": "stderr",
          "text": [
            "100%|██████████| 300/300 [00:09<00:00, 32.56it/s]\n"
          ]
        },
        {
          "output_type": "stream",
          "name": "stdout",
          "text": [
            "Precomputing scatters...\n",
            "Inferring best change points...\n",
            "Precomputing scatters...\n",
            "Inferring best change points...\n"
          ]
        },
        {
          "output_type": "stream",
          "name": "stderr",
          "text": [
            "100%|██████████| 300/300 [00:09<00:00, 31.79it/s]\n"
          ]
        },
        {
          "output_type": "stream",
          "name": "stdout",
          "text": [
            "Precomputing scatters...\n",
            "Inferring best change points...\n",
            "Precomputing scatters...\n",
            "Inferring best change points...\n"
          ]
        },
        {
          "output_type": "stream",
          "name": "stderr",
          "text": [
            "100%|██████████| 300/300 [00:09<00:00, 32.87it/s]\n"
          ]
        },
        {
          "output_type": "stream",
          "name": "stdout",
          "text": [
            "Precomputing scatters...\n",
            "Inferring best change points...\n",
            "Precomputing scatters...\n",
            "Inferring best change points...\n"
          ]
        },
        {
          "output_type": "stream",
          "name": "stderr",
          "text": [
            "100%|██████████| 300/300 [00:09<00:00, 32.85it/s]\n"
          ]
        },
        {
          "output_type": "stream",
          "name": "stdout",
          "text": [
            "Precomputing scatters...\n",
            "Inferring best change points...\n",
            "Precomputing scatters...\n",
            "Inferring best change points...\n"
          ]
        },
        {
          "output_type": "stream",
          "name": "stderr",
          "text": [
            "100%|██████████| 300/300 [00:09<00:00, 32.95it/s]\n"
          ]
        },
        {
          "output_type": "stream",
          "name": "stdout",
          "text": [
            "Precomputing scatters...\n",
            "Inferring best change points...\n",
            "Precomputing scatters...\n",
            "Inferring best change points...\n"
          ]
        },
        {
          "output_type": "stream",
          "name": "stderr",
          "text": [
            "100%|██████████| 300/300 [00:09<00:00, 32.90it/s]\n"
          ]
        },
        {
          "output_type": "stream",
          "name": "stdout",
          "text": [
            "Precomputing scatters...\n",
            "Inferring best change points...\n",
            "Precomputing scatters...\n",
            "Inferring best change points...\n"
          ]
        },
        {
          "output_type": "stream",
          "name": "stderr",
          "text": [
            "100%|██████████| 300/300 [00:08<00:00, 33.34it/s]\n"
          ]
        },
        {
          "output_type": "stream",
          "name": "stdout",
          "text": [
            "Precomputing scatters...\n",
            "Inferring best change points...\n",
            "Precomputing scatters...\n",
            "Inferring best change points...\n"
          ]
        },
        {
          "output_type": "stream",
          "name": "stderr",
          "text": [
            "100%|██████████| 300/300 [00:09<00:00, 33.03it/s]\n"
          ]
        },
        {
          "output_type": "stream",
          "name": "stdout",
          "text": [
            "Precomputing scatters...\n",
            "Inferring best change points...\n",
            "Precomputing scatters...\n",
            "Inferring best change points...\n"
          ]
        },
        {
          "output_type": "stream",
          "name": "stderr",
          "text": [
            "100%|██████████| 300/300 [00:09<00:00, 32.70it/s]\n"
          ]
        },
        {
          "output_type": "stream",
          "name": "stdout",
          "text": [
            "Precomputing scatters...\n",
            "Inferring best change points...\n",
            "Precomputing scatters...\n",
            "Inferring best change points...\n"
          ]
        },
        {
          "output_type": "stream",
          "name": "stderr",
          "text": [
            "100%|██████████| 300/300 [00:09<00:00, 32.80it/s]\n"
          ]
        },
        {
          "output_type": "stream",
          "name": "stdout",
          "text": [
            "Precomputing scatters...\n",
            "Inferring best change points...\n",
            "Precomputing scatters...\n",
            "Inferring best change points...\n"
          ]
        },
        {
          "output_type": "stream",
          "name": "stderr",
          "text": [
            "100%|██████████| 300/300 [00:09<00:00, 32.86it/s]\n"
          ]
        },
        {
          "output_type": "stream",
          "name": "stdout",
          "text": [
            "Precomputing scatters...\n",
            "Inferring best change points...\n",
            "Precomputing scatters...\n",
            "Inferring best change points...\n"
          ]
        },
        {
          "output_type": "stream",
          "name": "stderr",
          "text": [
            "100%|██████████| 300/300 [00:09<00:00, 33.03it/s]\n"
          ]
        },
        {
          "output_type": "stream",
          "name": "stdout",
          "text": [
            "Precomputing scatters...\n",
            "Inferring best change points...\n",
            "Precomputing scatters...\n",
            "Inferring best change points...\n"
          ]
        },
        {
          "output_type": "stream",
          "name": "stderr",
          "text": [
            "100%|██████████| 300/300 [00:09<00:00, 32.77it/s]\n"
          ]
        },
        {
          "output_type": "stream",
          "name": "stdout",
          "text": [
            "Precomputing scatters...\n",
            "Inferring best change points...\n",
            "Precomputing scatters...\n",
            "Inferring best change points...\n"
          ]
        },
        {
          "output_type": "stream",
          "name": "stderr",
          "text": [
            "100%|██████████| 300/300 [00:09<00:00, 32.69it/s]\n"
          ]
        },
        {
          "output_type": "stream",
          "name": "stdout",
          "text": [
            "Precomputing scatters...\n",
            "Inferring best change points...\n",
            "Precomputing scatters...\n",
            "Inferring best change points...\n"
          ]
        },
        {
          "output_type": "stream",
          "name": "stderr",
          "text": [
            "100%|██████████| 300/300 [00:09<00:00, 32.81it/s]\n"
          ]
        },
        {
          "output_type": "stream",
          "name": "stdout",
          "text": [
            "Precomputing scatters...\n",
            "Inferring best change points...\n",
            "Precomputing scatters...\n",
            "Inferring best change points...\n"
          ]
        },
        {
          "output_type": "stream",
          "name": "stderr",
          "text": [
            "100%|██████████| 300/300 [00:09<00:00, 31.95it/s]\n"
          ]
        },
        {
          "output_type": "stream",
          "name": "stdout",
          "text": [
            "Precomputing scatters...\n",
            "Inferring best change points...\n",
            "Precomputing scatters...\n",
            "Inferring best change points...\n"
          ]
        },
        {
          "output_type": "stream",
          "name": "stderr",
          "text": [
            "100%|██████████| 300/300 [00:09<00:00, 32.76it/s]\n"
          ]
        },
        {
          "output_type": "stream",
          "name": "stdout",
          "text": [
            "Precomputing scatters...\n",
            "Inferring best change points...\n",
            "Precomputing scatters...\n",
            "Inferring best change points...\n"
          ]
        },
        {
          "output_type": "stream",
          "name": "stderr",
          "text": [
            "100%|██████████| 300/300 [00:09<00:00, 32.77it/s]\n"
          ]
        },
        {
          "output_type": "stream",
          "name": "stdout",
          "text": [
            "Precomputing scatters...\n",
            "Inferring best change points...\n",
            "Precomputing scatters...\n",
            "Inferring best change points...\n"
          ]
        },
        {
          "output_type": "stream",
          "name": "stderr",
          "text": [
            "100%|██████████| 300/300 [00:09<00:00, 32.93it/s]\n"
          ]
        },
        {
          "output_type": "stream",
          "name": "stdout",
          "text": [
            "Precomputing scatters...\n",
            "Inferring best change points...\n",
            "Precomputing scatters...\n",
            "Inferring best change points...\n"
          ]
        },
        {
          "output_type": "stream",
          "name": "stderr",
          "text": [
            "100%|██████████| 300/300 [00:09<00:00, 32.73it/s]\n"
          ]
        },
        {
          "output_type": "stream",
          "name": "stdout",
          "text": [
            "Precomputing scatters...\n",
            "Inferring best change points...\n",
            "Precomputing scatters...\n",
            "Inferring best change points...\n"
          ]
        },
        {
          "output_type": "stream",
          "name": "stderr",
          "text": [
            "100%|██████████| 300/300 [00:09<00:00, 31.24it/s]\n"
          ]
        },
        {
          "output_type": "stream",
          "name": "stdout",
          "text": [
            "Precomputing scatters...\n",
            "Inferring best change points...\n",
            "Precomputing scatters...\n",
            "Inferring best change points...\n"
          ]
        },
        {
          "output_type": "stream",
          "name": "stderr",
          "text": [
            "100%|██████████| 300/300 [00:09<00:00, 32.97it/s]\n"
          ]
        },
        {
          "output_type": "stream",
          "name": "stdout",
          "text": [
            "Precomputing scatters...\n",
            "Inferring best change points...\n",
            "Precomputing scatters...\n",
            "Inferring best change points...\n"
          ]
        },
        {
          "output_type": "stream",
          "name": "stderr",
          "text": [
            "100%|██████████| 300/300 [00:09<00:00, 32.45it/s]\n"
          ]
        },
        {
          "output_type": "stream",
          "name": "stdout",
          "text": [
            "Precomputing scatters...\n",
            "Inferring best change points...\n",
            "Precomputing scatters...\n",
            "Inferring best change points...\n"
          ]
        },
        {
          "output_type": "stream",
          "name": "stderr",
          "text": [
            "100%|██████████| 300/300 [00:09<00:00, 33.01it/s]\n"
          ]
        },
        {
          "output_type": "stream",
          "name": "stdout",
          "text": [
            "Precomputing scatters...\n",
            "Inferring best change points...\n",
            "Precomputing scatters...\n",
            "Inferring best change points...\n"
          ]
        },
        {
          "output_type": "stream",
          "name": "stderr",
          "text": [
            "100%|██████████| 300/300 [00:09<00:00, 32.96it/s]\n"
          ]
        },
        {
          "output_type": "stream",
          "name": "stdout",
          "text": [
            "Precomputing scatters...\n",
            "Inferring best change points...\n",
            "Precomputing scatters...\n",
            "Inferring best change points...\n"
          ]
        },
        {
          "output_type": "stream",
          "name": "stderr",
          "text": [
            "100%|██████████| 300/300 [00:09<00:00, 33.01it/s]\n"
          ]
        },
        {
          "output_type": "stream",
          "name": "stdout",
          "text": [
            "Precomputing scatters...\n",
            "Inferring best change points...\n",
            "Precomputing scatters...\n",
            "Inferring best change points...\n"
          ]
        },
        {
          "output_type": "stream",
          "name": "stderr",
          "text": [
            "100%|██████████| 300/300 [00:09<00:00, 33.16it/s]\n"
          ]
        },
        {
          "output_type": "stream",
          "name": "stdout",
          "text": [
            "Precomputing scatters...\n",
            "Inferring best change points...\n",
            "Precomputing scatters...\n",
            "Inferring best change points...\n"
          ]
        },
        {
          "output_type": "stream",
          "name": "stderr",
          "text": [
            "100%|██████████| 300/300 [00:09<00:00, 32.92it/s]\n"
          ]
        },
        {
          "output_type": "stream",
          "name": "stdout",
          "text": [
            "Precomputing scatters...\n",
            "Inferring best change points...\n",
            "Precomputing scatters...\n",
            "Inferring best change points...\n"
          ]
        },
        {
          "output_type": "stream",
          "name": "stderr",
          "text": [
            "100%|██████████| 300/300 [00:09<00:00, 33.25it/s]\n"
          ]
        },
        {
          "output_type": "stream",
          "name": "stdout",
          "text": [
            "Precomputing scatters...\n",
            "Inferring best change points...\n",
            "Precomputing scatters...\n",
            "Inferring best change points...\n"
          ]
        },
        {
          "output_type": "stream",
          "name": "stderr",
          "text": [
            "100%|██████████| 300/300 [00:09<00:00, 32.91it/s]\n"
          ]
        },
        {
          "output_type": "stream",
          "name": "stdout",
          "text": [
            "Precomputing scatters...\n",
            "Inferring best change points...\n",
            "Precomputing scatters...\n",
            "Inferring best change points...\n"
          ]
        },
        {
          "output_type": "stream",
          "name": "stderr",
          "text": [
            "100%|██████████| 300/300 [00:09<00:00, 32.38it/s]\n"
          ]
        },
        {
          "output_type": "stream",
          "name": "stdout",
          "text": [
            "Precomputing scatters...\n",
            "Inferring best change points...\n",
            "Precomputing scatters...\n",
            "Inferring best change points...\n"
          ]
        },
        {
          "output_type": "stream",
          "name": "stderr",
          "text": [
            "100%|██████████| 300/300 [00:08<00:00, 33.41it/s]\n"
          ]
        },
        {
          "output_type": "stream",
          "name": "stdout",
          "text": [
            "Precomputing scatters...\n",
            "Inferring best change points...\n",
            "Precomputing scatters...\n",
            "Inferring best change points...\n"
          ]
        },
        {
          "output_type": "stream",
          "name": "stderr",
          "text": [
            "100%|██████████| 300/300 [00:08<00:00, 33.40it/s]\n"
          ]
        },
        {
          "output_type": "stream",
          "name": "stdout",
          "text": [
            "Precomputing scatters...\n",
            "Inferring best change points...\n",
            "Precomputing scatters...\n",
            "Inferring best change points...\n"
          ]
        },
        {
          "output_type": "stream",
          "name": "stderr",
          "text": [
            "100%|██████████| 300/300 [00:09<00:00, 32.98it/s]\n"
          ]
        },
        {
          "output_type": "stream",
          "name": "stdout",
          "text": [
            "Precomputing scatters...\n",
            "Inferring best change points...\n",
            "Precomputing scatters...\n",
            "Inferring best change points...\n"
          ]
        },
        {
          "output_type": "stream",
          "name": "stderr",
          "text": [
            "100%|██████████| 300/300 [00:09<00:00, 32.89it/s]\n"
          ]
        },
        {
          "output_type": "stream",
          "name": "stdout",
          "text": [
            "Precomputing scatters...\n",
            "Inferring best change points...\n",
            "Precomputing scatters...\n",
            "Inferring best change points...\n"
          ]
        },
        {
          "output_type": "stream",
          "name": "stderr",
          "text": [
            "100%|██████████| 300/300 [00:09<00:00, 32.96it/s]\n"
          ]
        },
        {
          "output_type": "stream",
          "name": "stdout",
          "text": [
            "Precomputing scatters...\n",
            "Inferring best change points...\n",
            "Precomputing scatters...\n",
            "Inferring best change points...\n"
          ]
        },
        {
          "output_type": "stream",
          "name": "stderr",
          "text": [
            "100%|██████████| 300/300 [00:09<00:00, 33.13it/s]\n"
          ]
        },
        {
          "output_type": "stream",
          "name": "stdout",
          "text": [
            "Precomputing scatters...\n",
            "Inferring best change points...\n",
            "Precomputing scatters...\n",
            "Inferring best change points...\n"
          ]
        },
        {
          "output_type": "stream",
          "name": "stderr",
          "text": [
            "100%|██████████| 300/300 [00:09<00:00, 32.90it/s]\n"
          ]
        },
        {
          "output_type": "stream",
          "name": "stdout",
          "text": [
            "Precomputing scatters...\n",
            "Inferring best change points...\n",
            "Precomputing scatters...\n",
            "Inferring best change points...\n"
          ]
        },
        {
          "output_type": "stream",
          "name": "stderr",
          "text": [
            "100%|██████████| 300/300 [00:08<00:00, 33.35it/s]\n"
          ]
        },
        {
          "output_type": "stream",
          "name": "stdout",
          "text": [
            "Precomputing scatters...\n",
            "Inferring best change points...\n",
            "Precomputing scatters...\n",
            "Inferring best change points...\n"
          ]
        },
        {
          "output_type": "stream",
          "name": "stderr",
          "text": [
            "100%|██████████| 300/300 [00:09<00:00, 33.13it/s]\n"
          ]
        },
        {
          "output_type": "stream",
          "name": "stdout",
          "text": [
            "Precomputing scatters...\n",
            "Inferring best change points...\n",
            "Precomputing scatters...\n",
            "Inferring best change points...\n"
          ]
        },
        {
          "output_type": "stream",
          "name": "stderr",
          "text": [
            "100%|██████████| 300/300 [00:09<00:00, 33.18it/s]\n"
          ]
        },
        {
          "output_type": "stream",
          "name": "stdout",
          "text": [
            "Precomputing scatters...\n",
            "Inferring best change points...\n",
            "Precomputing scatters...\n",
            "Inferring best change points...\n"
          ]
        },
        {
          "output_type": "stream",
          "name": "stderr",
          "text": [
            "100%|██████████| 300/300 [00:08<00:00, 33.46it/s]\n"
          ]
        },
        {
          "output_type": "stream",
          "name": "stdout",
          "text": [
            "Precomputing scatters...\n",
            "Inferring best change points...\n",
            "Precomputing scatters...\n",
            "Inferring best change points...\n"
          ]
        },
        {
          "output_type": "stream",
          "name": "stderr",
          "text": [
            "100%|██████████| 300/300 [00:09<00:00, 33.17it/s]\n"
          ]
        },
        {
          "output_type": "stream",
          "name": "stdout",
          "text": [
            "Precomputing scatters...\n",
            "Inferring best change points...\n",
            "Precomputing scatters...\n",
            "Inferring best change points...\n"
          ]
        },
        {
          "output_type": "stream",
          "name": "stderr",
          "text": [
            "100%|██████████| 300/300 [00:09<00:00, 33.07it/s]\n"
          ]
        },
        {
          "output_type": "stream",
          "name": "stdout",
          "text": [
            "Precomputing scatters...\n",
            "Inferring best change points...\n",
            "Precomputing scatters...\n",
            "Inferring best change points...\n"
          ]
        },
        {
          "output_type": "stream",
          "name": "stderr",
          "text": [
            "100%|██████████| 300/300 [00:09<00:00, 33.18it/s]\n"
          ]
        },
        {
          "output_type": "stream",
          "name": "stdout",
          "text": [
            "Precomputing scatters...\n",
            "Inferring best change points...\n",
            "Precomputing scatters...\n",
            "Inferring best change points...\n"
          ]
        },
        {
          "output_type": "stream",
          "name": "stderr",
          "text": [
            "100%|██████████| 300/300 [00:09<00:00, 32.88it/s]\n"
          ]
        },
        {
          "output_type": "stream",
          "name": "stdout",
          "text": [
            "Precomputing scatters...\n",
            "Inferring best change points...\n",
            "Precomputing scatters...\n",
            "Inferring best change points...\n"
          ]
        },
        {
          "output_type": "stream",
          "name": "stderr",
          "text": [
            "100%|██████████| 300/300 [00:09<00:00, 33.07it/s]\n"
          ]
        },
        {
          "output_type": "stream",
          "name": "stdout",
          "text": [
            "Precomputing scatters...\n",
            "Inferring best change points...\n",
            "Precomputing scatters...\n",
            "Inferring best change points...\n"
          ]
        },
        {
          "output_type": "stream",
          "name": "stderr",
          "text": [
            "100%|██████████| 300/300 [00:09<00:00, 33.08it/s]\n"
          ]
        },
        {
          "output_type": "stream",
          "name": "stdout",
          "text": [
            "Precomputing scatters...\n",
            "Inferring best change points...\n",
            "Precomputing scatters...\n",
            "Inferring best change points...\n"
          ]
        },
        {
          "output_type": "stream",
          "name": "stderr",
          "text": [
            "100%|██████████| 300/300 [00:09<00:00, 32.84it/s]\n"
          ]
        },
        {
          "output_type": "stream",
          "name": "stdout",
          "text": [
            "Precomputing scatters...\n",
            "Inferring best change points...\n",
            "Precomputing scatters...\n",
            "Inferring best change points...\n"
          ]
        },
        {
          "output_type": "stream",
          "name": "stderr",
          "text": [
            "100%|██████████| 300/300 [00:09<00:00, 32.89it/s]\n"
          ]
        },
        {
          "output_type": "stream",
          "name": "stdout",
          "text": [
            "Precomputing scatters...\n",
            "Inferring best change points...\n",
            "Precomputing scatters...\n",
            "Inferring best change points...\n"
          ]
        },
        {
          "output_type": "stream",
          "name": "stderr",
          "text": [
            "100%|██████████| 300/300 [00:08<00:00, 33.36it/s]\n"
          ]
        },
        {
          "output_type": "stream",
          "name": "stdout",
          "text": [
            "Precomputing scatters...\n",
            "Inferring best change points...\n",
            "Precomputing scatters...\n",
            "Inferring best change points...\n"
          ]
        },
        {
          "output_type": "stream",
          "name": "stderr",
          "text": [
            "100%|██████████| 300/300 [00:09<00:00, 33.02it/s]\n"
          ]
        },
        {
          "output_type": "stream",
          "name": "stdout",
          "text": [
            "Precomputing scatters...\n",
            "Inferring best change points...\n",
            "Precomputing scatters...\n",
            "Inferring best change points...\n"
          ]
        },
        {
          "output_type": "stream",
          "name": "stderr",
          "text": [
            "100%|██████████| 300/300 [00:08<00:00, 33.46it/s]\n"
          ]
        },
        {
          "output_type": "stream",
          "name": "stdout",
          "text": [
            "Precomputing scatters...\n",
            "Inferring best change points...\n",
            "Precomputing scatters...\n",
            "Inferring best change points...\n"
          ]
        },
        {
          "output_type": "stream",
          "name": "stderr",
          "text": [
            "100%|██████████| 300/300 [00:09<00:00, 33.18it/s]\n"
          ]
        },
        {
          "output_type": "stream",
          "name": "stdout",
          "text": [
            "Precomputing scatters...\n",
            "Inferring best change points...\n",
            "Precomputing scatters...\n",
            "Inferring best change points...\n"
          ]
        },
        {
          "output_type": "stream",
          "name": "stderr",
          "text": [
            "100%|██████████| 300/300 [00:08<00:00, 33.41it/s]\n"
          ]
        },
        {
          "output_type": "stream",
          "name": "stdout",
          "text": [
            "Precomputing scatters...\n",
            "Inferring best change points...\n",
            "Precomputing scatters...\n",
            "Inferring best change points...\n"
          ]
        },
        {
          "output_type": "stream",
          "name": "stderr",
          "text": [
            "100%|██████████| 300/300 [00:09<00:00, 33.14it/s]\n"
          ]
        },
        {
          "output_type": "stream",
          "name": "stdout",
          "text": [
            "Precomputing scatters...\n",
            "Inferring best change points...\n",
            "Precomputing scatters...\n",
            "Inferring best change points...\n"
          ]
        },
        {
          "output_type": "stream",
          "name": "stderr",
          "text": [
            "100%|██████████| 300/300 [00:08<00:00, 33.35it/s]\n"
          ]
        },
        {
          "output_type": "stream",
          "name": "stdout",
          "text": [
            "Precomputing scatters...\n",
            "Inferring best change points...\n",
            "Precomputing scatters...\n",
            "Inferring best change points...\n"
          ]
        },
        {
          "output_type": "stream",
          "name": "stderr",
          "text": [
            "100%|██████████| 300/300 [00:09<00:00, 33.28it/s]\n"
          ]
        },
        {
          "output_type": "stream",
          "name": "stdout",
          "text": [
            "Precomputing scatters...\n",
            "Inferring best change points...\n",
            "Precomputing scatters...\n",
            "Inferring best change points...\n"
          ]
        },
        {
          "output_type": "stream",
          "name": "stderr",
          "text": [
            "100%|██████████| 300/300 [00:08<00:00, 33.35it/s]\n"
          ]
        },
        {
          "output_type": "stream",
          "name": "stdout",
          "text": [
            "Precomputing scatters...\n",
            "Inferring best change points...\n",
            "Precomputing scatters...\n",
            "Inferring best change points...\n"
          ]
        },
        {
          "output_type": "stream",
          "name": "stderr",
          "text": [
            "100%|██████████| 300/300 [00:08<00:00, 33.40it/s]\n"
          ]
        },
        {
          "output_type": "stream",
          "name": "stdout",
          "text": [
            "Precomputing scatters...\n",
            "Inferring best change points...\n",
            "Precomputing scatters...\n",
            "Inferring best change points...\n"
          ]
        },
        {
          "output_type": "stream",
          "name": "stderr",
          "text": [
            "100%|██████████| 300/300 [00:08<00:00, 33.61it/s]\n"
          ]
        },
        {
          "output_type": "stream",
          "name": "stdout",
          "text": [
            "Precomputing scatters...\n",
            "Inferring best change points...\n",
            "Precomputing scatters...\n",
            "Inferring best change points...\n"
          ]
        },
        {
          "output_type": "stream",
          "name": "stderr",
          "text": [
            "100%|██████████| 300/300 [00:09<00:00, 32.74it/s]\n"
          ]
        },
        {
          "output_type": "stream",
          "name": "stdout",
          "text": [
            "Precomputing scatters...\n",
            "Inferring best change points...\n",
            "Precomputing scatters...\n",
            "Inferring best change points...\n"
          ]
        },
        {
          "output_type": "stream",
          "name": "stderr",
          "text": [
            "100%|██████████| 300/300 [00:09<00:00, 32.94it/s]\n"
          ]
        },
        {
          "output_type": "stream",
          "name": "stdout",
          "text": [
            "Precomputing scatters...\n",
            "Inferring best change points...\n",
            "Precomputing scatters...\n",
            "Inferring best change points...\n"
          ]
        },
        {
          "output_type": "stream",
          "name": "stderr",
          "text": [
            "100%|██████████| 300/300 [00:09<00:00, 32.93it/s]\n"
          ]
        },
        {
          "output_type": "stream",
          "name": "stdout",
          "text": [
            "Precomputing scatters...\n",
            "Inferring best change points...\n",
            "Precomputing scatters...\n",
            "Inferring best change points...\n"
          ]
        },
        {
          "output_type": "stream",
          "name": "stderr",
          "text": [
            "100%|██████████| 300/300 [00:09<00:00, 32.99it/s]\n"
          ]
        },
        {
          "output_type": "stream",
          "name": "stdout",
          "text": [
            "Precomputing scatters...\n",
            "Inferring best change points...\n",
            "Precomputing scatters...\n",
            "Inferring best change points...\n"
          ]
        },
        {
          "output_type": "stream",
          "name": "stderr",
          "text": [
            "100%|██████████| 300/300 [00:09<00:00, 33.27it/s]\n"
          ]
        },
        {
          "output_type": "stream",
          "name": "stdout",
          "text": [
            "Precomputing scatters...\n",
            "Inferring best change points...\n",
            "Precomputing scatters...\n",
            "Inferring best change points...\n"
          ]
        },
        {
          "output_type": "stream",
          "name": "stderr",
          "text": [
            "100%|██████████| 300/300 [00:09<00:00, 32.19it/s]\n"
          ]
        },
        {
          "output_type": "stream",
          "name": "stdout",
          "text": [
            "Precomputing scatters...\n",
            "Inferring best change points...\n",
            "Precomputing scatters...\n",
            "Inferring best change points...\n"
          ]
        },
        {
          "output_type": "stream",
          "name": "stderr",
          "text": [
            "100%|██████████| 300/300 [00:09<00:00, 32.78it/s]\n"
          ]
        },
        {
          "output_type": "stream",
          "name": "stdout",
          "text": [
            "Precomputing scatters...\n",
            "Inferring best change points...\n",
            "Precomputing scatters...\n",
            "Inferring best change points...\n"
          ]
        },
        {
          "output_type": "stream",
          "name": "stderr",
          "text": [
            "100%|██████████| 300/300 [00:09<00:00, 32.34it/s]\n"
          ]
        },
        {
          "output_type": "stream",
          "name": "stdout",
          "text": [
            "Precomputing scatters...\n",
            "Inferring best change points...\n",
            "Precomputing scatters...\n",
            "Inferring best change points...\n"
          ]
        },
        {
          "output_type": "stream",
          "name": "stderr",
          "text": [
            "100%|██████████| 300/300 [00:09<00:00, 31.78it/s]\n"
          ]
        },
        {
          "output_type": "stream",
          "name": "stdout",
          "text": [
            "Precomputing scatters...\n",
            "Inferring best change points...\n",
            "Precomputing scatters...\n",
            "Inferring best change points...\n"
          ]
        },
        {
          "output_type": "stream",
          "name": "stderr",
          "text": [
            "100%|██████████| 300/300 [00:09<00:00, 32.38it/s]\n"
          ]
        },
        {
          "output_type": "stream",
          "name": "stdout",
          "text": [
            "Precomputing scatters...\n",
            "Inferring best change points...\n",
            "Precomputing scatters...\n",
            "Inferring best change points...\n"
          ]
        },
        {
          "output_type": "stream",
          "name": "stderr",
          "text": [
            "100%|██████████| 300/300 [00:09<00:00, 33.02it/s]\n"
          ]
        },
        {
          "output_type": "stream",
          "name": "stdout",
          "text": [
            "Precomputing scatters...\n",
            "Inferring best change points...\n",
            "Precomputing scatters...\n",
            "Inferring best change points...\n"
          ]
        },
        {
          "output_type": "stream",
          "name": "stderr",
          "text": [
            "100%|██████████| 300/300 [00:09<00:00, 33.13it/s]\n"
          ]
        },
        {
          "output_type": "stream",
          "name": "stdout",
          "text": [
            "Precomputing scatters...\n",
            "Inferring best change points...\n",
            "Precomputing scatters...\n",
            "Inferring best change points...\n"
          ]
        },
        {
          "output_type": "stream",
          "name": "stderr",
          "text": [
            "100%|██████████| 300/300 [00:09<00:00, 33.08it/s]\n"
          ]
        },
        {
          "output_type": "stream",
          "name": "stdout",
          "text": [
            "Precomputing scatters...\n",
            "Inferring best change points...\n",
            "Precomputing scatters...\n",
            "Inferring best change points...\n"
          ]
        },
        {
          "output_type": "stream",
          "name": "stderr",
          "text": [
            "100%|██████████| 300/300 [00:08<00:00, 33.60it/s]\n"
          ]
        },
        {
          "output_type": "stream",
          "name": "stdout",
          "text": [
            "Precomputing scatters...\n",
            "Inferring best change points...\n",
            "Precomputing scatters...\n",
            "Inferring best change points...\n"
          ]
        },
        {
          "output_type": "stream",
          "name": "stderr",
          "text": [
            "100%|██████████| 300/300 [00:08<00:00, 33.42it/s]\n"
          ]
        },
        {
          "output_type": "stream",
          "name": "stdout",
          "text": [
            "Precomputing scatters...\n",
            "Inferring best change points...\n",
            "Precomputing scatters...\n",
            "Inferring best change points...\n"
          ]
        },
        {
          "output_type": "stream",
          "name": "stderr",
          "text": [
            "100%|██████████| 300/300 [00:09<00:00, 32.82it/s]\n"
          ]
        },
        {
          "output_type": "stream",
          "name": "stdout",
          "text": [
            "Precomputing scatters...\n",
            "Inferring best change points...\n",
            "Precomputing scatters...\n",
            "Inferring best change points...\n"
          ]
        },
        {
          "output_type": "stream",
          "name": "stderr",
          "text": [
            "100%|██████████| 300/300 [00:09<00:00, 33.33it/s]\n"
          ]
        },
        {
          "output_type": "stream",
          "name": "stdout",
          "text": [
            "Precomputing scatters...\n",
            "Inferring best change points...\n",
            "Precomputing scatters...\n",
            "Inferring best change points...\n"
          ]
        },
        {
          "output_type": "stream",
          "name": "stderr",
          "text": [
            "100%|██████████| 300/300 [00:09<00:00, 33.16it/s]\n"
          ]
        },
        {
          "output_type": "stream",
          "name": "stdout",
          "text": [
            "Precomputing scatters...\n",
            "Inferring best change points...\n",
            "Precomputing scatters...\n",
            "Inferring best change points...\n"
          ]
        },
        {
          "output_type": "stream",
          "name": "stderr",
          "text": [
            "100%|██████████| 300/300 [00:09<00:00, 33.21it/s]\n"
          ]
        },
        {
          "output_type": "stream",
          "name": "stdout",
          "text": [
            "Precomputing scatters...\n",
            "Inferring best change points...\n",
            "Precomputing scatters...\n",
            "Inferring best change points...\n"
          ]
        },
        {
          "output_type": "stream",
          "name": "stderr",
          "text": [
            "100%|██████████| 300/300 [00:09<00:00, 33.00it/s]\n"
          ]
        },
        {
          "output_type": "stream",
          "name": "stdout",
          "text": [
            "Precomputing scatters...\n",
            "Inferring best change points...\n",
            "Precomputing scatters...\n",
            "Inferring best change points...\n"
          ]
        },
        {
          "output_type": "stream",
          "name": "stderr",
          "text": [
            "100%|██████████| 300/300 [00:09<00:00, 32.94it/s]\n"
          ]
        },
        {
          "output_type": "stream",
          "name": "stdout",
          "text": [
            "Precomputing scatters...\n",
            "Inferring best change points...\n",
            "Precomputing scatters...\n",
            "Inferring best change points...\n"
          ]
        },
        {
          "output_type": "stream",
          "name": "stderr",
          "text": [
            "100%|██████████| 300/300 [00:09<00:00, 33.31it/s]\n"
          ]
        },
        {
          "output_type": "stream",
          "name": "stdout",
          "text": [
            "Precomputing scatters...\n",
            "Inferring best change points...\n",
            "Precomputing scatters...\n",
            "Inferring best change points...\n"
          ]
        },
        {
          "output_type": "stream",
          "name": "stderr",
          "text": [
            "100%|██████████| 300/300 [00:08<00:00, 33.50it/s]\n"
          ]
        },
        {
          "output_type": "stream",
          "name": "stdout",
          "text": [
            "Precomputing scatters...\n",
            "Inferring best change points...\n",
            "Precomputing scatters...\n",
            "Inferring best change points...\n"
          ]
        },
        {
          "output_type": "stream",
          "name": "stderr",
          "text": [
            "100%|██████████| 300/300 [00:09<00:00, 33.27it/s]\n"
          ]
        },
        {
          "output_type": "stream",
          "name": "stdout",
          "text": [
            "Precomputing scatters...\n",
            "Inferring best change points...\n",
            "Precomputing scatters...\n",
            "Inferring best change points...\n"
          ]
        },
        {
          "output_type": "stream",
          "name": "stderr",
          "text": [
            "100%|██████████| 300/300 [00:09<00:00, 33.31it/s]\n"
          ]
        },
        {
          "output_type": "stream",
          "name": "stdout",
          "text": [
            "Precomputing scatters...\n",
            "Inferring best change points...\n",
            "Precomputing scatters...\n",
            "Inferring best change points...\n"
          ]
        },
        {
          "output_type": "stream",
          "name": "stderr",
          "text": [
            "100%|██████████| 300/300 [00:09<00:00, 32.89it/s]\n"
          ]
        },
        {
          "output_type": "stream",
          "name": "stdout",
          "text": [
            "Precomputing scatters...\n",
            "Inferring best change points...\n",
            "Precomputing scatters...\n",
            "Inferring best change points...\n"
          ]
        },
        {
          "output_type": "stream",
          "name": "stderr",
          "text": [
            "100%|██████████| 300/300 [00:09<00:00, 33.21it/s]\n"
          ]
        },
        {
          "output_type": "stream",
          "name": "stdout",
          "text": [
            "Precomputing scatters...\n",
            "Inferring best change points...\n",
            "Precomputing scatters...\n",
            "Inferring best change points...\n"
          ]
        },
        {
          "output_type": "stream",
          "name": "stderr",
          "text": [
            "100%|██████████| 300/300 [00:09<00:00, 32.82it/s]\n"
          ]
        },
        {
          "output_type": "stream",
          "name": "stdout",
          "text": [
            "Precomputing scatters...\n",
            "Inferring best change points...\n",
            "Precomputing scatters...\n",
            "Inferring best change points...\n"
          ]
        },
        {
          "output_type": "stream",
          "name": "stderr",
          "text": [
            "100%|██████████| 300/300 [00:09<00:00, 33.13it/s]\n"
          ]
        },
        {
          "output_type": "stream",
          "name": "stdout",
          "text": [
            "Precomputing scatters...\n",
            "Inferring best change points...\n",
            "Precomputing scatters...\n",
            "Inferring best change points...\n"
          ]
        },
        {
          "output_type": "stream",
          "name": "stderr",
          "text": [
            "100%|██████████| 300/300 [00:09<00:00, 33.08it/s]\n"
          ]
        },
        {
          "output_type": "stream",
          "name": "stdout",
          "text": [
            "Precomputing scatters...\n",
            "Inferring best change points...\n",
            "Precomputing scatters...\n",
            "Inferring best change points...\n"
          ]
        },
        {
          "output_type": "stream",
          "name": "stderr",
          "text": [
            "100%|██████████| 300/300 [00:09<00:00, 32.75it/s]\n"
          ]
        },
        {
          "output_type": "stream",
          "name": "stdout",
          "text": [
            "Precomputing scatters...\n",
            "Inferring best change points...\n",
            "Precomputing scatters...\n",
            "Inferring best change points...\n"
          ]
        },
        {
          "output_type": "stream",
          "name": "stderr",
          "text": [
            "100%|██████████| 300/300 [00:09<00:00, 33.11it/s]\n"
          ]
        },
        {
          "output_type": "stream",
          "name": "stdout",
          "text": [
            "Precomputing scatters...\n",
            "Inferring best change points...\n",
            "Precomputing scatters...\n",
            "Inferring best change points...\n"
          ]
        },
        {
          "output_type": "stream",
          "name": "stderr",
          "text": [
            "100%|██████████| 300/300 [00:09<00:00, 33.16it/s]\n"
          ]
        },
        {
          "output_type": "stream",
          "name": "stdout",
          "text": [
            "Precomputing scatters...\n",
            "Inferring best change points...\n",
            "Precomputing scatters...\n",
            "Inferring best change points...\n"
          ]
        },
        {
          "output_type": "stream",
          "name": "stderr",
          "text": [
            "100%|██████████| 300/300 [00:09<00:00, 32.85it/s]\n"
          ]
        },
        {
          "output_type": "stream",
          "name": "stdout",
          "text": [
            "Precomputing scatters...\n",
            "Inferring best change points...\n",
            "Precomputing scatters...\n",
            "Inferring best change points...\n"
          ]
        },
        {
          "output_type": "stream",
          "name": "stderr",
          "text": [
            "100%|██████████| 300/300 [00:09<00:00, 32.82it/s]\n"
          ]
        },
        {
          "output_type": "stream",
          "name": "stdout",
          "text": [
            "Precomputing scatters...\n",
            "Inferring best change points...\n",
            "Precomputing scatters...\n",
            "Inferring best change points...\n"
          ]
        },
        {
          "output_type": "stream",
          "name": "stderr",
          "text": [
            "100%|██████████| 300/300 [00:09<00:00, 32.71it/s]\n"
          ]
        },
        {
          "output_type": "stream",
          "name": "stdout",
          "text": [
            "Precomputing scatters...\n",
            "Inferring best change points...\n",
            "Precomputing scatters...\n",
            "Inferring best change points...\n"
          ]
        },
        {
          "output_type": "stream",
          "name": "stderr",
          "text": [
            "100%|██████████| 300/300 [00:09<00:00, 32.82it/s]\n"
          ]
        },
        {
          "output_type": "stream",
          "name": "stdout",
          "text": [
            "Precomputing scatters...\n",
            "Inferring best change points...\n",
            "Precomputing scatters...\n",
            "Inferring best change points...\n"
          ]
        },
        {
          "output_type": "stream",
          "name": "stderr",
          "text": [
            "100%|██████████| 300/300 [00:09<00:00, 31.97it/s]\n"
          ]
        },
        {
          "output_type": "stream",
          "name": "stdout",
          "text": [
            "Precomputing scatters...\n",
            "Inferring best change points...\n",
            "Precomputing scatters...\n",
            "Inferring best change points...\n"
          ]
        },
        {
          "output_type": "stream",
          "name": "stderr",
          "text": [
            "100%|██████████| 300/300 [00:09<00:00, 31.71it/s]\n"
          ]
        },
        {
          "output_type": "stream",
          "name": "stdout",
          "text": [
            "Precomputing scatters...\n",
            "Inferring best change points...\n",
            "Precomputing scatters...\n",
            "Inferring best change points...\n"
          ]
        },
        {
          "output_type": "stream",
          "name": "stderr",
          "text": [
            "100%|██████████| 300/300 [00:09<00:00, 32.68it/s]\n"
          ]
        },
        {
          "output_type": "stream",
          "name": "stdout",
          "text": [
            "Precomputing scatters...\n",
            "Inferring best change points...\n",
            "Precomputing scatters...\n",
            "Inferring best change points...\n"
          ]
        },
        {
          "output_type": "stream",
          "name": "stderr",
          "text": [
            "100%|██████████| 300/300 [00:09<00:00, 32.00it/s]\n"
          ]
        },
        {
          "output_type": "stream",
          "name": "stdout",
          "text": [
            "Precomputing scatters...\n",
            "Inferring best change points...\n",
            "Precomputing scatters...\n",
            "Inferring best change points...\n"
          ]
        },
        {
          "output_type": "stream",
          "name": "stderr",
          "text": [
            "100%|██████████| 300/300 [00:09<00:00, 31.82it/s]\n"
          ]
        },
        {
          "output_type": "stream",
          "name": "stdout",
          "text": [
            "Precomputing scatters...\n",
            "Inferring best change points...\n",
            "Precomputing scatters...\n",
            "Inferring best change points...\n"
          ]
        },
        {
          "output_type": "stream",
          "name": "stderr",
          "text": [
            "100%|██████████| 300/300 [00:09<00:00, 32.00it/s]\n"
          ]
        },
        {
          "output_type": "stream",
          "name": "stdout",
          "text": [
            "Precomputing scatters...\n",
            "Inferring best change points...\n",
            "Precomputing scatters...\n",
            "Inferring best change points...\n"
          ]
        },
        {
          "output_type": "stream",
          "name": "stderr",
          "text": [
            "100%|██████████| 300/300 [00:09<00:00, 32.18it/s]\n"
          ]
        },
        {
          "output_type": "stream",
          "name": "stdout",
          "text": [
            "Precomputing scatters...\n",
            "Inferring best change points...\n",
            "Precomputing scatters...\n",
            "Inferring best change points...\n"
          ]
        },
        {
          "output_type": "stream",
          "name": "stderr",
          "text": [
            "100%|██████████| 300/300 [00:09<00:00, 31.82it/s]\n"
          ]
        },
        {
          "output_type": "stream",
          "name": "stdout",
          "text": [
            "Precomputing scatters...\n",
            "Inferring best change points...\n",
            "Precomputing scatters...\n",
            "Inferring best change points...\n"
          ]
        },
        {
          "output_type": "stream",
          "name": "stderr",
          "text": [
            "100%|██████████| 300/300 [00:09<00:00, 31.79it/s]\n"
          ]
        },
        {
          "output_type": "stream",
          "name": "stdout",
          "text": [
            "Precomputing scatters...\n",
            "Inferring best change points...\n",
            "Precomputing scatters...\n",
            "Inferring best change points...\n"
          ]
        },
        {
          "output_type": "stream",
          "name": "stderr",
          "text": [
            "100%|██████████| 300/300 [00:09<00:00, 32.01it/s]\n"
          ]
        },
        {
          "output_type": "stream",
          "name": "stdout",
          "text": [
            "Precomputing scatters...\n",
            "Inferring best change points...\n",
            "Precomputing scatters...\n",
            "Inferring best change points...\n"
          ]
        },
        {
          "output_type": "stream",
          "name": "stderr",
          "text": [
            "100%|██████████| 300/300 [00:09<00:00, 32.20it/s]\n"
          ]
        },
        {
          "output_type": "stream",
          "name": "stdout",
          "text": [
            "Precomputing scatters...\n",
            "Inferring best change points...\n",
            "Precomputing scatters...\n",
            "Inferring best change points...\n"
          ]
        },
        {
          "output_type": "stream",
          "name": "stderr",
          "text": [
            "100%|██████████| 300/300 [00:09<00:00, 32.57it/s]\n"
          ]
        },
        {
          "output_type": "stream",
          "name": "stdout",
          "text": [
            "Precomputing scatters...\n",
            "Inferring best change points...\n",
            "Precomputing scatters...\n",
            "Inferring best change points...\n"
          ]
        },
        {
          "output_type": "stream",
          "name": "stderr",
          "text": [
            "100%|██████████| 300/300 [00:09<00:00, 32.20it/s]\n"
          ]
        },
        {
          "output_type": "stream",
          "name": "stdout",
          "text": [
            "Precomputing scatters...\n",
            "Inferring best change points...\n",
            "Precomputing scatters...\n",
            "Inferring best change points...\n"
          ]
        },
        {
          "output_type": "stream",
          "name": "stderr",
          "text": [
            "100%|██████████| 300/300 [00:09<00:00, 32.26it/s]\n"
          ]
        },
        {
          "output_type": "stream",
          "name": "stdout",
          "text": [
            "Precomputing scatters...\n",
            "Inferring best change points...\n",
            "Precomputing scatters...\n",
            "Inferring best change points...\n"
          ]
        },
        {
          "output_type": "stream",
          "name": "stderr",
          "text": [
            "100%|██████████| 300/300 [00:09<00:00, 31.79it/s]\n"
          ]
        },
        {
          "output_type": "stream",
          "name": "stdout",
          "text": [
            "Precomputing scatters...\n",
            "Inferring best change points...\n",
            "Precomputing scatters...\n",
            "Inferring best change points...\n"
          ]
        },
        {
          "output_type": "stream",
          "name": "stderr",
          "text": [
            "100%|██████████| 300/300 [00:09<00:00, 31.43it/s]\n"
          ]
        },
        {
          "output_type": "stream",
          "name": "stdout",
          "text": [
            "Precomputing scatters...\n",
            "Inferring best change points...\n",
            "Precomputing scatters...\n",
            "Inferring best change points...\n"
          ]
        },
        {
          "output_type": "stream",
          "name": "stderr",
          "text": [
            "100%|██████████| 300/300 [00:09<00:00, 32.17it/s]\n"
          ]
        },
        {
          "output_type": "stream",
          "name": "stdout",
          "text": [
            "Precomputing scatters...\n",
            "Inferring best change points...\n",
            "Precomputing scatters...\n",
            "Inferring best change points...\n"
          ]
        },
        {
          "output_type": "stream",
          "name": "stderr",
          "text": [
            "100%|██████████| 300/300 [00:09<00:00, 32.07it/s]\n"
          ]
        },
        {
          "output_type": "stream",
          "name": "stdout",
          "text": [
            "Precomputing scatters...\n",
            "Inferring best change points...\n",
            "Precomputing scatters...\n",
            "Inferring best change points...\n"
          ]
        },
        {
          "output_type": "stream",
          "name": "stderr",
          "text": [
            "100%|██████████| 300/300 [00:09<00:00, 31.85it/s]\n"
          ]
        },
        {
          "output_type": "stream",
          "name": "stdout",
          "text": [
            "Precomputing scatters...\n",
            "Inferring best change points...\n",
            "Precomputing scatters...\n",
            "Inferring best change points...\n"
          ]
        },
        {
          "output_type": "stream",
          "name": "stderr",
          "text": [
            "100%|██████████| 300/300 [00:09<00:00, 32.04it/s]\n"
          ]
        },
        {
          "output_type": "stream",
          "name": "stdout",
          "text": [
            "Precomputing scatters...\n",
            "Inferring best change points...\n",
            "Precomputing scatters...\n",
            "Inferring best change points...\n"
          ]
        },
        {
          "output_type": "stream",
          "name": "stderr",
          "text": [
            "100%|██████████| 300/300 [00:09<00:00, 32.02it/s]\n"
          ]
        },
        {
          "output_type": "stream",
          "name": "stdout",
          "text": [
            "Precomputing scatters...\n",
            "Inferring best change points...\n",
            "Precomputing scatters...\n",
            "Inferring best change points...\n"
          ]
        },
        {
          "output_type": "stream",
          "name": "stderr",
          "text": [
            "100%|██████████| 300/300 [00:09<00:00, 32.01it/s]\n"
          ]
        },
        {
          "output_type": "stream",
          "name": "stdout",
          "text": [
            "Precomputing scatters...\n",
            "Inferring best change points...\n",
            "Precomputing scatters...\n",
            "Inferring best change points...\n"
          ]
        },
        {
          "output_type": "stream",
          "name": "stderr",
          "text": [
            "100%|██████████| 300/300 [00:09<00:00, 31.46it/s]\n"
          ]
        },
        {
          "output_type": "stream",
          "name": "stdout",
          "text": [
            "Precomputing scatters...\n",
            "Inferring best change points...\n",
            "Precomputing scatters...\n",
            "Inferring best change points...\n"
          ]
        },
        {
          "output_type": "stream",
          "name": "stderr",
          "text": [
            "100%|██████████| 300/300 [00:09<00:00, 31.57it/s]\n"
          ]
        },
        {
          "output_type": "stream",
          "name": "stdout",
          "text": [
            "Precomputing scatters...\n",
            "Inferring best change points...\n",
            "Precomputing scatters...\n",
            "Inferring best change points...\n"
          ]
        },
        {
          "output_type": "stream",
          "name": "stderr",
          "text": [
            "100%|██████████| 300/300 [00:09<00:00, 31.75it/s]\n"
          ]
        },
        {
          "output_type": "stream",
          "name": "stdout",
          "text": [
            "Precomputing scatters...\n",
            "Inferring best change points...\n",
            "Precomputing scatters...\n",
            "Inferring best change points...\n"
          ]
        },
        {
          "output_type": "stream",
          "name": "stderr",
          "text": [
            "100%|██████████| 300/300 [00:09<00:00, 31.26it/s]\n"
          ]
        },
        {
          "output_type": "stream",
          "name": "stdout",
          "text": [
            "Precomputing scatters...\n",
            "Inferring best change points...\n",
            "Precomputing scatters...\n",
            "Inferring best change points...\n"
          ]
        },
        {
          "output_type": "stream",
          "name": "stderr",
          "text": [
            "100%|██████████| 300/300 [00:09<00:00, 30.88it/s]\n"
          ]
        },
        {
          "output_type": "stream",
          "name": "stdout",
          "text": [
            "Precomputing scatters...\n",
            "Inferring best change points...\n",
            "Precomputing scatters...\n",
            "Inferring best change points...\n"
          ]
        },
        {
          "output_type": "stream",
          "name": "stderr",
          "text": [
            "100%|██████████| 300/300 [00:09<00:00, 31.38it/s]\n"
          ]
        },
        {
          "output_type": "stream",
          "name": "stdout",
          "text": [
            "Precomputing scatters...\n",
            "Inferring best change points...\n",
            "Precomputing scatters...\n",
            "Inferring best change points...\n"
          ]
        },
        {
          "output_type": "stream",
          "name": "stderr",
          "text": [
            "100%|██████████| 300/300 [00:09<00:00, 31.13it/s]\n"
          ]
        },
        {
          "output_type": "stream",
          "name": "stdout",
          "text": [
            "Precomputing scatters...\n",
            "Inferring best change points...\n",
            "Precomputing scatters...\n",
            "Inferring best change points...\n"
          ]
        },
        {
          "output_type": "stream",
          "name": "stderr",
          "text": [
            "100%|██████████| 300/300 [00:09<00:00, 31.36it/s]\n"
          ]
        },
        {
          "output_type": "stream",
          "name": "stdout",
          "text": [
            "Precomputing scatters...\n",
            "Inferring best change points...\n",
            "Precomputing scatters...\n",
            "Inferring best change points...\n"
          ]
        },
        {
          "output_type": "stream",
          "name": "stderr",
          "text": [
            "100%|██████████| 300/300 [00:09<00:00, 31.30it/s]\n"
          ]
        },
        {
          "output_type": "stream",
          "name": "stdout",
          "text": [
            "Precomputing scatters...\n",
            "Inferring best change points...\n",
            "Precomputing scatters...\n",
            "Inferring best change points...\n"
          ]
        },
        {
          "output_type": "stream",
          "name": "stderr",
          "text": [
            "100%|██████████| 300/300 [00:09<00:00, 30.76it/s]\n"
          ]
        },
        {
          "output_type": "stream",
          "name": "stdout",
          "text": [
            "Precomputing scatters...\n",
            "Inferring best change points...\n",
            "Precomputing scatters...\n",
            "Inferring best change points...\n"
          ]
        },
        {
          "output_type": "stream",
          "name": "stderr",
          "text": [
            "100%|██████████| 300/300 [00:09<00:00, 31.00it/s]\n"
          ]
        },
        {
          "output_type": "stream",
          "name": "stdout",
          "text": [
            "Precomputing scatters...\n",
            "Inferring best change points...\n",
            "Precomputing scatters...\n",
            "Inferring best change points...\n"
          ]
        },
        {
          "output_type": "stream",
          "name": "stderr",
          "text": [
            "100%|██████████| 300/300 [00:09<00:00, 31.29it/s]\n"
          ]
        },
        {
          "output_type": "stream",
          "name": "stdout",
          "text": [
            "Precomputing scatters...\n",
            "Inferring best change points...\n",
            "Precomputing scatters...\n",
            "Inferring best change points...\n"
          ]
        },
        {
          "output_type": "stream",
          "name": "stderr",
          "text": [
            "100%|██████████| 300/300 [00:09<00:00, 30.63it/s]\n"
          ]
        },
        {
          "output_type": "stream",
          "name": "stdout",
          "text": [
            "Precomputing scatters...\n",
            "Inferring best change points...\n",
            "Precomputing scatters...\n",
            "Inferring best change points...\n"
          ]
        },
        {
          "output_type": "stream",
          "name": "stderr",
          "text": [
            "100%|██████████| 300/300 [00:09<00:00, 30.64it/s]\n"
          ]
        },
        {
          "output_type": "stream",
          "name": "stdout",
          "text": [
            "Precomputing scatters...\n",
            "Inferring best change points...\n",
            "Precomputing scatters...\n",
            "Inferring best change points...\n"
          ]
        },
        {
          "output_type": "stream",
          "name": "stderr",
          "text": [
            "100%|██████████| 300/300 [00:09<00:00, 30.41it/s]\n"
          ]
        },
        {
          "output_type": "stream",
          "name": "stdout",
          "text": [
            "Precomputing scatters...\n",
            "Inferring best change points...\n",
            "Precomputing scatters...\n",
            "Inferring best change points...\n"
          ]
        },
        {
          "output_type": "stream",
          "name": "stderr",
          "text": [
            "100%|██████████| 300/300 [00:09<00:00, 30.46it/s]\n"
          ]
        },
        {
          "output_type": "stream",
          "name": "stdout",
          "text": [
            "Precomputing scatters...\n",
            "Inferring best change points...\n",
            "Precomputing scatters...\n",
            "Inferring best change points...\n"
          ]
        },
        {
          "output_type": "stream",
          "name": "stderr",
          "text": [
            "100%|██████████| 300/300 [00:09<00:00, 30.97it/s]\n"
          ]
        },
        {
          "output_type": "stream",
          "name": "stdout",
          "text": [
            "Precomputing scatters...\n",
            "Inferring best change points...\n",
            "Precomputing scatters...\n",
            "Inferring best change points...\n"
          ]
        },
        {
          "output_type": "stream",
          "name": "stderr",
          "text": [
            "100%|██████████| 300/300 [00:09<00:00, 30.13it/s]\n"
          ]
        },
        {
          "output_type": "stream",
          "name": "stdout",
          "text": [
            "Precomputing scatters...\n",
            "Inferring best change points...\n",
            "Precomputing scatters...\n",
            "Inferring best change points...\n"
          ]
        },
        {
          "output_type": "stream",
          "name": "stderr",
          "text": [
            "100%|██████████| 300/300 [00:09<00:00, 31.32it/s]\n"
          ]
        },
        {
          "output_type": "stream",
          "name": "stdout",
          "text": [
            "Precomputing scatters...\n",
            "Inferring best change points...\n",
            "Precomputing scatters...\n",
            "Inferring best change points...\n"
          ]
        },
        {
          "output_type": "stream",
          "name": "stderr",
          "text": [
            "100%|██████████| 300/300 [00:11<00:00, 27.20it/s]\n"
          ]
        },
        {
          "output_type": "stream",
          "name": "stdout",
          "text": [
            "Precomputing scatters...\n",
            "Inferring best change points...\n",
            "Precomputing scatters...\n",
            "Inferring best change points...\n"
          ]
        },
        {
          "output_type": "stream",
          "name": "stderr",
          "text": [
            "100%|██████████| 300/300 [00:09<00:00, 30.99it/s]\n"
          ]
        },
        {
          "output_type": "stream",
          "name": "stdout",
          "text": [
            "Precomputing scatters...\n",
            "Inferring best change points...\n",
            "Precomputing scatters...\n",
            "Inferring best change points...\n"
          ]
        },
        {
          "output_type": "stream",
          "name": "stderr",
          "text": [
            "100%|██████████| 300/300 [00:09<00:00, 31.52it/s]\n"
          ]
        },
        {
          "output_type": "stream",
          "name": "stdout",
          "text": [
            "Precomputing scatters...\n",
            "Inferring best change points...\n",
            "Precomputing scatters...\n",
            "Inferring best change points...\n"
          ]
        },
        {
          "output_type": "stream",
          "name": "stderr",
          "text": [
            "100%|██████████| 300/300 [00:10<00:00, 29.31it/s]\n"
          ]
        },
        {
          "output_type": "stream",
          "name": "stdout",
          "text": [
            "Precomputing scatters...\n",
            "Inferring best change points...\n",
            "Precomputing scatters...\n",
            "Inferring best change points...\n"
          ]
        },
        {
          "output_type": "stream",
          "name": "stderr",
          "text": [
            "100%|██████████| 300/300 [00:09<00:00, 31.65it/s]\n"
          ]
        },
        {
          "output_type": "stream",
          "name": "stdout",
          "text": [
            "Precomputing scatters...\n",
            "Inferring best change points...\n",
            "Precomputing scatters...\n",
            "Inferring best change points...\n"
          ]
        },
        {
          "output_type": "stream",
          "name": "stderr",
          "text": [
            "100%|██████████| 300/300 [00:09<00:00, 30.65it/s]\n"
          ]
        },
        {
          "output_type": "stream",
          "name": "stdout",
          "text": [
            "Precomputing scatters...\n",
            "Inferring best change points...\n",
            "Precomputing scatters...\n",
            "Inferring best change points...\n"
          ]
        },
        {
          "output_type": "stream",
          "name": "stderr",
          "text": [
            "100%|██████████| 300/300 [00:09<00:00, 32.03it/s]\n"
          ]
        },
        {
          "output_type": "stream",
          "name": "stdout",
          "text": [
            "Precomputing scatters...\n",
            "Inferring best change points...\n",
            "Precomputing scatters...\n",
            "Inferring best change points...\n"
          ]
        },
        {
          "output_type": "stream",
          "name": "stderr",
          "text": [
            "100%|██████████| 300/300 [00:09<00:00, 30.10it/s]\n"
          ]
        },
        {
          "output_type": "stream",
          "name": "stdout",
          "text": [
            "Precomputing scatters...\n",
            "Inferring best change points...\n",
            "Precomputing scatters...\n",
            "Inferring best change points...\n"
          ]
        },
        {
          "output_type": "stream",
          "name": "stderr",
          "text": [
            "100%|██████████| 300/300 [00:09<00:00, 31.49it/s]\n"
          ]
        },
        {
          "output_type": "stream",
          "name": "stdout",
          "text": [
            "Precomputing scatters...\n",
            "Inferring best change points...\n",
            "Precomputing scatters...\n",
            "Inferring best change points...\n"
          ]
        },
        {
          "output_type": "stream",
          "name": "stderr",
          "text": [
            "100%|██████████| 300/300 [00:09<00:00, 31.59it/s]\n"
          ]
        },
        {
          "output_type": "stream",
          "name": "stdout",
          "text": [
            "Precomputing scatters...\n",
            "Inferring best change points...\n",
            "Precomputing scatters...\n",
            "Inferring best change points...\n"
          ]
        },
        {
          "output_type": "stream",
          "name": "stderr",
          "text": [
            "100%|██████████| 300/300 [00:10<00:00, 29.50it/s]\n"
          ]
        },
        {
          "output_type": "stream",
          "name": "stdout",
          "text": [
            "Precomputing scatters...\n",
            "Inferring best change points...\n",
            "Precomputing scatters...\n",
            "Inferring best change points...\n"
          ]
        },
        {
          "output_type": "stream",
          "name": "stderr",
          "text": [
            "100%|██████████| 300/300 [00:09<00:00, 31.31it/s]\n"
          ]
        },
        {
          "output_type": "stream",
          "name": "stdout",
          "text": [
            "Precomputing scatters...\n",
            "Inferring best change points...\n",
            "Precomputing scatters...\n",
            "Inferring best change points...\n"
          ]
        },
        {
          "output_type": "stream",
          "name": "stderr",
          "text": [
            "100%|██████████| 300/300 [00:10<00:00, 29.06it/s]\n"
          ]
        },
        {
          "output_type": "stream",
          "name": "stdout",
          "text": [
            "Precomputing scatters...\n",
            "Inferring best change points...\n",
            "Precomputing scatters...\n",
            "Inferring best change points...\n"
          ]
        },
        {
          "output_type": "stream",
          "name": "stderr",
          "text": [
            "100%|██████████| 300/300 [00:09<00:00, 31.39it/s]\n"
          ]
        },
        {
          "output_type": "stream",
          "name": "stdout",
          "text": [
            "Precomputing scatters...\n",
            "Inferring best change points...\n",
            "Precomputing scatters...\n",
            "Inferring best change points...\n"
          ]
        },
        {
          "output_type": "stream",
          "name": "stderr",
          "text": [
            "100%|██████████| 300/300 [00:09<00:00, 31.46it/s]\n"
          ]
        },
        {
          "output_type": "stream",
          "name": "stdout",
          "text": [
            "Precomputing scatters...\n",
            "Inferring best change points...\n",
            "Precomputing scatters...\n",
            "Inferring best change points...\n"
          ]
        },
        {
          "output_type": "stream",
          "name": "stderr",
          "text": [
            "100%|██████████| 300/300 [00:10<00:00, 29.84it/s]\n"
          ]
        },
        {
          "output_type": "stream",
          "name": "stdout",
          "text": [
            "Precomputing scatters...\n",
            "Inferring best change points...\n",
            "Precomputing scatters...\n",
            "Inferring best change points...\n"
          ]
        },
        {
          "output_type": "stream",
          "name": "stderr",
          "text": [
            "100%|██████████| 300/300 [00:09<00:00, 31.29it/s]\n"
          ]
        },
        {
          "output_type": "stream",
          "name": "stdout",
          "text": [
            "Precomputing scatters...\n",
            "Inferring best change points...\n",
            "Precomputing scatters...\n",
            "Inferring best change points...\n"
          ]
        },
        {
          "output_type": "stream",
          "name": "stderr",
          "text": [
            "100%|██████████| 300/300 [00:10<00:00, 29.66it/s]\n"
          ]
        },
        {
          "output_type": "stream",
          "name": "stdout",
          "text": [
            "Precomputing scatters...\n",
            "Inferring best change points...\n",
            "Precomputing scatters...\n",
            "Inferring best change points...\n"
          ]
        },
        {
          "output_type": "stream",
          "name": "stderr",
          "text": [
            "100%|██████████| 300/300 [00:09<00:00, 32.15it/s]\n"
          ]
        },
        {
          "output_type": "stream",
          "name": "stdout",
          "text": [
            "Precomputing scatters...\n",
            "Inferring best change points...\n",
            "Precomputing scatters...\n",
            "Inferring best change points...\n"
          ]
        },
        {
          "output_type": "stream",
          "name": "stderr",
          "text": [
            "100%|██████████| 300/300 [00:09<00:00, 32.14it/s]\n"
          ]
        },
        {
          "output_type": "stream",
          "name": "stdout",
          "text": [
            "Precomputing scatters...\n",
            "Inferring best change points...\n",
            "Precomputing scatters...\n",
            "Inferring best change points...\n"
          ]
        },
        {
          "output_type": "stream",
          "name": "stderr",
          "text": [
            "100%|██████████| 300/300 [00:10<00:00, 29.46it/s]\n"
          ]
        },
        {
          "output_type": "stream",
          "name": "stdout",
          "text": [
            "Precomputing scatters...\n",
            "Inferring best change points...\n",
            "Precomputing scatters...\n",
            "Inferring best change points...\n"
          ]
        },
        {
          "output_type": "stream",
          "name": "stderr",
          "text": [
            "100%|██████████| 300/300 [00:09<00:00, 31.59it/s]\n"
          ]
        },
        {
          "output_type": "stream",
          "name": "stdout",
          "text": [
            "Precomputing scatters...\n",
            "Inferring best change points...\n",
            "Precomputing scatters...\n",
            "Inferring best change points...\n"
          ]
        },
        {
          "output_type": "stream",
          "name": "stderr",
          "text": [
            "100%|██████████| 300/300 [00:10<00:00, 29.56it/s]\n"
          ]
        },
        {
          "output_type": "stream",
          "name": "stdout",
          "text": [
            "Precomputing scatters...\n",
            "Inferring best change points...\n",
            "Precomputing scatters...\n",
            "Inferring best change points...\n"
          ]
        },
        {
          "output_type": "stream",
          "name": "stderr",
          "text": [
            "100%|██████████| 300/300 [00:09<00:00, 31.98it/s]\n"
          ]
        },
        {
          "output_type": "stream",
          "name": "stdout",
          "text": [
            "Precomputing scatters...\n",
            "Inferring best change points...\n",
            "Precomputing scatters...\n",
            "Inferring best change points...\n"
          ]
        },
        {
          "output_type": "stream",
          "name": "stderr",
          "text": [
            "100%|██████████| 300/300 [00:09<00:00, 31.76it/s]\n"
          ]
        },
        {
          "output_type": "stream",
          "name": "stdout",
          "text": [
            "Precomputing scatters...\n",
            "Inferring best change points...\n",
            "Precomputing scatters...\n",
            "Inferring best change points...\n"
          ]
        },
        {
          "output_type": "stream",
          "name": "stderr",
          "text": [
            "100%|██████████| 300/300 [00:09<00:00, 30.35it/s]\n"
          ]
        },
        {
          "output_type": "stream",
          "name": "stdout",
          "text": [
            "Precomputing scatters...\n",
            "Inferring best change points...\n",
            "Precomputing scatters...\n",
            "Inferring best change points...\n"
          ]
        },
        {
          "output_type": "stream",
          "name": "stderr",
          "text": [
            "100%|██████████| 300/300 [00:09<00:00, 32.38it/s]\n"
          ]
        },
        {
          "output_type": "stream",
          "name": "stdout",
          "text": [
            "Precomputing scatters...\n",
            "Inferring best change points...\n",
            "Precomputing scatters...\n",
            "Inferring best change points...\n"
          ]
        },
        {
          "output_type": "stream",
          "name": "stderr",
          "text": [
            "100%|██████████| 300/300 [00:10<00:00, 29.93it/s]\n"
          ]
        },
        {
          "output_type": "stream",
          "name": "stdout",
          "text": [
            "Precomputing scatters...\n",
            "Inferring best change points...\n",
            "Precomputing scatters...\n",
            "Inferring best change points...\n"
          ]
        },
        {
          "output_type": "stream",
          "name": "stderr",
          "text": [
            "100%|██████████| 300/300 [00:09<00:00, 32.31it/s]\n"
          ]
        },
        {
          "output_type": "stream",
          "name": "stdout",
          "text": [
            "Precomputing scatters...\n",
            "Inferring best change points...\n",
            "Precomputing scatters...\n",
            "Inferring best change points...\n"
          ]
        },
        {
          "output_type": "stream",
          "name": "stderr",
          "text": [
            "100%|██████████| 300/300 [00:09<00:00, 31.75it/s]\n"
          ]
        },
        {
          "output_type": "stream",
          "name": "stdout",
          "text": [
            "Precomputing scatters...\n",
            "Inferring best change points...\n",
            "Precomputing scatters...\n",
            "Inferring best change points...\n"
          ]
        },
        {
          "output_type": "stream",
          "name": "stderr",
          "text": [
            "100%|██████████| 300/300 [00:09<00:00, 32.13it/s]\n"
          ]
        },
        {
          "output_type": "stream",
          "name": "stdout",
          "text": [
            "Precomputing scatters...\n",
            "Inferring best change points...\n",
            "Precomputing scatters...\n",
            "Inferring best change points...\n"
          ]
        },
        {
          "output_type": "stream",
          "name": "stderr",
          "text": [
            "100%|██████████| 300/300 [00:09<00:00, 32.01it/s]\n"
          ]
        },
        {
          "output_type": "stream",
          "name": "stdout",
          "text": [
            "Precomputing scatters...\n",
            "Inferring best change points...\n",
            "Precomputing scatters...\n",
            "Inferring best change points...\n"
          ]
        },
        {
          "output_type": "stream",
          "name": "stderr",
          "text": [
            "100%|██████████| 300/300 [00:09<00:00, 30.65it/s]\n"
          ]
        },
        {
          "output_type": "stream",
          "name": "stdout",
          "text": [
            "Precomputing scatters...\n",
            "Inferring best change points...\n",
            "Precomputing scatters...\n",
            "Inferring best change points...\n"
          ]
        },
        {
          "output_type": "stream",
          "name": "stderr",
          "text": [
            "100%|██████████| 300/300 [00:09<00:00, 32.07it/s]\n"
          ]
        },
        {
          "output_type": "stream",
          "name": "stdout",
          "text": [
            "Precomputing scatters...\n",
            "Inferring best change points...\n",
            "Precomputing scatters...\n",
            "Inferring best change points...\n"
          ]
        },
        {
          "output_type": "stream",
          "name": "stderr",
          "text": [
            "100%|██████████| 300/300 [00:09<00:00, 31.45it/s]\n"
          ]
        },
        {
          "output_type": "stream",
          "name": "stdout",
          "text": [
            "Precomputing scatters...\n",
            "Inferring best change points...\n",
            "Precomputing scatters...\n",
            "Inferring best change points...\n"
          ]
        },
        {
          "output_type": "stream",
          "name": "stderr",
          "text": [
            "100%|██████████| 300/300 [00:09<00:00, 31.97it/s]\n"
          ]
        },
        {
          "output_type": "stream",
          "name": "stdout",
          "text": [
            "Precomputing scatters...\n",
            "Inferring best change points...\n",
            "Precomputing scatters...\n",
            "Inferring best change points...\n"
          ]
        },
        {
          "output_type": "stream",
          "name": "stderr",
          "text": [
            "100%|██████████| 300/300 [00:09<00:00, 31.48it/s]\n"
          ]
        },
        {
          "output_type": "stream",
          "name": "stdout",
          "text": [
            "Precomputing scatters...\n",
            "Inferring best change points...\n",
            "Precomputing scatters...\n",
            "Inferring best change points...\n"
          ]
        },
        {
          "output_type": "stream",
          "name": "stderr",
          "text": [
            "100%|██████████| 300/300 [00:09<00:00, 31.68it/s]\n"
          ]
        },
        {
          "output_type": "stream",
          "name": "stdout",
          "text": [
            "Precomputing scatters...\n",
            "Inferring best change points...\n",
            "Precomputing scatters...\n",
            "Inferring best change points...\n"
          ]
        },
        {
          "output_type": "stream",
          "name": "stderr",
          "text": [
            "100%|██████████| 300/300 [00:09<00:00, 30.60it/s]\n"
          ]
        },
        {
          "output_type": "stream",
          "name": "stdout",
          "text": [
            "Precomputing scatters...\n",
            "Inferring best change points...\n",
            "Precomputing scatters...\n",
            "Inferring best change points...\n"
          ]
        },
        {
          "output_type": "stream",
          "name": "stderr",
          "text": [
            "100%|██████████| 300/300 [00:09<00:00, 32.14it/s]\n"
          ]
        },
        {
          "output_type": "stream",
          "name": "stdout",
          "text": [
            "Precomputing scatters...\n",
            "Inferring best change points...\n",
            "Precomputing scatters...\n",
            "Inferring best change points...\n"
          ]
        },
        {
          "output_type": "stream",
          "name": "stderr",
          "text": [
            "100%|██████████| 300/300 [00:09<00:00, 32.15it/s]\n"
          ]
        },
        {
          "output_type": "stream",
          "name": "stdout",
          "text": [
            "Precomputing scatters...\n",
            "Inferring best change points...\n",
            "Precomputing scatters...\n",
            "Inferring best change points...\n"
          ]
        },
        {
          "output_type": "stream",
          "name": "stderr",
          "text": [
            "100%|██████████| 300/300 [00:09<00:00, 31.17it/s]\n"
          ]
        },
        {
          "output_type": "stream",
          "name": "stdout",
          "text": [
            "Precomputing scatters...\n",
            "Inferring best change points...\n",
            "Precomputing scatters...\n",
            "Inferring best change points...\n"
          ]
        },
        {
          "output_type": "stream",
          "name": "stderr",
          "text": [
            "100%|██████████| 300/300 [00:09<00:00, 31.90it/s]\n"
          ]
        },
        {
          "output_type": "stream",
          "name": "stdout",
          "text": [
            "Precomputing scatters...\n",
            "Inferring best change points...\n",
            "Precomputing scatters...\n",
            "Inferring best change points...\n"
          ]
        },
        {
          "output_type": "stream",
          "name": "stderr",
          "text": [
            "100%|██████████| 300/300 [00:09<00:00, 30.93it/s]\n"
          ]
        },
        {
          "output_type": "stream",
          "name": "stdout",
          "text": [
            "Precomputing scatters...\n",
            "Inferring best change points...\n",
            "Precomputing scatters...\n",
            "Inferring best change points...\n"
          ]
        },
        {
          "output_type": "stream",
          "name": "stderr",
          "text": [
            "100%|██████████| 300/300 [00:09<00:00, 31.76it/s]\n"
          ]
        },
        {
          "output_type": "stream",
          "name": "stdout",
          "text": [
            "Precomputing scatters...\n",
            "Inferring best change points...\n",
            "Precomputing scatters...\n",
            "Inferring best change points...\n"
          ]
        },
        {
          "output_type": "stream",
          "name": "stderr",
          "text": [
            "100%|██████████| 300/300 [00:09<00:00, 31.61it/s]\n"
          ]
        },
        {
          "output_type": "stream",
          "name": "stdout",
          "text": [
            "Precomputing scatters...\n",
            "Inferring best change points...\n",
            "Precomputing scatters...\n",
            "Inferring best change points...\n"
          ]
        },
        {
          "output_type": "stream",
          "name": "stderr",
          "text": [
            "100%|██████████| 300/300 [00:09<00:00, 31.98it/s]\n"
          ]
        },
        {
          "output_type": "stream",
          "name": "stdout",
          "text": [
            "Precomputing scatters...\n",
            "Inferring best change points...\n",
            "Precomputing scatters...\n",
            "Inferring best change points...\n"
          ]
        },
        {
          "output_type": "stream",
          "name": "stderr",
          "text": [
            "100%|██████████| 300/300 [00:09<00:00, 31.90it/s]\n"
          ]
        },
        {
          "output_type": "stream",
          "name": "stdout",
          "text": [
            "Precomputing scatters...\n",
            "Inferring best change points...\n",
            "Precomputing scatters...\n",
            "Inferring best change points...\n"
          ]
        },
        {
          "output_type": "stream",
          "name": "stderr",
          "text": [
            "100%|██████████| 300/300 [00:09<00:00, 31.33it/s]\n"
          ]
        },
        {
          "output_type": "stream",
          "name": "stdout",
          "text": [
            "Precomputing scatters...\n",
            "Inferring best change points...\n",
            "Precomputing scatters...\n",
            "Inferring best change points...\n"
          ]
        },
        {
          "output_type": "stream",
          "name": "stderr",
          "text": [
            "100%|██████████| 300/300 [00:09<00:00, 31.76it/s]\n"
          ]
        },
        {
          "output_type": "stream",
          "name": "stdout",
          "text": [
            "Precomputing scatters...\n",
            "Inferring best change points...\n",
            "Precomputing scatters...\n",
            "Inferring best change points...\n"
          ]
        },
        {
          "output_type": "stream",
          "name": "stderr",
          "text": [
            "100%|██████████| 300/300 [00:09<00:00, 30.89it/s]\n"
          ]
        },
        {
          "output_type": "stream",
          "name": "stdout",
          "text": [
            "Precomputing scatters...\n",
            "Inferring best change points...\n",
            "Precomputing scatters...\n",
            "Inferring best change points...\n"
          ]
        },
        {
          "output_type": "stream",
          "name": "stderr",
          "text": [
            "100%|██████████| 300/300 [00:09<00:00, 31.72it/s]\n"
          ]
        },
        {
          "output_type": "stream",
          "name": "stdout",
          "text": [
            "Precomputing scatters...\n",
            "Inferring best change points...\n",
            "Precomputing scatters...\n",
            "Inferring best change points...\n"
          ]
        },
        {
          "output_type": "stream",
          "name": "stderr",
          "text": [
            "100%|██████████| 300/300 [00:09<00:00, 30.94it/s]\n"
          ]
        },
        {
          "output_type": "stream",
          "name": "stdout",
          "text": [
            "Precomputing scatters...\n",
            "Inferring best change points...\n",
            "Precomputing scatters...\n",
            "Inferring best change points...\n"
          ]
        },
        {
          "output_type": "stream",
          "name": "stderr",
          "text": [
            "100%|██████████| 300/300 [00:09<00:00, 31.55it/s]\n"
          ]
        },
        {
          "output_type": "stream",
          "name": "stdout",
          "text": [
            "Precomputing scatters...\n",
            "Inferring best change points...\n",
            "Precomputing scatters...\n",
            "Inferring best change points...\n"
          ]
        },
        {
          "output_type": "stream",
          "name": "stderr",
          "text": [
            "100%|██████████| 300/300 [00:09<00:00, 30.43it/s]\n"
          ]
        },
        {
          "output_type": "stream",
          "name": "stdout",
          "text": [
            "Precomputing scatters...\n",
            "Inferring best change points...\n",
            "Precomputing scatters...\n",
            "Inferring best change points...\n"
          ]
        },
        {
          "output_type": "stream",
          "name": "stderr",
          "text": [
            "100%|██████████| 300/300 [00:09<00:00, 30.98it/s]\n"
          ]
        },
        {
          "output_type": "stream",
          "name": "stdout",
          "text": [
            "Precomputing scatters...\n",
            "Inferring best change points...\n",
            "Precomputing scatters...\n",
            "Inferring best change points...\n"
          ]
        },
        {
          "output_type": "stream",
          "name": "stderr",
          "text": [
            "100%|██████████| 300/300 [00:09<00:00, 30.22it/s]\n"
          ]
        },
        {
          "output_type": "stream",
          "name": "stdout",
          "text": [
            "Precomputing scatters...\n",
            "Inferring best change points...\n",
            "Precomputing scatters...\n",
            "Inferring best change points...\n"
          ]
        },
        {
          "output_type": "stream",
          "name": "stderr",
          "text": [
            "100%|██████████| 300/300 [00:09<00:00, 31.18it/s]\n"
          ]
        },
        {
          "output_type": "stream",
          "name": "stdout",
          "text": [
            "Precomputing scatters...\n",
            "Inferring best change points...\n",
            "Precomputing scatters...\n",
            "Inferring best change points...\n"
          ]
        },
        {
          "output_type": "stream",
          "name": "stderr",
          "text": [
            "100%|██████████| 300/300 [00:09<00:00, 30.14it/s]\n"
          ]
        },
        {
          "output_type": "stream",
          "name": "stdout",
          "text": [
            "Precomputing scatters...\n",
            "Inferring best change points...\n",
            "Precomputing scatters...\n",
            "Inferring best change points...\n"
          ]
        },
        {
          "output_type": "stream",
          "name": "stderr",
          "text": [
            "100%|██████████| 300/300 [00:09<00:00, 30.52it/s]\n"
          ]
        },
        {
          "output_type": "stream",
          "name": "stdout",
          "text": [
            "Precomputing scatters...\n",
            "Inferring best change points...\n",
            "Precomputing scatters...\n",
            "Inferring best change points...\n"
          ]
        },
        {
          "output_type": "stream",
          "name": "stderr",
          "text": [
            "100%|██████████| 300/300 [00:09<00:00, 30.64it/s]\n"
          ]
        },
        {
          "output_type": "stream",
          "name": "stdout",
          "text": [
            "Precomputing scatters...\n",
            "Inferring best change points...\n",
            "Precomputing scatters...\n",
            "Inferring best change points...\n"
          ]
        },
        {
          "output_type": "stream",
          "name": "stderr",
          "text": [
            "100%|██████████| 300/300 [00:09<00:00, 31.01it/s]\n"
          ]
        },
        {
          "output_type": "stream",
          "name": "stdout",
          "text": [
            "Precomputing scatters...\n",
            "Inferring best change points...\n",
            "Precomputing scatters...\n",
            "Inferring best change points...\n"
          ]
        },
        {
          "output_type": "stream",
          "name": "stderr",
          "text": [
            "100%|██████████| 300/300 [00:09<00:00, 30.85it/s]\n"
          ]
        },
        {
          "output_type": "stream",
          "name": "stdout",
          "text": [
            "Precomputing scatters...\n",
            "Inferring best change points...\n",
            "Precomputing scatters...\n",
            "Inferring best change points...\n"
          ]
        },
        {
          "output_type": "stream",
          "name": "stderr",
          "text": [
            "100%|██████████| 300/300 [00:09<00:00, 30.87it/s]\n"
          ]
        },
        {
          "output_type": "stream",
          "name": "stdout",
          "text": [
            "Precomputing scatters...\n",
            "Inferring best change points...\n",
            "Precomputing scatters...\n",
            "Inferring best change points...\n"
          ]
        },
        {
          "output_type": "stream",
          "name": "stderr",
          "text": [
            "100%|██████████| 300/300 [00:09<00:00, 30.12it/s]\n"
          ]
        },
        {
          "output_type": "stream",
          "name": "stdout",
          "text": [
            "Precomputing scatters...\n",
            "Inferring best change points...\n",
            "Precomputing scatters...\n",
            "Inferring best change points...\n"
          ]
        },
        {
          "output_type": "stream",
          "name": "stderr",
          "text": [
            "100%|██████████| 300/300 [00:09<00:00, 30.90it/s]\n"
          ]
        },
        {
          "output_type": "stream",
          "name": "stdout",
          "text": [
            "Precomputing scatters...\n",
            "Inferring best change points...\n",
            "Precomputing scatters...\n",
            "Inferring best change points...\n"
          ]
        },
        {
          "output_type": "stream",
          "name": "stderr",
          "text": [
            "100%|██████████| 300/300 [00:09<00:00, 30.92it/s]\n"
          ]
        },
        {
          "output_type": "stream",
          "name": "stdout",
          "text": [
            "Precomputing scatters...\n",
            "Inferring best change points...\n",
            "Precomputing scatters...\n",
            "Inferring best change points...\n"
          ]
        },
        {
          "output_type": "stream",
          "name": "stderr",
          "text": [
            "100%|██████████| 300/300 [00:09<00:00, 30.79it/s]\n"
          ]
        },
        {
          "output_type": "stream",
          "name": "stdout",
          "text": [
            "Precomputing scatters...\n",
            "Inferring best change points...\n",
            "Precomputing scatters...\n",
            "Inferring best change points...\n"
          ]
        },
        {
          "output_type": "stream",
          "name": "stderr",
          "text": [
            "100%|██████████| 300/300 [00:09<00:00, 30.31it/s]\n"
          ]
        },
        {
          "output_type": "stream",
          "name": "stdout",
          "text": [
            "Precomputing scatters...\n",
            "Inferring best change points...\n",
            "Precomputing scatters...\n",
            "Inferring best change points...\n"
          ]
        },
        {
          "output_type": "stream",
          "name": "stderr",
          "text": [
            "100%|██████████| 300/300 [00:09<00:00, 31.16it/s]\n"
          ]
        },
        {
          "output_type": "stream",
          "name": "stdout",
          "text": [
            "Precomputing scatters...\n",
            "Inferring best change points...\n",
            "Precomputing scatters...\n",
            "Inferring best change points...\n"
          ]
        },
        {
          "output_type": "stream",
          "name": "stderr",
          "text": [
            "100%|██████████| 300/300 [00:09<00:00, 31.50it/s]\n"
          ]
        },
        {
          "output_type": "stream",
          "name": "stdout",
          "text": [
            "Precomputing scatters...\n",
            "Inferring best change points...\n",
            "Precomputing scatters...\n",
            "Inferring best change points...\n"
          ]
        },
        {
          "output_type": "stream",
          "name": "stderr",
          "text": [
            "100%|██████████| 300/300 [00:09<00:00, 31.33it/s]\n"
          ]
        },
        {
          "output_type": "stream",
          "name": "stdout",
          "text": [
            "Precomputing scatters...\n",
            "Inferring best change points...\n",
            "Precomputing scatters...\n",
            "Inferring best change points...\n"
          ]
        },
        {
          "output_type": "stream",
          "name": "stderr",
          "text": [
            "100%|██████████| 300/300 [00:09<00:00, 31.04it/s]\n"
          ]
        },
        {
          "output_type": "stream",
          "name": "stdout",
          "text": [
            "Precomputing scatters...\n",
            "Inferring best change points...\n",
            "Precomputing scatters...\n",
            "Inferring best change points...\n"
          ]
        },
        {
          "output_type": "stream",
          "name": "stderr",
          "text": [
            "100%|██████████| 300/300 [00:09<00:00, 30.95it/s]\n"
          ]
        },
        {
          "output_type": "stream",
          "name": "stdout",
          "text": [
            "Precomputing scatters...\n",
            "Inferring best change points...\n",
            "Precomputing scatters...\n",
            "Inferring best change points...\n"
          ]
        },
        {
          "output_type": "stream",
          "name": "stderr",
          "text": [
            "100%|██████████| 300/300 [00:09<00:00, 30.54it/s]\n"
          ]
        },
        {
          "output_type": "stream",
          "name": "stdout",
          "text": [
            "Precomputing scatters...\n",
            "Inferring best change points...\n",
            "Precomputing scatters...\n",
            "Inferring best change points...\n"
          ]
        },
        {
          "output_type": "stream",
          "name": "stderr",
          "text": [
            "100%|██████████| 300/300 [00:09<00:00, 30.93it/s]\n"
          ]
        },
        {
          "output_type": "stream",
          "name": "stdout",
          "text": [
            "Precomputing scatters...\n",
            "Inferring best change points...\n",
            "Precomputing scatters...\n",
            "Inferring best change points...\n"
          ]
        },
        {
          "output_type": "stream",
          "name": "stderr",
          "text": [
            "100%|██████████| 300/300 [00:09<00:00, 30.89it/s]\n"
          ]
        },
        {
          "output_type": "stream",
          "name": "stdout",
          "text": [
            "Precomputing scatters...\n",
            "Inferring best change points...\n",
            "Precomputing scatters...\n",
            "Inferring best change points...\n"
          ]
        },
        {
          "output_type": "stream",
          "name": "stderr",
          "text": [
            "100%|██████████| 300/300 [00:09<00:00, 31.24it/s]\n"
          ]
        },
        {
          "output_type": "stream",
          "name": "stdout",
          "text": [
            "Precomputing scatters...\n",
            "Inferring best change points...\n",
            "Precomputing scatters...\n",
            "Inferring best change points...\n"
          ]
        },
        {
          "output_type": "stream",
          "name": "stderr",
          "text": [
            "100%|██████████| 300/300 [00:09<00:00, 30.81it/s]\n"
          ]
        },
        {
          "output_type": "stream",
          "name": "stdout",
          "text": [
            "Precomputing scatters...\n",
            "Inferring best change points...\n",
            "Precomputing scatters...\n",
            "Inferring best change points...\n"
          ]
        },
        {
          "output_type": "stream",
          "name": "stderr",
          "text": [
            "100%|██████████| 300/300 [00:09<00:00, 31.17it/s]\n"
          ]
        },
        {
          "output_type": "stream",
          "name": "stdout",
          "text": [
            "Precomputing scatters...\n",
            "Inferring best change points...\n",
            "Precomputing scatters...\n",
            "Inferring best change points...\n"
          ]
        },
        {
          "output_type": "stream",
          "name": "stderr",
          "text": [
            "100%|██████████| 300/300 [00:09<00:00, 30.88it/s]\n"
          ]
        },
        {
          "output_type": "stream",
          "name": "stdout",
          "text": [
            "Precomputing scatters...\n",
            "Inferring best change points...\n",
            "Precomputing scatters...\n",
            "Inferring best change points...\n"
          ]
        },
        {
          "output_type": "stream",
          "name": "stderr",
          "text": [
            "100%|██████████| 300/300 [00:09<00:00, 30.63it/s]\n"
          ]
        },
        {
          "output_type": "stream",
          "name": "stdout",
          "text": [
            "Precomputing scatters...\n",
            "Inferring best change points...\n",
            "Precomputing scatters...\n",
            "Inferring best change points...\n"
          ]
        },
        {
          "output_type": "stream",
          "name": "stderr",
          "text": [
            "100%|██████████| 300/300 [00:09<00:00, 30.78it/s]\n"
          ]
        },
        {
          "output_type": "stream",
          "name": "stdout",
          "text": [
            "Precomputing scatters...\n",
            "Inferring best change points...\n",
            "Precomputing scatters...\n",
            "Inferring best change points...\n"
          ]
        },
        {
          "output_type": "stream",
          "name": "stderr",
          "text": [
            "100%|██████████| 300/300 [00:09<00:00, 30.86it/s]\n"
          ]
        },
        {
          "output_type": "stream",
          "name": "stdout",
          "text": [
            "Precomputing scatters...\n",
            "Inferring best change points...\n",
            "Precomputing scatters...\n",
            "Inferring best change points...\n"
          ]
        },
        {
          "output_type": "stream",
          "name": "stderr",
          "text": [
            "100%|██████████| 300/300 [00:09<00:00, 30.00it/s]\n"
          ]
        },
        {
          "output_type": "stream",
          "name": "stdout",
          "text": [
            "Precomputing scatters...\n",
            "Inferring best change points...\n",
            "Precomputing scatters...\n",
            "Inferring best change points...\n"
          ]
        },
        {
          "output_type": "stream",
          "name": "stderr",
          "text": [
            "100%|██████████| 300/300 [00:09<00:00, 30.71it/s]\n"
          ]
        },
        {
          "output_type": "stream",
          "name": "stdout",
          "text": [
            "Precomputing scatters...\n",
            "Inferring best change points...\n",
            "Precomputing scatters...\n",
            "Inferring best change points...\n"
          ]
        },
        {
          "output_type": "stream",
          "name": "stderr",
          "text": [
            "100%|██████████| 300/300 [00:09<00:00, 31.20it/s]\n"
          ]
        },
        {
          "output_type": "stream",
          "name": "stdout",
          "text": [
            "Precomputing scatters...\n",
            "Inferring best change points...\n",
            "Precomputing scatters...\n",
            "Inferring best change points...\n"
          ]
        },
        {
          "output_type": "stream",
          "name": "stderr",
          "text": [
            "100%|██████████| 300/300 [00:09<00:00, 31.14it/s]\n"
          ]
        },
        {
          "output_type": "stream",
          "name": "stdout",
          "text": [
            "Precomputing scatters...\n",
            "Inferring best change points...\n",
            "Precomputing scatters...\n",
            "Inferring best change points...\n"
          ]
        },
        {
          "output_type": "stream",
          "name": "stderr",
          "text": [
            "100%|██████████| 300/300 [00:09<00:00, 30.97it/s]\n"
          ]
        },
        {
          "output_type": "stream",
          "name": "stdout",
          "text": [
            "Precomputing scatters...\n",
            "Inferring best change points...\n",
            "Precomputing scatters...\n",
            "Inferring best change points...\n"
          ]
        },
        {
          "output_type": "stream",
          "name": "stderr",
          "text": [
            "100%|██████████| 300/300 [00:09<00:00, 31.19it/s]\n"
          ]
        },
        {
          "output_type": "stream",
          "name": "stdout",
          "text": [
            "Precomputing scatters...\n",
            "Inferring best change points...\n",
            "Precomputing scatters...\n",
            "Inferring best change points...\n"
          ]
        },
        {
          "output_type": "stream",
          "name": "stderr",
          "text": [
            "100%|██████████| 300/300 [00:09<00:00, 31.03it/s]\n"
          ]
        },
        {
          "output_type": "stream",
          "name": "stdout",
          "text": [
            "Precomputing scatters...\n",
            "Inferring best change points...\n",
            "Precomputing scatters...\n",
            "Inferring best change points...\n"
          ]
        },
        {
          "output_type": "stream",
          "name": "stderr",
          "text": [
            "100%|██████████| 300/300 [00:09<00:00, 30.35it/s]\n"
          ]
        },
        {
          "output_type": "stream",
          "name": "stdout",
          "text": [
            "Precomputing scatters...\n",
            "Inferring best change points...\n",
            "Precomputing scatters...\n",
            "Inferring best change points...\n"
          ]
        },
        {
          "output_type": "stream",
          "name": "stderr",
          "text": [
            "100%|██████████| 300/300 [00:09<00:00, 31.81it/s]\n"
          ]
        },
        {
          "output_type": "stream",
          "name": "stdout",
          "text": [
            "Precomputing scatters...\n",
            "Inferring best change points...\n",
            "Precomputing scatters...\n",
            "Inferring best change points...\n"
          ]
        },
        {
          "output_type": "stream",
          "name": "stderr",
          "text": [
            "100%|██████████| 300/300 [00:09<00:00, 31.70it/s]\n"
          ]
        },
        {
          "output_type": "stream",
          "name": "stdout",
          "text": [
            "Precomputing scatters...\n",
            "Inferring best change points...\n",
            "Precomputing scatters...\n",
            "Inferring best change points...\n"
          ]
        },
        {
          "output_type": "stream",
          "name": "stderr",
          "text": [
            "100%|██████████| 300/300 [00:09<00:00, 31.78it/s]\n"
          ]
        },
        {
          "output_type": "stream",
          "name": "stdout",
          "text": [
            "Precomputing scatters...\n",
            "Inferring best change points...\n",
            "Precomputing scatters...\n",
            "Inferring best change points...\n"
          ]
        },
        {
          "output_type": "stream",
          "name": "stderr",
          "text": [
            "100%|██████████| 300/300 [00:09<00:00, 31.55it/s]\n"
          ]
        },
        {
          "output_type": "stream",
          "name": "stdout",
          "text": [
            "Precomputing scatters...\n",
            "Inferring best change points...\n",
            "Precomputing scatters...\n",
            "Inferring best change points...\n"
          ]
        },
        {
          "output_type": "stream",
          "name": "stderr",
          "text": [
            "100%|██████████| 300/300 [00:09<00:00, 32.20it/s]\n"
          ]
        },
        {
          "output_type": "stream",
          "name": "stdout",
          "text": [
            "Precomputing scatters...\n",
            "Inferring best change points...\n",
            "Precomputing scatters...\n",
            "Inferring best change points...\n"
          ]
        },
        {
          "output_type": "stream",
          "name": "stderr",
          "text": [
            "100%|██████████| 300/300 [00:09<00:00, 31.79it/s]\n"
          ]
        },
        {
          "output_type": "stream",
          "name": "stdout",
          "text": [
            "Precomputing scatters...\n",
            "Inferring best change points...\n",
            "Precomputing scatters...\n",
            "Inferring best change points...\n"
          ]
        },
        {
          "output_type": "stream",
          "name": "stderr",
          "text": [
            "100%|██████████| 300/300 [00:09<00:00, 31.36it/s]\n"
          ]
        },
        {
          "output_type": "stream",
          "name": "stdout",
          "text": [
            "Precomputing scatters...\n",
            "Inferring best change points...\n",
            "Precomputing scatters...\n",
            "Inferring best change points...\n"
          ]
        },
        {
          "output_type": "stream",
          "name": "stderr",
          "text": [
            "100%|██████████| 300/300 [00:09<00:00, 31.91it/s]\n"
          ]
        },
        {
          "output_type": "stream",
          "name": "stdout",
          "text": [
            "Precomputing scatters...\n",
            "Inferring best change points...\n",
            "Precomputing scatters...\n",
            "Inferring best change points...\n"
          ]
        },
        {
          "output_type": "stream",
          "name": "stderr",
          "text": [
            "100%|██████████| 300/300 [00:09<00:00, 31.23it/s]\n"
          ]
        },
        {
          "output_type": "stream",
          "name": "stdout",
          "text": [
            "Precomputing scatters...\n",
            "Inferring best change points...\n",
            "Precomputing scatters...\n",
            "Inferring best change points...\n"
          ]
        },
        {
          "output_type": "stream",
          "name": "stderr",
          "text": [
            "100%|██████████| 300/300 [00:09<00:00, 31.74it/s]\n"
          ]
        },
        {
          "output_type": "stream",
          "name": "stdout",
          "text": [
            "Precomputing scatters...\n",
            "Inferring best change points...\n",
            "Precomputing scatters...\n",
            "Inferring best change points...\n"
          ]
        },
        {
          "output_type": "stream",
          "name": "stderr",
          "text": [
            "100%|██████████| 300/300 [00:09<00:00, 31.39it/s]\n"
          ]
        },
        {
          "output_type": "stream",
          "name": "stdout",
          "text": [
            "Precomputing scatters...\n",
            "Inferring best change points...\n",
            "Precomputing scatters...\n",
            "Inferring best change points...\n"
          ]
        },
        {
          "output_type": "stream",
          "name": "stderr",
          "text": [
            "100%|██████████| 300/300 [00:09<00:00, 31.92it/s]\n"
          ]
        },
        {
          "output_type": "stream",
          "name": "stdout",
          "text": [
            "Precomputing scatters...\n",
            "Inferring best change points...\n",
            "Precomputing scatters...\n",
            "Inferring best change points...\n"
          ]
        },
        {
          "output_type": "stream",
          "name": "stderr",
          "text": [
            "100%|██████████| 300/300 [00:09<00:00, 30.87it/s]\n"
          ]
        },
        {
          "output_type": "stream",
          "name": "stdout",
          "text": [
            "Precomputing scatters...\n",
            "Inferring best change points...\n",
            "Precomputing scatters...\n",
            "Inferring best change points...\n"
          ]
        },
        {
          "output_type": "stream",
          "name": "stderr",
          "text": [
            "100%|██████████| 300/300 [00:09<00:00, 30.96it/s]\n"
          ]
        },
        {
          "output_type": "stream",
          "name": "stdout",
          "text": [
            "Precomputing scatters...\n",
            "Inferring best change points...\n",
            "Precomputing scatters...\n",
            "Inferring best change points...\n"
          ]
        },
        {
          "output_type": "stream",
          "name": "stderr",
          "text": [
            "100%|██████████| 300/300 [00:09<00:00, 31.62it/s]\n"
          ]
        },
        {
          "output_type": "stream",
          "name": "stdout",
          "text": [
            "Precomputing scatters...\n",
            "Inferring best change points...\n",
            "Precomputing scatters...\n",
            "Inferring best change points...\n"
          ]
        },
        {
          "output_type": "stream",
          "name": "stderr",
          "text": [
            "100%|██████████| 300/300 [00:09<00:00, 31.59it/s]\n"
          ]
        },
        {
          "output_type": "stream",
          "name": "stdout",
          "text": [
            "Precomputing scatters...\n",
            "Inferring best change points...\n",
            "Precomputing scatters...\n",
            "Inferring best change points...\n"
          ]
        },
        {
          "output_type": "stream",
          "name": "stderr",
          "text": [
            "100%|██████████| 300/300 [00:09<00:00, 31.42it/s]\n"
          ]
        },
        {
          "output_type": "stream",
          "name": "stdout",
          "text": [
            "Precomputing scatters...\n",
            "Inferring best change points...\n",
            "Precomputing scatters...\n",
            "Inferring best change points...\n"
          ]
        },
        {
          "output_type": "stream",
          "name": "stderr",
          "text": [
            "100%|██████████| 300/300 [00:09<00:00, 31.31it/s]\n"
          ]
        },
        {
          "output_type": "stream",
          "name": "stdout",
          "text": [
            "Precomputing scatters...\n",
            "Inferring best change points...\n",
            "Precomputing scatters...\n",
            "Inferring best change points...\n"
          ]
        },
        {
          "output_type": "stream",
          "name": "stderr",
          "text": [
            "100%|██████████| 300/300 [00:09<00:00, 31.55it/s]\n"
          ]
        },
        {
          "output_type": "stream",
          "name": "stdout",
          "text": [
            "Precomputing scatters...\n",
            "Inferring best change points...\n",
            "Precomputing scatters...\n",
            "Inferring best change points...\n"
          ]
        },
        {
          "output_type": "stream",
          "name": "stderr",
          "text": [
            "100%|██████████| 300/300 [00:09<00:00, 31.14it/s]\n"
          ]
        },
        {
          "output_type": "stream",
          "name": "stdout",
          "text": [
            "Precomputing scatters...\n",
            "Inferring best change points...\n",
            "Precomputing scatters...\n",
            "Inferring best change points...\n"
          ]
        },
        {
          "output_type": "stream",
          "name": "stderr",
          "text": [
            "100%|██████████| 300/300 [00:09<00:00, 31.33it/s]\n"
          ]
        },
        {
          "output_type": "stream",
          "name": "stdout",
          "text": [
            "Precomputing scatters...\n",
            "Inferring best change points...\n",
            "Precomputing scatters...\n",
            "Inferring best change points...\n"
          ]
        },
        {
          "output_type": "stream",
          "name": "stderr",
          "text": [
            "100%|██████████| 300/300 [00:09<00:00, 31.32it/s]\n"
          ]
        },
        {
          "output_type": "stream",
          "name": "stdout",
          "text": [
            "Precomputing scatters...\n",
            "Inferring best change points...\n",
            "Precomputing scatters...\n",
            "Inferring best change points...\n"
          ]
        },
        {
          "output_type": "stream",
          "name": "stderr",
          "text": [
            "100%|██████████| 300/300 [00:09<00:00, 31.38it/s]\n"
          ]
        },
        {
          "output_type": "stream",
          "name": "stdout",
          "text": [
            "Precomputing scatters...\n",
            "Inferring best change points...\n",
            "Precomputing scatters...\n",
            "Inferring best change points...\n"
          ]
        },
        {
          "output_type": "stream",
          "name": "stderr",
          "text": [
            "100%|██████████| 300/300 [00:09<00:00, 31.40it/s]\n"
          ]
        },
        {
          "output_type": "stream",
          "name": "stdout",
          "text": [
            "Precomputing scatters...\n",
            "Inferring best change points...\n",
            "Precomputing scatters...\n",
            "Inferring best change points...\n"
          ]
        },
        {
          "output_type": "stream",
          "name": "stderr",
          "text": [
            "100%|██████████| 300/300 [00:09<00:00, 31.62it/s]\n"
          ]
        },
        {
          "output_type": "stream",
          "name": "stdout",
          "text": [
            "Precomputing scatters...\n",
            "Inferring best change points...\n",
            "Precomputing scatters...\n",
            "Inferring best change points...\n"
          ]
        },
        {
          "output_type": "stream",
          "name": "stderr",
          "text": [
            "100%|██████████| 300/300 [00:09<00:00, 31.20it/s]\n"
          ]
        },
        {
          "output_type": "stream",
          "name": "stdout",
          "text": [
            "Precomputing scatters...\n",
            "Inferring best change points...\n",
            "Precomputing scatters...\n",
            "Inferring best change points...\n"
          ]
        },
        {
          "output_type": "stream",
          "name": "stderr",
          "text": [
            "100%|██████████| 300/300 [00:09<00:00, 31.41it/s]\n"
          ]
        },
        {
          "output_type": "stream",
          "name": "stdout",
          "text": [
            "Precomputing scatters...\n",
            "Inferring best change points...\n",
            "Precomputing scatters...\n",
            "Inferring best change points...\n"
          ]
        },
        {
          "output_type": "stream",
          "name": "stderr",
          "text": [
            "100%|██████████| 300/300 [00:09<00:00, 31.18it/s]\n"
          ]
        },
        {
          "output_type": "stream",
          "name": "stdout",
          "text": [
            "Precomputing scatters...\n",
            "Inferring best change points...\n",
            "Precomputing scatters...\n",
            "Inferring best change points...\n"
          ]
        },
        {
          "output_type": "stream",
          "name": "stderr",
          "text": [
            "100%|██████████| 300/300 [00:09<00:00, 31.43it/s]\n"
          ]
        },
        {
          "output_type": "stream",
          "name": "stdout",
          "text": [
            "Precomputing scatters...\n",
            "Inferring best change points...\n",
            "Precomputing scatters...\n",
            "Inferring best change points...\n"
          ]
        },
        {
          "output_type": "stream",
          "name": "stderr",
          "text": [
            "100%|██████████| 300/300 [00:09<00:00, 31.67it/s]\n"
          ]
        },
        {
          "output_type": "stream",
          "name": "stdout",
          "text": [
            "Precomputing scatters...\n",
            "Inferring best change points...\n",
            "Precomputing scatters...\n",
            "Inferring best change points...\n"
          ]
        },
        {
          "output_type": "stream",
          "name": "stderr",
          "text": [
            "100%|██████████| 300/300 [00:09<00:00, 30.64it/s]\n"
          ]
        },
        {
          "output_type": "stream",
          "name": "stdout",
          "text": [
            "Precomputing scatters...\n",
            "Inferring best change points...\n",
            "Precomputing scatters...\n",
            "Inferring best change points...\n"
          ]
        },
        {
          "output_type": "stream",
          "name": "stderr",
          "text": [
            "100%|██████████| 300/300 [00:09<00:00, 31.64it/s]\n"
          ]
        },
        {
          "output_type": "stream",
          "name": "stdout",
          "text": [
            "Precomputing scatters...\n",
            "Inferring best change points...\n",
            "Precomputing scatters...\n",
            "Inferring best change points...\n"
          ]
        },
        {
          "output_type": "stream",
          "name": "stderr",
          "text": [
            "100%|██████████| 300/300 [00:09<00:00, 31.83it/s]\n"
          ]
        },
        {
          "output_type": "stream",
          "name": "stdout",
          "text": [
            "Precomputing scatters...\n",
            "Inferring best change points...\n",
            "Precomputing scatters...\n",
            "Inferring best change points...\n"
          ]
        },
        {
          "output_type": "stream",
          "name": "stderr",
          "text": [
            "100%|██████████| 300/300 [00:09<00:00, 31.80it/s]\n"
          ]
        },
        {
          "output_type": "stream",
          "name": "stdout",
          "text": [
            "Precomputing scatters...\n",
            "Inferring best change points...\n",
            "Precomputing scatters...\n",
            "Inferring best change points...\n"
          ]
        },
        {
          "output_type": "stream",
          "name": "stderr",
          "text": [
            "100%|██████████| 300/300 [00:09<00:00, 32.13it/s]\n"
          ]
        },
        {
          "output_type": "stream",
          "name": "stdout",
          "text": [
            "Precomputing scatters...\n",
            "Inferring best change points...\n",
            "Precomputing scatters...\n",
            "Inferring best change points...\n"
          ]
        },
        {
          "output_type": "stream",
          "name": "stderr",
          "text": [
            "100%|██████████| 300/300 [00:09<00:00, 32.11it/s]\n"
          ]
        },
        {
          "output_type": "stream",
          "name": "stdout",
          "text": [
            "Precomputing scatters...\n",
            "Inferring best change points...\n",
            "Precomputing scatters...\n",
            "Inferring best change points...\n"
          ]
        },
        {
          "output_type": "stream",
          "name": "stderr",
          "text": [
            "100%|██████████| 300/300 [00:09<00:00, 31.87it/s]\n"
          ]
        },
        {
          "output_type": "stream",
          "name": "stdout",
          "text": [
            "Precomputing scatters...\n",
            "Inferring best change points...\n",
            "Precomputing scatters...\n",
            "Inferring best change points...\n"
          ]
        },
        {
          "output_type": "stream",
          "name": "stderr",
          "text": [
            "100%|██████████| 300/300 [00:09<00:00, 31.41it/s]\n"
          ]
        },
        {
          "output_type": "stream",
          "name": "stdout",
          "text": [
            "Precomputing scatters...\n",
            "Inferring best change points...\n",
            "Precomputing scatters...\n",
            "Inferring best change points...\n"
          ]
        },
        {
          "output_type": "stream",
          "name": "stderr",
          "text": [
            "100%|██████████| 300/300 [00:09<00:00, 31.59it/s]\n"
          ]
        },
        {
          "output_type": "stream",
          "name": "stdout",
          "text": [
            "Precomputing scatters...\n",
            "Inferring best change points...\n",
            "Precomputing scatters...\n",
            "Inferring best change points...\n"
          ]
        },
        {
          "output_type": "stream",
          "name": "stderr",
          "text": [
            "100%|██████████| 300/300 [00:09<00:00, 31.57it/s]\n"
          ]
        },
        {
          "output_type": "stream",
          "name": "stdout",
          "text": [
            "Precomputing scatters...\n",
            "Inferring best change points...\n",
            "Precomputing scatters...\n",
            "Inferring best change points...\n"
          ]
        },
        {
          "output_type": "stream",
          "name": "stderr",
          "text": [
            "100%|██████████| 300/300 [00:09<00:00, 31.71it/s]\n"
          ]
        },
        {
          "output_type": "stream",
          "name": "stdout",
          "text": [
            "Precomputing scatters...\n",
            "Inferring best change points...\n",
            "Precomputing scatters...\n",
            "Inferring best change points...\n"
          ]
        },
        {
          "output_type": "stream",
          "name": "stderr",
          "text": [
            "100%|██████████| 300/300 [00:09<00:00, 31.68it/s]\n"
          ]
        },
        {
          "output_type": "stream",
          "name": "stdout",
          "text": [
            "Precomputing scatters...\n",
            "Inferring best change points...\n",
            "Precomputing scatters...\n",
            "Inferring best change points...\n"
          ]
        },
        {
          "output_type": "stream",
          "name": "stderr",
          "text": [
            "100%|██████████| 300/300 [00:09<00:00, 31.82it/s]\n"
          ]
        },
        {
          "output_type": "stream",
          "name": "stdout",
          "text": [
            "Precomputing scatters...\n",
            "Inferring best change points...\n",
            "Precomputing scatters...\n",
            "Inferring best change points...\n"
          ]
        },
        {
          "output_type": "stream",
          "name": "stderr",
          "text": [
            "100%|██████████| 300/300 [00:09<00:00, 31.63it/s]\n"
          ]
        },
        {
          "output_type": "stream",
          "name": "stdout",
          "text": [
            "Precomputing scatters...\n",
            "Inferring best change points...\n",
            "Precomputing scatters...\n",
            "Inferring best change points...\n"
          ]
        },
        {
          "output_type": "stream",
          "name": "stderr",
          "text": [
            "100%|██████████| 300/300 [00:09<00:00, 31.43it/s]\n"
          ]
        },
        {
          "output_type": "stream",
          "name": "stdout",
          "text": [
            "Precomputing scatters...\n",
            "Inferring best change points...\n",
            "Precomputing scatters...\n",
            "Inferring best change points...\n"
          ]
        },
        {
          "output_type": "stream",
          "name": "stderr",
          "text": [
            "100%|██████████| 300/300 [00:09<00:00, 31.73it/s]\n"
          ]
        },
        {
          "output_type": "stream",
          "name": "stdout",
          "text": [
            "Precomputing scatters...\n",
            "Inferring best change points...\n",
            "Precomputing scatters...\n",
            "Inferring best change points...\n"
          ]
        },
        {
          "output_type": "stream",
          "name": "stderr",
          "text": [
            "100%|██████████| 300/300 [00:09<00:00, 30.41it/s]\n"
          ]
        },
        {
          "output_type": "stream",
          "name": "stdout",
          "text": [
            "Precomputing scatters...\n",
            "Inferring best change points...\n",
            "Precomputing scatters...\n",
            "Inferring best change points...\n"
          ]
        },
        {
          "output_type": "stream",
          "name": "stderr",
          "text": [
            "100%|██████████| 300/300 [00:09<00:00, 30.76it/s]\n"
          ]
        },
        {
          "output_type": "stream",
          "name": "stdout",
          "text": [
            "Precomputing scatters...\n",
            "Inferring best change points...\n",
            "Precomputing scatters...\n",
            "Inferring best change points...\n"
          ]
        },
        {
          "output_type": "stream",
          "name": "stderr",
          "text": [
            "100%|██████████| 300/300 [00:09<00:00, 30.70it/s]\n"
          ]
        },
        {
          "output_type": "stream",
          "name": "stdout",
          "text": [
            "Precomputing scatters...\n",
            "Inferring best change points...\n",
            "Precomputing scatters...\n",
            "Inferring best change points...\n"
          ]
        },
        {
          "output_type": "stream",
          "name": "stderr",
          "text": [
            "100%|██████████| 300/300 [00:09<00:00, 30.97it/s]\n"
          ]
        },
        {
          "output_type": "stream",
          "name": "stdout",
          "text": [
            "Precomputing scatters...\n",
            "Inferring best change points...\n",
            "Precomputing scatters...\n",
            "Inferring best change points...\n"
          ]
        },
        {
          "output_type": "stream",
          "name": "stderr",
          "text": [
            "100%|██████████| 300/300 [00:09<00:00, 30.73it/s]\n"
          ]
        },
        {
          "output_type": "stream",
          "name": "stdout",
          "text": [
            "Precomputing scatters...\n",
            "Inferring best change points...\n",
            "Precomputing scatters...\n",
            "Inferring best change points...\n"
          ]
        },
        {
          "output_type": "stream",
          "name": "stderr",
          "text": [
            "100%|██████████| 300/300 [00:09<00:00, 31.25it/s]\n"
          ]
        },
        {
          "output_type": "stream",
          "name": "stdout",
          "text": [
            "Precomputing scatters...\n",
            "Inferring best change points...\n",
            "Precomputing scatters...\n",
            "Inferring best change points...\n"
          ]
        },
        {
          "output_type": "stream",
          "name": "stderr",
          "text": [
            "100%|██████████| 300/300 [00:09<00:00, 31.15it/s]\n"
          ]
        },
        {
          "output_type": "stream",
          "name": "stdout",
          "text": [
            "Precomputing scatters...\n",
            "Inferring best change points...\n",
            "Precomputing scatters...\n",
            "Inferring best change points...\n"
          ]
        },
        {
          "output_type": "stream",
          "name": "stderr",
          "text": [
            "100%|██████████| 300/300 [00:09<00:00, 30.88it/s]\n"
          ]
        },
        {
          "output_type": "stream",
          "name": "stdout",
          "text": [
            "Precomputing scatters...\n",
            "Inferring best change points...\n",
            "Precomputing scatters...\n",
            "Inferring best change points...\n"
          ]
        },
        {
          "output_type": "stream",
          "name": "stderr",
          "text": [
            "100%|██████████| 300/300 [00:09<00:00, 31.67it/s]\n"
          ]
        },
        {
          "output_type": "stream",
          "name": "stdout",
          "text": [
            "Precomputing scatters...\n",
            "Inferring best change points...\n",
            "Precomputing scatters...\n",
            "Inferring best change points...\n"
          ]
        },
        {
          "output_type": "stream",
          "name": "stderr",
          "text": [
            "100%|██████████| 300/300 [00:09<00:00, 31.89it/s]\n"
          ]
        },
        {
          "output_type": "stream",
          "name": "stdout",
          "text": [
            "Precomputing scatters...\n",
            "Inferring best change points...\n",
            "Precomputing scatters...\n",
            "Inferring best change points...\n"
          ]
        },
        {
          "output_type": "stream",
          "name": "stderr",
          "text": [
            "100%|██████████| 300/300 [00:09<00:00, 31.64it/s]\n"
          ]
        },
        {
          "output_type": "stream",
          "name": "stdout",
          "text": [
            "Precomputing scatters...\n",
            "Inferring best change points...\n",
            "Precomputing scatters...\n",
            "Inferring best change points...\n"
          ]
        },
        {
          "output_type": "stream",
          "name": "stderr",
          "text": [
            "100%|██████████| 300/300 [00:09<00:00, 31.36it/s]\n"
          ]
        },
        {
          "output_type": "stream",
          "name": "stdout",
          "text": [
            "Precomputing scatters...\n",
            "Inferring best change points...\n",
            "Precomputing scatters...\n",
            "Inferring best change points...\n"
          ]
        },
        {
          "output_type": "stream",
          "name": "stderr",
          "text": [
            "100%|██████████| 300/300 [00:09<00:00, 31.39it/s]\n"
          ]
        },
        {
          "output_type": "stream",
          "name": "stdout",
          "text": [
            "Precomputing scatters...\n",
            "Inferring best change points...\n",
            "Precomputing scatters...\n",
            "Inferring best change points...\n"
          ]
        },
        {
          "output_type": "stream",
          "name": "stderr",
          "text": [
            "100%|██████████| 300/300 [00:09<00:00, 31.77it/s]\n"
          ]
        },
        {
          "output_type": "stream",
          "name": "stdout",
          "text": [
            "Precomputing scatters...\n",
            "Inferring best change points...\n",
            "Precomputing scatters...\n",
            "Inferring best change points...\n"
          ]
        },
        {
          "output_type": "stream",
          "name": "stderr",
          "text": [
            "100%|██████████| 300/300 [00:09<00:00, 31.58it/s]\n"
          ]
        },
        {
          "output_type": "stream",
          "name": "stdout",
          "text": [
            "Precomputing scatters...\n",
            "Inferring best change points...\n",
            "Precomputing scatters...\n",
            "Inferring best change points...\n"
          ]
        },
        {
          "output_type": "stream",
          "name": "stderr",
          "text": [
            "100%|██████████| 300/300 [00:09<00:00, 31.64it/s]\n"
          ]
        },
        {
          "output_type": "stream",
          "name": "stdout",
          "text": [
            "Precomputing scatters...\n",
            "Inferring best change points...\n",
            "Precomputing scatters...\n",
            "Inferring best change points...\n"
          ]
        },
        {
          "output_type": "stream",
          "name": "stderr",
          "text": [
            "100%|██████████| 300/300 [00:09<00:00, 31.61it/s]\n"
          ]
        },
        {
          "output_type": "stream",
          "name": "stdout",
          "text": [
            "Precomputing scatters...\n",
            "Inferring best change points...\n",
            "Precomputing scatters...\n",
            "Inferring best change points...\n"
          ]
        },
        {
          "output_type": "stream",
          "name": "stderr",
          "text": [
            "100%|██████████| 300/300 [00:09<00:00, 31.75it/s]\n"
          ]
        },
        {
          "output_type": "stream",
          "name": "stdout",
          "text": [
            "Precomputing scatters...\n",
            "Inferring best change points...\n",
            "Precomputing scatters...\n",
            "Inferring best change points...\n"
          ]
        },
        {
          "output_type": "stream",
          "name": "stderr",
          "text": [
            "100%|██████████| 300/300 [00:09<00:00, 31.70it/s]\n"
          ]
        },
        {
          "output_type": "stream",
          "name": "stdout",
          "text": [
            "Precomputing scatters...\n",
            "Inferring best change points...\n",
            "Precomputing scatters...\n",
            "Inferring best change points...\n"
          ]
        },
        {
          "output_type": "stream",
          "name": "stderr",
          "text": [
            "100%|██████████| 300/300 [00:09<00:00, 31.27it/s]\n"
          ]
        },
        {
          "output_type": "stream",
          "name": "stdout",
          "text": [
            "Precomputing scatters...\n",
            "Inferring best change points...\n",
            "Precomputing scatters...\n",
            "Inferring best change points...\n"
          ]
        },
        {
          "output_type": "stream",
          "name": "stderr",
          "text": [
            "100%|██████████| 300/300 [00:09<00:00, 32.07it/s]\n"
          ]
        },
        {
          "output_type": "stream",
          "name": "stdout",
          "text": [
            "Precomputing scatters...\n",
            "Inferring best change points...\n",
            "Precomputing scatters...\n",
            "Inferring best change points...\n"
          ]
        },
        {
          "output_type": "stream",
          "name": "stderr",
          "text": [
            "100%|██████████| 300/300 [00:09<00:00, 31.48it/s]\n"
          ]
        },
        {
          "output_type": "stream",
          "name": "stdout",
          "text": [
            "Precomputing scatters...\n",
            "Inferring best change points...\n",
            "Precomputing scatters...\n",
            "Inferring best change points...\n"
          ]
        },
        {
          "output_type": "stream",
          "name": "stderr",
          "text": [
            "100%|██████████| 300/300 [00:09<00:00, 31.67it/s]\n"
          ]
        },
        {
          "output_type": "stream",
          "name": "stdout",
          "text": [
            "Precomputing scatters...\n",
            "Inferring best change points...\n",
            "Precomputing scatters...\n",
            "Inferring best change points...\n"
          ]
        },
        {
          "output_type": "stream",
          "name": "stderr",
          "text": [
            "100%|██████████| 300/300 [00:09<00:00, 31.72it/s]\n"
          ]
        },
        {
          "output_type": "stream",
          "name": "stdout",
          "text": [
            "Precomputing scatters...\n",
            "Inferring best change points...\n",
            "Precomputing scatters...\n",
            "Inferring best change points...\n"
          ]
        },
        {
          "output_type": "stream",
          "name": "stderr",
          "text": [
            "100%|██████████| 300/300 [00:09<00:00, 31.81it/s]\n"
          ]
        },
        {
          "output_type": "stream",
          "name": "stdout",
          "text": [
            "Precomputing scatters...\n",
            "Inferring best change points...\n",
            "Precomputing scatters...\n",
            "Inferring best change points...\n"
          ]
        },
        {
          "output_type": "stream",
          "name": "stderr",
          "text": [
            "100%|██████████| 300/300 [00:09<00:00, 31.64it/s]\n"
          ]
        },
        {
          "output_type": "stream",
          "name": "stdout",
          "text": [
            "Precomputing scatters...\n",
            "Inferring best change points...\n",
            "Precomputing scatters...\n",
            "Inferring best change points...\n"
          ]
        },
        {
          "output_type": "stream",
          "name": "stderr",
          "text": [
            "100%|██████████| 300/300 [00:09<00:00, 31.99it/s]\n"
          ]
        },
        {
          "output_type": "stream",
          "name": "stdout",
          "text": [
            "Precomputing scatters...\n",
            "Inferring best change points...\n",
            "Precomputing scatters...\n",
            "Inferring best change points...\n"
          ]
        },
        {
          "output_type": "stream",
          "name": "stderr",
          "text": [
            "100%|██████████| 300/300 [00:09<00:00, 32.04it/s]\n"
          ]
        },
        {
          "output_type": "stream",
          "name": "stdout",
          "text": [
            "Precomputing scatters...\n",
            "Inferring best change points...\n",
            "Precomputing scatters...\n",
            "Inferring best change points...\n"
          ]
        },
        {
          "output_type": "stream",
          "name": "stderr",
          "text": [
            "100%|██████████| 300/300 [00:09<00:00, 32.02it/s]\n"
          ]
        },
        {
          "output_type": "stream",
          "name": "stdout",
          "text": [
            "Precomputing scatters...\n",
            "Inferring best change points...\n",
            "Precomputing scatters...\n",
            "Inferring best change points...\n"
          ]
        },
        {
          "output_type": "stream",
          "name": "stderr",
          "text": [
            "100%|██████████| 300/300 [00:09<00:00, 31.82it/s]\n"
          ]
        },
        {
          "output_type": "stream",
          "name": "stdout",
          "text": [
            "Precomputing scatters...\n",
            "Inferring best change points...\n",
            "Precomputing scatters...\n",
            "Inferring best change points...\n"
          ]
        },
        {
          "output_type": "stream",
          "name": "stderr",
          "text": [
            "100%|██████████| 300/300 [00:09<00:00, 32.09it/s]\n"
          ]
        },
        {
          "output_type": "stream",
          "name": "stdout",
          "text": [
            "Precomputing scatters...\n",
            "Inferring best change points...\n",
            "Precomputing scatters...\n",
            "Inferring best change points...\n"
          ]
        },
        {
          "output_type": "stream",
          "name": "stderr",
          "text": [
            "100%|██████████| 300/300 [00:09<00:00, 31.57it/s]\n"
          ]
        },
        {
          "output_type": "stream",
          "name": "stdout",
          "text": [
            "Precomputing scatters...\n",
            "Inferring best change points...\n",
            "Precomputing scatters...\n",
            "Inferring best change points...\n"
          ]
        },
        {
          "output_type": "stream",
          "name": "stderr",
          "text": [
            "100%|██████████| 300/300 [00:09<00:00, 31.94it/s]\n"
          ]
        },
        {
          "output_type": "stream",
          "name": "stdout",
          "text": [
            "Precomputing scatters...\n",
            "Inferring best change points...\n",
            "Precomputing scatters...\n",
            "Inferring best change points...\n"
          ]
        },
        {
          "output_type": "stream",
          "name": "stderr",
          "text": [
            "100%|██████████| 300/300 [00:09<00:00, 31.59it/s]\n"
          ]
        },
        {
          "output_type": "stream",
          "name": "stdout",
          "text": [
            "Precomputing scatters...\n",
            "Inferring best change points...\n",
            "Precomputing scatters...\n",
            "Inferring best change points...\n"
          ]
        },
        {
          "output_type": "stream",
          "name": "stderr",
          "text": [
            "100%|██████████| 300/300 [00:09<00:00, 32.17it/s]\n"
          ]
        },
        {
          "output_type": "stream",
          "name": "stdout",
          "text": [
            "Precomputing scatters...\n",
            "Inferring best change points...\n",
            "Precomputing scatters...\n",
            "Inferring best change points...\n"
          ]
        },
        {
          "output_type": "stream",
          "name": "stderr",
          "text": [
            "100%|██████████| 300/300 [00:09<00:00, 31.69it/s]\n"
          ]
        },
        {
          "output_type": "stream",
          "name": "stdout",
          "text": [
            "Precomputing scatters...\n",
            "Inferring best change points...\n",
            "Precomputing scatters...\n",
            "Inferring best change points...\n"
          ]
        },
        {
          "output_type": "stream",
          "name": "stderr",
          "text": [
            "100%|██████████| 300/300 [00:09<00:00, 31.77it/s]\n"
          ]
        },
        {
          "output_type": "stream",
          "name": "stdout",
          "text": [
            "Precomputing scatters...\n",
            "Inferring best change points...\n",
            "Precomputing scatters...\n",
            "Inferring best change points...\n"
          ]
        },
        {
          "output_type": "stream",
          "name": "stderr",
          "text": [
            "100%|██████████| 300/300 [00:09<00:00, 32.22it/s]\n"
          ]
        },
        {
          "output_type": "stream",
          "name": "stdout",
          "text": [
            "Precomputing scatters...\n",
            "Inferring best change points...\n",
            "Precomputing scatters...\n",
            "Inferring best change points...\n"
          ]
        },
        {
          "output_type": "stream",
          "name": "stderr",
          "text": [
            "100%|██████████| 300/300 [00:09<00:00, 31.76it/s]\n"
          ]
        },
        {
          "output_type": "stream",
          "name": "stdout",
          "text": [
            "Precomputing scatters...\n",
            "Inferring best change points...\n",
            "Precomputing scatters...\n",
            "Inferring best change points...\n"
          ]
        },
        {
          "output_type": "stream",
          "name": "stderr",
          "text": [
            "100%|██████████| 300/300 [00:09<00:00, 32.27it/s]\n"
          ]
        },
        {
          "output_type": "stream",
          "name": "stdout",
          "text": [
            "Precomputing scatters...\n",
            "Inferring best change points...\n",
            "Precomputing scatters...\n",
            "Inferring best change points...\n"
          ]
        },
        {
          "output_type": "stream",
          "name": "stderr",
          "text": [
            "100%|██████████| 300/300 [00:09<00:00, 32.38it/s]\n"
          ]
        },
        {
          "output_type": "stream",
          "name": "stdout",
          "text": [
            "Precomputing scatters...\n",
            "Inferring best change points...\n",
            "Precomputing scatters...\n",
            "Inferring best change points...\n"
          ]
        },
        {
          "output_type": "stream",
          "name": "stderr",
          "text": [
            "100%|██████████| 300/300 [00:09<00:00, 32.48it/s]\n"
          ]
        },
        {
          "output_type": "stream",
          "name": "stdout",
          "text": [
            "Precomputing scatters...\n",
            "Inferring best change points...\n",
            "Precomputing scatters...\n",
            "Inferring best change points...\n"
          ]
        },
        {
          "output_type": "stream",
          "name": "stderr",
          "text": [
            "100%|██████████| 300/300 [00:10<00:00, 29.86it/s]\n"
          ]
        },
        {
          "output_type": "stream",
          "name": "stdout",
          "text": [
            "Precomputing scatters...\n",
            "Inferring best change points...\n",
            "Precomputing scatters...\n",
            "Inferring best change points...\n"
          ]
        },
        {
          "output_type": "stream",
          "name": "stderr",
          "text": [
            "100%|██████████| 300/300 [00:09<00:00, 31.68it/s]\n"
          ]
        },
        {
          "output_type": "stream",
          "name": "stdout",
          "text": [
            "Precomputing scatters...\n",
            "Inferring best change points...\n",
            "Precomputing scatters...\n",
            "Inferring best change points...\n"
          ]
        },
        {
          "output_type": "stream",
          "name": "stderr",
          "text": [
            "100%|██████████| 300/300 [00:09<00:00, 31.66it/s]\n"
          ]
        },
        {
          "output_type": "stream",
          "name": "stdout",
          "text": [
            "Precomputing scatters...\n",
            "Inferring best change points...\n",
            "Precomputing scatters...\n",
            "Inferring best change points...\n"
          ]
        },
        {
          "output_type": "stream",
          "name": "stderr",
          "text": [
            "100%|██████████| 300/300 [00:09<00:00, 31.65it/s]\n"
          ]
        },
        {
          "output_type": "stream",
          "name": "stdout",
          "text": [
            "Precomputing scatters...\n",
            "Inferring best change points...\n",
            "Precomputing scatters...\n",
            "Inferring best change points...\n"
          ]
        },
        {
          "output_type": "stream",
          "name": "stderr",
          "text": [
            "100%|██████████| 300/300 [00:09<00:00, 32.00it/s]\n"
          ]
        },
        {
          "output_type": "stream",
          "name": "stdout",
          "text": [
            "Precomputing scatters...\n",
            "Inferring best change points...\n",
            "Precomputing scatters...\n",
            "Inferring best change points...\n"
          ]
        },
        {
          "output_type": "stream",
          "name": "stderr",
          "text": [
            "100%|██████████| 300/300 [00:09<00:00, 31.30it/s]\n"
          ]
        },
        {
          "output_type": "stream",
          "name": "stdout",
          "text": [
            "Precomputing scatters...\n",
            "Inferring best change points...\n",
            "Precomputing scatters...\n",
            "Inferring best change points...\n"
          ]
        },
        {
          "output_type": "stream",
          "name": "stderr",
          "text": [
            "100%|██████████| 300/300 [00:09<00:00, 32.14it/s]\n"
          ]
        },
        {
          "output_type": "stream",
          "name": "stdout",
          "text": [
            "Precomputing scatters...\n",
            "Inferring best change points...\n",
            "Precomputing scatters...\n",
            "Inferring best change points...\n"
          ]
        },
        {
          "output_type": "stream",
          "name": "stderr",
          "text": [
            "100%|██████████| 300/300 [00:09<00:00, 31.61it/s]\n"
          ]
        },
        {
          "output_type": "stream",
          "name": "stdout",
          "text": [
            "Precomputing scatters...\n",
            "Inferring best change points...\n",
            "Precomputing scatters...\n",
            "Inferring best change points...\n"
          ]
        },
        {
          "output_type": "stream",
          "name": "stderr",
          "text": [
            "100%|██████████| 300/300 [00:09<00:00, 31.50it/s]\n"
          ]
        },
        {
          "output_type": "stream",
          "name": "stdout",
          "text": [
            "Precomputing scatters...\n",
            "Inferring best change points...\n",
            "Precomputing scatters...\n",
            "Inferring best change points...\n"
          ]
        },
        {
          "output_type": "stream",
          "name": "stderr",
          "text": [
            "100%|██████████| 300/300 [00:09<00:00, 32.12it/s]\n"
          ]
        },
        {
          "output_type": "stream",
          "name": "stdout",
          "text": [
            "Precomputing scatters...\n",
            "Inferring best change points...\n",
            "Precomputing scatters...\n",
            "Inferring best change points...\n"
          ]
        },
        {
          "output_type": "stream",
          "name": "stderr",
          "text": [
            "100%|██████████| 300/300 [00:09<00:00, 32.44it/s]\n"
          ]
        },
        {
          "output_type": "stream",
          "name": "stdout",
          "text": [
            "Precomputing scatters...\n",
            "Inferring best change points...\n",
            "Precomputing scatters...\n",
            "Inferring best change points...\n"
          ]
        },
        {
          "output_type": "stream",
          "name": "stderr",
          "text": [
            "100%|██████████| 300/300 [00:09<00:00, 31.34it/s]\n"
          ]
        },
        {
          "output_type": "stream",
          "name": "stdout",
          "text": [
            "Precomputing scatters...\n",
            "Inferring best change points...\n",
            "Precomputing scatters...\n",
            "Inferring best change points...\n"
          ]
        },
        {
          "output_type": "stream",
          "name": "stderr",
          "text": [
            "100%|██████████| 300/300 [00:09<00:00, 32.21it/s]\n"
          ]
        },
        {
          "output_type": "stream",
          "name": "stdout",
          "text": [
            "Precomputing scatters...\n",
            "Inferring best change points...\n",
            "Precomputing scatters...\n",
            "Inferring best change points...\n"
          ]
        },
        {
          "output_type": "stream",
          "name": "stderr",
          "text": [
            "100%|██████████| 300/300 [00:09<00:00, 31.25it/s]\n"
          ]
        },
        {
          "output_type": "stream",
          "name": "stdout",
          "text": [
            "Precomputing scatters...\n",
            "Inferring best change points...\n",
            "Precomputing scatters...\n",
            "Inferring best change points...\n"
          ]
        },
        {
          "output_type": "stream",
          "name": "stderr",
          "text": [
            "100%|██████████| 300/300 [00:09<00:00, 31.57it/s]\n"
          ]
        },
        {
          "output_type": "stream",
          "name": "stdout",
          "text": [
            "Precomputing scatters...\n",
            "Inferring best change points...\n",
            "Precomputing scatters...\n",
            "Inferring best change points...\n"
          ]
        },
        {
          "output_type": "stream",
          "name": "stderr",
          "text": [
            "100%|██████████| 300/300 [00:09<00:00, 31.62it/s]\n"
          ]
        },
        {
          "output_type": "stream",
          "name": "stdout",
          "text": [
            "Precomputing scatters...\n",
            "Inferring best change points...\n",
            "Precomputing scatters...\n",
            "Inferring best change points...\n"
          ]
        },
        {
          "output_type": "stream",
          "name": "stderr",
          "text": [
            "100%|██████████| 300/300 [00:09<00:00, 32.08it/s]\n"
          ]
        },
        {
          "output_type": "stream",
          "name": "stdout",
          "text": [
            "Precomputing scatters...\n",
            "Inferring best change points...\n",
            "Precomputing scatters...\n",
            "Inferring best change points...\n"
          ]
        },
        {
          "output_type": "stream",
          "name": "stderr",
          "text": [
            "100%|██████████| 300/300 [00:09<00:00, 31.57it/s]\n"
          ]
        },
        {
          "output_type": "stream",
          "name": "stdout",
          "text": [
            "Precomputing scatters...\n",
            "Inferring best change points...\n",
            "Precomputing scatters...\n",
            "Inferring best change points...\n"
          ]
        },
        {
          "output_type": "stream",
          "name": "stderr",
          "text": [
            "100%|██████████| 300/300 [00:09<00:00, 31.90it/s]\n"
          ]
        },
        {
          "output_type": "stream",
          "name": "stdout",
          "text": [
            "Precomputing scatters...\n",
            "Inferring best change points...\n",
            "Precomputing scatters...\n",
            "Inferring best change points...\n"
          ]
        },
        {
          "output_type": "stream",
          "name": "stderr",
          "text": [
            "100%|██████████| 300/300 [00:09<00:00, 31.58it/s]\n"
          ]
        },
        {
          "output_type": "stream",
          "name": "stdout",
          "text": [
            "Precomputing scatters...\n",
            "Inferring best change points...\n",
            "Precomputing scatters...\n",
            "Inferring best change points...\n"
          ]
        },
        {
          "output_type": "stream",
          "name": "stderr",
          "text": [
            "100%|██████████| 300/300 [00:09<00:00, 31.98it/s]\n"
          ]
        },
        {
          "output_type": "stream",
          "name": "stdout",
          "text": [
            "Precomputing scatters...\n",
            "Inferring best change points...\n",
            "Precomputing scatters...\n",
            "Inferring best change points...\n"
          ]
        },
        {
          "output_type": "stream",
          "name": "stderr",
          "text": [
            "100%|██████████| 300/300 [00:09<00:00, 30.73it/s]\n"
          ]
        },
        {
          "output_type": "stream",
          "name": "stdout",
          "text": [
            "Precomputing scatters...\n",
            "Inferring best change points...\n",
            "Precomputing scatters...\n",
            "Inferring best change points...\n"
          ]
        },
        {
          "output_type": "stream",
          "name": "stderr",
          "text": [
            "100%|██████████| 300/300 [00:09<00:00, 30.01it/s]\n"
          ]
        },
        {
          "output_type": "stream",
          "name": "stdout",
          "text": [
            "Precomputing scatters...\n",
            "Inferring best change points...\n",
            "Precomputing scatters...\n",
            "Inferring best change points...\n"
          ]
        },
        {
          "output_type": "stream",
          "name": "stderr",
          "text": [
            "100%|██████████| 300/300 [00:09<00:00, 30.67it/s]\n"
          ]
        },
        {
          "output_type": "stream",
          "name": "stdout",
          "text": [
            "Precomputing scatters...\n",
            "Inferring best change points...\n",
            "Precomputing scatters...\n",
            "Inferring best change points...\n"
          ]
        },
        {
          "output_type": "stream",
          "name": "stderr",
          "text": [
            "100%|██████████| 300/300 [00:10<00:00, 29.76it/s]\n"
          ]
        },
        {
          "output_type": "stream",
          "name": "stdout",
          "text": [
            "Precomputing scatters...\n",
            "Inferring best change points...\n",
            "Precomputing scatters...\n",
            "Inferring best change points...\n"
          ]
        },
        {
          "output_type": "stream",
          "name": "stderr",
          "text": [
            "100%|██████████| 300/300 [00:09<00:00, 31.14it/s]\n"
          ]
        },
        {
          "output_type": "stream",
          "name": "stdout",
          "text": [
            "Precomputing scatters...\n",
            "Inferring best change points...\n",
            "Precomputing scatters...\n",
            "Inferring best change points...\n"
          ]
        },
        {
          "output_type": "stream",
          "name": "stderr",
          "text": [
            "100%|██████████| 300/300 [00:09<00:00, 31.39it/s]\n"
          ]
        },
        {
          "output_type": "stream",
          "name": "stdout",
          "text": [
            "Precomputing scatters...\n",
            "Inferring best change points...\n",
            "Precomputing scatters...\n",
            "Inferring best change points...\n"
          ]
        },
        {
          "output_type": "stream",
          "name": "stderr",
          "text": [
            "100%|██████████| 300/300 [00:11<00:00, 26.92it/s]\n"
          ]
        },
        {
          "output_type": "stream",
          "name": "stdout",
          "text": [
            "Precomputing scatters...\n",
            "Inferring best change points...\n",
            "Precomputing scatters...\n",
            "Inferring best change points...\n"
          ]
        },
        {
          "output_type": "stream",
          "name": "stderr",
          "text": [
            "100%|██████████| 300/300 [00:09<00:00, 31.27it/s]\n"
          ]
        },
        {
          "output_type": "stream",
          "name": "stdout",
          "text": [
            "Precomputing scatters...\n",
            "Inferring best change points...\n",
            "Precomputing scatters...\n",
            "Inferring best change points...\n"
          ]
        },
        {
          "output_type": "stream",
          "name": "stderr",
          "text": [
            "100%|██████████| 300/300 [00:09<00:00, 30.77it/s]\n"
          ]
        },
        {
          "output_type": "stream",
          "name": "stdout",
          "text": [
            "Precomputing scatters...\n",
            "Inferring best change points...\n",
            "Precomputing scatters...\n",
            "Inferring best change points...\n"
          ]
        },
        {
          "output_type": "stream",
          "name": "stderr",
          "text": [
            "100%|██████████| 300/300 [00:09<00:00, 31.59it/s]\n"
          ]
        },
        {
          "output_type": "stream",
          "name": "stdout",
          "text": [
            "Precomputing scatters...\n",
            "Inferring best change points...\n",
            "Precomputing scatters...\n",
            "Inferring best change points...\n"
          ]
        },
        {
          "output_type": "stream",
          "name": "stderr",
          "text": [
            "100%|██████████| 300/300 [00:09<00:00, 30.89it/s]\n"
          ]
        },
        {
          "output_type": "stream",
          "name": "stdout",
          "text": [
            "Precomputing scatters...\n",
            "Inferring best change points...\n",
            "Precomputing scatters...\n",
            "Inferring best change points...\n"
          ]
        },
        {
          "output_type": "stream",
          "name": "stderr",
          "text": [
            "100%|██████████| 300/300 [00:09<00:00, 31.20it/s]\n"
          ]
        },
        {
          "output_type": "stream",
          "name": "stdout",
          "text": [
            "Precomputing scatters...\n",
            "Inferring best change points...\n",
            "Precomputing scatters...\n",
            "Inferring best change points...\n"
          ]
        },
        {
          "output_type": "stream",
          "name": "stderr",
          "text": [
            "100%|██████████| 300/300 [00:09<00:00, 31.03it/s]\n"
          ]
        },
        {
          "output_type": "stream",
          "name": "stdout",
          "text": [
            "Precomputing scatters...\n",
            "Inferring best change points...\n",
            "Precomputing scatters...\n",
            "Inferring best change points...\n"
          ]
        },
        {
          "output_type": "stream",
          "name": "stderr",
          "text": [
            "100%|██████████| 300/300 [00:09<00:00, 30.90it/s]\n"
          ]
        },
        {
          "output_type": "stream",
          "name": "stdout",
          "text": [
            "Precomputing scatters...\n",
            "Inferring best change points...\n",
            "Precomputing scatters...\n",
            "Inferring best change points...\n"
          ]
        },
        {
          "output_type": "stream",
          "name": "stderr",
          "text": [
            "100%|██████████| 300/300 [00:09<00:00, 30.77it/s]\n"
          ]
        },
        {
          "output_type": "stream",
          "name": "stdout",
          "text": [
            "Precomputing scatters...\n",
            "Inferring best change points...\n",
            "Precomputing scatters...\n",
            "Inferring best change points...\n"
          ]
        },
        {
          "output_type": "stream",
          "name": "stderr",
          "text": [
            "100%|██████████| 300/300 [00:09<00:00, 31.05it/s]\n"
          ]
        },
        {
          "output_type": "stream",
          "name": "stdout",
          "text": [
            "Precomputing scatters...\n",
            "Inferring best change points...\n",
            "Precomputing scatters...\n",
            "Inferring best change points...\n"
          ]
        },
        {
          "output_type": "stream",
          "name": "stderr",
          "text": [
            "100%|██████████| 300/300 [00:09<00:00, 30.99it/s]\n"
          ]
        },
        {
          "output_type": "stream",
          "name": "stdout",
          "text": [
            "Precomputing scatters...\n",
            "Inferring best change points...\n",
            "Precomputing scatters...\n",
            "Inferring best change points...\n"
          ]
        },
        {
          "output_type": "stream",
          "name": "stderr",
          "text": [
            "100%|██████████| 300/300 [00:10<00:00, 29.76it/s]\n"
          ]
        },
        {
          "output_type": "stream",
          "name": "stdout",
          "text": [
            "Precomputing scatters...\n",
            "Inferring best change points...\n",
            "Precomputing scatters...\n",
            "Inferring best change points...\n"
          ]
        },
        {
          "output_type": "stream",
          "name": "stderr",
          "text": [
            "100%|██████████| 300/300 [00:09<00:00, 30.22it/s]\n"
          ]
        },
        {
          "output_type": "stream",
          "name": "stdout",
          "text": [
            "Precomputing scatters...\n",
            "Inferring best change points...\n",
            "Precomputing scatters...\n",
            "Inferring best change points...\n"
          ]
        },
        {
          "output_type": "stream",
          "name": "stderr",
          "text": [
            "100%|██████████| 300/300 [00:09<00:00, 30.47it/s]\n"
          ]
        },
        {
          "output_type": "stream",
          "name": "stdout",
          "text": [
            "Precomputing scatters...\n",
            "Inferring best change points...\n",
            "Precomputing scatters...\n",
            "Inferring best change points...\n"
          ]
        },
        {
          "output_type": "stream",
          "name": "stderr",
          "text": [
            "100%|██████████| 300/300 [00:09<00:00, 30.50it/s]\n"
          ]
        },
        {
          "output_type": "stream",
          "name": "stdout",
          "text": [
            "Precomputing scatters...\n",
            "Inferring best change points...\n",
            "Precomputing scatters...\n",
            "Inferring best change points...\n"
          ]
        },
        {
          "output_type": "stream",
          "name": "stderr",
          "text": [
            "100%|██████████| 300/300 [00:09<00:00, 30.30it/s]\n"
          ]
        },
        {
          "output_type": "stream",
          "name": "stdout",
          "text": [
            "Precomputing scatters...\n",
            "Inferring best change points...\n",
            "Precomputing scatters...\n",
            "Inferring best change points...\n"
          ]
        },
        {
          "output_type": "stream",
          "name": "stderr",
          "text": [
            "100%|██████████| 300/300 [00:09<00:00, 30.93it/s]\n"
          ]
        },
        {
          "output_type": "stream",
          "name": "stdout",
          "text": [
            "Precomputing scatters...\n",
            "Inferring best change points...\n",
            "Precomputing scatters...\n",
            "Inferring best change points...\n"
          ]
        },
        {
          "output_type": "stream",
          "name": "stderr",
          "text": [
            "100%|██████████| 300/300 [00:10<00:00, 29.88it/s]\n"
          ]
        },
        {
          "output_type": "stream",
          "name": "stdout",
          "text": [
            "Precomputing scatters...\n",
            "Inferring best change points...\n",
            "Precomputing scatters...\n",
            "Inferring best change points...\n"
          ]
        },
        {
          "output_type": "stream",
          "name": "stderr",
          "text": [
            "100%|██████████| 300/300 [00:09<00:00, 31.10it/s]\n"
          ]
        },
        {
          "output_type": "stream",
          "name": "stdout",
          "text": [
            "Precomputing scatters...\n",
            "Inferring best change points...\n",
            "Precomputing scatters...\n",
            "Inferring best change points...\n"
          ]
        },
        {
          "output_type": "stream",
          "name": "stderr",
          "text": [
            "100%|██████████| 300/300 [00:09<00:00, 30.80it/s]\n"
          ]
        },
        {
          "output_type": "stream",
          "name": "stdout",
          "text": [
            "Precomputing scatters...\n",
            "Inferring best change points...\n",
            "Precomputing scatters...\n",
            "Inferring best change points...\n"
          ]
        },
        {
          "output_type": "stream",
          "name": "stderr",
          "text": [
            "100%|██████████| 300/300 [00:09<00:00, 30.37it/s]\n"
          ]
        },
        {
          "output_type": "stream",
          "name": "stdout",
          "text": [
            "Precomputing scatters...\n",
            "Inferring best change points...\n",
            "Precomputing scatters...\n",
            "Inferring best change points...\n"
          ]
        },
        {
          "output_type": "stream",
          "name": "stderr",
          "text": [
            "100%|██████████| 300/300 [00:09<00:00, 30.83it/s]\n"
          ]
        },
        {
          "output_type": "stream",
          "name": "stdout",
          "text": [
            "Precomputing scatters...\n",
            "Inferring best change points...\n",
            "Precomputing scatters...\n",
            "Inferring best change points...\n"
          ]
        },
        {
          "output_type": "stream",
          "name": "stderr",
          "text": [
            "100%|██████████| 300/300 [00:09<00:00, 30.26it/s]\n"
          ]
        },
        {
          "output_type": "stream",
          "name": "stdout",
          "text": [
            "Precomputing scatters...\n",
            "Inferring best change points...\n",
            "Precomputing scatters...\n",
            "Inferring best change points...\n"
          ]
        },
        {
          "output_type": "stream",
          "name": "stderr",
          "text": [
            "100%|██████████| 300/300 [00:09<00:00, 31.38it/s]\n"
          ]
        },
        {
          "output_type": "stream",
          "name": "stdout",
          "text": [
            "Precomputing scatters...\n",
            "Inferring best change points...\n",
            "Precomputing scatters...\n",
            "Inferring best change points...\n"
          ]
        },
        {
          "output_type": "stream",
          "name": "stderr",
          "text": [
            "100%|██████████| 300/300 [00:09<00:00, 30.39it/s]\n"
          ]
        },
        {
          "output_type": "stream",
          "name": "stdout",
          "text": [
            "Precomputing scatters...\n",
            "Inferring best change points...\n",
            "Precomputing scatters...\n",
            "Inferring best change points...\n"
          ]
        },
        {
          "output_type": "stream",
          "name": "stderr",
          "text": [
            "100%|██████████| 300/300 [00:09<00:00, 31.17it/s]\n"
          ]
        },
        {
          "output_type": "stream",
          "name": "stdout",
          "text": [
            "Precomputing scatters...\n",
            "Inferring best change points...\n",
            "Precomputing scatters...\n",
            "Inferring best change points...\n"
          ]
        },
        {
          "output_type": "stream",
          "name": "stderr",
          "text": [
            "100%|██████████| 300/300 [00:09<00:00, 30.10it/s]\n"
          ]
        },
        {
          "output_type": "stream",
          "name": "stdout",
          "text": [
            "Precomputing scatters...\n",
            "Inferring best change points...\n",
            "Precomputing scatters...\n",
            "Inferring best change points...\n"
          ]
        },
        {
          "output_type": "stream",
          "name": "stderr",
          "text": [
            "100%|██████████| 300/300 [00:09<00:00, 30.69it/s]\n"
          ]
        },
        {
          "output_type": "stream",
          "name": "stdout",
          "text": [
            "Precomputing scatters...\n",
            "Inferring best change points...\n",
            "Precomputing scatters...\n",
            "Inferring best change points...\n"
          ]
        },
        {
          "output_type": "stream",
          "name": "stderr",
          "text": [
            "100%|██████████| 300/300 [00:09<00:00, 30.37it/s]\n"
          ]
        },
        {
          "output_type": "stream",
          "name": "stdout",
          "text": [
            "Precomputing scatters...\n",
            "Inferring best change points...\n",
            "Precomputing scatters...\n",
            "Inferring best change points...\n"
          ]
        },
        {
          "output_type": "stream",
          "name": "stderr",
          "text": [
            "100%|██████████| 300/300 [00:09<00:00, 31.17it/s]\n"
          ]
        },
        {
          "output_type": "stream",
          "name": "stdout",
          "text": [
            "Precomputing scatters...\n",
            "Inferring best change points...\n",
            "Precomputing scatters...\n",
            "Inferring best change points...\n"
          ]
        },
        {
          "output_type": "stream",
          "name": "stderr",
          "text": [
            "100%|██████████| 300/300 [00:09<00:00, 30.82it/s]\n"
          ]
        },
        {
          "output_type": "stream",
          "name": "stdout",
          "text": [
            "Precomputing scatters...\n",
            "Inferring best change points...\n",
            "Precomputing scatters...\n",
            "Inferring best change points...\n"
          ]
        },
        {
          "output_type": "stream",
          "name": "stderr",
          "text": [
            "100%|██████████| 300/300 [00:09<00:00, 30.63it/s]\n"
          ]
        },
        {
          "output_type": "stream",
          "name": "stdout",
          "text": [
            "Precomputing scatters...\n",
            "Inferring best change points...\n",
            "Precomputing scatters...\n",
            "Inferring best change points...\n"
          ]
        },
        {
          "output_type": "stream",
          "name": "stderr",
          "text": [
            "100%|██████████| 300/300 [00:09<00:00, 30.63it/s]\n"
          ]
        },
        {
          "output_type": "stream",
          "name": "stdout",
          "text": [
            "Precomputing scatters...\n",
            "Inferring best change points...\n",
            "Precomputing scatters...\n",
            "Inferring best change points...\n"
          ]
        },
        {
          "output_type": "stream",
          "name": "stderr",
          "text": [
            "100%|██████████| 300/300 [00:09<00:00, 30.51it/s]\n"
          ]
        },
        {
          "output_type": "stream",
          "name": "stdout",
          "text": [
            "Precomputing scatters...\n",
            "Inferring best change points...\n",
            "Precomputing scatters...\n",
            "Inferring best change points...\n"
          ]
        },
        {
          "output_type": "stream",
          "name": "stderr",
          "text": [
            "100%|██████████| 300/300 [00:09<00:00, 30.70it/s]\n"
          ]
        },
        {
          "output_type": "stream",
          "name": "stdout",
          "text": [
            "Precomputing scatters...\n",
            "Inferring best change points...\n",
            "Precomputing scatters...\n",
            "Inferring best change points...\n"
          ]
        },
        {
          "output_type": "stream",
          "name": "stderr",
          "text": [
            "100%|██████████| 300/300 [00:09<00:00, 30.54it/s]\n"
          ]
        },
        {
          "output_type": "stream",
          "name": "stdout",
          "text": [
            "Precomputing scatters...\n",
            "Inferring best change points...\n",
            "Precomputing scatters...\n",
            "Inferring best change points...\n"
          ]
        },
        {
          "output_type": "stream",
          "name": "stderr",
          "text": [
            "100%|██████████| 300/300 [00:09<00:00, 31.51it/s]\n"
          ]
        },
        {
          "output_type": "stream",
          "name": "stdout",
          "text": [
            "Precomputing scatters...\n",
            "Inferring best change points...\n",
            "Precomputing scatters...\n",
            "Inferring best change points...\n"
          ]
        },
        {
          "output_type": "stream",
          "name": "stderr",
          "text": [
            "100%|██████████| 300/300 [00:09<00:00, 30.50it/s]\n"
          ]
        },
        {
          "output_type": "stream",
          "name": "stdout",
          "text": [
            "Precomputing scatters...\n",
            "Inferring best change points...\n",
            "Precomputing scatters...\n",
            "Inferring best change points...\n"
          ]
        },
        {
          "output_type": "stream",
          "name": "stderr",
          "text": [
            "100%|██████████| 300/300 [00:09<00:00, 31.51it/s]\n"
          ]
        },
        {
          "output_type": "stream",
          "name": "stdout",
          "text": [
            "Precomputing scatters...\n",
            "Inferring best change points...\n",
            "Precomputing scatters...\n",
            "Inferring best change points...\n"
          ]
        },
        {
          "output_type": "stream",
          "name": "stderr",
          "text": [
            "100%|██████████| 300/300 [00:09<00:00, 31.01it/s]\n"
          ]
        },
        {
          "output_type": "stream",
          "name": "stdout",
          "text": [
            "Precomputing scatters...\n",
            "Inferring best change points...\n",
            "Precomputing scatters...\n",
            "Inferring best change points...\n"
          ]
        },
        {
          "output_type": "stream",
          "name": "stderr",
          "text": [
            "100%|██████████| 300/300 [00:09<00:00, 31.10it/s]\n"
          ]
        },
        {
          "output_type": "stream",
          "name": "stdout",
          "text": [
            "Precomputing scatters...\n",
            "Inferring best change points...\n",
            "Precomputing scatters...\n",
            "Inferring best change points...\n"
          ]
        },
        {
          "output_type": "stream",
          "name": "stderr",
          "text": [
            "100%|██████████| 300/300 [00:09<00:00, 30.84it/s]\n"
          ]
        },
        {
          "output_type": "stream",
          "name": "stdout",
          "text": [
            "Precomputing scatters...\n",
            "Inferring best change points...\n",
            "Precomputing scatters...\n",
            "Inferring best change points...\n"
          ]
        },
        {
          "output_type": "stream",
          "name": "stderr",
          "text": [
            "100%|██████████| 300/300 [00:09<00:00, 31.79it/s]\n"
          ]
        },
        {
          "output_type": "stream",
          "name": "stdout",
          "text": [
            "Precomputing scatters...\n",
            "Inferring best change points...\n",
            "Precomputing scatters...\n",
            "Inferring best change points...\n"
          ]
        },
        {
          "output_type": "stream",
          "name": "stderr",
          "text": [
            "100%|██████████| 300/300 [00:09<00:00, 31.39it/s]\n"
          ]
        },
        {
          "output_type": "stream",
          "name": "stdout",
          "text": [
            "Precomputing scatters...\n",
            "Inferring best change points...\n",
            "Precomputing scatters...\n",
            "Inferring best change points...\n"
          ]
        },
        {
          "output_type": "stream",
          "name": "stderr",
          "text": [
            "100%|██████████| 300/300 [00:09<00:00, 31.28it/s]\n"
          ]
        },
        {
          "output_type": "stream",
          "name": "stdout",
          "text": [
            "Precomputing scatters...\n",
            "Inferring best change points...\n",
            "Precomputing scatters...\n",
            "Inferring best change points...\n"
          ]
        },
        {
          "output_type": "stream",
          "name": "stderr",
          "text": [
            "100%|██████████| 300/300 [00:09<00:00, 31.98it/s]\n"
          ]
        },
        {
          "output_type": "stream",
          "name": "stdout",
          "text": [
            "Precomputing scatters...\n",
            "Inferring best change points...\n",
            "Precomputing scatters...\n",
            "Inferring best change points...\n"
          ]
        },
        {
          "output_type": "stream",
          "name": "stderr",
          "text": [
            "100%|██████████| 300/300 [00:09<00:00, 31.70it/s]\n"
          ]
        },
        {
          "output_type": "stream",
          "name": "stdout",
          "text": [
            "Precomputing scatters...\n",
            "Inferring best change points...\n",
            "Precomputing scatters...\n",
            "Inferring best change points...\n"
          ]
        },
        {
          "output_type": "stream",
          "name": "stderr",
          "text": [
            "100%|██████████| 300/300 [00:09<00:00, 31.61it/s]\n"
          ]
        },
        {
          "output_type": "stream",
          "name": "stdout",
          "text": [
            "Precomputing scatters...\n",
            "Inferring best change points...\n",
            "Precomputing scatters...\n",
            "Inferring best change points...\n"
          ]
        },
        {
          "output_type": "stream",
          "name": "stderr",
          "text": [
            "100%|██████████| 300/300 [00:09<00:00, 31.28it/s]\n"
          ]
        },
        {
          "output_type": "stream",
          "name": "stdout",
          "text": [
            "Precomputing scatters...\n",
            "Inferring best change points...\n",
            "Precomputing scatters...\n",
            "Inferring best change points...\n"
          ]
        },
        {
          "output_type": "stream",
          "name": "stderr",
          "text": [
            "100%|██████████| 300/300 [00:09<00:00, 31.47it/s]\n"
          ]
        },
        {
          "output_type": "stream",
          "name": "stdout",
          "text": [
            "Precomputing scatters...\n",
            "Inferring best change points...\n",
            "Precomputing scatters...\n",
            "Inferring best change points...\n"
          ]
        },
        {
          "output_type": "stream",
          "name": "stderr",
          "text": [
            "100%|██████████| 300/300 [00:10<00:00, 29.74it/s]\n"
          ]
        },
        {
          "output_type": "stream",
          "name": "stdout",
          "text": [
            "Precomputing scatters...\n",
            "Inferring best change points...\n",
            "Precomputing scatters...\n",
            "Inferring best change points...\n"
          ]
        },
        {
          "output_type": "stream",
          "name": "stderr",
          "text": [
            "100%|██████████| 300/300 [00:10<00:00, 28.87it/s]\n"
          ]
        },
        {
          "output_type": "stream",
          "name": "stdout",
          "text": [
            "Precomputing scatters...\n",
            "Inferring best change points...\n",
            "Precomputing scatters...\n",
            "Inferring best change points...\n"
          ]
        },
        {
          "output_type": "stream",
          "name": "stderr",
          "text": [
            "100%|██████████| 300/300 [00:10<00:00, 29.01it/s]\n"
          ]
        },
        {
          "output_type": "stream",
          "name": "stdout",
          "text": [
            "Precomputing scatters...\n",
            "Inferring best change points...\n",
            "Precomputing scatters...\n",
            "Inferring best change points...\n"
          ]
        },
        {
          "output_type": "stream",
          "name": "stderr",
          "text": [
            "100%|██████████| 300/300 [00:10<00:00, 29.32it/s]\n"
          ]
        },
        {
          "output_type": "stream",
          "name": "stdout",
          "text": [
            "Precomputing scatters...\n",
            "Inferring best change points...\n",
            "Precomputing scatters...\n",
            "Inferring best change points...\n"
          ]
        },
        {
          "output_type": "stream",
          "name": "stderr",
          "text": [
            "100%|██████████| 300/300 [00:10<00:00, 29.73it/s]\n"
          ]
        },
        {
          "output_type": "stream",
          "name": "stdout",
          "text": [
            "Precomputing scatters...\n",
            "Inferring best change points...\n",
            "Precomputing scatters...\n",
            "Inferring best change points...\n"
          ]
        },
        {
          "output_type": "stream",
          "name": "stderr",
          "text": [
            "100%|██████████| 300/300 [00:09<00:00, 31.78it/s]\n"
          ]
        },
        {
          "output_type": "stream",
          "name": "stdout",
          "text": [
            "Precomputing scatters...\n",
            "Inferring best change points...\n",
            "Precomputing scatters...\n",
            "Inferring best change points...\n"
          ]
        },
        {
          "output_type": "stream",
          "name": "stderr",
          "text": [
            "100%|██████████| 300/300 [00:09<00:00, 31.47it/s]\n"
          ]
        },
        {
          "output_type": "stream",
          "name": "stdout",
          "text": [
            "Precomputing scatters...\n",
            "Inferring best change points...\n",
            "Precomputing scatters...\n",
            "Inferring best change points...\n"
          ]
        },
        {
          "output_type": "stream",
          "name": "stderr",
          "text": [
            "100%|██████████| 300/300 [00:09<00:00, 31.48it/s]\n"
          ]
        },
        {
          "output_type": "stream",
          "name": "stdout",
          "text": [
            "Precomputing scatters...\n",
            "Inferring best change points...\n",
            "Precomputing scatters...\n",
            "Inferring best change points...\n"
          ]
        },
        {
          "output_type": "stream",
          "name": "stderr",
          "text": [
            "100%|██████████| 300/300 [00:09<00:00, 31.47it/s]\n"
          ]
        },
        {
          "output_type": "stream",
          "name": "stdout",
          "text": [
            "Precomputing scatters...\n",
            "Inferring best change points...\n",
            "Precomputing scatters...\n",
            "Inferring best change points...\n"
          ]
        },
        {
          "output_type": "stream",
          "name": "stderr",
          "text": [
            "100%|██████████| 300/300 [00:10<00:00, 29.37it/s]\n"
          ]
        },
        {
          "output_type": "stream",
          "name": "stdout",
          "text": [
            "Precomputing scatters...\n",
            "Inferring best change points...\n",
            "Precomputing scatters...\n",
            "Inferring best change points...\n"
          ]
        },
        {
          "output_type": "stream",
          "name": "stderr",
          "text": [
            "100%|██████████| 300/300 [00:09<00:00, 31.18it/s]\n"
          ]
        },
        {
          "output_type": "stream",
          "name": "stdout",
          "text": [
            "Precomputing scatters...\n",
            "Inferring best change points...\n",
            "Precomputing scatters...\n",
            "Inferring best change points...\n"
          ]
        },
        {
          "output_type": "stream",
          "name": "stderr",
          "text": [
            "100%|██████████| 300/300 [00:09<00:00, 31.07it/s]\n"
          ]
        },
        {
          "output_type": "stream",
          "name": "stdout",
          "text": [
            "Precomputing scatters...\n",
            "Inferring best change points...\n",
            "Precomputing scatters...\n",
            "Inferring best change points...\n"
          ]
        },
        {
          "output_type": "stream",
          "name": "stderr",
          "text": [
            "100%|██████████| 300/300 [00:09<00:00, 31.84it/s]\n"
          ]
        },
        {
          "output_type": "stream",
          "name": "stdout",
          "text": [
            "Precomputing scatters...\n",
            "Inferring best change points...\n",
            "Precomputing scatters...\n",
            "Inferring best change points...\n"
          ]
        },
        {
          "output_type": "stream",
          "name": "stderr",
          "text": [
            "100%|██████████| 300/300 [00:09<00:00, 31.50it/s]\n"
          ]
        },
        {
          "output_type": "stream",
          "name": "stdout",
          "text": [
            "Precomputing scatters...\n",
            "Inferring best change points...\n",
            "Precomputing scatters...\n",
            "Inferring best change points...\n"
          ]
        },
        {
          "output_type": "stream",
          "name": "stderr",
          "text": [
            "100%|██████████| 300/300 [00:09<00:00, 30.89it/s]\n"
          ]
        },
        {
          "output_type": "stream",
          "name": "stdout",
          "text": [
            "Precomputing scatters...\n",
            "Inferring best change points...\n",
            "Precomputing scatters...\n",
            "Inferring best change points...\n"
          ]
        },
        {
          "output_type": "stream",
          "name": "stderr",
          "text": [
            "100%|██████████| 300/300 [00:09<00:00, 31.97it/s]\n"
          ]
        },
        {
          "output_type": "stream",
          "name": "stdout",
          "text": [
            "Precomputing scatters...\n",
            "Inferring best change points...\n",
            "Precomputing scatters...\n",
            "Inferring best change points...\n"
          ]
        },
        {
          "output_type": "stream",
          "name": "stderr",
          "text": [
            "100%|██████████| 300/300 [00:09<00:00, 31.65it/s]\n"
          ]
        },
        {
          "output_type": "stream",
          "name": "stdout",
          "text": [
            "Precomputing scatters...\n",
            "Inferring best change points...\n",
            "Precomputing scatters...\n",
            "Inferring best change points...\n"
          ]
        },
        {
          "output_type": "stream",
          "name": "stderr",
          "text": [
            "100%|██████████| 300/300 [00:09<00:00, 31.38it/s]\n"
          ]
        },
        {
          "output_type": "stream",
          "name": "stdout",
          "text": [
            "Precomputing scatters...\n",
            "Inferring best change points...\n",
            "Precomputing scatters...\n",
            "Inferring best change points...\n"
          ]
        },
        {
          "output_type": "stream",
          "name": "stderr",
          "text": [
            "100%|██████████| 300/300 [00:09<00:00, 31.64it/s]\n"
          ]
        },
        {
          "output_type": "stream",
          "name": "stdout",
          "text": [
            "Precomputing scatters...\n",
            "Inferring best change points...\n",
            "Precomputing scatters...\n",
            "Inferring best change points...\n"
          ]
        },
        {
          "output_type": "stream",
          "name": "stderr",
          "text": [
            "100%|██████████| 300/300 [00:09<00:00, 31.74it/s]\n"
          ]
        },
        {
          "output_type": "stream",
          "name": "stdout",
          "text": [
            "Precomputing scatters...\n",
            "Inferring best change points...\n",
            "Precomputing scatters...\n",
            "Inferring best change points...\n"
          ]
        },
        {
          "output_type": "stream",
          "name": "stderr",
          "text": [
            "100%|██████████| 300/300 [00:09<00:00, 31.60it/s]\n"
          ]
        },
        {
          "output_type": "stream",
          "name": "stdout",
          "text": [
            "Precomputing scatters...\n",
            "Inferring best change points...\n",
            "Precomputing scatters...\n",
            "Inferring best change points...\n"
          ]
        },
        {
          "output_type": "stream",
          "name": "stderr",
          "text": [
            "100%|██████████| 300/300 [00:09<00:00, 31.09it/s]\n"
          ]
        },
        {
          "output_type": "stream",
          "name": "stdout",
          "text": [
            "Precomputing scatters...\n",
            "Inferring best change points...\n",
            "Precomputing scatters...\n",
            "Inferring best change points...\n"
          ]
        },
        {
          "output_type": "stream",
          "name": "stderr",
          "text": [
            "100%|██████████| 300/300 [00:09<00:00, 31.32it/s]\n"
          ]
        },
        {
          "output_type": "stream",
          "name": "stdout",
          "text": [
            "Precomputing scatters...\n",
            "Inferring best change points...\n",
            "Precomputing scatters...\n",
            "Inferring best change points...\n"
          ]
        },
        {
          "output_type": "stream",
          "name": "stderr",
          "text": [
            "100%|██████████| 300/300 [00:09<00:00, 31.46it/s]\n"
          ]
        },
        {
          "output_type": "stream",
          "name": "stdout",
          "text": [
            "Precomputing scatters...\n",
            "Inferring best change points...\n",
            "Precomputing scatters...\n",
            "Inferring best change points...\n"
          ]
        },
        {
          "output_type": "stream",
          "name": "stderr",
          "text": [
            "100%|██████████| 300/300 [00:09<00:00, 31.41it/s]\n"
          ]
        },
        {
          "output_type": "stream",
          "name": "stdout",
          "text": [
            "Precomputing scatters...\n",
            "Inferring best change points...\n",
            "Precomputing scatters...\n",
            "Inferring best change points...\n"
          ]
        },
        {
          "output_type": "stream",
          "name": "stderr",
          "text": [
            "100%|██████████| 300/300 [00:09<00:00, 31.23it/s]\n"
          ]
        },
        {
          "output_type": "stream",
          "name": "stdout",
          "text": [
            "Precomputing scatters...\n",
            "Inferring best change points...\n",
            "Precomputing scatters...\n",
            "Inferring best change points...\n"
          ]
        },
        {
          "output_type": "stream",
          "name": "stderr",
          "text": [
            "100%|██████████| 300/300 [00:09<00:00, 30.88it/s]\n"
          ]
        },
        {
          "output_type": "stream",
          "name": "stdout",
          "text": [
            "Precomputing scatters...\n",
            "Inferring best change points...\n",
            "Precomputing scatters...\n",
            "Inferring best change points...\n"
          ]
        },
        {
          "output_type": "stream",
          "name": "stderr",
          "text": [
            "100%|██████████| 300/300 [00:09<00:00, 31.18it/s]\n"
          ]
        },
        {
          "output_type": "stream",
          "name": "stdout",
          "text": [
            "Precomputing scatters...\n",
            "Inferring best change points...\n",
            "Precomputing scatters...\n",
            "Inferring best change points...\n"
          ]
        },
        {
          "output_type": "stream",
          "name": "stderr",
          "text": [
            "100%|██████████| 300/300 [00:09<00:00, 31.30it/s]\n"
          ]
        },
        {
          "output_type": "stream",
          "name": "stdout",
          "text": [
            "Precomputing scatters...\n",
            "Inferring best change points...\n",
            "Precomputing scatters...\n",
            "Inferring best change points...\n"
          ]
        },
        {
          "output_type": "stream",
          "name": "stderr",
          "text": [
            "100%|██████████| 300/300 [00:09<00:00, 31.31it/s]\n"
          ]
        },
        {
          "output_type": "stream",
          "name": "stdout",
          "text": [
            "Precomputing scatters...\n",
            "Inferring best change points...\n",
            "Precomputing scatters...\n",
            "Inferring best change points...\n"
          ]
        },
        {
          "output_type": "stream",
          "name": "stderr",
          "text": [
            "100%|██████████| 300/300 [00:09<00:00, 31.29it/s]\n"
          ]
        },
        {
          "output_type": "stream",
          "name": "stdout",
          "text": [
            "Precomputing scatters...\n",
            "Inferring best change points...\n",
            "Precomputing scatters...\n",
            "Inferring best change points...\n"
          ]
        },
        {
          "output_type": "stream",
          "name": "stderr",
          "text": [
            "100%|██████████| 300/300 [00:09<00:00, 30.09it/s]\n"
          ]
        },
        {
          "output_type": "stream",
          "name": "stdout",
          "text": [
            "Precomputing scatters...\n",
            "Inferring best change points...\n",
            "Precomputing scatters...\n",
            "Inferring best change points...\n"
          ]
        },
        {
          "output_type": "stream",
          "name": "stderr",
          "text": [
            "100%|██████████| 300/300 [00:09<00:00, 31.03it/s]\n"
          ]
        },
        {
          "output_type": "stream",
          "name": "stdout",
          "text": [
            "Precomputing scatters...\n",
            "Inferring best change points...\n",
            "Precomputing scatters...\n",
            "Inferring best change points...\n"
          ]
        },
        {
          "output_type": "stream",
          "name": "stderr",
          "text": [
            "100%|██████████| 300/300 [00:09<00:00, 30.62it/s]\n"
          ]
        },
        {
          "output_type": "stream",
          "name": "stdout",
          "text": [
            "Precomputing scatters...\n",
            "Inferring best change points...\n",
            "Precomputing scatters...\n",
            "Inferring best change points...\n"
          ]
        },
        {
          "output_type": "stream",
          "name": "stderr",
          "text": [
            "100%|██████████| 300/300 [00:09<00:00, 30.95it/s]\n"
          ]
        },
        {
          "output_type": "stream",
          "name": "stdout",
          "text": [
            "Precomputing scatters...\n",
            "Inferring best change points...\n",
            "Precomputing scatters...\n",
            "Inferring best change points...\n"
          ]
        },
        {
          "output_type": "stream",
          "name": "stderr",
          "text": [
            "100%|██████████| 300/300 [00:09<00:00, 30.81it/s]\n"
          ]
        },
        {
          "output_type": "stream",
          "name": "stdout",
          "text": [
            "Precomputing scatters...\n",
            "Inferring best change points...\n",
            "Precomputing scatters...\n",
            "Inferring best change points...\n"
          ]
        },
        {
          "output_type": "stream",
          "name": "stderr",
          "text": [
            "100%|██████████| 300/300 [00:09<00:00, 31.07it/s]\n"
          ]
        },
        {
          "output_type": "stream",
          "name": "stdout",
          "text": [
            "Precomputing scatters...\n",
            "Inferring best change points...\n",
            "Precomputing scatters...\n",
            "Inferring best change points...\n"
          ]
        },
        {
          "output_type": "stream",
          "name": "stderr",
          "text": [
            "100%|██████████| 300/300 [00:09<00:00, 31.02it/s]\n"
          ]
        },
        {
          "output_type": "stream",
          "name": "stdout",
          "text": [
            "Precomputing scatters...\n",
            "Inferring best change points...\n",
            "Precomputing scatters...\n",
            "Inferring best change points...\n"
          ]
        },
        {
          "output_type": "stream",
          "name": "stderr",
          "text": [
            "100%|██████████| 300/300 [00:09<00:00, 31.03it/s]\n"
          ]
        },
        {
          "output_type": "stream",
          "name": "stdout",
          "text": [
            "Precomputing scatters...\n",
            "Inferring best change points...\n",
            "Precomputing scatters...\n",
            "Inferring best change points...\n"
          ]
        },
        {
          "output_type": "stream",
          "name": "stderr",
          "text": [
            "100%|██████████| 300/300 [00:09<00:00, 30.58it/s]\n"
          ]
        },
        {
          "output_type": "stream",
          "name": "stdout",
          "text": [
            "Precomputing scatters...\n",
            "Inferring best change points...\n",
            "Precomputing scatters...\n",
            "Inferring best change points...\n"
          ]
        },
        {
          "output_type": "stream",
          "name": "stderr",
          "text": [
            "100%|██████████| 300/300 [00:09<00:00, 31.24it/s]\n"
          ]
        },
        {
          "output_type": "stream",
          "name": "stdout",
          "text": [
            "Precomputing scatters...\n",
            "Inferring best change points...\n",
            "Precomputing scatters...\n",
            "Inferring best change points...\n"
          ]
        },
        {
          "output_type": "stream",
          "name": "stderr",
          "text": [
            "100%|██████████| 300/300 [00:10<00:00, 29.87it/s]\n"
          ]
        },
        {
          "output_type": "stream",
          "name": "stdout",
          "text": [
            "Precomputing scatters...\n",
            "Inferring best change points...\n",
            "Precomputing scatters...\n",
            "Inferring best change points...\n"
          ]
        },
        {
          "output_type": "stream",
          "name": "stderr",
          "text": [
            "100%|██████████| 300/300 [00:09<00:00, 30.58it/s]\n"
          ]
        },
        {
          "output_type": "stream",
          "name": "stdout",
          "text": [
            "Precomputing scatters...\n",
            "Inferring best change points...\n",
            "Precomputing scatters...\n",
            "Inferring best change points...\n"
          ]
        },
        {
          "output_type": "stream",
          "name": "stderr",
          "text": [
            "100%|██████████| 300/300 [00:09<00:00, 30.35it/s]\n"
          ]
        },
        {
          "output_type": "stream",
          "name": "stdout",
          "text": [
            "Precomputing scatters...\n",
            "Inferring best change points...\n",
            "Precomputing scatters...\n",
            "Inferring best change points...\n"
          ]
        },
        {
          "output_type": "stream",
          "name": "stderr",
          "text": [
            "100%|██████████| 300/300 [00:09<00:00, 30.87it/s]\n"
          ]
        },
        {
          "output_type": "stream",
          "name": "stdout",
          "text": [
            "Precomputing scatters...\n",
            "Inferring best change points...\n",
            "Precomputing scatters...\n",
            "Inferring best change points...\n"
          ]
        },
        {
          "output_type": "stream",
          "name": "stderr",
          "text": [
            "100%|██████████| 300/300 [00:09<00:00, 30.44it/s]\n"
          ]
        },
        {
          "output_type": "stream",
          "name": "stdout",
          "text": [
            "Precomputing scatters...\n",
            "Inferring best change points...\n",
            "Precomputing scatters...\n",
            "Inferring best change points...\n"
          ]
        },
        {
          "output_type": "stream",
          "name": "stderr",
          "text": [
            "100%|██████████| 300/300 [00:09<00:00, 30.63it/s]\n"
          ]
        },
        {
          "output_type": "stream",
          "name": "stdout",
          "text": [
            "Precomputing scatters...\n",
            "Inferring best change points...\n",
            "Precomputing scatters...\n",
            "Inferring best change points...\n"
          ]
        },
        {
          "output_type": "stream",
          "name": "stderr",
          "text": [
            "100%|██████████| 300/300 [00:09<00:00, 30.52it/s]\n"
          ]
        },
        {
          "output_type": "stream",
          "name": "stdout",
          "text": [
            "Precomputing scatters...\n",
            "Inferring best change points...\n",
            "Precomputing scatters...\n",
            "Inferring best change points...\n"
          ]
        },
        {
          "output_type": "stream",
          "name": "stderr",
          "text": [
            "100%|██████████| 300/300 [00:09<00:00, 30.73it/s]\n"
          ]
        },
        {
          "output_type": "stream",
          "name": "stdout",
          "text": [
            "Precomputing scatters...\n",
            "Inferring best change points...\n",
            "Precomputing scatters...\n",
            "Inferring best change points...\n"
          ]
        },
        {
          "output_type": "stream",
          "name": "stderr",
          "text": [
            "100%|██████████| 300/300 [00:09<00:00, 30.59it/s]\n"
          ]
        },
        {
          "output_type": "stream",
          "name": "stdout",
          "text": [
            "Precomputing scatters...\n",
            "Inferring best change points...\n",
            "Precomputing scatters...\n",
            "Inferring best change points...\n"
          ]
        },
        {
          "output_type": "stream",
          "name": "stderr",
          "text": [
            "100%|██████████| 300/300 [00:09<00:00, 30.67it/s]\n"
          ]
        },
        {
          "output_type": "stream",
          "name": "stdout",
          "text": [
            "Precomputing scatters...\n",
            "Inferring best change points...\n",
            "Precomputing scatters...\n",
            "Inferring best change points...\n"
          ]
        },
        {
          "output_type": "stream",
          "name": "stderr",
          "text": [
            "100%|██████████| 300/300 [00:09<00:00, 31.15it/s]\n"
          ]
        },
        {
          "output_type": "stream",
          "name": "stdout",
          "text": [
            "Precomputing scatters...\n",
            "Inferring best change points...\n",
            "Precomputing scatters...\n",
            "Inferring best change points...\n"
          ]
        },
        {
          "output_type": "stream",
          "name": "stderr",
          "text": [
            "100%|██████████| 300/300 [00:09<00:00, 31.04it/s]\n"
          ]
        },
        {
          "output_type": "stream",
          "name": "stdout",
          "text": [
            "Precomputing scatters...\n",
            "Inferring best change points...\n",
            "Precomputing scatters...\n",
            "Inferring best change points...\n"
          ]
        },
        {
          "output_type": "stream",
          "name": "stderr",
          "text": [
            "100%|██████████| 300/300 [00:09<00:00, 30.63it/s]\n"
          ]
        },
        {
          "output_type": "stream",
          "name": "stdout",
          "text": [
            "Precomputing scatters...\n",
            "Inferring best change points...\n",
            "Precomputing scatters...\n",
            "Inferring best change points...\n"
          ]
        },
        {
          "output_type": "stream",
          "name": "stderr",
          "text": [
            "100%|██████████| 300/300 [00:09<00:00, 30.94it/s]\n"
          ]
        },
        {
          "output_type": "stream",
          "name": "stdout",
          "text": [
            "Precomputing scatters...\n",
            "Inferring best change points...\n",
            "Precomputing scatters...\n",
            "Inferring best change points...\n"
          ]
        },
        {
          "output_type": "stream",
          "name": "stderr",
          "text": [
            "100%|██████████| 300/300 [00:09<00:00, 30.50it/s]\n"
          ]
        },
        {
          "output_type": "stream",
          "name": "stdout",
          "text": [
            "Precomputing scatters...\n",
            "Inferring best change points...\n",
            "Precomputing scatters...\n",
            "Inferring best change points...\n"
          ]
        },
        {
          "output_type": "stream",
          "name": "stderr",
          "text": [
            "100%|██████████| 300/300 [00:09<00:00, 30.28it/s]\n"
          ]
        },
        {
          "output_type": "stream",
          "name": "stdout",
          "text": [
            "Precomputing scatters...\n",
            "Inferring best change points...\n",
            "Precomputing scatters...\n",
            "Inferring best change points...\n"
          ]
        },
        {
          "output_type": "stream",
          "name": "stderr",
          "text": [
            "100%|██████████| 300/300 [00:09<00:00, 30.29it/s]\n"
          ]
        },
        {
          "output_type": "stream",
          "name": "stdout",
          "text": [
            "Precomputing scatters...\n",
            "Inferring best change points...\n",
            "Precomputing scatters...\n",
            "Inferring best change points...\n"
          ]
        },
        {
          "output_type": "stream",
          "name": "stderr",
          "text": [
            "100%|██████████| 300/300 [00:09<00:00, 30.17it/s]\n"
          ]
        },
        {
          "output_type": "stream",
          "name": "stdout",
          "text": [
            "Precomputing scatters...\n",
            "Inferring best change points...\n",
            "Precomputing scatters...\n",
            "Inferring best change points...\n"
          ]
        },
        {
          "output_type": "stream",
          "name": "stderr",
          "text": [
            "100%|██████████| 300/300 [00:09<00:00, 30.72it/s]\n"
          ]
        },
        {
          "output_type": "stream",
          "name": "stdout",
          "text": [
            "Precomputing scatters...\n",
            "Inferring best change points...\n",
            "Precomputing scatters...\n",
            "Inferring best change points...\n"
          ]
        },
        {
          "output_type": "stream",
          "name": "stderr",
          "text": [
            "100%|██████████| 300/300 [00:09<00:00, 30.89it/s]\n"
          ]
        },
        {
          "output_type": "stream",
          "name": "stdout",
          "text": [
            "Precomputing scatters...\n",
            "Inferring best change points...\n",
            "Precomputing scatters...\n",
            "Inferring best change points...\n"
          ]
        },
        {
          "output_type": "stream",
          "name": "stderr",
          "text": [
            "100%|██████████| 300/300 [00:09<00:00, 30.82it/s]\n"
          ]
        },
        {
          "output_type": "stream",
          "name": "stdout",
          "text": [
            "Precomputing scatters...\n",
            "Inferring best change points...\n",
            "Precomputing scatters...\n",
            "Inferring best change points...\n"
          ]
        },
        {
          "output_type": "stream",
          "name": "stderr",
          "text": [
            "100%|██████████| 300/300 [00:09<00:00, 30.38it/s]\n"
          ]
        },
        {
          "output_type": "stream",
          "name": "stdout",
          "text": [
            "Precomputing scatters...\n",
            "Inferring best change points...\n",
            "Precomputing scatters...\n",
            "Inferring best change points...\n"
          ]
        },
        {
          "output_type": "stream",
          "name": "stderr",
          "text": [
            "100%|██████████| 300/300 [00:09<00:00, 30.55it/s]\n"
          ]
        },
        {
          "output_type": "stream",
          "name": "stdout",
          "text": [
            "Precomputing scatters...\n",
            "Inferring best change points...\n",
            "Precomputing scatters...\n",
            "Inferring best change points...\n"
          ]
        },
        {
          "output_type": "stream",
          "name": "stderr",
          "text": [
            "100%|██████████| 300/300 [00:09<00:00, 30.42it/s]\n"
          ]
        },
        {
          "output_type": "stream",
          "name": "stdout",
          "text": [
            "Precomputing scatters...\n",
            "Inferring best change points...\n",
            "Precomputing scatters...\n",
            "Inferring best change points...\n"
          ]
        },
        {
          "output_type": "stream",
          "name": "stderr",
          "text": [
            "100%|██████████| 300/300 [00:09<00:00, 30.27it/s]\n"
          ]
        },
        {
          "output_type": "stream",
          "name": "stdout",
          "text": [
            "Precomputing scatters...\n",
            "Inferring best change points...\n",
            "Precomputing scatters...\n",
            "Inferring best change points...\n"
          ]
        },
        {
          "output_type": "stream",
          "name": "stderr",
          "text": [
            "100%|██████████| 300/300 [00:09<00:00, 30.76it/s]\n"
          ]
        },
        {
          "output_type": "stream",
          "name": "stdout",
          "text": [
            "Precomputing scatters...\n",
            "Inferring best change points...\n",
            "Precomputing scatters...\n",
            "Inferring best change points...\n"
          ]
        },
        {
          "output_type": "stream",
          "name": "stderr",
          "text": [
            "100%|██████████| 300/300 [00:09<00:00, 31.16it/s]\n"
          ]
        },
        {
          "output_type": "stream",
          "name": "stdout",
          "text": [
            "Precomputing scatters...\n",
            "Inferring best change points...\n",
            "Precomputing scatters...\n",
            "Inferring best change points...\n"
          ]
        },
        {
          "output_type": "stream",
          "name": "stderr",
          "text": [
            "100%|██████████| 300/300 [00:09<00:00, 30.17it/s]\n"
          ]
        },
        {
          "output_type": "stream",
          "name": "stdout",
          "text": [
            "Precomputing scatters...\n",
            "Inferring best change points...\n",
            "Precomputing scatters...\n",
            "Inferring best change points...\n"
          ]
        },
        {
          "output_type": "stream",
          "name": "stderr",
          "text": [
            "100%|██████████| 300/300 [00:09<00:00, 30.45it/s]\n"
          ]
        },
        {
          "output_type": "stream",
          "name": "stdout",
          "text": [
            "Precomputing scatters...\n",
            "Inferring best change points...\n",
            "Precomputing scatters...\n",
            "Inferring best change points...\n"
          ]
        },
        {
          "output_type": "stream",
          "name": "stderr",
          "text": [
            "100%|██████████| 300/300 [00:09<00:00, 30.72it/s]\n"
          ]
        },
        {
          "output_type": "stream",
          "name": "stdout",
          "text": [
            "Precomputing scatters...\n",
            "Inferring best change points...\n",
            "Precomputing scatters...\n",
            "Inferring best change points...\n"
          ]
        },
        {
          "output_type": "stream",
          "name": "stderr",
          "text": [
            "100%|██████████| 300/300 [00:09<00:00, 30.64it/s]\n"
          ]
        },
        {
          "output_type": "stream",
          "name": "stdout",
          "text": [
            "Precomputing scatters...\n",
            "Inferring best change points...\n",
            "Precomputing scatters...\n",
            "Inferring best change points...\n"
          ]
        },
        {
          "output_type": "stream",
          "name": "stderr",
          "text": [
            "100%|██████████| 300/300 [00:09<00:00, 30.78it/s]\n"
          ]
        },
        {
          "output_type": "stream",
          "name": "stdout",
          "text": [
            "Precomputing scatters...\n",
            "Inferring best change points...\n",
            "Precomputing scatters...\n",
            "Inferring best change points...\n"
          ]
        },
        {
          "output_type": "stream",
          "name": "stderr",
          "text": [
            "100%|██████████| 300/300 [00:09<00:00, 30.63it/s]\n"
          ]
        },
        {
          "output_type": "stream",
          "name": "stdout",
          "text": [
            "Precomputing scatters...\n",
            "Inferring best change points...\n",
            "Precomputing scatters...\n",
            "Inferring best change points...\n"
          ]
        },
        {
          "output_type": "stream",
          "name": "stderr",
          "text": [
            "100%|██████████| 300/300 [00:09<00:00, 30.45it/s]\n"
          ]
        },
        {
          "output_type": "stream",
          "name": "stdout",
          "text": [
            "Precomputing scatters...\n",
            "Inferring best change points...\n",
            "Precomputing scatters...\n",
            "Inferring best change points...\n"
          ]
        },
        {
          "output_type": "stream",
          "name": "stderr",
          "text": [
            "100%|██████████| 300/300 [00:09<00:00, 30.10it/s]\n"
          ]
        },
        {
          "output_type": "stream",
          "name": "stdout",
          "text": [
            "Precomputing scatters...\n",
            "Inferring best change points...\n",
            "Precomputing scatters...\n",
            "Inferring best change points...\n"
          ]
        },
        {
          "output_type": "stream",
          "name": "stderr",
          "text": [
            "100%|██████████| 300/300 [00:09<00:00, 31.08it/s]\n"
          ]
        },
        {
          "output_type": "stream",
          "name": "stdout",
          "text": [
            "Precomputing scatters...\n",
            "Inferring best change points...\n",
            "Precomputing scatters...\n",
            "Inferring best change points...\n"
          ]
        },
        {
          "output_type": "stream",
          "name": "stderr",
          "text": [
            "100%|██████████| 300/300 [00:09<00:00, 30.68it/s]\n"
          ]
        },
        {
          "output_type": "stream",
          "name": "stdout",
          "text": [
            "Precomputing scatters...\n",
            "Inferring best change points...\n",
            "Precomputing scatters...\n",
            "Inferring best change points...\n"
          ]
        },
        {
          "output_type": "stream",
          "name": "stderr",
          "text": [
            "100%|██████████| 300/300 [00:09<00:00, 30.49it/s]\n"
          ]
        },
        {
          "output_type": "stream",
          "name": "stdout",
          "text": [
            "Precomputing scatters...\n",
            "Inferring best change points...\n",
            "Precomputing scatters...\n",
            "Inferring best change points...\n"
          ]
        },
        {
          "output_type": "stream",
          "name": "stderr",
          "text": [
            "100%|██████████| 300/300 [00:09<00:00, 30.43it/s]\n"
          ]
        },
        {
          "output_type": "stream",
          "name": "stdout",
          "text": [
            "Precomputing scatters...\n",
            "Inferring best change points...\n",
            "Precomputing scatters...\n",
            "Inferring best change points...\n"
          ]
        },
        {
          "output_type": "stream",
          "name": "stderr",
          "text": [
            "100%|██████████| 300/300 [00:09<00:00, 31.14it/s]\n"
          ]
        },
        {
          "output_type": "stream",
          "name": "stdout",
          "text": [
            "Precomputing scatters...\n",
            "Inferring best change points...\n",
            "Precomputing scatters...\n",
            "Inferring best change points...\n"
          ]
        },
        {
          "output_type": "stream",
          "name": "stderr",
          "text": [
            "100%|██████████| 300/300 [00:09<00:00, 30.03it/s]\n"
          ]
        },
        {
          "output_type": "stream",
          "name": "stdout",
          "text": [
            "Precomputing scatters...\n",
            "Inferring best change points...\n",
            "Precomputing scatters...\n",
            "Inferring best change points...\n"
          ]
        },
        {
          "output_type": "stream",
          "name": "stderr",
          "text": [
            "100%|██████████| 300/300 [00:09<00:00, 30.65it/s]\n"
          ]
        },
        {
          "output_type": "stream",
          "name": "stdout",
          "text": [
            "Precomputing scatters...\n",
            "Inferring best change points...\n",
            "Precomputing scatters...\n",
            "Inferring best change points...\n"
          ]
        },
        {
          "output_type": "stream",
          "name": "stderr",
          "text": [
            "100%|██████████| 300/300 [00:10<00:00, 29.93it/s]\n"
          ]
        },
        {
          "output_type": "stream",
          "name": "stdout",
          "text": [
            "Precomputing scatters...\n",
            "Inferring best change points...\n",
            "Precomputing scatters...\n",
            "Inferring best change points...\n"
          ]
        },
        {
          "output_type": "stream",
          "name": "stderr",
          "text": [
            "100%|██████████| 300/300 [00:09<00:00, 30.54it/s]\n"
          ]
        },
        {
          "output_type": "stream",
          "name": "stdout",
          "text": [
            "Precomputing scatters...\n",
            "Inferring best change points...\n",
            "Precomputing scatters...\n",
            "Inferring best change points...\n"
          ]
        },
        {
          "output_type": "stream",
          "name": "stderr",
          "text": [
            "100%|██████████| 300/300 [00:09<00:00, 30.98it/s]\n"
          ]
        },
        {
          "output_type": "stream",
          "name": "stdout",
          "text": [
            "Precomputing scatters...\n",
            "Inferring best change points...\n",
            "Precomputing scatters...\n",
            "Inferring best change points...\n"
          ]
        },
        {
          "output_type": "stream",
          "name": "stderr",
          "text": [
            "100%|██████████| 300/300 [00:09<00:00, 31.07it/s]\n"
          ]
        },
        {
          "output_type": "stream",
          "name": "stdout",
          "text": [
            "Precomputing scatters...\n",
            "Inferring best change points...\n",
            "Precomputing scatters...\n",
            "Inferring best change points...\n"
          ]
        },
        {
          "output_type": "stream",
          "name": "stderr",
          "text": [
            "100%|██████████| 300/300 [00:09<00:00, 30.96it/s]\n"
          ]
        },
        {
          "output_type": "stream",
          "name": "stdout",
          "text": [
            "Precomputing scatters...\n",
            "Inferring best change points...\n",
            "Precomputing scatters...\n",
            "Inferring best change points...\n"
          ]
        },
        {
          "output_type": "stream",
          "name": "stderr",
          "text": [
            "100%|██████████| 300/300 [00:09<00:00, 30.69it/s]\n"
          ]
        },
        {
          "output_type": "stream",
          "name": "stdout",
          "text": [
            "Precomputing scatters...\n",
            "Inferring best change points...\n",
            "Precomputing scatters...\n",
            "Inferring best change points...\n"
          ]
        },
        {
          "output_type": "stream",
          "name": "stderr",
          "text": [
            "100%|██████████| 300/300 [00:09<00:00, 30.78it/s]\n"
          ]
        },
        {
          "output_type": "stream",
          "name": "stdout",
          "text": [
            "Precomputing scatters...\n",
            "Inferring best change points...\n",
            "Precomputing scatters...\n",
            "Inferring best change points...\n"
          ]
        },
        {
          "output_type": "stream",
          "name": "stderr",
          "text": [
            "100%|██████████| 300/300 [00:09<00:00, 31.49it/s]\n"
          ]
        },
        {
          "output_type": "stream",
          "name": "stdout",
          "text": [
            "Precomputing scatters...\n",
            "Inferring best change points...\n",
            "Precomputing scatters...\n",
            "Inferring best change points...\n"
          ]
        },
        {
          "output_type": "stream",
          "name": "stderr",
          "text": [
            "100%|██████████| 300/300 [00:09<00:00, 32.12it/s]\n"
          ]
        },
        {
          "output_type": "stream",
          "name": "stdout",
          "text": [
            "Precomputing scatters...\n",
            "Inferring best change points...\n",
            "Precomputing scatters...\n",
            "Inferring best change points...\n"
          ]
        },
        {
          "output_type": "stream",
          "name": "stderr",
          "text": [
            "100%|██████████| 300/300 [00:09<00:00, 32.66it/s]\n"
          ]
        },
        {
          "output_type": "stream",
          "name": "stdout",
          "text": [
            "Precomputing scatters...\n",
            "Inferring best change points...\n",
            "Precomputing scatters...\n",
            "Inferring best change points...\n"
          ]
        },
        {
          "output_type": "stream",
          "name": "stderr",
          "text": [
            "100%|██████████| 300/300 [00:09<00:00, 32.82it/s]\n"
          ]
        },
        {
          "output_type": "stream",
          "name": "stdout",
          "text": [
            "Precomputing scatters...\n",
            "Inferring best change points...\n",
            "Precomputing scatters...\n",
            "Inferring best change points...\n"
          ]
        },
        {
          "output_type": "stream",
          "name": "stderr",
          "text": [
            "100%|██████████| 300/300 [00:09<00:00, 33.04it/s]\n"
          ]
        },
        {
          "output_type": "stream",
          "name": "stdout",
          "text": [
            "Precomputing scatters...\n",
            "Inferring best change points...\n",
            "Precomputing scatters...\n",
            "Inferring best change points...\n"
          ]
        },
        {
          "output_type": "stream",
          "name": "stderr",
          "text": [
            "100%|██████████| 300/300 [00:09<00:00, 32.05it/s]\n"
          ]
        },
        {
          "output_type": "stream",
          "name": "stdout",
          "text": [
            "Precomputing scatters...\n",
            "Inferring best change points...\n",
            "Precomputing scatters...\n",
            "Inferring best change points...\n"
          ]
        },
        {
          "output_type": "stream",
          "name": "stderr",
          "text": [
            "100%|██████████| 300/300 [00:09<00:00, 32.65it/s]\n"
          ]
        },
        {
          "output_type": "stream",
          "name": "stdout",
          "text": [
            "Precomputing scatters...\n",
            "Inferring best change points...\n",
            "Precomputing scatters...\n",
            "Inferring best change points...\n"
          ]
        },
        {
          "output_type": "stream",
          "name": "stderr",
          "text": [
            "100%|██████████| 300/300 [00:09<00:00, 32.86it/s]\n"
          ]
        },
        {
          "output_type": "stream",
          "name": "stdout",
          "text": [
            "Precomputing scatters...\n",
            "Inferring best change points...\n",
            "Precomputing scatters...\n",
            "Inferring best change points...\n"
          ]
        },
        {
          "output_type": "stream",
          "name": "stderr",
          "text": [
            "100%|██████████| 300/300 [00:09<00:00, 32.70it/s]\n"
          ]
        },
        {
          "output_type": "stream",
          "name": "stdout",
          "text": [
            "Precomputing scatters...\n",
            "Inferring best change points...\n",
            "Precomputing scatters...\n",
            "Inferring best change points...\n"
          ]
        },
        {
          "output_type": "stream",
          "name": "stderr",
          "text": [
            "100%|██████████| 300/300 [00:09<00:00, 32.76it/s]\n"
          ]
        },
        {
          "output_type": "stream",
          "name": "stdout",
          "text": [
            "Precomputing scatters...\n",
            "Inferring best change points...\n",
            "Precomputing scatters...\n",
            "Inferring best change points...\n"
          ]
        },
        {
          "output_type": "stream",
          "name": "stderr",
          "text": [
            "100%|██████████| 300/300 [00:09<00:00, 32.71it/s]\n"
          ]
        },
        {
          "output_type": "stream",
          "name": "stdout",
          "text": [
            "Precomputing scatters...\n",
            "Inferring best change points...\n",
            "Precomputing scatters...\n",
            "Inferring best change points...\n"
          ]
        },
        {
          "output_type": "stream",
          "name": "stderr",
          "text": [
            "100%|██████████| 300/300 [00:09<00:00, 32.81it/s]\n"
          ]
        },
        {
          "output_type": "stream",
          "name": "stdout",
          "text": [
            "Precomputing scatters...\n",
            "Inferring best change points...\n",
            "Precomputing scatters...\n",
            "Inferring best change points...\n"
          ]
        },
        {
          "output_type": "stream",
          "name": "stderr",
          "text": [
            "100%|██████████| 300/300 [00:09<00:00, 32.43it/s]\n"
          ]
        },
        {
          "output_type": "stream",
          "name": "stdout",
          "text": [
            "Precomputing scatters...\n",
            "Inferring best change points...\n",
            "Precomputing scatters...\n",
            "Inferring best change points...\n"
          ]
        },
        {
          "output_type": "stream",
          "name": "stderr",
          "text": [
            "100%|██████████| 300/300 [00:09<00:00, 32.85it/s]\n"
          ]
        },
        {
          "output_type": "stream",
          "name": "stdout",
          "text": [
            "Precomputing scatters...\n",
            "Inferring best change points...\n",
            "Precomputing scatters...\n",
            "Inferring best change points...\n"
          ]
        },
        {
          "output_type": "stream",
          "name": "stderr",
          "text": [
            "100%|██████████| 300/300 [00:09<00:00, 32.85it/s]\n"
          ]
        },
        {
          "output_type": "stream",
          "name": "stdout",
          "text": [
            "Precomputing scatters...\n",
            "Inferring best change points...\n",
            "Precomputing scatters...\n",
            "Inferring best change points...\n"
          ]
        },
        {
          "output_type": "stream",
          "name": "stderr",
          "text": [
            "100%|██████████| 300/300 [00:09<00:00, 32.66it/s]\n"
          ]
        },
        {
          "output_type": "stream",
          "name": "stdout",
          "text": [
            "Precomputing scatters...\n",
            "Inferring best change points...\n",
            "Precomputing scatters...\n",
            "Inferring best change points...\n"
          ]
        },
        {
          "output_type": "stream",
          "name": "stderr",
          "text": [
            "100%|██████████| 300/300 [00:09<00:00, 32.71it/s]\n"
          ]
        },
        {
          "output_type": "stream",
          "name": "stdout",
          "text": [
            "Precomputing scatters...\n",
            "Inferring best change points...\n",
            "Precomputing scatters...\n",
            "Inferring best change points...\n"
          ]
        },
        {
          "output_type": "stream",
          "name": "stderr",
          "text": [
            "100%|██████████| 300/300 [00:09<00:00, 32.78it/s]\n"
          ]
        },
        {
          "output_type": "stream",
          "name": "stdout",
          "text": [
            "Precomputing scatters...\n",
            "Inferring best change points...\n",
            "Precomputing scatters...\n",
            "Inferring best change points...\n"
          ]
        },
        {
          "output_type": "stream",
          "name": "stderr",
          "text": [
            "100%|██████████| 300/300 [00:09<00:00, 33.04it/s]\n"
          ]
        },
        {
          "output_type": "stream",
          "name": "stdout",
          "text": [
            "Precomputing scatters...\n",
            "Inferring best change points...\n",
            "Precomputing scatters...\n",
            "Inferring best change points...\n"
          ]
        },
        {
          "output_type": "stream",
          "name": "stderr",
          "text": [
            "100%|██████████| 300/300 [00:09<00:00, 32.52it/s]\n"
          ]
        },
        {
          "output_type": "stream",
          "name": "stdout",
          "text": [
            "Precomputing scatters...\n",
            "Inferring best change points...\n",
            "Precomputing scatters...\n",
            "Inferring best change points...\n"
          ]
        },
        {
          "output_type": "stream",
          "name": "stderr",
          "text": [
            "100%|██████████| 300/300 [00:08<00:00, 33.37it/s]\n"
          ]
        },
        {
          "output_type": "stream",
          "name": "stdout",
          "text": [
            "Precomputing scatters...\n",
            "Inferring best change points...\n",
            "Precomputing scatters...\n",
            "Inferring best change points...\n"
          ]
        },
        {
          "output_type": "stream",
          "name": "stderr",
          "text": [
            "100%|██████████| 300/300 [00:09<00:00, 32.80it/s]\n"
          ]
        },
        {
          "output_type": "stream",
          "name": "stdout",
          "text": [
            "Precomputing scatters...\n",
            "Inferring best change points...\n",
            "Precomputing scatters...\n",
            "Inferring best change points...\n"
          ]
        },
        {
          "output_type": "stream",
          "name": "stderr",
          "text": [
            "100%|██████████| 300/300 [00:08<00:00, 33.34it/s]\n"
          ]
        },
        {
          "output_type": "stream",
          "name": "stdout",
          "text": [
            "Precomputing scatters...\n",
            "Inferring best change points...\n",
            "Precomputing scatters...\n",
            "Inferring best change points...\n"
          ]
        },
        {
          "output_type": "stream",
          "name": "stderr",
          "text": [
            "100%|██████████| 300/300 [00:09<00:00, 32.52it/s]\n"
          ]
        },
        {
          "output_type": "stream",
          "name": "stdout",
          "text": [
            "Precomputing scatters...\n",
            "Inferring best change points...\n",
            "Precomputing scatters...\n",
            "Inferring best change points...\n"
          ]
        },
        {
          "output_type": "stream",
          "name": "stderr",
          "text": [
            "100%|██████████| 300/300 [00:09<00:00, 33.19it/s]\n"
          ]
        },
        {
          "output_type": "stream",
          "name": "stdout",
          "text": [
            "Precomputing scatters...\n",
            "Inferring best change points...\n",
            "Precomputing scatters...\n",
            "Inferring best change points...\n"
          ]
        },
        {
          "output_type": "stream",
          "name": "stderr",
          "text": [
            "100%|██████████| 300/300 [00:09<00:00, 32.11it/s]\n"
          ]
        },
        {
          "output_type": "stream",
          "name": "stdout",
          "text": [
            "Precomputing scatters...\n",
            "Inferring best change points...\n",
            "Precomputing scatters...\n",
            "Inferring best change points...\n"
          ]
        },
        {
          "output_type": "stream",
          "name": "stderr",
          "text": [
            "100%|██████████| 300/300 [00:09<00:00, 32.82it/s]\n"
          ]
        },
        {
          "output_type": "stream",
          "name": "stdout",
          "text": [
            "Precomputing scatters...\n",
            "Inferring best change points...\n",
            "Precomputing scatters...\n",
            "Inferring best change points...\n"
          ]
        },
        {
          "output_type": "stream",
          "name": "stderr",
          "text": [
            "100%|██████████| 300/300 [00:09<00:00, 32.66it/s]\n"
          ]
        },
        {
          "output_type": "stream",
          "name": "stdout",
          "text": [
            "Precomputing scatters...\n",
            "Inferring best change points...\n",
            "Precomputing scatters...\n",
            "Inferring best change points...\n"
          ]
        },
        {
          "output_type": "stream",
          "name": "stderr",
          "text": [
            "100%|██████████| 300/300 [00:09<00:00, 32.49it/s]\n"
          ]
        },
        {
          "output_type": "stream",
          "name": "stdout",
          "text": [
            "Precomputing scatters...\n",
            "Inferring best change points...\n",
            "Precomputing scatters...\n",
            "Inferring best change points...\n"
          ]
        },
        {
          "output_type": "stream",
          "name": "stderr",
          "text": [
            "100%|██████████| 300/300 [00:09<00:00, 32.81it/s]\n"
          ]
        },
        {
          "output_type": "stream",
          "name": "stdout",
          "text": [
            "Precomputing scatters...\n",
            "Inferring best change points...\n",
            "Precomputing scatters...\n",
            "Inferring best change points...\n"
          ]
        },
        {
          "output_type": "stream",
          "name": "stderr",
          "text": [
            "100%|██████████| 300/300 [00:09<00:00, 32.61it/s]\n"
          ]
        },
        {
          "output_type": "stream",
          "name": "stdout",
          "text": [
            "Precomputing scatters...\n",
            "Inferring best change points...\n",
            "Precomputing scatters...\n",
            "Inferring best change points...\n"
          ]
        },
        {
          "output_type": "stream",
          "name": "stderr",
          "text": [
            "100%|██████████| 300/300 [00:09<00:00, 32.29it/s]\n"
          ]
        },
        {
          "output_type": "stream",
          "name": "stdout",
          "text": [
            "Precomputing scatters...\n",
            "Inferring best change points...\n",
            "Precomputing scatters...\n",
            "Inferring best change points...\n"
          ]
        },
        {
          "output_type": "stream",
          "name": "stderr",
          "text": [
            "100%|██████████| 300/300 [00:09<00:00, 32.91it/s]\n"
          ]
        },
        {
          "output_type": "stream",
          "name": "stdout",
          "text": [
            "Precomputing scatters...\n",
            "Inferring best change points...\n",
            "Precomputing scatters...\n",
            "Inferring best change points...\n"
          ]
        },
        {
          "output_type": "stream",
          "name": "stderr",
          "text": [
            "100%|██████████| 300/300 [00:09<00:00, 32.72it/s]\n"
          ]
        },
        {
          "output_type": "stream",
          "name": "stdout",
          "text": [
            "Precomputing scatters...\n",
            "Inferring best change points...\n",
            "Precomputing scatters...\n",
            "Inferring best change points...\n"
          ]
        },
        {
          "output_type": "stream",
          "name": "stderr",
          "text": [
            "100%|██████████| 300/300 [00:09<00:00, 31.98it/s]\n"
          ]
        },
        {
          "output_type": "stream",
          "name": "stdout",
          "text": [
            "Precomputing scatters...\n",
            "Inferring best change points...\n",
            "Precomputing scatters...\n",
            "Inferring best change points...\n"
          ]
        },
        {
          "output_type": "stream",
          "name": "stderr",
          "text": [
            "100%|██████████| 300/300 [00:09<00:00, 32.34it/s]\n"
          ]
        },
        {
          "output_type": "stream",
          "name": "stdout",
          "text": [
            "Precomputing scatters...\n",
            "Inferring best change points...\n",
            "Precomputing scatters...\n",
            "Inferring best change points...\n"
          ]
        },
        {
          "output_type": "stream",
          "name": "stderr",
          "text": [
            "100%|██████████| 300/300 [00:09<00:00, 31.82it/s]\n"
          ]
        },
        {
          "output_type": "stream",
          "name": "stdout",
          "text": [
            "Precomputing scatters...\n",
            "Inferring best change points...\n",
            "Precomputing scatters...\n",
            "Inferring best change points...\n"
          ]
        },
        {
          "output_type": "stream",
          "name": "stderr",
          "text": [
            "100%|██████████| 300/300 [00:09<00:00, 31.02it/s]\n"
          ]
        },
        {
          "output_type": "stream",
          "name": "stdout",
          "text": [
            "Precomputing scatters...\n",
            "Inferring best change points...\n",
            "Precomputing scatters...\n",
            "Inferring best change points...\n"
          ]
        },
        {
          "output_type": "stream",
          "name": "stderr",
          "text": [
            "100%|██████████| 300/300 [00:09<00:00, 31.40it/s]\n"
          ]
        },
        {
          "output_type": "stream",
          "name": "stdout",
          "text": [
            "Precomputing scatters...\n",
            "Inferring best change points...\n",
            "Precomputing scatters...\n",
            "Inferring best change points...\n"
          ]
        },
        {
          "output_type": "stream",
          "name": "stderr",
          "text": [
            "100%|██████████| 300/300 [00:09<00:00, 30.35it/s]\n"
          ]
        },
        {
          "output_type": "stream",
          "name": "stdout",
          "text": [
            "Precomputing scatters...\n",
            "Inferring best change points...\n",
            "Precomputing scatters...\n",
            "Inferring best change points...\n"
          ]
        },
        {
          "output_type": "stream",
          "name": "stderr",
          "text": [
            "100%|██████████| 300/300 [00:09<00:00, 30.57it/s]\n"
          ]
        },
        {
          "output_type": "stream",
          "name": "stdout",
          "text": [
            "Precomputing scatters...\n",
            "Inferring best change points...\n",
            "Precomputing scatters...\n",
            "Inferring best change points...\n"
          ]
        },
        {
          "output_type": "stream",
          "name": "stderr",
          "text": [
            "100%|██████████| 300/300 [00:09<00:00, 32.47it/s]\n"
          ]
        },
        {
          "output_type": "stream",
          "name": "stdout",
          "text": [
            "Precomputing scatters...\n",
            "Inferring best change points...\n",
            "Precomputing scatters...\n",
            "Inferring best change points...\n"
          ]
        },
        {
          "output_type": "stream",
          "name": "stderr",
          "text": [
            "100%|██████████| 300/300 [00:09<00:00, 32.10it/s]\n"
          ]
        },
        {
          "output_type": "stream",
          "name": "stdout",
          "text": [
            "Precomputing scatters...\n",
            "Inferring best change points...\n",
            "Precomputing scatters...\n",
            "Inferring best change points...\n"
          ]
        },
        {
          "output_type": "stream",
          "name": "stderr",
          "text": [
            "100%|██████████| 300/300 [00:09<00:00, 32.66it/s]\n"
          ]
        },
        {
          "output_type": "stream",
          "name": "stdout",
          "text": [
            "Precomputing scatters...\n",
            "Inferring best change points...\n",
            "Precomputing scatters...\n",
            "Inferring best change points...\n"
          ]
        },
        {
          "output_type": "stream",
          "name": "stderr",
          "text": [
            "100%|██████████| 300/300 [00:09<00:00, 31.99it/s]\n"
          ]
        },
        {
          "output_type": "stream",
          "name": "stdout",
          "text": [
            "Precomputing scatters...\n",
            "Inferring best change points...\n",
            "Precomputing scatters...\n",
            "Inferring best change points...\n"
          ]
        },
        {
          "output_type": "stream",
          "name": "stderr",
          "text": [
            "100%|██████████| 300/300 [00:09<00:00, 33.10it/s]\n"
          ]
        },
        {
          "output_type": "stream",
          "name": "stdout",
          "text": [
            "Precomputing scatters...\n",
            "Inferring best change points...\n",
            "Precomputing scatters...\n",
            "Inferring best change points...\n"
          ]
        },
        {
          "output_type": "stream",
          "name": "stderr",
          "text": [
            "100%|██████████| 300/300 [00:09<00:00, 33.25it/s]\n"
          ]
        },
        {
          "output_type": "stream",
          "name": "stdout",
          "text": [
            "Precomputing scatters...\n",
            "Inferring best change points...\n",
            "Precomputing scatters...\n",
            "Inferring best change points...\n"
          ]
        },
        {
          "output_type": "stream",
          "name": "stderr",
          "text": [
            "100%|██████████| 300/300 [00:09<00:00, 32.57it/s]\n"
          ]
        },
        {
          "output_type": "stream",
          "name": "stdout",
          "text": [
            "Precomputing scatters...\n",
            "Inferring best change points...\n",
            "Precomputing scatters...\n",
            "Inferring best change points...\n"
          ]
        },
        {
          "output_type": "stream",
          "name": "stderr",
          "text": [
            "100%|██████████| 300/300 [00:09<00:00, 33.16it/s]\n"
          ]
        },
        {
          "output_type": "stream",
          "name": "stdout",
          "text": [
            "Precomputing scatters...\n",
            "Inferring best change points...\n",
            "Precomputing scatters...\n",
            "Inferring best change points...\n"
          ]
        },
        {
          "output_type": "stream",
          "name": "stderr",
          "text": [
            "100%|██████████| 300/300 [00:09<00:00, 32.99it/s]\n"
          ]
        },
        {
          "output_type": "stream",
          "name": "stdout",
          "text": [
            "Precomputing scatters...\n",
            "Inferring best change points...\n",
            "Precomputing scatters...\n",
            "Inferring best change points...\n"
          ]
        },
        {
          "output_type": "stream",
          "name": "stderr",
          "text": [
            "100%|██████████| 300/300 [00:09<00:00, 33.23it/s]\n"
          ]
        },
        {
          "output_type": "stream",
          "name": "stdout",
          "text": [
            "Precomputing scatters...\n",
            "Inferring best change points...\n",
            "Precomputing scatters...\n",
            "Inferring best change points...\n"
          ]
        },
        {
          "output_type": "stream",
          "name": "stderr",
          "text": [
            "100%|██████████| 300/300 [00:09<00:00, 33.04it/s]\n"
          ]
        },
        {
          "output_type": "stream",
          "name": "stdout",
          "text": [
            "Precomputing scatters...\n",
            "Inferring best change points...\n",
            "Precomputing scatters...\n",
            "Inferring best change points...\n"
          ]
        },
        {
          "output_type": "stream",
          "name": "stderr",
          "text": [
            "100%|██████████| 300/300 [00:09<00:00, 33.27it/s]\n"
          ]
        },
        {
          "output_type": "stream",
          "name": "stdout",
          "text": [
            "Precomputing scatters...\n",
            "Inferring best change points...\n",
            "Precomputing scatters...\n",
            "Inferring best change points...\n"
          ]
        },
        {
          "output_type": "stream",
          "name": "stderr",
          "text": [
            "100%|██████████| 300/300 [00:09<00:00, 32.94it/s]\n"
          ]
        },
        {
          "output_type": "stream",
          "name": "stdout",
          "text": [
            "Precomputing scatters...\n",
            "Inferring best change points...\n",
            "Precomputing scatters...\n",
            "Inferring best change points...\n"
          ]
        },
        {
          "output_type": "stream",
          "name": "stderr",
          "text": [
            "100%|██████████| 300/300 [00:09<00:00, 33.20it/s]\n"
          ]
        },
        {
          "output_type": "stream",
          "name": "stdout",
          "text": [
            "Precomputing scatters...\n",
            "Inferring best change points...\n",
            "Precomputing scatters...\n",
            "Inferring best change points...\n"
          ]
        },
        {
          "output_type": "stream",
          "name": "stderr",
          "text": [
            "100%|██████████| 300/300 [00:09<00:00, 32.90it/s]\n"
          ]
        },
        {
          "output_type": "stream",
          "name": "stdout",
          "text": [
            "Precomputing scatters...\n",
            "Inferring best change points...\n",
            "Precomputing scatters...\n",
            "Inferring best change points...\n"
          ]
        },
        {
          "output_type": "stream",
          "name": "stderr",
          "text": [
            "100%|██████████| 300/300 [00:09<00:00, 31.97it/s]\n"
          ]
        },
        {
          "output_type": "stream",
          "name": "stdout",
          "text": [
            "Precomputing scatters...\n",
            "Inferring best change points...\n",
            "Precomputing scatters...\n",
            "Inferring best change points...\n"
          ]
        },
        {
          "output_type": "stream",
          "name": "stderr",
          "text": [
            "100%|██████████| 300/300 [00:09<00:00, 32.30it/s]\n"
          ]
        },
        {
          "output_type": "stream",
          "name": "stdout",
          "text": [
            "Precomputing scatters...\n",
            "Inferring best change points...\n",
            "Precomputing scatters...\n",
            "Inferring best change points...\n"
          ]
        },
        {
          "output_type": "stream",
          "name": "stderr",
          "text": [
            "100%|██████████| 300/300 [00:09<00:00, 32.69it/s]\n"
          ]
        },
        {
          "output_type": "stream",
          "name": "stdout",
          "text": [
            "Precomputing scatters...\n",
            "Inferring best change points...\n",
            "Precomputing scatters...\n",
            "Inferring best change points...\n"
          ]
        },
        {
          "output_type": "stream",
          "name": "stderr",
          "text": [
            "100%|██████████| 300/300 [00:09<00:00, 32.61it/s]\n"
          ]
        },
        {
          "output_type": "stream",
          "name": "stdout",
          "text": [
            "Precomputing scatters...\n",
            "Inferring best change points...\n",
            "Precomputing scatters...\n",
            "Inferring best change points...\n"
          ]
        },
        {
          "output_type": "stream",
          "name": "stderr",
          "text": [
            "100%|██████████| 300/300 [00:09<00:00, 31.67it/s]\n"
          ]
        },
        {
          "output_type": "stream",
          "name": "stdout",
          "text": [
            "Precomputing scatters...\n",
            "Inferring best change points...\n",
            "Precomputing scatters...\n",
            "Inferring best change points...\n"
          ]
        },
        {
          "output_type": "stream",
          "name": "stderr",
          "text": [
            "100%|██████████| 300/300 [00:09<00:00, 31.63it/s]\n"
          ]
        },
        {
          "output_type": "stream",
          "name": "stdout",
          "text": [
            "Precomputing scatters...\n",
            "Inferring best change points...\n",
            "Precomputing scatters...\n",
            "Inferring best change points...\n"
          ]
        },
        {
          "output_type": "stream",
          "name": "stderr",
          "text": [
            "100%|██████████| 300/300 [00:09<00:00, 31.57it/s]\n"
          ]
        },
        {
          "output_type": "stream",
          "name": "stdout",
          "text": [
            "Precomputing scatters...\n",
            "Inferring best change points...\n",
            "Precomputing scatters...\n",
            "Inferring best change points...\n"
          ]
        },
        {
          "output_type": "stream",
          "name": "stderr",
          "text": [
            "100%|██████████| 300/300 [00:09<00:00, 31.77it/s]\n"
          ]
        },
        {
          "output_type": "stream",
          "name": "stdout",
          "text": [
            "Precomputing scatters...\n",
            "Inferring best change points...\n",
            "Precomputing scatters...\n",
            "Inferring best change points...\n"
          ]
        },
        {
          "output_type": "stream",
          "name": "stderr",
          "text": [
            "100%|██████████| 300/300 [00:09<00:00, 31.66it/s]\n"
          ]
        },
        {
          "output_type": "stream",
          "name": "stdout",
          "text": [
            "Precomputing scatters...\n",
            "Inferring best change points...\n",
            "Precomputing scatters...\n",
            "Inferring best change points...\n"
          ]
        },
        {
          "output_type": "stream",
          "name": "stderr",
          "text": [
            "100%|██████████| 300/300 [00:09<00:00, 31.13it/s]\n"
          ]
        },
        {
          "output_type": "stream",
          "name": "stdout",
          "text": [
            "Precomputing scatters...\n",
            "Inferring best change points...\n",
            "Precomputing scatters...\n",
            "Inferring best change points...\n"
          ]
        },
        {
          "output_type": "stream",
          "name": "stderr",
          "text": [
            "100%|██████████| 300/300 [00:09<00:00, 31.77it/s]\n"
          ]
        },
        {
          "output_type": "stream",
          "name": "stdout",
          "text": [
            "Precomputing scatters...\n",
            "Inferring best change points...\n",
            "Precomputing scatters...\n",
            "Inferring best change points...\n"
          ]
        },
        {
          "output_type": "stream",
          "name": "stderr",
          "text": [
            "100%|██████████| 300/300 [00:09<00:00, 30.74it/s]\n"
          ]
        },
        {
          "output_type": "stream",
          "name": "stdout",
          "text": [
            "Precomputing scatters...\n",
            "Inferring best change points...\n",
            "Precomputing scatters...\n",
            "Inferring best change points...\n"
          ]
        },
        {
          "output_type": "stream",
          "name": "stderr",
          "text": [
            "100%|██████████| 300/300 [00:09<00:00, 31.75it/s]\n"
          ]
        },
        {
          "output_type": "stream",
          "name": "stdout",
          "text": [
            "Precomputing scatters...\n",
            "Inferring best change points...\n",
            "Precomputing scatters...\n",
            "Inferring best change points...\n"
          ]
        },
        {
          "output_type": "stream",
          "name": "stderr",
          "text": [
            "100%|██████████| 300/300 [00:09<00:00, 31.62it/s]\n"
          ]
        },
        {
          "output_type": "stream",
          "name": "stdout",
          "text": [
            "Precomputing scatters...\n",
            "Inferring best change points...\n",
            "Precomputing scatters...\n",
            "Inferring best change points...\n"
          ]
        },
        {
          "output_type": "stream",
          "name": "stderr",
          "text": [
            "100%|██████████| 300/300 [00:09<00:00, 31.93it/s]\n"
          ]
        },
        {
          "output_type": "stream",
          "name": "stdout",
          "text": [
            "Precomputing scatters...\n",
            "Inferring best change points...\n",
            "Precomputing scatters...\n",
            "Inferring best change points...\n"
          ]
        },
        {
          "output_type": "stream",
          "name": "stderr",
          "text": [
            "100%|██████████| 300/300 [00:09<00:00, 32.07it/s]\n"
          ]
        },
        {
          "output_type": "stream",
          "name": "stdout",
          "text": [
            "Precomputing scatters...\n",
            "Inferring best change points...\n",
            "Precomputing scatters...\n",
            "Inferring best change points...\n"
          ]
        },
        {
          "output_type": "stream",
          "name": "stderr",
          "text": [
            "100%|██████████| 300/300 [00:09<00:00, 32.19it/s]\n"
          ]
        },
        {
          "output_type": "stream",
          "name": "stdout",
          "text": [
            "Precomputing scatters...\n",
            "Inferring best change points...\n",
            "Precomputing scatters...\n",
            "Inferring best change points...\n"
          ]
        },
        {
          "output_type": "stream",
          "name": "stderr",
          "text": [
            "100%|██████████| 300/300 [00:09<00:00, 32.56it/s]\n"
          ]
        },
        {
          "output_type": "stream",
          "name": "stdout",
          "text": [
            "Precomputing scatters...\n",
            "Inferring best change points...\n",
            "Precomputing scatters...\n",
            "Inferring best change points...\n"
          ]
        },
        {
          "output_type": "stream",
          "name": "stderr",
          "text": [
            "100%|██████████| 300/300 [00:09<00:00, 32.14it/s]\n"
          ]
        },
        {
          "output_type": "stream",
          "name": "stdout",
          "text": [
            "Precomputing scatters...\n",
            "Inferring best change points...\n",
            "Precomputing scatters...\n",
            "Inferring best change points...\n"
          ]
        },
        {
          "output_type": "stream",
          "name": "stderr",
          "text": [
            "100%|██████████| 300/300 [00:09<00:00, 31.98it/s]\n"
          ]
        },
        {
          "output_type": "stream",
          "name": "stdout",
          "text": [
            "Precomputing scatters...\n",
            "Inferring best change points...\n",
            "Precomputing scatters...\n",
            "Inferring best change points...\n"
          ]
        },
        {
          "output_type": "stream",
          "name": "stderr",
          "text": [
            "100%|██████████| 300/300 [00:09<00:00, 32.56it/s]\n"
          ]
        },
        {
          "output_type": "stream",
          "name": "stdout",
          "text": [
            "Precomputing scatters...\n",
            "Inferring best change points...\n",
            "Precomputing scatters...\n",
            "Inferring best change points...\n"
          ]
        },
        {
          "output_type": "stream",
          "name": "stderr",
          "text": [
            "100%|██████████| 300/300 [00:09<00:00, 32.24it/s]\n"
          ]
        },
        {
          "output_type": "stream",
          "name": "stdout",
          "text": [
            "Precomputing scatters...\n",
            "Inferring best change points...\n",
            "Precomputing scatters...\n",
            "Inferring best change points...\n"
          ]
        },
        {
          "output_type": "stream",
          "name": "stderr",
          "text": [
            "100%|██████████| 300/300 [00:09<00:00, 32.47it/s]\n"
          ]
        },
        {
          "output_type": "stream",
          "name": "stdout",
          "text": [
            "Precomputing scatters...\n",
            "Inferring best change points...\n",
            "Precomputing scatters...\n",
            "Inferring best change points...\n"
          ]
        },
        {
          "output_type": "stream",
          "name": "stderr",
          "text": [
            "100%|██████████| 300/300 [00:09<00:00, 32.23it/s]\n"
          ]
        },
        {
          "output_type": "stream",
          "name": "stdout",
          "text": [
            "Precomputing scatters...\n",
            "Inferring best change points...\n",
            "Precomputing scatters...\n",
            "Inferring best change points...\n"
          ]
        },
        {
          "output_type": "stream",
          "name": "stderr",
          "text": [
            "100%|██████████| 300/300 [00:09<00:00, 31.93it/s]\n"
          ]
        },
        {
          "output_type": "stream",
          "name": "stdout",
          "text": [
            "Precomputing scatters...\n",
            "Inferring best change points...\n",
            "Precomputing scatters...\n",
            "Inferring best change points...\n"
          ]
        },
        {
          "output_type": "stream",
          "name": "stderr",
          "text": [
            "100%|██████████| 300/300 [00:09<00:00, 31.56it/s]\n"
          ]
        },
        {
          "output_type": "stream",
          "name": "stdout",
          "text": [
            "Precomputing scatters...\n",
            "Inferring best change points...\n",
            "Precomputing scatters...\n",
            "Inferring best change points...\n"
          ]
        },
        {
          "output_type": "stream",
          "name": "stderr",
          "text": [
            "100%|██████████| 300/300 [00:09<00:00, 31.73it/s]\n"
          ]
        },
        {
          "output_type": "stream",
          "name": "stdout",
          "text": [
            "Precomputing scatters...\n",
            "Inferring best change points...\n",
            "Precomputing scatters...\n",
            "Inferring best change points...\n"
          ]
        },
        {
          "output_type": "stream",
          "name": "stderr",
          "text": [
            "100%|██████████| 300/300 [00:09<00:00, 32.07it/s]\n"
          ]
        },
        {
          "output_type": "stream",
          "name": "stdout",
          "text": [
            "Precomputing scatters...\n",
            "Inferring best change points...\n",
            "Precomputing scatters...\n",
            "Inferring best change points...\n"
          ]
        },
        {
          "output_type": "stream",
          "name": "stderr",
          "text": [
            "100%|██████████| 300/300 [00:09<00:00, 31.82it/s]\n"
          ]
        },
        {
          "output_type": "stream",
          "name": "stdout",
          "text": [
            "Precomputing scatters...\n",
            "Inferring best change points...\n",
            "Precomputing scatters...\n",
            "Inferring best change points...\n"
          ]
        },
        {
          "output_type": "stream",
          "name": "stderr",
          "text": [
            "100%|██████████| 300/300 [00:09<00:00, 31.81it/s]\n"
          ]
        },
        {
          "output_type": "stream",
          "name": "stdout",
          "text": [
            "Precomputing scatters...\n",
            "Inferring best change points...\n",
            "Precomputing scatters...\n",
            "Inferring best change points...\n"
          ]
        },
        {
          "output_type": "stream",
          "name": "stderr",
          "text": [
            "100%|██████████| 300/300 [00:09<00:00, 32.38it/s]\n"
          ]
        },
        {
          "output_type": "stream",
          "name": "stdout",
          "text": [
            "Precomputing scatters...\n",
            "Inferring best change points...\n",
            "Precomputing scatters...\n",
            "Inferring best change points...\n"
          ]
        },
        {
          "output_type": "stream",
          "name": "stderr",
          "text": [
            "100%|██████████| 300/300 [00:09<00:00, 32.03it/s]\n"
          ]
        },
        {
          "output_type": "stream",
          "name": "stdout",
          "text": [
            "Precomputing scatters...\n",
            "Inferring best change points...\n",
            "Precomputing scatters...\n",
            "Inferring best change points...\n"
          ]
        },
        {
          "output_type": "stream",
          "name": "stderr",
          "text": [
            "100%|██████████| 300/300 [00:09<00:00, 32.11it/s]\n"
          ]
        },
        {
          "output_type": "stream",
          "name": "stdout",
          "text": [
            "Precomputing scatters...\n",
            "Inferring best change points...\n",
            "Precomputing scatters...\n",
            "Inferring best change points...\n"
          ]
        },
        {
          "output_type": "stream",
          "name": "stderr",
          "text": [
            "100%|██████████| 300/300 [00:09<00:00, 32.43it/s]\n"
          ]
        },
        {
          "output_type": "stream",
          "name": "stdout",
          "text": [
            "Precomputing scatters...\n",
            "Inferring best change points...\n",
            "Precomputing scatters...\n",
            "Inferring best change points...\n"
          ]
        },
        {
          "output_type": "stream",
          "name": "stderr",
          "text": [
            "100%|██████████| 300/300 [00:09<00:00, 32.81it/s]\n"
          ]
        },
        {
          "output_type": "stream",
          "name": "stdout",
          "text": [
            "Precomputing scatters...\n",
            "Inferring best change points...\n",
            "Precomputing scatters...\n",
            "Inferring best change points...\n"
          ]
        },
        {
          "output_type": "stream",
          "name": "stderr",
          "text": [
            "100%|██████████| 300/300 [00:09<00:00, 32.40it/s]\n"
          ]
        },
        {
          "output_type": "stream",
          "name": "stdout",
          "text": [
            "Precomputing scatters...\n",
            "Inferring best change points...\n",
            "Precomputing scatters...\n",
            "Inferring best change points...\n"
          ]
        },
        {
          "output_type": "stream",
          "name": "stderr",
          "text": [
            "100%|██████████| 300/300 [00:09<00:00, 32.20it/s]\n"
          ]
        },
        {
          "output_type": "stream",
          "name": "stdout",
          "text": [
            "Precomputing scatters...\n",
            "Inferring best change points...\n",
            "Precomputing scatters...\n",
            "Inferring best change points...\n"
          ]
        },
        {
          "output_type": "stream",
          "name": "stderr",
          "text": [
            "100%|██████████| 300/300 [00:09<00:00, 32.50it/s]\n"
          ]
        },
        {
          "output_type": "stream",
          "name": "stdout",
          "text": [
            "Precomputing scatters...\n",
            "Inferring best change points...\n",
            "Precomputing scatters...\n",
            "Inferring best change points...\n"
          ]
        },
        {
          "output_type": "stream",
          "name": "stderr",
          "text": [
            "100%|██████████| 300/300 [00:09<00:00, 32.48it/s]\n"
          ]
        },
        {
          "output_type": "stream",
          "name": "stdout",
          "text": [
            "Precomputing scatters...\n",
            "Inferring best change points...\n",
            "Precomputing scatters...\n",
            "Inferring best change points...\n"
          ]
        },
        {
          "output_type": "stream",
          "name": "stderr",
          "text": [
            "100%|██████████| 300/300 [00:09<00:00, 32.09it/s]\n"
          ]
        },
        {
          "output_type": "stream",
          "name": "stdout",
          "text": [
            "Precomputing scatters...\n",
            "Inferring best change points...\n",
            "Precomputing scatters...\n",
            "Inferring best change points...\n"
          ]
        },
        {
          "output_type": "stream",
          "name": "stderr",
          "text": [
            "100%|██████████| 300/300 [00:09<00:00, 31.72it/s]\n"
          ]
        },
        {
          "output_type": "stream",
          "name": "stdout",
          "text": [
            "Precomputing scatters...\n",
            "Inferring best change points...\n",
            "Precomputing scatters...\n",
            "Inferring best change points...\n"
          ]
        },
        {
          "output_type": "stream",
          "name": "stderr",
          "text": [
            "100%|██████████| 300/300 [00:09<00:00, 30.90it/s]\n"
          ]
        },
        {
          "output_type": "stream",
          "name": "stdout",
          "text": [
            "Precomputing scatters...\n",
            "Inferring best change points...\n",
            "Precomputing scatters...\n",
            "Inferring best change points...\n"
          ]
        },
        {
          "output_type": "stream",
          "name": "stderr",
          "text": [
            "100%|██████████| 300/300 [00:09<00:00, 31.10it/s]\n"
          ]
        },
        {
          "output_type": "stream",
          "name": "stdout",
          "text": [
            "Precomputing scatters...\n",
            "Inferring best change points...\n",
            "Precomputing scatters...\n",
            "Inferring best change points...\n"
          ]
        },
        {
          "output_type": "stream",
          "name": "stderr",
          "text": [
            "100%|██████████| 300/300 [00:09<00:00, 31.59it/s]\n"
          ]
        },
        {
          "output_type": "stream",
          "name": "stdout",
          "text": [
            "Precomputing scatters...\n",
            "Inferring best change points...\n",
            "Precomputing scatters...\n",
            "Inferring best change points...\n"
          ]
        },
        {
          "output_type": "stream",
          "name": "stderr",
          "text": [
            "100%|██████████| 300/300 [00:09<00:00, 31.88it/s]\n"
          ]
        },
        {
          "output_type": "stream",
          "name": "stdout",
          "text": [
            "Precomputing scatters...\n",
            "Inferring best change points...\n",
            "Precomputing scatters...\n",
            "Inferring best change points...\n"
          ]
        },
        {
          "output_type": "stream",
          "name": "stderr",
          "text": [
            "100%|██████████| 300/300 [00:09<00:00, 31.35it/s]\n"
          ]
        },
        {
          "output_type": "stream",
          "name": "stdout",
          "text": [
            "Precomputing scatters...\n",
            "Inferring best change points...\n",
            "Precomputing scatters...\n",
            "Inferring best change points...\n"
          ]
        },
        {
          "output_type": "stream",
          "name": "stderr",
          "text": [
            "100%|██████████| 300/300 [00:09<00:00, 31.88it/s]\n"
          ]
        },
        {
          "output_type": "stream",
          "name": "stdout",
          "text": [
            "Precomputing scatters...\n",
            "Inferring best change points...\n",
            "Precomputing scatters...\n",
            "Inferring best change points...\n"
          ]
        },
        {
          "output_type": "stream",
          "name": "stderr",
          "text": [
            "100%|██████████| 300/300 [00:09<00:00, 31.35it/s]\n"
          ]
        },
        {
          "output_type": "stream",
          "name": "stdout",
          "text": [
            "Precomputing scatters...\n",
            "Inferring best change points...\n",
            "Precomputing scatters...\n",
            "Inferring best change points...\n"
          ]
        },
        {
          "output_type": "stream",
          "name": "stderr",
          "text": [
            "100%|██████████| 300/300 [00:09<00:00, 31.47it/s]\n"
          ]
        },
        {
          "output_type": "stream",
          "name": "stdout",
          "text": [
            "Precomputing scatters...\n",
            "Inferring best change points...\n",
            "Precomputing scatters...\n",
            "Inferring best change points...\n"
          ]
        },
        {
          "output_type": "stream",
          "name": "stderr",
          "text": [
            "100%|██████████| 300/300 [00:09<00:00, 31.78it/s]\n"
          ]
        },
        {
          "output_type": "stream",
          "name": "stdout",
          "text": [
            "Precomputing scatters...\n",
            "Inferring best change points...\n",
            "Precomputing scatters...\n",
            "Inferring best change points...\n"
          ]
        },
        {
          "output_type": "stream",
          "name": "stderr",
          "text": [
            "100%|██████████| 300/300 [00:09<00:00, 31.68it/s]\n"
          ]
        },
        {
          "output_type": "stream",
          "name": "stdout",
          "text": [
            "Precomputing scatters...\n",
            "Inferring best change points...\n",
            "Precomputing scatters...\n",
            "Inferring best change points...\n"
          ]
        },
        {
          "output_type": "stream",
          "name": "stderr",
          "text": [
            "100%|██████████| 300/300 [00:09<00:00, 31.40it/s]\n"
          ]
        },
        {
          "output_type": "stream",
          "name": "stdout",
          "text": [
            "Precomputing scatters...\n",
            "Inferring best change points...\n",
            "Precomputing scatters...\n",
            "Inferring best change points...\n"
          ]
        },
        {
          "output_type": "stream",
          "name": "stderr",
          "text": [
            "100%|██████████| 300/300 [00:09<00:00, 31.76it/s]\n"
          ]
        },
        {
          "output_type": "stream",
          "name": "stdout",
          "text": [
            "Precomputing scatters...\n",
            "Inferring best change points...\n",
            "Precomputing scatters...\n",
            "Inferring best change points...\n"
          ]
        },
        {
          "output_type": "stream",
          "name": "stderr",
          "text": [
            "100%|██████████| 300/300 [00:09<00:00, 32.09it/s]\n"
          ]
        },
        {
          "output_type": "stream",
          "name": "stdout",
          "text": [
            "Precomputing scatters...\n",
            "Inferring best change points...\n",
            "Precomputing scatters...\n",
            "Inferring best change points...\n"
          ]
        },
        {
          "output_type": "stream",
          "name": "stderr",
          "text": [
            "100%|██████████| 300/300 [00:09<00:00, 31.67it/s]\n"
          ]
        },
        {
          "output_type": "stream",
          "name": "stdout",
          "text": [
            "Precomputing scatters...\n",
            "Inferring best change points...\n",
            "Precomputing scatters...\n",
            "Inferring best change points...\n"
          ]
        },
        {
          "output_type": "stream",
          "name": "stderr",
          "text": [
            "100%|██████████| 300/300 [00:09<00:00, 31.51it/s]\n"
          ]
        },
        {
          "output_type": "stream",
          "name": "stdout",
          "text": [
            "Precomputing scatters...\n",
            "Inferring best change points...\n",
            "Precomputing scatters...\n",
            "Inferring best change points...\n"
          ]
        },
        {
          "output_type": "stream",
          "name": "stderr",
          "text": [
            "100%|██████████| 300/300 [00:09<00:00, 31.82it/s]\n"
          ]
        },
        {
          "output_type": "stream",
          "name": "stdout",
          "text": [
            "Precomputing scatters...\n",
            "Inferring best change points...\n",
            "Precomputing scatters...\n",
            "Inferring best change points...\n"
          ]
        },
        {
          "output_type": "stream",
          "name": "stderr",
          "text": [
            "100%|██████████| 300/300 [00:09<00:00, 31.47it/s]\n"
          ]
        },
        {
          "output_type": "stream",
          "name": "stdout",
          "text": [
            "Precomputing scatters...\n",
            "Inferring best change points...\n",
            "Precomputing scatters...\n",
            "Inferring best change points...\n"
          ]
        },
        {
          "output_type": "stream",
          "name": "stderr",
          "text": [
            "100%|██████████| 300/300 [00:09<00:00, 30.42it/s]\n"
          ]
        },
        {
          "output_type": "stream",
          "name": "stdout",
          "text": [
            "Precomputing scatters...\n",
            "Inferring best change points...\n",
            "Precomputing scatters...\n",
            "Inferring best change points...\n"
          ]
        },
        {
          "output_type": "stream",
          "name": "stderr",
          "text": [
            "100%|██████████| 300/300 [00:09<00:00, 31.77it/s]\n"
          ]
        },
        {
          "output_type": "stream",
          "name": "stdout",
          "text": [
            "Precomputing scatters...\n",
            "Inferring best change points...\n",
            "Precomputing scatters...\n",
            "Inferring best change points...\n"
          ]
        },
        {
          "output_type": "stream",
          "name": "stderr",
          "text": [
            "100%|██████████| 300/300 [00:09<00:00, 32.16it/s]\n"
          ]
        },
        {
          "output_type": "stream",
          "name": "stdout",
          "text": [
            "Precomputing scatters...\n",
            "Inferring best change points...\n",
            "Precomputing scatters...\n",
            "Inferring best change points...\n"
          ]
        },
        {
          "output_type": "stream",
          "name": "stderr",
          "text": [
            "100%|██████████| 300/300 [00:09<00:00, 31.57it/s]\n"
          ]
        },
        {
          "output_type": "stream",
          "name": "stdout",
          "text": [
            "Precomputing scatters...\n",
            "Inferring best change points...\n",
            "Precomputing scatters...\n",
            "Inferring best change points...\n"
          ]
        },
        {
          "output_type": "stream",
          "name": "stderr",
          "text": [
            "100%|██████████| 300/300 [00:09<00:00, 31.86it/s]\n"
          ]
        },
        {
          "output_type": "stream",
          "name": "stdout",
          "text": [
            "Precomputing scatters...\n",
            "Inferring best change points...\n",
            "Precomputing scatters...\n",
            "Inferring best change points...\n"
          ]
        },
        {
          "output_type": "stream",
          "name": "stderr",
          "text": [
            "100%|██████████| 300/300 [00:09<00:00, 30.96it/s]\n"
          ]
        },
        {
          "output_type": "stream",
          "name": "stdout",
          "text": [
            "Precomputing scatters...\n",
            "Inferring best change points...\n",
            "Precomputing scatters...\n",
            "Inferring best change points...\n"
          ]
        },
        {
          "output_type": "stream",
          "name": "stderr",
          "text": [
            "100%|██████████| 300/300 [00:09<00:00, 31.26it/s]\n"
          ]
        },
        {
          "output_type": "stream",
          "name": "stdout",
          "text": [
            "Precomputing scatters...\n",
            "Inferring best change points...\n",
            "Precomputing scatters...\n",
            "Inferring best change points...\n"
          ]
        },
        {
          "output_type": "stream",
          "name": "stderr",
          "text": [
            "100%|██████████| 300/300 [00:09<00:00, 32.09it/s]\n"
          ]
        },
        {
          "output_type": "stream",
          "name": "stdout",
          "text": [
            "Precomputing scatters...\n",
            "Inferring best change points...\n",
            "Precomputing scatters...\n",
            "Inferring best change points...\n"
          ]
        },
        {
          "output_type": "stream",
          "name": "stderr",
          "text": [
            "100%|██████████| 300/300 [00:09<00:00, 30.67it/s]\n"
          ]
        },
        {
          "output_type": "stream",
          "name": "stdout",
          "text": [
            "Precomputing scatters...\n",
            "Inferring best change points...\n",
            "Precomputing scatters...\n",
            "Inferring best change points...\n"
          ]
        },
        {
          "output_type": "stream",
          "name": "stderr",
          "text": [
            "100%|██████████| 300/300 [00:09<00:00, 30.09it/s]\n"
          ]
        },
        {
          "output_type": "stream",
          "name": "stdout",
          "text": [
            "Precomputing scatters...\n",
            "Inferring best change points...\n",
            "Precomputing scatters...\n",
            "Inferring best change points...\n"
          ]
        },
        {
          "output_type": "stream",
          "name": "stderr",
          "text": [
            "100%|██████████| 300/300 [00:09<00:00, 30.68it/s]\n"
          ]
        },
        {
          "output_type": "stream",
          "name": "stdout",
          "text": [
            "Precomputing scatters...\n",
            "Inferring best change points...\n",
            "Precomputing scatters...\n",
            "Inferring best change points...\n"
          ]
        },
        {
          "output_type": "stream",
          "name": "stderr",
          "text": [
            "100%|██████████| 300/300 [00:09<00:00, 30.15it/s]\n"
          ]
        },
        {
          "output_type": "stream",
          "name": "stdout",
          "text": [
            "Precomputing scatters...\n",
            "Inferring best change points...\n",
            "Precomputing scatters...\n",
            "Inferring best change points...\n"
          ]
        },
        {
          "output_type": "stream",
          "name": "stderr",
          "text": [
            "100%|██████████| 300/300 [00:09<00:00, 30.03it/s]\n"
          ]
        },
        {
          "output_type": "stream",
          "name": "stdout",
          "text": [
            "Precomputing scatters...\n",
            "Inferring best change points...\n",
            "Precomputing scatters...\n",
            "Inferring best change points...\n"
          ]
        },
        {
          "output_type": "stream",
          "name": "stderr",
          "text": [
            "100%|██████████| 300/300 [00:09<00:00, 30.24it/s]\n"
          ]
        },
        {
          "output_type": "stream",
          "name": "stdout",
          "text": [
            "Precomputing scatters...\n",
            "Inferring best change points...\n",
            "Precomputing scatters...\n",
            "Inferring best change points...\n"
          ]
        },
        {
          "output_type": "stream",
          "name": "stderr",
          "text": [
            "100%|██████████| 300/300 [00:09<00:00, 30.16it/s]\n"
          ]
        },
        {
          "output_type": "stream",
          "name": "stdout",
          "text": [
            "Precomputing scatters...\n",
            "Inferring best change points...\n",
            "Precomputing scatters...\n",
            "Inferring best change points...\n"
          ]
        },
        {
          "output_type": "stream",
          "name": "stderr",
          "text": [
            "100%|██████████| 300/300 [00:10<00:00, 29.82it/s]\n"
          ]
        },
        {
          "output_type": "stream",
          "name": "stdout",
          "text": [
            "Precomputing scatters...\n",
            "Inferring best change points...\n",
            "Precomputing scatters...\n",
            "Inferring best change points...\n"
          ]
        },
        {
          "output_type": "stream",
          "name": "stderr",
          "text": [
            "100%|██████████| 300/300 [00:09<00:00, 30.10it/s]\n"
          ]
        },
        {
          "output_type": "stream",
          "name": "stdout",
          "text": [
            "Precomputing scatters...\n",
            "Inferring best change points...\n",
            "Precomputing scatters...\n",
            "Inferring best change points...\n"
          ]
        },
        {
          "output_type": "stream",
          "name": "stderr",
          "text": [
            "100%|██████████| 300/300 [00:09<00:00, 30.83it/s]\n"
          ]
        },
        {
          "output_type": "stream",
          "name": "stdout",
          "text": [
            "Precomputing scatters...\n",
            "Inferring best change points...\n",
            "Precomputing scatters...\n",
            "Inferring best change points...\n"
          ]
        },
        {
          "output_type": "stream",
          "name": "stderr",
          "text": [
            "100%|██████████| 300/300 [00:09<00:00, 30.87it/s]\n"
          ]
        },
        {
          "output_type": "stream",
          "name": "stdout",
          "text": [
            "Precomputing scatters...\n",
            "Inferring best change points...\n",
            "Precomputing scatters...\n",
            "Inferring best change points...\n"
          ]
        },
        {
          "output_type": "stream",
          "name": "stderr",
          "text": [
            "100%|██████████| 300/300 [00:09<00:00, 30.80it/s]\n"
          ]
        },
        {
          "output_type": "stream",
          "name": "stdout",
          "text": [
            "Precomputing scatters...\n",
            "Inferring best change points...\n",
            "Precomputing scatters...\n",
            "Inferring best change points...\n"
          ]
        },
        {
          "output_type": "stream",
          "name": "stderr",
          "text": [
            "100%|██████████| 300/300 [00:09<00:00, 31.26it/s]\n"
          ]
        },
        {
          "output_type": "stream",
          "name": "stdout",
          "text": [
            "Precomputing scatters...\n",
            "Inferring best change points...\n",
            "Precomputing scatters...\n",
            "Inferring best change points...\n"
          ]
        },
        {
          "output_type": "stream",
          "name": "stderr",
          "text": [
            "100%|██████████| 300/300 [00:09<00:00, 30.82it/s]\n"
          ]
        },
        {
          "output_type": "stream",
          "name": "stdout",
          "text": [
            "Precomputing scatters...\n",
            "Inferring best change points...\n",
            "Precomputing scatters...\n",
            "Inferring best change points...\n"
          ]
        },
        {
          "output_type": "stream",
          "name": "stderr",
          "text": [
            "100%|██████████| 300/300 [00:09<00:00, 31.13it/s]\n"
          ]
        },
        {
          "output_type": "stream",
          "name": "stdout",
          "text": [
            "Precomputing scatters...\n",
            "Inferring best change points...\n",
            "Precomputing scatters...\n",
            "Inferring best change points...\n"
          ]
        },
        {
          "output_type": "stream",
          "name": "stderr",
          "text": [
            "100%|██████████| 300/300 [00:09<00:00, 31.04it/s]\n"
          ]
        },
        {
          "output_type": "stream",
          "name": "stdout",
          "text": [
            "Precomputing scatters...\n",
            "Inferring best change points...\n",
            "Precomputing scatters...\n",
            "Inferring best change points...\n"
          ]
        },
        {
          "output_type": "stream",
          "name": "stderr",
          "text": [
            "100%|██████████| 300/300 [00:09<00:00, 31.29it/s]\n"
          ]
        },
        {
          "output_type": "stream",
          "name": "stdout",
          "text": [
            "Precomputing scatters...\n",
            "Inferring best change points...\n",
            "Precomputing scatters...\n",
            "Inferring best change points...\n"
          ]
        },
        {
          "output_type": "stream",
          "name": "stderr",
          "text": [
            "100%|██████████| 300/300 [00:09<00:00, 31.64it/s]\n"
          ]
        },
        {
          "output_type": "stream",
          "name": "stdout",
          "text": [
            "Precomputing scatters...\n",
            "Inferring best change points...\n",
            "Precomputing scatters...\n",
            "Inferring best change points...\n"
          ]
        },
        {
          "output_type": "stream",
          "name": "stderr",
          "text": [
            "100%|██████████| 300/300 [00:09<00:00, 31.09it/s]\n"
          ]
        },
        {
          "output_type": "stream",
          "name": "stdout",
          "text": [
            "Precomputing scatters...\n",
            "Inferring best change points...\n",
            "Precomputing scatters...\n",
            "Inferring best change points...\n"
          ]
        },
        {
          "output_type": "stream",
          "name": "stderr",
          "text": [
            "100%|██████████| 300/300 [00:09<00:00, 30.60it/s]\n"
          ]
        },
        {
          "output_type": "stream",
          "name": "stdout",
          "text": [
            "Precomputing scatters...\n",
            "Inferring best change points...\n",
            "Precomputing scatters...\n",
            "Inferring best change points...\n"
          ]
        },
        {
          "output_type": "stream",
          "name": "stderr",
          "text": [
            "100%|██████████| 300/300 [00:09<00:00, 31.63it/s]\n"
          ]
        },
        {
          "output_type": "stream",
          "name": "stdout",
          "text": [
            "Precomputing scatters...\n",
            "Inferring best change points...\n",
            "Precomputing scatters...\n",
            "Inferring best change points...\n"
          ]
        },
        {
          "output_type": "stream",
          "name": "stderr",
          "text": [
            "100%|██████████| 300/300 [00:09<00:00, 31.58it/s]\n"
          ]
        },
        {
          "output_type": "stream",
          "name": "stdout",
          "text": [
            "Precomputing scatters...\n",
            "Inferring best change points...\n",
            "Precomputing scatters...\n",
            "Inferring best change points...\n"
          ]
        },
        {
          "output_type": "stream",
          "name": "stderr",
          "text": [
            "100%|██████████| 300/300 [00:09<00:00, 31.40it/s]\n"
          ]
        },
        {
          "output_type": "stream",
          "name": "stdout",
          "text": [
            "Precomputing scatters...\n",
            "Inferring best change points...\n",
            "Precomputing scatters...\n",
            "Inferring best change points...\n"
          ]
        },
        {
          "output_type": "stream",
          "name": "stderr",
          "text": [
            "100%|██████████| 300/300 [00:09<00:00, 31.31it/s]\n"
          ]
        },
        {
          "output_type": "stream",
          "name": "stdout",
          "text": [
            "Precomputing scatters...\n",
            "Inferring best change points...\n",
            "Precomputing scatters...\n",
            "Inferring best change points...\n"
          ]
        },
        {
          "output_type": "stream",
          "name": "stderr",
          "text": [
            "100%|██████████| 300/300 [00:09<00:00, 31.59it/s]\n"
          ]
        },
        {
          "output_type": "stream",
          "name": "stdout",
          "text": [
            "Precomputing scatters...\n",
            "Inferring best change points...\n",
            "Precomputing scatters...\n",
            "Inferring best change points...\n"
          ]
        },
        {
          "output_type": "stream",
          "name": "stderr",
          "text": [
            "100%|██████████| 300/300 [00:09<00:00, 31.45it/s]\n"
          ]
        },
        {
          "output_type": "stream",
          "name": "stdout",
          "text": [
            "Precomputing scatters...\n",
            "Inferring best change points...\n",
            "Precomputing scatters...\n",
            "Inferring best change points...\n"
          ]
        },
        {
          "output_type": "stream",
          "name": "stderr",
          "text": [
            "100%|██████████| 300/300 [00:09<00:00, 31.99it/s]\n"
          ]
        },
        {
          "output_type": "stream",
          "name": "stdout",
          "text": [
            "Precomputing scatters...\n",
            "Inferring best change points...\n",
            "Precomputing scatters...\n",
            "Inferring best change points...\n"
          ]
        },
        {
          "output_type": "stream",
          "name": "stderr",
          "text": [
            "100%|██████████| 300/300 [00:09<00:00, 32.71it/s]\n"
          ]
        },
        {
          "output_type": "stream",
          "name": "stdout",
          "text": [
            "Precomputing scatters...\n",
            "Inferring best change points...\n",
            "Precomputing scatters...\n",
            "Inferring best change points...\n"
          ]
        },
        {
          "output_type": "stream",
          "name": "stderr",
          "text": [
            "100%|██████████| 300/300 [00:09<00:00, 31.80it/s]\n"
          ]
        },
        {
          "output_type": "stream",
          "name": "stdout",
          "text": [
            "Precomputing scatters...\n",
            "Inferring best change points...\n",
            "Precomputing scatters...\n",
            "Inferring best change points...\n"
          ]
        },
        {
          "output_type": "stream",
          "name": "stderr",
          "text": [
            "100%|██████████| 300/300 [00:09<00:00, 32.57it/s]\n"
          ]
        },
        {
          "output_type": "stream",
          "name": "stdout",
          "text": [
            "Precomputing scatters...\n",
            "Inferring best change points...\n",
            "Precomputing scatters...\n",
            "Inferring best change points...\n"
          ]
        },
        {
          "output_type": "stream",
          "name": "stderr",
          "text": [
            "100%|██████████| 300/300 [00:09<00:00, 32.24it/s]\n"
          ]
        },
        {
          "output_type": "stream",
          "name": "stdout",
          "text": [
            "Precomputing scatters...\n",
            "Inferring best change points...\n",
            "Precomputing scatters...\n",
            "Inferring best change points...\n"
          ]
        },
        {
          "output_type": "stream",
          "name": "stderr",
          "text": [
            "100%|██████████| 300/300 [00:09<00:00, 32.32it/s]\n"
          ]
        },
        {
          "output_type": "stream",
          "name": "stdout",
          "text": [
            "Precomputing scatters...\n",
            "Inferring best change points...\n",
            "Precomputing scatters...\n",
            "Inferring best change points...\n"
          ]
        },
        {
          "output_type": "stream",
          "name": "stderr",
          "text": [
            "100%|██████████| 300/300 [00:09<00:00, 31.96it/s]\n"
          ]
        },
        {
          "output_type": "stream",
          "name": "stdout",
          "text": [
            "Precomputing scatters...\n",
            "Inferring best change points...\n",
            "Precomputing scatters...\n",
            "Inferring best change points...\n"
          ]
        },
        {
          "output_type": "stream",
          "name": "stderr",
          "text": [
            "100%|██████████| 300/300 [00:09<00:00, 32.41it/s]\n"
          ]
        },
        {
          "output_type": "stream",
          "name": "stdout",
          "text": [
            "Precomputing scatters...\n",
            "Inferring best change points...\n",
            "Precomputing scatters...\n",
            "Inferring best change points...\n"
          ]
        },
        {
          "output_type": "stream",
          "name": "stderr",
          "text": [
            "100%|██████████| 300/300 [00:09<00:00, 32.51it/s]\n"
          ]
        },
        {
          "output_type": "stream",
          "name": "stdout",
          "text": [
            "Precomputing scatters...\n",
            "Inferring best change points...\n",
            "Precomputing scatters...\n",
            "Inferring best change points...\n"
          ]
        },
        {
          "output_type": "stream",
          "name": "stderr",
          "text": [
            "100%|██████████| 300/300 [00:09<00:00, 31.90it/s]\n"
          ]
        },
        {
          "output_type": "stream",
          "name": "stdout",
          "text": [
            "Precomputing scatters...\n",
            "Inferring best change points...\n",
            "Precomputing scatters...\n",
            "Inferring best change points...\n"
          ]
        },
        {
          "output_type": "stream",
          "name": "stderr",
          "text": [
            "100%|██████████| 300/300 [00:09<00:00, 32.27it/s]\n"
          ]
        },
        {
          "output_type": "stream",
          "name": "stdout",
          "text": [
            "Precomputing scatters...\n",
            "Inferring best change points...\n",
            "Precomputing scatters...\n",
            "Inferring best change points...\n"
          ]
        },
        {
          "output_type": "stream",
          "name": "stderr",
          "text": [
            "100%|██████████| 300/300 [00:09<00:00, 32.28it/s]\n"
          ]
        },
        {
          "output_type": "stream",
          "name": "stdout",
          "text": [
            "Precomputing scatters...\n",
            "Inferring best change points...\n",
            "Precomputing scatters...\n",
            "Inferring best change points...\n"
          ]
        },
        {
          "output_type": "stream",
          "name": "stderr",
          "text": [
            "100%|██████████| 300/300 [00:09<00:00, 32.20it/s]\n"
          ]
        },
        {
          "output_type": "stream",
          "name": "stdout",
          "text": [
            "Precomputing scatters...\n",
            "Inferring best change points...\n",
            "Precomputing scatters...\n",
            "Inferring best change points...\n"
          ]
        },
        {
          "output_type": "stream",
          "name": "stderr",
          "text": [
            "100%|██████████| 300/300 [00:09<00:00, 32.09it/s]\n"
          ]
        },
        {
          "output_type": "stream",
          "name": "stdout",
          "text": [
            "Precomputing scatters...\n",
            "Inferring best change points...\n",
            "Precomputing scatters...\n",
            "Inferring best change points...\n"
          ]
        },
        {
          "output_type": "stream",
          "name": "stderr",
          "text": [
            "100%|██████████| 300/300 [00:09<00:00, 32.19it/s]\n"
          ]
        },
        {
          "output_type": "stream",
          "name": "stdout",
          "text": [
            "Precomputing scatters...\n",
            "Inferring best change points...\n",
            "Precomputing scatters...\n",
            "Inferring best change points...\n"
          ]
        },
        {
          "output_type": "stream",
          "name": "stderr",
          "text": [
            "100%|██████████| 300/300 [00:09<00:00, 32.08it/s]\n"
          ]
        },
        {
          "output_type": "stream",
          "name": "stdout",
          "text": [
            "Precomputing scatters...\n",
            "Inferring best change points...\n",
            "Precomputing scatters...\n",
            "Inferring best change points...\n"
          ]
        },
        {
          "output_type": "stream",
          "name": "stderr",
          "text": [
            "100%|██████████| 300/300 [00:09<00:00, 32.39it/s]\n"
          ]
        },
        {
          "output_type": "stream",
          "name": "stdout",
          "text": [
            "Precomputing scatters...\n",
            "Inferring best change points...\n",
            "Precomputing scatters...\n",
            "Inferring best change points...\n"
          ]
        },
        {
          "output_type": "stream",
          "name": "stderr",
          "text": [
            "100%|██████████| 300/300 [00:09<00:00, 32.41it/s]\n"
          ]
        },
        {
          "output_type": "stream",
          "name": "stdout",
          "text": [
            "Precomputing scatters...\n",
            "Inferring best change points...\n",
            "Precomputing scatters...\n",
            "Inferring best change points...\n"
          ]
        },
        {
          "output_type": "stream",
          "name": "stderr",
          "text": [
            "100%|██████████| 300/300 [00:09<00:00, 32.22it/s]\n"
          ]
        },
        {
          "output_type": "stream",
          "name": "stdout",
          "text": [
            "Precomputing scatters...\n",
            "Inferring best change points...\n",
            "Precomputing scatters...\n",
            "Inferring best change points...\n"
          ]
        },
        {
          "output_type": "stream",
          "name": "stderr",
          "text": [
            "100%|██████████| 300/300 [00:09<00:00, 32.20it/s]\n"
          ]
        },
        {
          "output_type": "stream",
          "name": "stdout",
          "text": [
            "Precomputing scatters...\n",
            "Inferring best change points...\n",
            "Precomputing scatters...\n",
            "Inferring best change points...\n"
          ]
        },
        {
          "output_type": "stream",
          "name": "stderr",
          "text": [
            "100%|██████████| 300/300 [00:09<00:00, 31.91it/s]\n"
          ]
        },
        {
          "output_type": "stream",
          "name": "stdout",
          "text": [
            "Precomputing scatters...\n",
            "Inferring best change points...\n",
            "Precomputing scatters...\n",
            "Inferring best change points...\n"
          ]
        },
        {
          "output_type": "stream",
          "name": "stderr",
          "text": [
            "100%|██████████| 300/300 [00:09<00:00, 31.78it/s]\n"
          ]
        },
        {
          "output_type": "stream",
          "name": "stdout",
          "text": [
            "Precomputing scatters...\n",
            "Inferring best change points...\n",
            "Precomputing scatters...\n",
            "Inferring best change points...\n"
          ]
        },
        {
          "output_type": "stream",
          "name": "stderr",
          "text": [
            "100%|██████████| 300/300 [00:09<00:00, 32.24it/s]\n"
          ]
        },
        {
          "output_type": "stream",
          "name": "stdout",
          "text": [
            "Precomputing scatters...\n",
            "Inferring best change points...\n",
            "Precomputing scatters...\n",
            "Inferring best change points...\n"
          ]
        },
        {
          "output_type": "stream",
          "name": "stderr",
          "text": [
            "100%|██████████| 300/300 [00:09<00:00, 32.15it/s]\n"
          ]
        },
        {
          "output_type": "stream",
          "name": "stdout",
          "text": [
            "Precomputing scatters...\n",
            "Inferring best change points...\n",
            "Precomputing scatters...\n",
            "Inferring best change points...\n"
          ]
        },
        {
          "output_type": "stream",
          "name": "stderr",
          "text": [
            "100%|██████████| 300/300 [00:09<00:00, 31.98it/s]\n"
          ]
        },
        {
          "output_type": "stream",
          "name": "stdout",
          "text": [
            "Precomputing scatters...\n",
            "Inferring best change points...\n",
            "Precomputing scatters...\n",
            "Inferring best change points...\n"
          ]
        },
        {
          "output_type": "stream",
          "name": "stderr",
          "text": [
            "100%|██████████| 300/300 [00:09<00:00, 32.26it/s]\n"
          ]
        },
        {
          "output_type": "stream",
          "name": "stdout",
          "text": [
            "Precomputing scatters...\n",
            "Inferring best change points...\n",
            "Precomputing scatters...\n",
            "Inferring best change points...\n"
          ]
        },
        {
          "output_type": "stream",
          "name": "stderr",
          "text": [
            "100%|██████████| 300/300 [00:09<00:00, 32.46it/s]\n"
          ]
        },
        {
          "output_type": "stream",
          "name": "stdout",
          "text": [
            "Precomputing scatters...\n",
            "Inferring best change points...\n",
            "Precomputing scatters...\n",
            "Inferring best change points...\n"
          ]
        },
        {
          "output_type": "stream",
          "name": "stderr",
          "text": [
            "100%|██████████| 300/300 [00:09<00:00, 32.40it/s]\n"
          ]
        },
        {
          "output_type": "stream",
          "name": "stdout",
          "text": [
            "Precomputing scatters...\n",
            "Inferring best change points...\n",
            "Precomputing scatters...\n",
            "Inferring best change points...\n"
          ]
        },
        {
          "output_type": "stream",
          "name": "stderr",
          "text": [
            "100%|██████████| 300/300 [00:09<00:00, 32.26it/s]\n"
          ]
        },
        {
          "output_type": "stream",
          "name": "stdout",
          "text": [
            "Precomputing scatters...\n",
            "Inferring best change points...\n",
            "Precomputing scatters...\n",
            "Inferring best change points...\n"
          ]
        },
        {
          "output_type": "stream",
          "name": "stderr",
          "text": [
            "100%|██████████| 300/300 [00:09<00:00, 31.43it/s]\n"
          ]
        },
        {
          "output_type": "stream",
          "name": "stdout",
          "text": [
            "Precomputing scatters...\n",
            "Inferring best change points...\n",
            "Precomputing scatters...\n",
            "Inferring best change points...\n"
          ]
        },
        {
          "output_type": "stream",
          "name": "stderr",
          "text": [
            "100%|██████████| 300/300 [00:09<00:00, 31.34it/s]\n"
          ]
        },
        {
          "output_type": "stream",
          "name": "stdout",
          "text": [
            "Precomputing scatters...\n",
            "Inferring best change points...\n",
            "Precomputing scatters...\n",
            "Inferring best change points...\n"
          ]
        },
        {
          "output_type": "stream",
          "name": "stderr",
          "text": [
            "100%|██████████| 300/300 [00:09<00:00, 32.23it/s]\n"
          ]
        },
        {
          "output_type": "stream",
          "name": "stdout",
          "text": [
            "Precomputing scatters...\n",
            "Inferring best change points...\n",
            "Precomputing scatters...\n",
            "Inferring best change points...\n"
          ]
        },
        {
          "output_type": "stream",
          "name": "stderr",
          "text": [
            "100%|██████████| 300/300 [00:09<00:00, 32.65it/s]\n"
          ]
        },
        {
          "output_type": "stream",
          "name": "stdout",
          "text": [
            "Precomputing scatters...\n",
            "Inferring best change points...\n",
            "Precomputing scatters...\n",
            "Inferring best change points...\n"
          ]
        },
        {
          "output_type": "stream",
          "name": "stderr",
          "text": [
            "100%|██████████| 300/300 [00:09<00:00, 32.30it/s]\n"
          ]
        },
        {
          "output_type": "stream",
          "name": "stdout",
          "text": [
            "Precomputing scatters...\n",
            "Inferring best change points...\n",
            "Precomputing scatters...\n",
            "Inferring best change points...\n"
          ]
        },
        {
          "output_type": "stream",
          "name": "stderr",
          "text": [
            "100%|██████████| 300/300 [00:09<00:00, 32.08it/s]\n"
          ]
        },
        {
          "output_type": "stream",
          "name": "stdout",
          "text": [
            "Precomputing scatters...\n",
            "Inferring best change points...\n",
            "Precomputing scatters...\n",
            "Inferring best change points...\n"
          ]
        },
        {
          "output_type": "stream",
          "name": "stderr",
          "text": [
            "100%|██████████| 300/300 [00:09<00:00, 32.85it/s]\n"
          ]
        },
        {
          "output_type": "stream",
          "name": "stdout",
          "text": [
            "Precomputing scatters...\n",
            "Inferring best change points...\n",
            "Precomputing scatters...\n",
            "Inferring best change points...\n"
          ]
        },
        {
          "output_type": "stream",
          "name": "stderr",
          "text": [
            "100%|██████████| 300/300 [00:09<00:00, 32.58it/s]\n"
          ]
        },
        {
          "output_type": "stream",
          "name": "stdout",
          "text": [
            "Precomputing scatters...\n",
            "Inferring best change points...\n",
            "Precomputing scatters...\n",
            "Inferring best change points...\n"
          ]
        },
        {
          "output_type": "stream",
          "name": "stderr",
          "text": [
            "100%|██████████| 300/300 [00:09<00:00, 32.48it/s]\n"
          ]
        },
        {
          "output_type": "stream",
          "name": "stdout",
          "text": [
            "Precomputing scatters...\n",
            "Inferring best change points...\n",
            "Precomputing scatters...\n",
            "Inferring best change points...\n"
          ]
        },
        {
          "output_type": "stream",
          "name": "stderr",
          "text": [
            "100%|██████████| 300/300 [00:09<00:00, 32.39it/s]\n"
          ]
        },
        {
          "output_type": "stream",
          "name": "stdout",
          "text": [
            "Precomputing scatters...\n",
            "Inferring best change points...\n",
            "Precomputing scatters...\n",
            "Inferring best change points...\n"
          ]
        },
        {
          "output_type": "stream",
          "name": "stderr",
          "text": [
            "100%|██████████| 300/300 [00:09<00:00, 32.40it/s]\n"
          ]
        },
        {
          "output_type": "stream",
          "name": "stdout",
          "text": [
            "Precomputing scatters...\n",
            "Inferring best change points...\n",
            "Precomputing scatters...\n",
            "Inferring best change points...\n"
          ]
        },
        {
          "output_type": "stream",
          "name": "stderr",
          "text": [
            "100%|██████████| 300/300 [00:09<00:00, 32.43it/s]\n"
          ]
        },
        {
          "output_type": "stream",
          "name": "stdout",
          "text": [
            "Precomputing scatters...\n",
            "Inferring best change points...\n",
            "Precomputing scatters...\n",
            "Inferring best change points...\n"
          ]
        },
        {
          "output_type": "stream",
          "name": "stderr",
          "text": [
            "100%|██████████| 300/300 [00:09<00:00, 32.23it/s]\n"
          ]
        },
        {
          "output_type": "stream",
          "name": "stdout",
          "text": [
            "Precomputing scatters...\n",
            "Inferring best change points...\n",
            "Precomputing scatters...\n",
            "Inferring best change points...\n"
          ]
        },
        {
          "output_type": "stream",
          "name": "stderr",
          "text": [
            "100%|██████████| 300/300 [00:09<00:00, 32.66it/s]\n"
          ]
        },
        {
          "output_type": "stream",
          "name": "stdout",
          "text": [
            "Precomputing scatters...\n",
            "Inferring best change points...\n",
            "Precomputing scatters...\n",
            "Inferring best change points...\n"
          ]
        },
        {
          "output_type": "stream",
          "name": "stderr",
          "text": [
            "100%|██████████| 300/300 [00:09<00:00, 32.08it/s]\n"
          ]
        },
        {
          "output_type": "stream",
          "name": "stdout",
          "text": [
            "Precomputing scatters...\n",
            "Inferring best change points...\n",
            "Precomputing scatters...\n",
            "Inferring best change points...\n"
          ]
        },
        {
          "output_type": "stream",
          "name": "stderr",
          "text": [
            "100%|██████████| 300/300 [00:09<00:00, 32.58it/s]\n"
          ]
        },
        {
          "output_type": "stream",
          "name": "stdout",
          "text": [
            "Precomputing scatters...\n",
            "Inferring best change points...\n",
            "Precomputing scatters...\n",
            "Inferring best change points...\n"
          ]
        },
        {
          "output_type": "stream",
          "name": "stderr",
          "text": [
            "100%|██████████| 300/300 [00:09<00:00, 31.48it/s]\n"
          ]
        },
        {
          "output_type": "stream",
          "name": "stdout",
          "text": [
            "Precomputing scatters...\n",
            "Inferring best change points...\n",
            "Precomputing scatters...\n",
            "Inferring best change points...\n"
          ]
        },
        {
          "output_type": "stream",
          "name": "stderr",
          "text": [
            "100%|██████████| 300/300 [00:09<00:00, 30.88it/s]\n"
          ]
        },
        {
          "output_type": "stream",
          "name": "stdout",
          "text": [
            "Precomputing scatters...\n",
            "Inferring best change points...\n",
            "Precomputing scatters...\n",
            "Inferring best change points...\n"
          ]
        },
        {
          "output_type": "stream",
          "name": "stderr",
          "text": [
            "100%|██████████| 300/300 [00:09<00:00, 31.26it/s]\n"
          ]
        },
        {
          "output_type": "stream",
          "name": "stdout",
          "text": [
            "Precomputing scatters...\n",
            "Inferring best change points...\n",
            "Precomputing scatters...\n",
            "Inferring best change points...\n"
          ]
        },
        {
          "output_type": "stream",
          "name": "stderr",
          "text": [
            "100%|██████████| 300/300 [00:09<00:00, 31.49it/s]\n"
          ]
        },
        {
          "output_type": "stream",
          "name": "stdout",
          "text": [
            "Precomputing scatters...\n",
            "Inferring best change points...\n",
            "Precomputing scatters...\n",
            "Inferring best change points...\n"
          ]
        },
        {
          "output_type": "stream",
          "name": "stderr",
          "text": [
            "100%|██████████| 300/300 [00:09<00:00, 31.95it/s]\n"
          ]
        },
        {
          "output_type": "stream",
          "name": "stdout",
          "text": [
            "Precomputing scatters...\n",
            "Inferring best change points...\n",
            "Precomputing scatters...\n",
            "Inferring best change points...\n"
          ]
        },
        {
          "output_type": "stream",
          "name": "stderr",
          "text": [
            "100%|██████████| 300/300 [00:09<00:00, 31.40it/s]\n"
          ]
        },
        {
          "output_type": "stream",
          "name": "stdout",
          "text": [
            "Precomputing scatters...\n",
            "Inferring best change points...\n",
            "Precomputing scatters...\n",
            "Inferring best change points...\n"
          ]
        },
        {
          "output_type": "stream",
          "name": "stderr",
          "text": [
            "100%|██████████| 300/300 [00:09<00:00, 31.16it/s]\n"
          ]
        },
        {
          "output_type": "stream",
          "name": "stdout",
          "text": [
            "Precomputing scatters...\n",
            "Inferring best change points...\n",
            "Precomputing scatters...\n",
            "Inferring best change points...\n"
          ]
        },
        {
          "output_type": "stream",
          "name": "stderr",
          "text": [
            "100%|██████████| 300/300 [00:09<00:00, 30.82it/s]\n"
          ]
        },
        {
          "output_type": "stream",
          "name": "stdout",
          "text": [
            "Precomputing scatters...\n",
            "Inferring best change points...\n",
            "Precomputing scatters...\n",
            "Inferring best change points...\n"
          ]
        },
        {
          "output_type": "stream",
          "name": "stderr",
          "text": [
            "100%|██████████| 300/300 [00:09<00:00, 30.87it/s]\n"
          ]
        },
        {
          "output_type": "stream",
          "name": "stdout",
          "text": [
            "Precomputing scatters...\n",
            "Inferring best change points...\n",
            "Precomputing scatters...\n",
            "Inferring best change points...\n"
          ]
        },
        {
          "output_type": "stream",
          "name": "stderr",
          "text": [
            "100%|██████████| 300/300 [00:09<00:00, 31.31it/s]\n"
          ]
        },
        {
          "output_type": "stream",
          "name": "stdout",
          "text": [
            "Precomputing scatters...\n",
            "Inferring best change points...\n",
            "Precomputing scatters...\n",
            "Inferring best change points...\n"
          ]
        },
        {
          "output_type": "stream",
          "name": "stderr",
          "text": [
            "100%|██████████| 300/300 [00:09<00:00, 31.45it/s]\n"
          ]
        },
        {
          "output_type": "stream",
          "name": "stdout",
          "text": [
            "Precomputing scatters...\n",
            "Inferring best change points...\n",
            "Precomputing scatters...\n",
            "Inferring best change points...\n"
          ]
        },
        {
          "output_type": "stream",
          "name": "stderr",
          "text": [
            "100%|██████████| 300/300 [00:09<00:00, 31.73it/s]\n"
          ]
        },
        {
          "output_type": "stream",
          "name": "stdout",
          "text": [
            "Precomputing scatters...\n",
            "Inferring best change points...\n",
            "Precomputing scatters...\n",
            "Inferring best change points...\n"
          ]
        },
        {
          "output_type": "stream",
          "name": "stderr",
          "text": [
            "100%|██████████| 300/300 [00:09<00:00, 31.54it/s]\n"
          ]
        },
        {
          "output_type": "stream",
          "name": "stdout",
          "text": [
            "Precomputing scatters...\n",
            "Inferring best change points...\n",
            "Precomputing scatters...\n",
            "Inferring best change points...\n"
          ]
        },
        {
          "output_type": "stream",
          "name": "stderr",
          "text": [
            "100%|██████████| 300/300 [00:09<00:00, 31.77it/s]\n"
          ]
        },
        {
          "output_type": "stream",
          "name": "stdout",
          "text": [
            "Precomputing scatters...\n",
            "Inferring best change points...\n",
            "Precomputing scatters...\n",
            "Inferring best change points...\n"
          ]
        },
        {
          "output_type": "stream",
          "name": "stderr",
          "text": [
            "100%|██████████| 300/300 [00:09<00:00, 31.53it/s]\n"
          ]
        },
        {
          "output_type": "stream",
          "name": "stdout",
          "text": [
            "Precomputing scatters...\n",
            "Inferring best change points...\n",
            "Precomputing scatters...\n",
            "Inferring best change points...\n"
          ]
        },
        {
          "output_type": "stream",
          "name": "stderr",
          "text": [
            "100%|██████████| 300/300 [00:09<00:00, 31.69it/s]\n"
          ]
        },
        {
          "output_type": "stream",
          "name": "stdout",
          "text": [
            "Precomputing scatters...\n",
            "Inferring best change points...\n",
            "Precomputing scatters...\n",
            "Inferring best change points...\n"
          ]
        },
        {
          "output_type": "stream",
          "name": "stderr",
          "text": [
            "100%|██████████| 300/300 [00:09<00:00, 31.64it/s]\n"
          ]
        },
        {
          "output_type": "stream",
          "name": "stdout",
          "text": [
            "Precomputing scatters...\n",
            "Inferring best change points...\n",
            "Precomputing scatters...\n",
            "Inferring best change points...\n"
          ]
        },
        {
          "output_type": "stream",
          "name": "stderr",
          "text": [
            "100%|██████████| 300/300 [00:09<00:00, 31.91it/s]\n"
          ]
        },
        {
          "output_type": "stream",
          "name": "stdout",
          "text": [
            "Precomputing scatters...\n",
            "Inferring best change points...\n",
            "Precomputing scatters...\n",
            "Inferring best change points...\n"
          ]
        },
        {
          "output_type": "stream",
          "name": "stderr",
          "text": [
            "100%|██████████| 300/300 [00:09<00:00, 31.72it/s]\n"
          ]
        },
        {
          "output_type": "stream",
          "name": "stdout",
          "text": [
            "Precomputing scatters...\n",
            "Inferring best change points...\n",
            "Precomputing scatters...\n",
            "Inferring best change points...\n"
          ]
        },
        {
          "output_type": "stream",
          "name": "stderr",
          "text": [
            "100%|██████████| 300/300 [00:09<00:00, 31.80it/s]\n"
          ]
        },
        {
          "output_type": "stream",
          "name": "stdout",
          "text": [
            "Precomputing scatters...\n",
            "Inferring best change points...\n",
            "Precomputing scatters...\n",
            "Inferring best change points...\n"
          ]
        },
        {
          "output_type": "stream",
          "name": "stderr",
          "text": [
            "100%|██████████| 300/300 [00:09<00:00, 31.14it/s]\n"
          ]
        },
        {
          "output_type": "stream",
          "name": "stdout",
          "text": [
            "Precomputing scatters...\n",
            "Inferring best change points...\n",
            "Precomputing scatters...\n",
            "Inferring best change points...\n"
          ]
        },
        {
          "output_type": "stream",
          "name": "stderr",
          "text": [
            "100%|██████████| 300/300 [00:09<00:00, 31.96it/s]\n"
          ]
        },
        {
          "output_type": "stream",
          "name": "stdout",
          "text": [
            "Precomputing scatters...\n",
            "Inferring best change points...\n",
            "Precomputing scatters...\n",
            "Inferring best change points...\n"
          ]
        },
        {
          "output_type": "stream",
          "name": "stderr",
          "text": [
            "100%|██████████| 300/300 [00:09<00:00, 32.15it/s]\n"
          ]
        },
        {
          "output_type": "stream",
          "name": "stdout",
          "text": [
            "Precomputing scatters...\n",
            "Inferring best change points...\n",
            "Precomputing scatters...\n",
            "Inferring best change points...\n"
          ]
        },
        {
          "output_type": "stream",
          "name": "stderr",
          "text": [
            "100%|██████████| 300/300 [00:09<00:00, 32.13it/s]\n"
          ]
        },
        {
          "output_type": "stream",
          "name": "stdout",
          "text": [
            "Precomputing scatters...\n",
            "Inferring best change points...\n",
            "Precomputing scatters...\n",
            "Inferring best change points...\n"
          ]
        },
        {
          "output_type": "stream",
          "name": "stderr",
          "text": [
            "100%|██████████| 300/300 [00:09<00:00, 32.16it/s]\n"
          ]
        },
        {
          "output_type": "stream",
          "name": "stdout",
          "text": [
            "Precomputing scatters...\n",
            "Inferring best change points...\n",
            "Precomputing scatters...\n",
            "Inferring best change points...\n"
          ]
        },
        {
          "output_type": "stream",
          "name": "stderr",
          "text": [
            "100%|██████████| 300/300 [00:09<00:00, 33.02it/s]\n"
          ]
        },
        {
          "output_type": "stream",
          "name": "stdout",
          "text": [
            "Precomputing scatters...\n",
            "Inferring best change points...\n",
            "Precomputing scatters...\n",
            "Inferring best change points...\n"
          ]
        },
        {
          "output_type": "stream",
          "name": "stderr",
          "text": [
            "100%|██████████| 300/300 [00:09<00:00, 33.07it/s]\n"
          ]
        },
        {
          "output_type": "stream",
          "name": "stdout",
          "text": [
            "Precomputing scatters...\n",
            "Inferring best change points...\n",
            "Precomputing scatters...\n",
            "Inferring best change points...\n"
          ]
        },
        {
          "output_type": "stream",
          "name": "stderr",
          "text": [
            "100%|██████████| 300/300 [00:09<00:00, 32.42it/s]\n"
          ]
        },
        {
          "output_type": "stream",
          "name": "stdout",
          "text": [
            "Precomputing scatters...\n",
            "Inferring best change points...\n",
            "Precomputing scatters...\n",
            "Inferring best change points...\n"
          ]
        },
        {
          "output_type": "stream",
          "name": "stderr",
          "text": [
            "100%|██████████| 300/300 [00:09<00:00, 32.25it/s]\n"
          ]
        },
        {
          "output_type": "stream",
          "name": "stdout",
          "text": [
            "Precomputing scatters...\n",
            "Inferring best change points...\n",
            "Precomputing scatters...\n",
            "Inferring best change points...\n"
          ]
        },
        {
          "output_type": "stream",
          "name": "stderr",
          "text": [
            "100%|██████████| 300/300 [00:09<00:00, 33.00it/s]\n"
          ]
        },
        {
          "output_type": "stream",
          "name": "stdout",
          "text": [
            "Precomputing scatters...\n",
            "Inferring best change points...\n",
            "Precomputing scatters...\n",
            "Inferring best change points...\n"
          ]
        },
        {
          "output_type": "stream",
          "name": "stderr",
          "text": [
            "100%|██████████| 300/300 [00:09<00:00, 33.17it/s]\n"
          ]
        },
        {
          "output_type": "stream",
          "name": "stdout",
          "text": [
            "Precomputing scatters...\n",
            "Inferring best change points...\n",
            "Precomputing scatters...\n",
            "Inferring best change points...\n"
          ]
        },
        {
          "output_type": "stream",
          "name": "stderr",
          "text": [
            "100%|██████████| 300/300 [00:09<00:00, 33.29it/s]\n"
          ]
        },
        {
          "output_type": "stream",
          "name": "stdout",
          "text": [
            "Precomputing scatters...\n",
            "Inferring best change points...\n",
            "Precomputing scatters...\n",
            "Inferring best change points...\n"
          ]
        },
        {
          "output_type": "stream",
          "name": "stderr",
          "text": [
            "100%|██████████| 300/300 [00:09<00:00, 33.28it/s]\n"
          ]
        },
        {
          "output_type": "stream",
          "name": "stdout",
          "text": [
            "Precomputing scatters...\n",
            "Inferring best change points...\n",
            "Precomputing scatters...\n",
            "Inferring best change points...\n"
          ]
        },
        {
          "output_type": "stream",
          "name": "stderr",
          "text": [
            "100%|██████████| 300/300 [00:09<00:00, 32.48it/s]\n"
          ]
        },
        {
          "output_type": "stream",
          "name": "stdout",
          "text": [
            "Precomputing scatters...\n",
            "Inferring best change points...\n",
            "Precomputing scatters...\n",
            "Inferring best change points...\n"
          ]
        },
        {
          "output_type": "stream",
          "name": "stderr",
          "text": [
            "100%|██████████| 300/300 [00:09<00:00, 32.56it/s]\n"
          ]
        },
        {
          "output_type": "stream",
          "name": "stdout",
          "text": [
            "Precomputing scatters...\n",
            "Inferring best change points...\n",
            "Precomputing scatters...\n",
            "Inferring best change points...\n"
          ]
        },
        {
          "output_type": "stream",
          "name": "stderr",
          "text": [
            "100%|██████████| 300/300 [00:09<00:00, 32.99it/s]\n"
          ]
        },
        {
          "output_type": "stream",
          "name": "stdout",
          "text": [
            "Precomputing scatters...\n",
            "Inferring best change points...\n",
            "Precomputing scatters...\n",
            "Inferring best change points...\n"
          ]
        },
        {
          "output_type": "stream",
          "name": "stderr",
          "text": [
            "100%|██████████| 300/300 [00:09<00:00, 32.69it/s]\n"
          ]
        },
        {
          "output_type": "stream",
          "name": "stdout",
          "text": [
            "Precomputing scatters...\n",
            "Inferring best change points...\n",
            "Precomputing scatters...\n",
            "Inferring best change points...\n"
          ]
        },
        {
          "output_type": "stream",
          "name": "stderr",
          "text": [
            "100%|██████████| 300/300 [00:09<00:00, 32.70it/s]\n"
          ]
        },
        {
          "output_type": "stream",
          "name": "stdout",
          "text": [
            "Precomputing scatters...\n",
            "Inferring best change points...\n",
            "Precomputing scatters...\n",
            "Inferring best change points...\n"
          ]
        },
        {
          "output_type": "stream",
          "name": "stderr",
          "text": [
            "100%|██████████| 300/300 [00:09<00:00, 32.88it/s]\n"
          ]
        },
        {
          "output_type": "stream",
          "name": "stdout",
          "text": [
            "Precomputing scatters...\n",
            "Inferring best change points...\n",
            "Precomputing scatters...\n",
            "Inferring best change points...\n"
          ]
        },
        {
          "output_type": "stream",
          "name": "stderr",
          "text": [
            "100%|██████████| 300/300 [00:09<00:00, 33.04it/s]\n"
          ]
        },
        {
          "output_type": "stream",
          "name": "stdout",
          "text": [
            "Precomputing scatters...\n",
            "Inferring best change points...\n",
            "Precomputing scatters...\n",
            "Inferring best change points...\n"
          ]
        },
        {
          "output_type": "stream",
          "name": "stderr",
          "text": [
            "100%|██████████| 300/300 [00:09<00:00, 32.64it/s]\n"
          ]
        },
        {
          "output_type": "stream",
          "name": "stdout",
          "text": [
            "Precomputing scatters...\n",
            "Inferring best change points...\n",
            "Precomputing scatters...\n",
            "Inferring best change points...\n"
          ]
        },
        {
          "output_type": "stream",
          "name": "stderr",
          "text": [
            "100%|██████████| 300/300 [00:09<00:00, 32.73it/s]\n"
          ]
        },
        {
          "output_type": "stream",
          "name": "stdout",
          "text": [
            "Precomputing scatters...\n",
            "Inferring best change points...\n",
            "Precomputing scatters...\n",
            "Inferring best change points...\n"
          ]
        },
        {
          "output_type": "stream",
          "name": "stderr",
          "text": [
            "100%|██████████| 300/300 [00:09<00:00, 33.22it/s]\n"
          ]
        },
        {
          "output_type": "stream",
          "name": "stdout",
          "text": [
            "Precomputing scatters...\n",
            "Inferring best change points...\n",
            "Precomputing scatters...\n",
            "Inferring best change points...\n"
          ]
        },
        {
          "output_type": "stream",
          "name": "stderr",
          "text": [
            "100%|██████████| 300/300 [00:09<00:00, 33.06it/s]\n"
          ]
        },
        {
          "output_type": "stream",
          "name": "stdout",
          "text": [
            "Precomputing scatters...\n",
            "Inferring best change points...\n",
            "Precomputing scatters...\n",
            "Inferring best change points...\n"
          ]
        },
        {
          "output_type": "stream",
          "name": "stderr",
          "text": [
            "100%|██████████| 300/300 [00:09<00:00, 32.66it/s]\n"
          ]
        },
        {
          "output_type": "stream",
          "name": "stdout",
          "text": [
            "Precomputing scatters...\n",
            "Inferring best change points...\n",
            "Precomputing scatters...\n",
            "Inferring best change points...\n"
          ]
        },
        {
          "output_type": "stream",
          "name": "stderr",
          "text": [
            "100%|██████████| 300/300 [00:09<00:00, 32.61it/s]\n"
          ]
        },
        {
          "output_type": "stream",
          "name": "stdout",
          "text": [
            "Precomputing scatters...\n",
            "Inferring best change points...\n",
            "Precomputing scatters...\n",
            "Inferring best change points...\n"
          ]
        },
        {
          "output_type": "stream",
          "name": "stderr",
          "text": [
            "100%|██████████| 300/300 [00:09<00:00, 33.03it/s]\n"
          ]
        },
        {
          "output_type": "stream",
          "name": "stdout",
          "text": [
            "Precomputing scatters...\n",
            "Inferring best change points...\n",
            "Precomputing scatters...\n",
            "Inferring best change points...\n"
          ]
        },
        {
          "output_type": "stream",
          "name": "stderr",
          "text": [
            "100%|██████████| 300/300 [00:09<00:00, 32.68it/s]\n"
          ]
        },
        {
          "output_type": "stream",
          "name": "stdout",
          "text": [
            "Precomputing scatters...\n",
            "Inferring best change points...\n",
            "Precomputing scatters...\n",
            "Inferring best change points...\n"
          ]
        },
        {
          "output_type": "stream",
          "name": "stderr",
          "text": [
            "100%|██████████| 300/300 [00:09<00:00, 32.84it/s]\n"
          ]
        },
        {
          "output_type": "stream",
          "name": "stdout",
          "text": [
            "Precomputing scatters...\n",
            "Inferring best change points...\n",
            "Precomputing scatters...\n",
            "Inferring best change points...\n"
          ]
        },
        {
          "output_type": "stream",
          "name": "stderr",
          "text": [
            "100%|██████████| 300/300 [00:09<00:00, 32.80it/s]\n"
          ]
        },
        {
          "output_type": "stream",
          "name": "stdout",
          "text": [
            "Precomputing scatters...\n",
            "Inferring best change points...\n",
            "Precomputing scatters...\n",
            "Inferring best change points...\n"
          ]
        },
        {
          "output_type": "stream",
          "name": "stderr",
          "text": [
            "100%|██████████| 300/300 [00:09<00:00, 32.74it/s]\n"
          ]
        },
        {
          "output_type": "stream",
          "name": "stdout",
          "text": [
            "Precomputing scatters...\n",
            "Inferring best change points...\n",
            "Precomputing scatters...\n",
            "Inferring best change points...\n"
          ]
        },
        {
          "output_type": "stream",
          "name": "stderr",
          "text": [
            "100%|██████████| 300/300 [00:09<00:00, 32.77it/s]\n"
          ]
        },
        {
          "output_type": "stream",
          "name": "stdout",
          "text": [
            "Precomputing scatters...\n",
            "Inferring best change points...\n",
            "Precomputing scatters...\n",
            "Inferring best change points...\n"
          ]
        },
        {
          "output_type": "stream",
          "name": "stderr",
          "text": [
            "100%|██████████| 300/300 [00:09<00:00, 32.73it/s]\n"
          ]
        },
        {
          "output_type": "stream",
          "name": "stdout",
          "text": [
            "Precomputing scatters...\n",
            "Inferring best change points...\n",
            "Precomputing scatters...\n",
            "Inferring best change points...\n"
          ]
        },
        {
          "output_type": "stream",
          "name": "stderr",
          "text": [
            "100%|██████████| 300/300 [00:09<00:00, 32.68it/s]\n"
          ]
        },
        {
          "output_type": "stream",
          "name": "stdout",
          "text": [
            "Precomputing scatters...\n",
            "Inferring best change points...\n",
            "Precomputing scatters...\n",
            "Inferring best change points...\n"
          ]
        },
        {
          "output_type": "stream",
          "name": "stderr",
          "text": [
            "100%|██████████| 300/300 [00:09<00:00, 32.75it/s]\n"
          ]
        },
        {
          "output_type": "stream",
          "name": "stdout",
          "text": [
            "Precomputing scatters...\n",
            "Inferring best change points...\n",
            "Precomputing scatters...\n",
            "Inferring best change points...\n"
          ]
        },
        {
          "output_type": "stream",
          "name": "stderr",
          "text": [
            "100%|██████████| 300/300 [00:09<00:00, 32.48it/s]\n"
          ]
        },
        {
          "output_type": "stream",
          "name": "stdout",
          "text": [
            "Precomputing scatters...\n",
            "Inferring best change points...\n",
            "Precomputing scatters...\n",
            "Inferring best change points...\n"
          ]
        },
        {
          "output_type": "stream",
          "name": "stderr",
          "text": [
            "100%|██████████| 300/300 [00:09<00:00, 33.02it/s]\n"
          ]
        },
        {
          "output_type": "stream",
          "name": "stdout",
          "text": [
            "Precomputing scatters...\n",
            "Inferring best change points...\n",
            "Precomputing scatters...\n",
            "Inferring best change points...\n"
          ]
        },
        {
          "output_type": "stream",
          "name": "stderr",
          "text": [
            "100%|██████████| 300/300 [00:09<00:00, 32.89it/s]\n"
          ]
        },
        {
          "output_type": "stream",
          "name": "stdout",
          "text": [
            "Precomputing scatters...\n",
            "Inferring best change points...\n",
            "Precomputing scatters...\n",
            "Inferring best change points...\n"
          ]
        },
        {
          "output_type": "stream",
          "name": "stderr",
          "text": [
            "100%|██████████| 300/300 [00:09<00:00, 32.89it/s]\n"
          ]
        },
        {
          "output_type": "stream",
          "name": "stdout",
          "text": [
            "Precomputing scatters...\n",
            "Inferring best change points...\n",
            "Precomputing scatters...\n",
            "Inferring best change points...\n"
          ]
        },
        {
          "output_type": "stream",
          "name": "stderr",
          "text": [
            "100%|██████████| 300/300 [00:09<00:00, 32.58it/s]\n"
          ]
        },
        {
          "output_type": "stream",
          "name": "stdout",
          "text": [
            "Precomputing scatters...\n",
            "Inferring best change points...\n",
            "Precomputing scatters...\n",
            "Inferring best change points...\n"
          ]
        },
        {
          "output_type": "stream",
          "name": "stderr",
          "text": [
            "100%|██████████| 300/300 [00:09<00:00, 32.92it/s]\n"
          ]
        },
        {
          "output_type": "stream",
          "name": "stdout",
          "text": [
            "Precomputing scatters...\n",
            "Inferring best change points...\n",
            "Precomputing scatters...\n",
            "Inferring best change points...\n"
          ]
        },
        {
          "output_type": "stream",
          "name": "stderr",
          "text": [
            "100%|██████████| 300/300 [00:09<00:00, 33.09it/s]\n"
          ]
        },
        {
          "output_type": "stream",
          "name": "stdout",
          "text": [
            "Precomputing scatters...\n",
            "Inferring best change points...\n",
            "Precomputing scatters...\n",
            "Inferring best change points...\n"
          ]
        },
        {
          "output_type": "stream",
          "name": "stderr",
          "text": [
            "100%|██████████| 300/300 [00:09<00:00, 32.61it/s]\n"
          ]
        },
        {
          "output_type": "stream",
          "name": "stdout",
          "text": [
            "Precomputing scatters...\n",
            "Inferring best change points...\n",
            "Precomputing scatters...\n",
            "Inferring best change points...\n"
          ]
        },
        {
          "output_type": "stream",
          "name": "stderr",
          "text": [
            "100%|██████████| 300/300 [00:09<00:00, 32.58it/s]\n"
          ]
        },
        {
          "output_type": "stream",
          "name": "stdout",
          "text": [
            "Precomputing scatters...\n",
            "Inferring best change points...\n",
            "Precomputing scatters...\n",
            "Inferring best change points...\n"
          ]
        },
        {
          "output_type": "stream",
          "name": "stderr",
          "text": [
            "100%|██████████| 300/300 [00:09<00:00, 33.01it/s]\n"
          ]
        },
        {
          "output_type": "stream",
          "name": "stdout",
          "text": [
            "Precomputing scatters...\n",
            "Inferring best change points...\n",
            "Precomputing scatters...\n",
            "Inferring best change points...\n"
          ]
        },
        {
          "output_type": "stream",
          "name": "stderr",
          "text": [
            "100%|██████████| 300/300 [00:09<00:00, 33.13it/s]\n"
          ]
        },
        {
          "output_type": "stream",
          "name": "stdout",
          "text": [
            "Precomputing scatters...\n",
            "Inferring best change points...\n",
            "Precomputing scatters...\n",
            "Inferring best change points...\n"
          ]
        },
        {
          "output_type": "stream",
          "name": "stderr",
          "text": [
            "100%|██████████| 300/300 [00:09<00:00, 32.38it/s]\n"
          ]
        },
        {
          "output_type": "stream",
          "name": "stdout",
          "text": [
            "Precomputing scatters...\n",
            "Inferring best change points...\n",
            "Precomputing scatters...\n",
            "Inferring best change points...\n"
          ]
        },
        {
          "output_type": "stream",
          "name": "stderr",
          "text": [
            "100%|██████████| 300/300 [00:09<00:00, 32.80it/s]\n"
          ]
        },
        {
          "output_type": "stream",
          "name": "stdout",
          "text": [
            "Precomputing scatters...\n",
            "Inferring best change points...\n",
            "Precomputing scatters...\n",
            "Inferring best change points...\n"
          ]
        },
        {
          "output_type": "stream",
          "name": "stderr",
          "text": [
            "100%|██████████| 300/300 [00:09<00:00, 33.00it/s]\n"
          ]
        },
        {
          "output_type": "stream",
          "name": "stdout",
          "text": [
            "Precomputing scatters...\n",
            "Inferring best change points...\n",
            "Precomputing scatters...\n",
            "Inferring best change points...\n"
          ]
        },
        {
          "output_type": "stream",
          "name": "stderr",
          "text": [
            "100%|██████████| 300/300 [00:09<00:00, 32.78it/s]\n"
          ]
        },
        {
          "output_type": "stream",
          "name": "stdout",
          "text": [
            "Precomputing scatters...\n",
            "Inferring best change points...\n",
            "Precomputing scatters...\n",
            "Inferring best change points...\n"
          ]
        },
        {
          "output_type": "stream",
          "name": "stderr",
          "text": [
            "100%|██████████| 300/300 [00:09<00:00, 31.81it/s]\n"
          ]
        },
        {
          "output_type": "stream",
          "name": "stdout",
          "text": [
            "Precomputing scatters...\n",
            "Inferring best change points...\n",
            "Precomputing scatters...\n",
            "Inferring best change points...\n"
          ]
        },
        {
          "output_type": "stream",
          "name": "stderr",
          "text": [
            "100%|██████████| 300/300 [00:09<00:00, 31.73it/s]\n"
          ]
        },
        {
          "output_type": "stream",
          "name": "stdout",
          "text": [
            "Precomputing scatters...\n",
            "Inferring best change points...\n",
            "Precomputing scatters...\n",
            "Inferring best change points...\n"
          ]
        },
        {
          "output_type": "stream",
          "name": "stderr",
          "text": [
            "100%|██████████| 300/300 [00:09<00:00, 32.18it/s]\n"
          ]
        },
        {
          "output_type": "stream",
          "name": "stdout",
          "text": [
            "Precomputing scatters...\n",
            "Inferring best change points...\n",
            "Precomputing scatters...\n",
            "Inferring best change points...\n"
          ]
        },
        {
          "output_type": "stream",
          "name": "stderr",
          "text": [
            "100%|██████████| 300/300 [00:09<00:00, 32.37it/s]\n"
          ]
        },
        {
          "output_type": "stream",
          "name": "stdout",
          "text": [
            "Precomputing scatters...\n",
            "Inferring best change points...\n",
            "Precomputing scatters...\n",
            "Inferring best change points...\n"
          ]
        },
        {
          "output_type": "stream",
          "name": "stderr",
          "text": [
            "100%|██████████| 300/300 [00:09<00:00, 32.62it/s]\n"
          ]
        },
        {
          "output_type": "stream",
          "name": "stdout",
          "text": [
            "Precomputing scatters...\n",
            "Inferring best change points...\n",
            "Precomputing scatters...\n",
            "Inferring best change points...\n"
          ]
        },
        {
          "output_type": "stream",
          "name": "stderr",
          "text": [
            "100%|██████████| 300/300 [00:09<00:00, 32.58it/s]\n"
          ]
        },
        {
          "output_type": "stream",
          "name": "stdout",
          "text": [
            "Precomputing scatters...\n",
            "Inferring best change points...\n",
            "Precomputing scatters...\n",
            "Inferring best change points...\n"
          ]
        },
        {
          "output_type": "stream",
          "name": "stderr",
          "text": [
            "100%|██████████| 300/300 [00:09<00:00, 31.62it/s]\n"
          ]
        },
        {
          "output_type": "stream",
          "name": "stdout",
          "text": [
            "Precomputing scatters...\n",
            "Inferring best change points...\n",
            "Precomputing scatters...\n",
            "Inferring best change points...\n"
          ]
        },
        {
          "output_type": "stream",
          "name": "stderr",
          "text": [
            "100%|██████████| 300/300 [00:09<00:00, 31.56it/s]\n"
          ]
        },
        {
          "output_type": "stream",
          "name": "stdout",
          "text": [
            "Precomputing scatters...\n",
            "Inferring best change points...\n",
            "Precomputing scatters...\n",
            "Inferring best change points...\n"
          ]
        },
        {
          "output_type": "stream",
          "name": "stderr",
          "text": [
            "100%|██████████| 300/300 [00:09<00:00, 32.11it/s]\n"
          ]
        },
        {
          "output_type": "stream",
          "name": "stdout",
          "text": [
            "Precomputing scatters...\n",
            "Inferring best change points...\n",
            "Precomputing scatters...\n",
            "Inferring best change points...\n"
          ]
        },
        {
          "output_type": "stream",
          "name": "stderr",
          "text": [
            "100%|██████████| 300/300 [00:09<00:00, 32.38it/s]\n"
          ]
        },
        {
          "output_type": "stream",
          "name": "stdout",
          "text": [
            "Precomputing scatters...\n",
            "Inferring best change points...\n",
            "Precomputing scatters...\n",
            "Inferring best change points...\n"
          ]
        },
        {
          "output_type": "stream",
          "name": "stderr",
          "text": [
            "100%|██████████| 300/300 [00:09<00:00, 32.31it/s]\n"
          ]
        },
        {
          "output_type": "stream",
          "name": "stdout",
          "text": [
            "Precomputing scatters...\n",
            "Inferring best change points...\n",
            "Precomputing scatters...\n",
            "Inferring best change points...\n"
          ]
        },
        {
          "output_type": "stream",
          "name": "stderr",
          "text": [
            "100%|██████████| 300/300 [00:09<00:00, 32.31it/s]\n"
          ]
        },
        {
          "output_type": "stream",
          "name": "stdout",
          "text": [
            "Precomputing scatters...\n",
            "Inferring best change points...\n",
            "Precomputing scatters...\n",
            "Inferring best change points...\n"
          ]
        },
        {
          "output_type": "stream",
          "name": "stderr",
          "text": [
            "100%|██████████| 300/300 [00:09<00:00, 32.64it/s]\n"
          ]
        },
        {
          "output_type": "stream",
          "name": "stdout",
          "text": [
            "Precomputing scatters...\n",
            "Inferring best change points...\n",
            "Precomputing scatters...\n",
            "Inferring best change points...\n"
          ]
        },
        {
          "output_type": "stream",
          "name": "stderr",
          "text": [
            "100%|██████████| 300/300 [00:09<00:00, 32.71it/s]\n"
          ]
        },
        {
          "output_type": "stream",
          "name": "stdout",
          "text": [
            "Precomputing scatters...\n",
            "Inferring best change points...\n",
            "Precomputing scatters...\n",
            "Inferring best change points...\n"
          ]
        },
        {
          "output_type": "stream",
          "name": "stderr",
          "text": [
            "100%|██████████| 300/300 [00:09<00:00, 32.25it/s]\n"
          ]
        },
        {
          "output_type": "stream",
          "name": "stdout",
          "text": [
            "Precomputing scatters...\n",
            "Inferring best change points...\n",
            "Precomputing scatters...\n",
            "Inferring best change points...\n"
          ]
        },
        {
          "output_type": "stream",
          "name": "stderr",
          "text": [
            "100%|██████████| 300/300 [00:09<00:00, 32.54it/s]\n"
          ]
        },
        {
          "output_type": "stream",
          "name": "stdout",
          "text": [
            "Precomputing scatters...\n",
            "Inferring best change points...\n",
            "Precomputing scatters...\n",
            "Inferring best change points...\n"
          ]
        },
        {
          "output_type": "stream",
          "name": "stderr",
          "text": [
            "100%|██████████| 300/300 [00:09<00:00, 32.28it/s]\n"
          ]
        },
        {
          "output_type": "stream",
          "name": "stdout",
          "text": [
            "Precomputing scatters...\n",
            "Inferring best change points...\n",
            "Precomputing scatters...\n",
            "Inferring best change points...\n"
          ]
        },
        {
          "output_type": "stream",
          "name": "stderr",
          "text": [
            "100%|██████████| 300/300 [00:09<00:00, 32.23it/s]\n"
          ]
        },
        {
          "output_type": "stream",
          "name": "stdout",
          "text": [
            "Precomputing scatters...\n",
            "Inferring best change points...\n",
            "Precomputing scatters...\n",
            "Inferring best change points...\n"
          ]
        },
        {
          "output_type": "stream",
          "name": "stderr",
          "text": [
            "100%|██████████| 300/300 [00:09<00:00, 32.24it/s]\n"
          ]
        },
        {
          "output_type": "stream",
          "name": "stdout",
          "text": [
            "Precomputing scatters...\n",
            "Inferring best change points...\n",
            "Precomputing scatters...\n",
            "Inferring best change points...\n"
          ]
        },
        {
          "output_type": "stream",
          "name": "stderr",
          "text": [
            "100%|██████████| 300/300 [00:09<00:00, 30.73it/s]\n"
          ]
        },
        {
          "output_type": "stream",
          "name": "stdout",
          "text": [
            "Precomputing scatters...\n",
            "Inferring best change points...\n",
            "Precomputing scatters...\n",
            "Inferring best change points...\n"
          ]
        },
        {
          "output_type": "stream",
          "name": "stderr",
          "text": [
            "100%|██████████| 300/300 [00:09<00:00, 31.11it/s]\n"
          ]
        },
        {
          "output_type": "stream",
          "name": "stdout",
          "text": [
            "Precomputing scatters...\n",
            "Inferring best change points...\n",
            "Precomputing scatters...\n",
            "Inferring best change points...\n"
          ]
        },
        {
          "output_type": "stream",
          "name": "stderr",
          "text": [
            "100%|██████████| 300/300 [00:09<00:00, 31.08it/s]\n"
          ]
        },
        {
          "output_type": "stream",
          "name": "stdout",
          "text": [
            "Precomputing scatters...\n",
            "Inferring best change points...\n",
            "Precomputing scatters...\n",
            "Inferring best change points...\n"
          ]
        },
        {
          "output_type": "stream",
          "name": "stderr",
          "text": [
            "100%|██████████| 300/300 [00:09<00:00, 31.45it/s]\n"
          ]
        },
        {
          "output_type": "stream",
          "name": "stdout",
          "text": [
            "Precomputing scatters...\n",
            "Inferring best change points...\n",
            "Precomputing scatters...\n",
            "Inferring best change points...\n"
          ]
        },
        {
          "output_type": "stream",
          "name": "stderr",
          "text": [
            "100%|██████████| 300/300 [00:09<00:00, 31.09it/s]\n"
          ]
        },
        {
          "output_type": "stream",
          "name": "stdout",
          "text": [
            "Precomputing scatters...\n",
            "Inferring best change points...\n",
            "Precomputing scatters...\n",
            "Inferring best change points...\n"
          ]
        },
        {
          "output_type": "stream",
          "name": "stderr",
          "text": [
            "100%|██████████| 300/300 [00:09<00:00, 30.80it/s]\n"
          ]
        },
        {
          "output_type": "stream",
          "name": "stdout",
          "text": [
            "Precomputing scatters...\n",
            "Inferring best change points...\n",
            "Precomputing scatters...\n",
            "Inferring best change points...\n"
          ]
        },
        {
          "output_type": "stream",
          "name": "stderr",
          "text": [
            "100%|██████████| 300/300 [00:09<00:00, 30.89it/s]\n"
          ]
        },
        {
          "output_type": "stream",
          "name": "stdout",
          "text": [
            "Precomputing scatters...\n",
            "Inferring best change points...\n",
            "Precomputing scatters...\n",
            "Inferring best change points...\n"
          ]
        },
        {
          "output_type": "stream",
          "name": "stderr",
          "text": [
            "100%|██████████| 300/300 [00:09<00:00, 30.77it/s]\n"
          ]
        },
        {
          "output_type": "stream",
          "name": "stdout",
          "text": [
            "Precomputing scatters...\n",
            "Inferring best change points...\n",
            "Precomputing scatters...\n",
            "Inferring best change points...\n"
          ]
        },
        {
          "output_type": "stream",
          "name": "stderr",
          "text": [
            "100%|██████████| 300/300 [00:09<00:00, 30.91it/s]\n"
          ]
        },
        {
          "output_type": "stream",
          "name": "stdout",
          "text": [
            "Precomputing scatters...\n",
            "Inferring best change points...\n",
            "Precomputing scatters...\n",
            "Inferring best change points...\n"
          ]
        },
        {
          "output_type": "stream",
          "name": "stderr",
          "text": [
            "100%|██████████| 300/300 [00:09<00:00, 30.98it/s]\n"
          ]
        },
        {
          "output_type": "stream",
          "name": "stdout",
          "text": [
            "Precomputing scatters...\n",
            "Inferring best change points...\n",
            "Precomputing scatters...\n",
            "Inferring best change points...\n"
          ]
        },
        {
          "output_type": "stream",
          "name": "stderr",
          "text": [
            "100%|██████████| 300/300 [00:09<00:00, 31.64it/s]\n"
          ]
        },
        {
          "output_type": "stream",
          "name": "stdout",
          "text": [
            "Precomputing scatters...\n",
            "Inferring best change points...\n",
            "Precomputing scatters...\n",
            "Inferring best change points...\n"
          ]
        },
        {
          "output_type": "stream",
          "name": "stderr",
          "text": [
            "100%|██████████| 300/300 [00:09<00:00, 31.10it/s]\n"
          ]
        },
        {
          "output_type": "stream",
          "name": "stdout",
          "text": [
            "Precomputing scatters...\n",
            "Inferring best change points...\n",
            "Precomputing scatters...\n",
            "Inferring best change points...\n"
          ]
        },
        {
          "output_type": "stream",
          "name": "stderr",
          "text": [
            "100%|██████████| 300/300 [00:09<00:00, 31.52it/s]\n"
          ]
        },
        {
          "output_type": "stream",
          "name": "stdout",
          "text": [
            "Precomputing scatters...\n",
            "Inferring best change points...\n",
            "Precomputing scatters...\n",
            "Inferring best change points...\n"
          ]
        },
        {
          "output_type": "stream",
          "name": "stderr",
          "text": [
            "100%|██████████| 300/300 [00:09<00:00, 31.50it/s]\n"
          ]
        },
        {
          "output_type": "stream",
          "name": "stdout",
          "text": [
            "Precomputing scatters...\n",
            "Inferring best change points...\n",
            "Precomputing scatters...\n",
            "Inferring best change points...\n"
          ]
        },
        {
          "output_type": "stream",
          "name": "stderr",
          "text": [
            "100%|██████████| 300/300 [00:09<00:00, 31.79it/s]\n"
          ]
        },
        {
          "output_type": "stream",
          "name": "stdout",
          "text": [
            "Precomputing scatters...\n",
            "Inferring best change points...\n",
            "Precomputing scatters...\n",
            "Inferring best change points...\n"
          ]
        },
        {
          "output_type": "stream",
          "name": "stderr",
          "text": [
            "100%|██████████| 300/300 [00:09<00:00, 31.26it/s]\n"
          ]
        },
        {
          "output_type": "stream",
          "name": "stdout",
          "text": [
            "Precomputing scatters...\n",
            "Inferring best change points...\n",
            "Precomputing scatters...\n",
            "Inferring best change points...\n"
          ]
        },
        {
          "output_type": "stream",
          "name": "stderr",
          "text": [
            "100%|██████████| 300/300 [00:09<00:00, 31.79it/s]\n"
          ]
        },
        {
          "output_type": "stream",
          "name": "stdout",
          "text": [
            "Precomputing scatters...\n",
            "Inferring best change points...\n",
            "Precomputing scatters...\n",
            "Inferring best change points...\n"
          ]
        },
        {
          "output_type": "stream",
          "name": "stderr",
          "text": [
            "100%|██████████| 300/300 [00:09<00:00, 31.44it/s]\n"
          ]
        },
        {
          "output_type": "stream",
          "name": "stdout",
          "text": [
            "Precomputing scatters...\n",
            "Inferring best change points...\n",
            "Precomputing scatters...\n",
            "Inferring best change points...\n"
          ]
        },
        {
          "output_type": "stream",
          "name": "stderr",
          "text": [
            "100%|██████████| 300/300 [00:09<00:00, 31.41it/s]\n"
          ]
        },
        {
          "output_type": "stream",
          "name": "stdout",
          "text": [
            "Precomputing scatters...\n",
            "Inferring best change points...\n",
            "Precomputing scatters...\n",
            "Inferring best change points...\n"
          ]
        },
        {
          "output_type": "stream",
          "name": "stderr",
          "text": [
            "100%|██████████| 300/300 [00:09<00:00, 31.42it/s]\n"
          ]
        },
        {
          "output_type": "stream",
          "name": "stdout",
          "text": [
            "Precomputing scatters...\n",
            "Inferring best change points...\n",
            "Precomputing scatters...\n",
            "Inferring best change points...\n"
          ]
        },
        {
          "output_type": "stream",
          "name": "stderr",
          "text": [
            "100%|██████████| 300/300 [00:09<00:00, 31.83it/s]\n"
          ]
        },
        {
          "output_type": "stream",
          "name": "stdout",
          "text": [
            "Precomputing scatters...\n",
            "Inferring best change points...\n",
            "Precomputing scatters...\n",
            "Inferring best change points...\n"
          ]
        },
        {
          "output_type": "stream",
          "name": "stderr",
          "text": [
            "100%|██████████| 300/300 [00:09<00:00, 32.00it/s]\n"
          ]
        },
        {
          "output_type": "stream",
          "name": "stdout",
          "text": [
            "Precomputing scatters...\n",
            "Inferring best change points...\n",
            "Precomputing scatters...\n",
            "Inferring best change points...\n"
          ]
        },
        {
          "output_type": "stream",
          "name": "stderr",
          "text": [
            "100%|██████████| 300/300 [00:09<00:00, 31.32it/s]\n"
          ]
        },
        {
          "output_type": "stream",
          "name": "stdout",
          "text": [
            "Precomputing scatters...\n",
            "Inferring best change points...\n",
            "Precomputing scatters...\n",
            "Inferring best change points...\n"
          ]
        },
        {
          "output_type": "stream",
          "name": "stderr",
          "text": [
            "100%|██████████| 300/300 [00:09<00:00, 31.61it/s]\n"
          ]
        },
        {
          "output_type": "stream",
          "name": "stdout",
          "text": [
            "Precomputing scatters...\n",
            "Inferring best change points...\n",
            "Precomputing scatters...\n",
            "Inferring best change points...\n"
          ]
        },
        {
          "output_type": "stream",
          "name": "stderr",
          "text": [
            "100%|██████████| 300/300 [00:09<00:00, 31.78it/s]\n"
          ]
        },
        {
          "output_type": "stream",
          "name": "stdout",
          "text": [
            "Precomputing scatters...\n",
            "Inferring best change points...\n",
            "Precomputing scatters...\n",
            "Inferring best change points...\n"
          ]
        },
        {
          "output_type": "stream",
          "name": "stderr",
          "text": [
            "100%|██████████| 300/300 [00:09<00:00, 31.29it/s]\n"
          ]
        },
        {
          "output_type": "stream",
          "name": "stdout",
          "text": [
            "Precomputing scatters...\n",
            "Inferring best change points...\n",
            "Precomputing scatters...\n",
            "Inferring best change points...\n"
          ]
        },
        {
          "output_type": "stream",
          "name": "stderr",
          "text": [
            "100%|██████████| 300/300 [00:09<00:00, 32.03it/s]\n"
          ]
        },
        {
          "output_type": "stream",
          "name": "stdout",
          "text": [
            "Precomputing scatters...\n",
            "Inferring best change points...\n",
            "Precomputing scatters...\n",
            "Inferring best change points...\n"
          ]
        },
        {
          "output_type": "stream",
          "name": "stderr",
          "text": [
            "100%|██████████| 300/300 [00:09<00:00, 31.17it/s]\n"
          ]
        },
        {
          "output_type": "stream",
          "name": "stdout",
          "text": [
            "Precomputing scatters...\n",
            "Inferring best change points...\n",
            "Precomputing scatters...\n",
            "Inferring best change points...\n"
          ]
        },
        {
          "output_type": "stream",
          "name": "stderr",
          "text": [
            "100%|██████████| 300/300 [00:09<00:00, 32.21it/s]\n"
          ]
        },
        {
          "output_type": "stream",
          "name": "stdout",
          "text": [
            "Precomputing scatters...\n",
            "Inferring best change points...\n",
            "Precomputing scatters...\n",
            "Inferring best change points...\n"
          ]
        },
        {
          "output_type": "stream",
          "name": "stderr",
          "text": [
            "100%|██████████| 300/300 [00:09<00:00, 31.51it/s]\n"
          ]
        },
        {
          "output_type": "stream",
          "name": "stdout",
          "text": [
            "Precomputing scatters...\n",
            "Inferring best change points...\n",
            "Precomputing scatters...\n",
            "Inferring best change points...\n"
          ]
        },
        {
          "output_type": "stream",
          "name": "stderr",
          "text": [
            "100%|██████████| 300/300 [00:09<00:00, 31.79it/s]\n"
          ]
        },
        {
          "output_type": "stream",
          "name": "stdout",
          "text": [
            "Precomputing scatters...\n",
            "Inferring best change points...\n",
            "Precomputing scatters...\n",
            "Inferring best change points...\n"
          ]
        },
        {
          "output_type": "stream",
          "name": "stderr",
          "text": [
            "100%|██████████| 300/300 [00:09<00:00, 31.80it/s]\n"
          ]
        },
        {
          "output_type": "stream",
          "name": "stdout",
          "text": [
            "Precomputing scatters...\n",
            "Inferring best change points...\n",
            "Precomputing scatters...\n",
            "Inferring best change points...\n"
          ]
        },
        {
          "output_type": "stream",
          "name": "stderr",
          "text": [
            "100%|██████████| 300/300 [00:09<00:00, 31.78it/s]\n"
          ]
        },
        {
          "output_type": "stream",
          "name": "stdout",
          "text": [
            "Precomputing scatters...\n",
            "Inferring best change points...\n",
            "Precomputing scatters...\n",
            "Inferring best change points...\n"
          ]
        },
        {
          "output_type": "stream",
          "name": "stderr",
          "text": [
            "100%|██████████| 300/300 [00:09<00:00, 31.51it/s]\n"
          ]
        },
        {
          "output_type": "stream",
          "name": "stdout",
          "text": [
            "Precomputing scatters...\n",
            "Inferring best change points...\n",
            "Precomputing scatters...\n",
            "Inferring best change points...\n"
          ]
        },
        {
          "output_type": "stream",
          "name": "stderr",
          "text": [
            "100%|██████████| 300/300 [00:09<00:00, 31.40it/s]\n"
          ]
        },
        {
          "output_type": "stream",
          "name": "stdout",
          "text": [
            "Precomputing scatters...\n",
            "Inferring best change points...\n",
            "Precomputing scatters...\n",
            "Inferring best change points...\n"
          ]
        },
        {
          "output_type": "stream",
          "name": "stderr",
          "text": [
            "100%|██████████| 300/300 [00:09<00:00, 31.90it/s]\n"
          ]
        },
        {
          "output_type": "stream",
          "name": "stdout",
          "text": [
            "Precomputing scatters...\n",
            "Inferring best change points...\n",
            "Precomputing scatters...\n",
            "Inferring best change points...\n"
          ]
        },
        {
          "output_type": "stream",
          "name": "stderr",
          "text": [
            "100%|██████████| 300/300 [00:09<00:00, 30.62it/s]\n"
          ]
        },
        {
          "output_type": "stream",
          "name": "stdout",
          "text": [
            "Precomputing scatters...\n",
            "Inferring best change points...\n",
            "Precomputing scatters...\n",
            "Inferring best change points...\n"
          ]
        },
        {
          "output_type": "stream",
          "name": "stderr",
          "text": [
            "100%|██████████| 300/300 [00:09<00:00, 31.41it/s]\n"
          ]
        },
        {
          "output_type": "stream",
          "name": "stdout",
          "text": [
            "Precomputing scatters...\n",
            "Inferring best change points...\n",
            "Precomputing scatters...\n",
            "Inferring best change points...\n"
          ]
        },
        {
          "output_type": "stream",
          "name": "stderr",
          "text": [
            "100%|██████████| 300/300 [00:09<00:00, 32.66it/s]\n"
          ]
        },
        {
          "output_type": "stream",
          "name": "stdout",
          "text": [
            "Precomputing scatters...\n",
            "Inferring best change points...\n",
            "Precomputing scatters...\n",
            "Inferring best change points...\n"
          ]
        },
        {
          "output_type": "stream",
          "name": "stderr",
          "text": [
            "100%|██████████| 300/300 [00:09<00:00, 32.34it/s]\n"
          ]
        },
        {
          "output_type": "stream",
          "name": "stdout",
          "text": [
            "Precomputing scatters...\n",
            "Inferring best change points...\n",
            "Precomputing scatters...\n",
            "Inferring best change points...\n"
          ]
        },
        {
          "output_type": "stream",
          "name": "stderr",
          "text": [
            "100%|██████████| 300/300 [00:09<00:00, 32.48it/s]\n"
          ]
        },
        {
          "output_type": "stream",
          "name": "stdout",
          "text": [
            "Precomputing scatters...\n",
            "Inferring best change points...\n",
            "Precomputing scatters...\n",
            "Inferring best change points...\n"
          ]
        },
        {
          "output_type": "stream",
          "name": "stderr",
          "text": [
            "100%|██████████| 300/300 [00:09<00:00, 32.69it/s]\n"
          ]
        },
        {
          "output_type": "stream",
          "name": "stdout",
          "text": [
            "Precomputing scatters...\n",
            "Inferring best change points...\n",
            "Precomputing scatters...\n",
            "Inferring best change points...\n"
          ]
        },
        {
          "output_type": "stream",
          "name": "stderr",
          "text": [
            "100%|██████████| 300/300 [00:09<00:00, 32.35it/s]\n"
          ]
        },
        {
          "output_type": "stream",
          "name": "stdout",
          "text": [
            "Precomputing scatters...\n",
            "Inferring best change points...\n",
            "Precomputing scatters...\n",
            "Inferring best change points...\n"
          ]
        },
        {
          "output_type": "stream",
          "name": "stderr",
          "text": [
            "100%|██████████| 300/300 [00:09<00:00, 31.57it/s]\n"
          ]
        },
        {
          "output_type": "stream",
          "name": "stdout",
          "text": [
            "Precomputing scatters...\n",
            "Inferring best change points...\n",
            "Precomputing scatters...\n",
            "Inferring best change points...\n"
          ]
        },
        {
          "output_type": "stream",
          "name": "stderr",
          "text": [
            "100%|██████████| 300/300 [00:09<00:00, 31.95it/s]\n"
          ]
        },
        {
          "output_type": "stream",
          "name": "stdout",
          "text": [
            "Precomputing scatters...\n",
            "Inferring best change points...\n",
            "Precomputing scatters...\n",
            "Inferring best change points...\n"
          ]
        },
        {
          "output_type": "stream",
          "name": "stderr",
          "text": [
            "100%|██████████| 300/300 [00:09<00:00, 31.62it/s]\n"
          ]
        },
        {
          "output_type": "stream",
          "name": "stdout",
          "text": [
            "Precomputing scatters...\n",
            "Inferring best change points...\n",
            "Precomputing scatters...\n",
            "Inferring best change points...\n"
          ]
        },
        {
          "output_type": "stream",
          "name": "stderr",
          "text": [
            "100%|██████████| 300/300 [00:09<00:00, 31.57it/s]\n"
          ]
        },
        {
          "output_type": "stream",
          "name": "stdout",
          "text": [
            "Precomputing scatters...\n",
            "Inferring best change points...\n",
            "Precomputing scatters...\n",
            "Inferring best change points...\n"
          ]
        },
        {
          "output_type": "stream",
          "name": "stderr",
          "text": [
            "100%|██████████| 300/300 [00:09<00:00, 31.98it/s]\n"
          ]
        },
        {
          "output_type": "stream",
          "name": "stdout",
          "text": [
            "Precomputing scatters...\n",
            "Inferring best change points...\n",
            "Precomputing scatters...\n",
            "Inferring best change points...\n"
          ]
        },
        {
          "output_type": "stream",
          "name": "stderr",
          "text": [
            "100%|██████████| 300/300 [00:09<00:00, 32.82it/s]\n"
          ]
        },
        {
          "output_type": "stream",
          "name": "stdout",
          "text": [
            "Precomputing scatters...\n",
            "Inferring best change points...\n",
            "Precomputing scatters...\n",
            "Inferring best change points...\n"
          ]
        },
        {
          "output_type": "stream",
          "name": "stderr",
          "text": [
            "100%|██████████| 300/300 [00:09<00:00, 32.06it/s]\n"
          ]
        },
        {
          "output_type": "stream",
          "name": "stdout",
          "text": [
            "Precomputing scatters...\n",
            "Inferring best change points...\n",
            "Precomputing scatters...\n",
            "Inferring best change points...\n"
          ]
        },
        {
          "output_type": "stream",
          "name": "stderr",
          "text": [
            "100%|██████████| 300/300 [00:09<00:00, 31.99it/s]\n"
          ]
        },
        {
          "output_type": "stream",
          "name": "stdout",
          "text": [
            "Precomputing scatters...\n",
            "Inferring best change points...\n",
            "Precomputing scatters...\n",
            "Inferring best change points...\n"
          ]
        },
        {
          "output_type": "stream",
          "name": "stderr",
          "text": [
            "100%|██████████| 300/300 [00:09<00:00, 32.00it/s]\n"
          ]
        },
        {
          "output_type": "stream",
          "name": "stdout",
          "text": [
            "Precomputing scatters...\n",
            "Inferring best change points...\n",
            "Precomputing scatters...\n",
            "Inferring best change points...\n"
          ]
        },
        {
          "output_type": "stream",
          "name": "stderr",
          "text": [
            "100%|██████████| 300/300 [00:09<00:00, 31.85it/s]\n"
          ]
        },
        {
          "output_type": "stream",
          "name": "stdout",
          "text": [
            "Precomputing scatters...\n",
            "Inferring best change points...\n",
            "Precomputing scatters...\n",
            "Inferring best change points...\n"
          ]
        },
        {
          "output_type": "stream",
          "name": "stderr",
          "text": [
            "100%|██████████| 300/300 [00:09<00:00, 31.92it/s]\n"
          ]
        },
        {
          "output_type": "stream",
          "name": "stdout",
          "text": [
            "Precomputing scatters...\n",
            "Inferring best change points...\n",
            "Precomputing scatters...\n",
            "Inferring best change points...\n"
          ]
        },
        {
          "output_type": "stream",
          "name": "stderr",
          "text": [
            "100%|██████████| 300/300 [00:09<00:00, 31.39it/s]\n"
          ]
        },
        {
          "output_type": "stream",
          "name": "stdout",
          "text": [
            "Precomputing scatters...\n",
            "Inferring best change points...\n",
            "Precomputing scatters...\n",
            "Inferring best change points...\n"
          ]
        },
        {
          "output_type": "stream",
          "name": "stderr",
          "text": [
            "100%|██████████| 300/300 [00:09<00:00, 31.59it/s]\n"
          ]
        },
        {
          "output_type": "stream",
          "name": "stdout",
          "text": [
            "Precomputing scatters...\n",
            "Inferring best change points...\n",
            "Precomputing scatters...\n",
            "Inferring best change points...\n"
          ]
        },
        {
          "output_type": "stream",
          "name": "stderr",
          "text": [
            "100%|██████████| 300/300 [00:09<00:00, 31.91it/s]\n"
          ]
        },
        {
          "output_type": "stream",
          "name": "stdout",
          "text": [
            "Precomputing scatters...\n",
            "Inferring best change points...\n",
            "Precomputing scatters...\n",
            "Inferring best change points...\n"
          ]
        },
        {
          "output_type": "stream",
          "name": "stderr",
          "text": [
            "100%|██████████| 300/300 [00:09<00:00, 31.96it/s]\n"
          ]
        },
        {
          "output_type": "stream",
          "name": "stdout",
          "text": [
            "Precomputing scatters...\n",
            "Inferring best change points...\n",
            "Precomputing scatters...\n",
            "Inferring best change points...\n"
          ]
        },
        {
          "output_type": "stream",
          "name": "stderr",
          "text": [
            "100%|██████████| 300/300 [00:09<00:00, 31.93it/s]\n"
          ]
        },
        {
          "output_type": "stream",
          "name": "stdout",
          "text": [
            "Precomputing scatters...\n",
            "Inferring best change points...\n",
            "Precomputing scatters...\n",
            "Inferring best change points...\n"
          ]
        },
        {
          "output_type": "stream",
          "name": "stderr",
          "text": [
            "100%|██████████| 300/300 [00:09<00:00, 31.98it/s]\n"
          ]
        },
        {
          "output_type": "stream",
          "name": "stdout",
          "text": [
            "Precomputing scatters...\n",
            "Inferring best change points...\n",
            "Precomputing scatters...\n",
            "Inferring best change points...\n"
          ]
        },
        {
          "output_type": "stream",
          "name": "stderr",
          "text": [
            "100%|██████████| 300/300 [00:09<00:00, 32.27it/s]\n"
          ]
        },
        {
          "output_type": "stream",
          "name": "stdout",
          "text": [
            "Precomputing scatters...\n",
            "Inferring best change points...\n",
            "Precomputing scatters...\n",
            "Inferring best change points...\n"
          ]
        },
        {
          "output_type": "stream",
          "name": "stderr",
          "text": [
            "100%|██████████| 300/300 [00:09<00:00, 32.37it/s]\n"
          ]
        },
        {
          "output_type": "stream",
          "name": "stdout",
          "text": [
            "Precomputing scatters...\n",
            "Inferring best change points...\n",
            "Precomputing scatters...\n",
            "Inferring best change points...\n"
          ]
        },
        {
          "output_type": "stream",
          "name": "stderr",
          "text": [
            "100%|██████████| 300/300 [00:09<00:00, 32.27it/s]\n"
          ]
        },
        {
          "output_type": "stream",
          "name": "stdout",
          "text": [
            "Precomputing scatters...\n",
            "Inferring best change points...\n",
            "Precomputing scatters...\n",
            "Inferring best change points...\n"
          ]
        },
        {
          "output_type": "stream",
          "name": "stderr",
          "text": [
            "100%|██████████| 300/300 [00:09<00:00, 32.31it/s]\n"
          ]
        },
        {
          "output_type": "stream",
          "name": "stdout",
          "text": [
            "Precomputing scatters...\n",
            "Inferring best change points...\n",
            "Precomputing scatters...\n",
            "Inferring best change points...\n"
          ]
        },
        {
          "output_type": "stream",
          "name": "stderr",
          "text": [
            "100%|██████████| 300/300 [00:09<00:00, 31.74it/s]\n"
          ]
        },
        {
          "output_type": "stream",
          "name": "stdout",
          "text": [
            "Precomputing scatters...\n",
            "Inferring best change points...\n",
            "Precomputing scatters...\n",
            "Inferring best change points...\n"
          ]
        },
        {
          "output_type": "stream",
          "name": "stderr",
          "text": [
            "100%|██████████| 300/300 [00:09<00:00, 32.36it/s]\n"
          ]
        },
        {
          "output_type": "stream",
          "name": "stdout",
          "text": [
            "Precomputing scatters...\n",
            "Inferring best change points...\n",
            "Precomputing scatters...\n",
            "Inferring best change points...\n"
          ]
        },
        {
          "output_type": "stream",
          "name": "stderr",
          "text": [
            "100%|██████████| 300/300 [00:09<00:00, 32.07it/s]\n"
          ]
        },
        {
          "output_type": "stream",
          "name": "stdout",
          "text": [
            "Precomputing scatters...\n",
            "Inferring best change points...\n",
            "Precomputing scatters...\n",
            "Inferring best change points...\n"
          ]
        },
        {
          "output_type": "stream",
          "name": "stderr",
          "text": [
            "100%|██████████| 300/300 [00:09<00:00, 32.37it/s]\n"
          ]
        },
        {
          "output_type": "stream",
          "name": "stdout",
          "text": [
            "Precomputing scatters...\n",
            "Inferring best change points...\n",
            "Precomputing scatters...\n",
            "Inferring best change points...\n"
          ]
        },
        {
          "output_type": "stream",
          "name": "stderr",
          "text": [
            "100%|██████████| 300/300 [00:09<00:00, 32.05it/s]\n"
          ]
        },
        {
          "output_type": "stream",
          "name": "stdout",
          "text": [
            "Precomputing scatters...\n",
            "Inferring best change points...\n",
            "Precomputing scatters...\n",
            "Inferring best change points...\n"
          ]
        },
        {
          "output_type": "stream",
          "name": "stderr",
          "text": [
            "100%|██████████| 300/300 [00:09<00:00, 32.11it/s]\n"
          ]
        },
        {
          "output_type": "stream",
          "name": "stdout",
          "text": [
            "Precomputing scatters...\n",
            "Inferring best change points...\n",
            "Precomputing scatters...\n",
            "Inferring best change points...\n"
          ]
        },
        {
          "output_type": "stream",
          "name": "stderr",
          "text": [
            "100%|██████████| 300/300 [00:09<00:00, 32.42it/s]\n"
          ]
        },
        {
          "output_type": "stream",
          "name": "stdout",
          "text": [
            "Precomputing scatters...\n",
            "Inferring best change points...\n",
            "Precomputing scatters...\n",
            "Inferring best change points...\n"
          ]
        },
        {
          "output_type": "stream",
          "name": "stderr",
          "text": [
            "100%|██████████| 300/300 [00:09<00:00, 32.37it/s]\n"
          ]
        },
        {
          "output_type": "stream",
          "name": "stdout",
          "text": [
            "Precomputing scatters...\n",
            "Inferring best change points...\n",
            "Precomputing scatters...\n",
            "Inferring best change points...\n"
          ]
        },
        {
          "output_type": "stream",
          "name": "stderr",
          "text": [
            "100%|██████████| 300/300 [00:09<00:00, 32.84it/s]\n"
          ]
        },
        {
          "output_type": "stream",
          "name": "stdout",
          "text": [
            "Precomputing scatters...\n",
            "Inferring best change points...\n",
            "Precomputing scatters...\n",
            "Inferring best change points...\n"
          ]
        },
        {
          "output_type": "stream",
          "name": "stderr",
          "text": [
            "100%|██████████| 300/300 [00:09<00:00, 32.17it/s]\n"
          ]
        },
        {
          "output_type": "stream",
          "name": "stdout",
          "text": [
            "Precomputing scatters...\n",
            "Inferring best change points...\n",
            "Precomputing scatters...\n",
            "Inferring best change points...\n"
          ]
        },
        {
          "output_type": "stream",
          "name": "stderr",
          "text": [
            "100%|██████████| 300/300 [00:09<00:00, 32.20it/s]\n"
          ]
        },
        {
          "output_type": "stream",
          "name": "stdout",
          "text": [
            "Precomputing scatters...\n",
            "Inferring best change points...\n",
            "Precomputing scatters...\n",
            "Inferring best change points...\n"
          ]
        },
        {
          "output_type": "stream",
          "name": "stderr",
          "text": [
            "100%|██████████| 300/300 [00:09<00:00, 32.40it/s]\n"
          ]
        },
        {
          "output_type": "stream",
          "name": "stdout",
          "text": [
            "Precomputing scatters...\n",
            "Inferring best change points...\n",
            "Precomputing scatters...\n",
            "Inferring best change points...\n"
          ]
        },
        {
          "output_type": "stream",
          "name": "stderr",
          "text": [
            "100%|██████████| 300/300 [00:09<00:00, 32.29it/s]\n"
          ]
        },
        {
          "output_type": "stream",
          "name": "stdout",
          "text": [
            "Precomputing scatters...\n",
            "Inferring best change points...\n",
            "Precomputing scatters...\n",
            "Inferring best change points...\n"
          ]
        },
        {
          "output_type": "stream",
          "name": "stderr",
          "text": [
            "100%|██████████| 300/300 [00:09<00:00, 32.24it/s]\n"
          ]
        },
        {
          "output_type": "stream",
          "name": "stdout",
          "text": [
            "Precomputing scatters...\n",
            "Inferring best change points...\n",
            "Precomputing scatters...\n",
            "Inferring best change points...\n"
          ]
        },
        {
          "output_type": "stream",
          "name": "stderr",
          "text": [
            "100%|██████████| 300/300 [00:09<00:00, 31.88it/s]\n"
          ]
        },
        {
          "output_type": "stream",
          "name": "stdout",
          "text": [
            "Precomputing scatters...\n",
            "Inferring best change points...\n",
            "Precomputing scatters...\n",
            "Inferring best change points...\n"
          ]
        },
        {
          "output_type": "stream",
          "name": "stderr",
          "text": [
            "100%|██████████| 300/300 [00:09<00:00, 32.58it/s]\n"
          ]
        },
        {
          "output_type": "stream",
          "name": "stdout",
          "text": [
            "Precomputing scatters...\n",
            "Inferring best change points...\n",
            "Precomputing scatters...\n",
            "Inferring best change points...\n"
          ]
        },
        {
          "output_type": "stream",
          "name": "stderr",
          "text": [
            "100%|██████████| 300/300 [00:09<00:00, 32.51it/s]\n"
          ]
        },
        {
          "output_type": "stream",
          "name": "stdout",
          "text": [
            "Precomputing scatters...\n",
            "Inferring best change points...\n",
            "Precomputing scatters...\n",
            "Inferring best change points...\n"
          ]
        },
        {
          "output_type": "stream",
          "name": "stderr",
          "text": [
            "100%|██████████| 300/300 [00:09<00:00, 32.34it/s]\n"
          ]
        },
        {
          "output_type": "stream",
          "name": "stdout",
          "text": [
            "Precomputing scatters...\n",
            "Inferring best change points...\n",
            "Precomputing scatters...\n",
            "Inferring best change points...\n"
          ]
        },
        {
          "output_type": "stream",
          "name": "stderr",
          "text": [
            "100%|██████████| 300/300 [00:09<00:00, 32.47it/s]\n"
          ]
        },
        {
          "output_type": "stream",
          "name": "stdout",
          "text": [
            "Precomputing scatters...\n",
            "Inferring best change points...\n",
            "Precomputing scatters...\n",
            "Inferring best change points...\n"
          ]
        },
        {
          "output_type": "stream",
          "name": "stderr",
          "text": [
            "100%|██████████| 300/300 [00:09<00:00, 32.39it/s]\n"
          ]
        },
        {
          "output_type": "stream",
          "name": "stdout",
          "text": [
            "Precomputing scatters...\n",
            "Inferring best change points...\n",
            "Precomputing scatters...\n",
            "Inferring best change points...\n"
          ]
        },
        {
          "output_type": "stream",
          "name": "stderr",
          "text": [
            "100%|██████████| 300/300 [00:09<00:00, 32.53it/s]\n"
          ]
        },
        {
          "output_type": "stream",
          "name": "stdout",
          "text": [
            "Precomputing scatters...\n",
            "Inferring best change points...\n",
            "Precomputing scatters...\n",
            "Inferring best change points...\n"
          ]
        },
        {
          "output_type": "stream",
          "name": "stderr",
          "text": [
            "100%|██████████| 300/300 [00:09<00:00, 31.93it/s]\n"
          ]
        },
        {
          "output_type": "stream",
          "name": "stdout",
          "text": [
            "Precomputing scatters...\n",
            "Inferring best change points...\n",
            "Precomputing scatters...\n",
            "Inferring best change points...\n"
          ]
        },
        {
          "output_type": "stream",
          "name": "stderr",
          "text": [
            "100%|██████████| 300/300 [00:09<00:00, 32.45it/s]\n"
          ]
        },
        {
          "output_type": "stream",
          "name": "stdout",
          "text": [
            "Precomputing scatters...\n",
            "Inferring best change points...\n",
            "Precomputing scatters...\n",
            "Inferring best change points...\n"
          ]
        },
        {
          "output_type": "stream",
          "name": "stderr",
          "text": [
            "100%|██████████| 300/300 [00:09<00:00, 32.34it/s]\n"
          ]
        },
        {
          "output_type": "stream",
          "name": "stdout",
          "text": [
            "Precomputing scatters...\n",
            "Inferring best change points...\n",
            "Precomputing scatters...\n",
            "Inferring best change points...\n"
          ]
        },
        {
          "output_type": "stream",
          "name": "stderr",
          "text": [
            "100%|██████████| 300/300 [00:09<00:00, 31.77it/s]\n"
          ]
        },
        {
          "output_type": "stream",
          "name": "stdout",
          "text": [
            "Precomputing scatters...\n",
            "Inferring best change points...\n",
            "Precomputing scatters...\n",
            "Inferring best change points...\n"
          ]
        },
        {
          "output_type": "stream",
          "name": "stderr",
          "text": [
            "100%|██████████| 300/300 [00:09<00:00, 32.19it/s]\n"
          ]
        },
        {
          "output_type": "stream",
          "name": "stdout",
          "text": [
            "Precomputing scatters...\n",
            "Inferring best change points...\n",
            "Precomputing scatters...\n",
            "Inferring best change points...\n"
          ]
        },
        {
          "output_type": "stream",
          "name": "stderr",
          "text": [
            "100%|██████████| 300/300 [00:09<00:00, 32.08it/s]\n"
          ]
        },
        {
          "output_type": "stream",
          "name": "stdout",
          "text": [
            "Precomputing scatters...\n",
            "Inferring best change points...\n",
            "Precomputing scatters...\n",
            "Inferring best change points...\n"
          ]
        },
        {
          "output_type": "stream",
          "name": "stderr",
          "text": [
            "100%|██████████| 300/300 [00:09<00:00, 32.36it/s]\n"
          ]
        },
        {
          "output_type": "stream",
          "name": "stdout",
          "text": [
            "Precomputing scatters...\n",
            "Inferring best change points...\n",
            "Precomputing scatters...\n",
            "Inferring best change points...\n"
          ]
        },
        {
          "output_type": "stream",
          "name": "stderr",
          "text": [
            "100%|██████████| 300/300 [00:09<00:00, 31.68it/s]\n"
          ]
        },
        {
          "output_type": "stream",
          "name": "stdout",
          "text": [
            "Precomputing scatters...\n",
            "Inferring best change points...\n",
            "Precomputing scatters...\n",
            "Inferring best change points...\n"
          ]
        },
        {
          "output_type": "stream",
          "name": "stderr",
          "text": [
            "100%|██████████| 300/300 [00:09<00:00, 31.55it/s]\n"
          ]
        },
        {
          "output_type": "stream",
          "name": "stdout",
          "text": [
            "Precomputing scatters...\n",
            "Inferring best change points...\n",
            "Precomputing scatters...\n",
            "Inferring best change points...\n"
          ]
        },
        {
          "output_type": "stream",
          "name": "stderr",
          "text": [
            "100%|██████████| 300/300 [00:09<00:00, 31.59it/s]\n"
          ]
        },
        {
          "output_type": "stream",
          "name": "stdout",
          "text": [
            "Precomputing scatters...\n",
            "Inferring best change points...\n",
            "Precomputing scatters...\n",
            "Inferring best change points...\n"
          ]
        },
        {
          "output_type": "stream",
          "name": "stderr",
          "text": [
            "100%|██████████| 300/300 [00:09<00:00, 31.31it/s]\n"
          ]
        },
        {
          "output_type": "stream",
          "name": "stdout",
          "text": [
            "Precomputing scatters...\n",
            "Inferring best change points...\n",
            "Precomputing scatters...\n",
            "Inferring best change points...\n"
          ]
        },
        {
          "output_type": "stream",
          "name": "stderr",
          "text": [
            "100%|██████████| 300/300 [00:09<00:00, 31.62it/s]\n"
          ]
        },
        {
          "output_type": "stream",
          "name": "stdout",
          "text": [
            "Precomputing scatters...\n",
            "Inferring best change points...\n",
            "Precomputing scatters...\n",
            "Inferring best change points...\n"
          ]
        },
        {
          "output_type": "stream",
          "name": "stderr",
          "text": [
            "100%|██████████| 300/300 [00:09<00:00, 31.24it/s]\n"
          ]
        },
        {
          "output_type": "stream",
          "name": "stdout",
          "text": [
            "Precomputing scatters...\n",
            "Inferring best change points...\n",
            "Precomputing scatters...\n",
            "Inferring best change points...\n"
          ]
        },
        {
          "output_type": "stream",
          "name": "stderr",
          "text": [
            "100%|██████████| 300/300 [00:09<00:00, 31.84it/s]\n"
          ]
        },
        {
          "output_type": "stream",
          "name": "stdout",
          "text": [
            "Precomputing scatters...\n",
            "Inferring best change points...\n",
            "Precomputing scatters...\n",
            "Inferring best change points...\n"
          ]
        },
        {
          "output_type": "stream",
          "name": "stderr",
          "text": [
            "100%|██████████| 300/300 [00:09<00:00, 30.95it/s]\n"
          ]
        },
        {
          "output_type": "stream",
          "name": "stdout",
          "text": [
            "Precomputing scatters...\n",
            "Inferring best change points...\n",
            "Precomputing scatters...\n",
            "Inferring best change points...\n"
          ]
        },
        {
          "output_type": "stream",
          "name": "stderr",
          "text": [
            "100%|██████████| 300/300 [00:09<00:00, 31.57it/s]\n"
          ]
        },
        {
          "output_type": "stream",
          "name": "stdout",
          "text": [
            "Precomputing scatters...\n",
            "Inferring best change points...\n",
            "Precomputing scatters...\n",
            "Inferring best change points...\n"
          ]
        },
        {
          "output_type": "stream",
          "name": "stderr",
          "text": [
            "100%|██████████| 300/300 [00:09<00:00, 31.62it/s]\n"
          ]
        },
        {
          "output_type": "stream",
          "name": "stdout",
          "text": [
            "Precomputing scatters...\n",
            "Inferring best change points...\n",
            "Precomputing scatters...\n",
            "Inferring best change points...\n"
          ]
        },
        {
          "output_type": "stream",
          "name": "stderr",
          "text": [
            "100%|██████████| 300/300 [00:09<00:00, 31.44it/s]\n"
          ]
        },
        {
          "output_type": "stream",
          "name": "stdout",
          "text": [
            "Precomputing scatters...\n",
            "Inferring best change points...\n",
            "Precomputing scatters...\n",
            "Inferring best change points...\n"
          ]
        },
        {
          "output_type": "stream",
          "name": "stderr",
          "text": [
            "100%|██████████| 300/300 [00:09<00:00, 31.25it/s]\n"
          ]
        },
        {
          "output_type": "stream",
          "name": "stdout",
          "text": [
            "Precomputing scatters...\n",
            "Inferring best change points...\n",
            "Precomputing scatters...\n",
            "Inferring best change points...\n"
          ]
        },
        {
          "output_type": "stream",
          "name": "stderr",
          "text": [
            "100%|██████████| 300/300 [00:09<00:00, 31.77it/s]\n"
          ]
        },
        {
          "output_type": "stream",
          "name": "stdout",
          "text": [
            "Precomputing scatters...\n",
            "Inferring best change points...\n",
            "Precomputing scatters...\n",
            "Inferring best change points...\n"
          ]
        },
        {
          "output_type": "stream",
          "name": "stderr",
          "text": [
            "100%|██████████| 300/300 [00:09<00:00, 31.50it/s]\n"
          ]
        },
        {
          "output_type": "stream",
          "name": "stdout",
          "text": [
            "Precomputing scatters...\n",
            "Inferring best change points...\n",
            "Precomputing scatters...\n",
            "Inferring best change points...\n"
          ]
        },
        {
          "output_type": "stream",
          "name": "stderr",
          "text": [
            "100%|██████████| 300/300 [00:09<00:00, 31.32it/s]\n"
          ]
        },
        {
          "output_type": "stream",
          "name": "stdout",
          "text": [
            "Precomputing scatters...\n",
            "Inferring best change points...\n",
            "Precomputing scatters...\n",
            "Inferring best change points...\n"
          ]
        },
        {
          "output_type": "stream",
          "name": "stderr",
          "text": [
            "100%|██████████| 300/300 [00:09<00:00, 31.59it/s]\n"
          ]
        },
        {
          "output_type": "stream",
          "name": "stdout",
          "text": [
            "Precomputing scatters...\n",
            "Inferring best change points...\n",
            "Precomputing scatters...\n",
            "Inferring best change points...\n"
          ]
        },
        {
          "output_type": "stream",
          "name": "stderr",
          "text": [
            "100%|██████████| 300/300 [00:09<00:00, 31.56it/s]\n"
          ]
        },
        {
          "output_type": "stream",
          "name": "stdout",
          "text": [
            "Precomputing scatters...\n",
            "Inferring best change points...\n",
            "Precomputing scatters...\n",
            "Inferring best change points...\n"
          ]
        },
        {
          "output_type": "stream",
          "name": "stderr",
          "text": [
            "100%|██████████| 300/300 [00:09<00:00, 31.35it/s]\n"
          ]
        },
        {
          "output_type": "stream",
          "name": "stdout",
          "text": [
            "Precomputing scatters...\n",
            "Inferring best change points...\n",
            "Precomputing scatters...\n",
            "Inferring best change points...\n"
          ]
        },
        {
          "output_type": "stream",
          "name": "stderr",
          "text": [
            "100%|██████████| 300/300 [00:09<00:00, 31.42it/s]\n"
          ]
        },
        {
          "output_type": "stream",
          "name": "stdout",
          "text": [
            "Precomputing scatters...\n",
            "Inferring best change points...\n",
            "Precomputing scatters...\n",
            "Inferring best change points...\n"
          ]
        },
        {
          "output_type": "stream",
          "name": "stderr",
          "text": [
            "100%|██████████| 300/300 [00:09<00:00, 31.98it/s]\n"
          ]
        },
        {
          "output_type": "stream",
          "name": "stdout",
          "text": [
            "Precomputing scatters...\n",
            "Inferring best change points...\n",
            "Precomputing scatters...\n",
            "Inferring best change points...\n"
          ]
        },
        {
          "output_type": "stream",
          "name": "stderr",
          "text": [
            "100%|██████████| 300/300 [00:09<00:00, 31.43it/s]\n"
          ]
        },
        {
          "output_type": "stream",
          "name": "stdout",
          "text": [
            "Precomputing scatters...\n",
            "Inferring best change points...\n",
            "Precomputing scatters...\n",
            "Inferring best change points...\n"
          ]
        },
        {
          "output_type": "stream",
          "name": "stderr",
          "text": [
            "100%|██████████| 300/300 [00:09<00:00, 31.83it/s]\n"
          ]
        },
        {
          "output_type": "stream",
          "name": "stdout",
          "text": [
            "Precomputing scatters...\n",
            "Inferring best change points...\n",
            "Precomputing scatters...\n",
            "Inferring best change points...\n"
          ]
        },
        {
          "output_type": "stream",
          "name": "stderr",
          "text": [
            "100%|██████████| 300/300 [00:09<00:00, 31.54it/s]\n"
          ]
        },
        {
          "output_type": "stream",
          "name": "stdout",
          "text": [
            "Precomputing scatters...\n",
            "Inferring best change points...\n",
            "Precomputing scatters...\n",
            "Inferring best change points...\n"
          ]
        },
        {
          "output_type": "stream",
          "name": "stderr",
          "text": [
            "100%|██████████| 300/300 [00:09<00:00, 31.57it/s]\n"
          ]
        },
        {
          "output_type": "stream",
          "name": "stdout",
          "text": [
            "Precomputing scatters...\n",
            "Inferring best change points...\n",
            "Precomputing scatters...\n",
            "Inferring best change points...\n"
          ]
        },
        {
          "output_type": "stream",
          "name": "stderr",
          "text": [
            "100%|██████████| 300/300 [00:09<00:00, 31.03it/s]\n"
          ]
        },
        {
          "output_type": "stream",
          "name": "stdout",
          "text": [
            "Precomputing scatters...\n",
            "Inferring best change points...\n",
            "Precomputing scatters...\n",
            "Inferring best change points...\n"
          ]
        },
        {
          "output_type": "stream",
          "name": "stderr",
          "text": [
            "100%|██████████| 300/300 [00:09<00:00, 31.92it/s]\n"
          ]
        },
        {
          "output_type": "stream",
          "name": "stdout",
          "text": [
            "Precomputing scatters...\n",
            "Inferring best change points...\n",
            "Precomputing scatters...\n",
            "Inferring best change points...\n"
          ]
        },
        {
          "output_type": "stream",
          "name": "stderr",
          "text": [
            "100%|██████████| 300/300 [00:09<00:00, 31.15it/s]\n"
          ]
        },
        {
          "output_type": "stream",
          "name": "stdout",
          "text": [
            "Precomputing scatters...\n",
            "Inferring best change points...\n",
            "Precomputing scatters...\n",
            "Inferring best change points...\n"
          ]
        },
        {
          "output_type": "stream",
          "name": "stderr",
          "text": [
            "100%|██████████| 300/300 [00:09<00:00, 31.33it/s]\n"
          ]
        },
        {
          "output_type": "stream",
          "name": "stdout",
          "text": [
            "Precomputing scatters...\n",
            "Inferring best change points...\n",
            "Precomputing scatters...\n",
            "Inferring best change points...\n"
          ]
        },
        {
          "output_type": "stream",
          "name": "stderr",
          "text": [
            "100%|██████████| 300/300 [00:09<00:00, 31.33it/s]\n"
          ]
        },
        {
          "output_type": "stream",
          "name": "stdout",
          "text": [
            "Precomputing scatters...\n",
            "Inferring best change points...\n",
            "Precomputing scatters...\n",
            "Inferring best change points...\n"
          ]
        },
        {
          "output_type": "stream",
          "name": "stderr",
          "text": [
            "100%|██████████| 300/300 [00:09<00:00, 30.78it/s]\n"
          ]
        },
        {
          "output_type": "stream",
          "name": "stdout",
          "text": [
            "Precomputing scatters...\n",
            "Inferring best change points...\n",
            "Precomputing scatters...\n",
            "Inferring best change points...\n"
          ]
        },
        {
          "output_type": "stream",
          "name": "stderr",
          "text": [
            "100%|██████████| 300/300 [00:09<00:00, 31.17it/s]\n"
          ]
        },
        {
          "output_type": "stream",
          "name": "stdout",
          "text": [
            "Precomputing scatters...\n",
            "Inferring best change points...\n",
            "Precomputing scatters...\n",
            "Inferring best change points...\n"
          ]
        },
        {
          "output_type": "stream",
          "name": "stderr",
          "text": [
            "100%|██████████| 300/300 [00:09<00:00, 31.51it/s]\n"
          ]
        },
        {
          "output_type": "stream",
          "name": "stdout",
          "text": [
            "Precomputing scatters...\n",
            "Inferring best change points...\n",
            "Precomputing scatters...\n",
            "Inferring best change points...\n"
          ]
        },
        {
          "output_type": "stream",
          "name": "stderr",
          "text": [
            "100%|██████████| 300/300 [00:09<00:00, 31.35it/s]\n"
          ]
        },
        {
          "output_type": "stream",
          "name": "stdout",
          "text": [
            "Precomputing scatters...\n",
            "Inferring best change points...\n",
            "Precomputing scatters...\n",
            "Inferring best change points...\n"
          ]
        },
        {
          "output_type": "stream",
          "name": "stderr",
          "text": [
            "100%|██████████| 300/300 [00:09<00:00, 31.44it/s]\n"
          ]
        },
        {
          "output_type": "stream",
          "name": "stdout",
          "text": [
            "Precomputing scatters...\n",
            "Inferring best change points...\n",
            "Precomputing scatters...\n",
            "Inferring best change points...\n"
          ]
        },
        {
          "output_type": "stream",
          "name": "stderr",
          "text": [
            "100%|██████████| 300/300 [00:09<00:00, 31.20it/s]\n"
          ]
        },
        {
          "output_type": "stream",
          "name": "stdout",
          "text": [
            "Precomputing scatters...\n",
            "Inferring best change points...\n",
            "Precomputing scatters...\n",
            "Inferring best change points...\n"
          ]
        },
        {
          "output_type": "stream",
          "name": "stderr",
          "text": [
            "100%|██████████| 300/300 [00:09<00:00, 30.14it/s]\n"
          ]
        },
        {
          "output_type": "stream",
          "name": "stdout",
          "text": [
            "Precomputing scatters...\n",
            "Inferring best change points...\n",
            "Precomputing scatters...\n",
            "Inferring best change points...\n"
          ]
        },
        {
          "output_type": "stream",
          "name": "stderr",
          "text": [
            "100%|██████████| 300/300 [00:09<00:00, 30.79it/s]\n"
          ]
        },
        {
          "output_type": "stream",
          "name": "stdout",
          "text": [
            "Precomputing scatters...\n",
            "Inferring best change points...\n",
            "Precomputing scatters...\n",
            "Inferring best change points...\n"
          ]
        },
        {
          "output_type": "stream",
          "name": "stderr",
          "text": [
            "100%|██████████| 300/300 [00:09<00:00, 31.65it/s]\n"
          ]
        },
        {
          "output_type": "stream",
          "name": "stdout",
          "text": [
            "Precomputing scatters...\n",
            "Inferring best change points...\n",
            "Precomputing scatters...\n",
            "Inferring best change points...\n"
          ]
        },
        {
          "output_type": "stream",
          "name": "stderr",
          "text": [
            "100%|██████████| 300/300 [00:09<00:00, 31.41it/s]\n"
          ]
        },
        {
          "output_type": "stream",
          "name": "stdout",
          "text": [
            "Precomputing scatters...\n",
            "Inferring best change points...\n",
            "Precomputing scatters...\n",
            "Inferring best change points...\n"
          ]
        },
        {
          "output_type": "stream",
          "name": "stderr",
          "text": [
            "100%|██████████| 300/300 [00:09<00:00, 31.76it/s]\n"
          ]
        },
        {
          "output_type": "stream",
          "name": "stdout",
          "text": [
            "Precomputing scatters...\n",
            "Inferring best change points...\n",
            "Precomputing scatters...\n",
            "Inferring best change points...\n"
          ]
        },
        {
          "output_type": "stream",
          "name": "stderr",
          "text": [
            "100%|██████████| 300/300 [00:09<00:00, 31.91it/s]\n"
          ]
        },
        {
          "output_type": "stream",
          "name": "stdout",
          "text": [
            "Precomputing scatters...\n",
            "Inferring best change points...\n",
            "Precomputing scatters...\n",
            "Inferring best change points...\n"
          ]
        },
        {
          "output_type": "stream",
          "name": "stderr",
          "text": [
            "100%|██████████| 300/300 [00:09<00:00, 31.74it/s]\n"
          ]
        },
        {
          "output_type": "stream",
          "name": "stdout",
          "text": [
            "Precomputing scatters...\n",
            "Inferring best change points...\n",
            "Precomputing scatters...\n",
            "Inferring best change points...\n"
          ]
        },
        {
          "output_type": "stream",
          "name": "stderr",
          "text": [
            "100%|██████████| 300/300 [00:09<00:00, 31.45it/s]\n"
          ]
        },
        {
          "output_type": "stream",
          "name": "stdout",
          "text": [
            "Precomputing scatters...\n",
            "Inferring best change points...\n",
            "Precomputing scatters...\n",
            "Inferring best change points...\n"
          ]
        },
        {
          "output_type": "stream",
          "name": "stderr",
          "text": [
            "100%|██████████| 300/300 [00:09<00:00, 31.62it/s]\n"
          ]
        },
        {
          "output_type": "stream",
          "name": "stdout",
          "text": [
            "Precomputing scatters...\n",
            "Inferring best change points...\n",
            "Precomputing scatters...\n",
            "Inferring best change points...\n"
          ]
        },
        {
          "output_type": "stream",
          "name": "stderr",
          "text": [
            "100%|██████████| 300/300 [00:09<00:00, 32.23it/s]\n"
          ]
        },
        {
          "output_type": "stream",
          "name": "stdout",
          "text": [
            "Precomputing scatters...\n",
            "Inferring best change points...\n",
            "Precomputing scatters...\n",
            "Inferring best change points...\n"
          ]
        },
        {
          "output_type": "stream",
          "name": "stderr",
          "text": [
            "100%|██████████| 300/300 [00:09<00:00, 32.34it/s]\n"
          ]
        },
        {
          "output_type": "stream",
          "name": "stdout",
          "text": [
            "Precomputing scatters...\n",
            "Inferring best change points...\n",
            "Precomputing scatters...\n",
            "Inferring best change points...\n"
          ]
        },
        {
          "output_type": "stream",
          "name": "stderr",
          "text": [
            "100%|██████████| 300/300 [00:09<00:00, 32.34it/s]\n"
          ]
        },
        {
          "output_type": "stream",
          "name": "stdout",
          "text": [
            "Precomputing scatters...\n",
            "Inferring best change points...\n",
            "Precomputing scatters...\n",
            "Inferring best change points...\n"
          ]
        },
        {
          "output_type": "stream",
          "name": "stderr",
          "text": [
            "100%|██████████| 300/300 [00:09<00:00, 32.17it/s]\n"
          ]
        },
        {
          "output_type": "stream",
          "name": "stdout",
          "text": [
            "Precomputing scatters...\n",
            "Inferring best change points...\n",
            "Precomputing scatters...\n",
            "Inferring best change points...\n"
          ]
        },
        {
          "output_type": "stream",
          "name": "stderr",
          "text": [
            "100%|██████████| 300/300 [00:09<00:00, 31.90it/s]\n"
          ]
        },
        {
          "output_type": "stream",
          "name": "stdout",
          "text": [
            "Precomputing scatters...\n",
            "Inferring best change points...\n",
            "Precomputing scatters...\n",
            "Inferring best change points...\n"
          ]
        },
        {
          "output_type": "stream",
          "name": "stderr",
          "text": [
            "100%|██████████| 300/300 [00:09<00:00, 32.43it/s]\n"
          ]
        },
        {
          "output_type": "stream",
          "name": "stdout",
          "text": [
            "Precomputing scatters...\n",
            "Inferring best change points...\n",
            "Precomputing scatters...\n",
            "Inferring best change points...\n"
          ]
        },
        {
          "output_type": "stream",
          "name": "stderr",
          "text": [
            "100%|██████████| 300/300 [00:09<00:00, 32.09it/s]\n"
          ]
        },
        {
          "output_type": "stream",
          "name": "stdout",
          "text": [
            "Precomputing scatters...\n",
            "Inferring best change points...\n",
            "Precomputing scatters...\n",
            "Inferring best change points...\n"
          ]
        },
        {
          "output_type": "stream",
          "name": "stderr",
          "text": [
            "100%|██████████| 300/300 [00:09<00:00, 31.94it/s]\n"
          ]
        },
        {
          "output_type": "stream",
          "name": "stdout",
          "text": [
            "Precomputing scatters...\n",
            "Inferring best change points...\n",
            "Precomputing scatters...\n",
            "Inferring best change points...\n"
          ]
        },
        {
          "output_type": "stream",
          "name": "stderr",
          "text": [
            "100%|██████████| 300/300 [00:09<00:00, 32.44it/s]\n"
          ]
        },
        {
          "output_type": "stream",
          "name": "stdout",
          "text": [
            "Precomputing scatters...\n",
            "Inferring best change points...\n",
            "Precomputing scatters...\n",
            "Inferring best change points...\n"
          ]
        },
        {
          "output_type": "stream",
          "name": "stderr",
          "text": [
            "100%|██████████| 300/300 [00:09<00:00, 32.02it/s]\n"
          ]
        },
        {
          "output_type": "stream",
          "name": "stdout",
          "text": [
            "Precomputing scatters...\n",
            "Inferring best change points...\n",
            "Precomputing scatters...\n",
            "Inferring best change points...\n"
          ]
        },
        {
          "output_type": "stream",
          "name": "stderr",
          "text": [
            "100%|██████████| 300/300 [00:09<00:00, 32.05it/s]\n"
          ]
        },
        {
          "output_type": "stream",
          "name": "stdout",
          "text": [
            "Precomputing scatters...\n",
            "Inferring best change points...\n",
            "Precomputing scatters...\n",
            "Inferring best change points...\n"
          ]
        },
        {
          "output_type": "stream",
          "name": "stderr",
          "text": [
            "100%|██████████| 300/300 [00:09<00:00, 32.33it/s]\n"
          ]
        },
        {
          "output_type": "stream",
          "name": "stdout",
          "text": [
            "Precomputing scatters...\n",
            "Inferring best change points...\n",
            "Precomputing scatters...\n",
            "Inferring best change points...\n"
          ]
        },
        {
          "output_type": "stream",
          "name": "stderr",
          "text": [
            "100%|██████████| 300/300 [00:09<00:00, 32.42it/s]\n"
          ]
        },
        {
          "output_type": "stream",
          "name": "stdout",
          "text": [
            "Precomputing scatters...\n",
            "Inferring best change points...\n",
            "Precomputing scatters...\n",
            "Inferring best change points...\n"
          ]
        },
        {
          "output_type": "stream",
          "name": "stderr",
          "text": [
            "100%|██████████| 300/300 [00:09<00:00, 32.25it/s]\n"
          ]
        },
        {
          "output_type": "stream",
          "name": "stdout",
          "text": [
            "Precomputing scatters...\n",
            "Inferring best change points...\n",
            "Precomputing scatters...\n",
            "Inferring best change points...\n"
          ]
        },
        {
          "output_type": "stream",
          "name": "stderr",
          "text": [
            "100%|██████████| 300/300 [00:09<00:00, 32.11it/s]\n"
          ]
        },
        {
          "output_type": "stream",
          "name": "stdout",
          "text": [
            "Precomputing scatters...\n",
            "Inferring best change points...\n",
            "Precomputing scatters...\n",
            "Inferring best change points...\n"
          ]
        },
        {
          "output_type": "stream",
          "name": "stderr",
          "text": [
            "100%|██████████| 300/300 [00:09<00:00, 32.09it/s]\n"
          ]
        },
        {
          "output_type": "stream",
          "name": "stdout",
          "text": [
            "Precomputing scatters...\n",
            "Inferring best change points...\n",
            "Precomputing scatters...\n",
            "Inferring best change points...\n"
          ]
        },
        {
          "output_type": "stream",
          "name": "stderr",
          "text": [
            "100%|██████████| 300/300 [00:09<00:00, 32.21it/s]\n"
          ]
        },
        {
          "output_type": "stream",
          "name": "stdout",
          "text": [
            "Precomputing scatters...\n",
            "Inferring best change points...\n",
            "Precomputing scatters...\n",
            "Inferring best change points...\n"
          ]
        },
        {
          "output_type": "stream",
          "name": "stderr",
          "text": [
            "100%|██████████| 300/300 [00:09<00:00, 31.82it/s]\n"
          ]
        },
        {
          "output_type": "stream",
          "name": "stdout",
          "text": [
            "Precomputing scatters...\n",
            "Inferring best change points...\n",
            "Precomputing scatters...\n",
            "Inferring best change points...\n"
          ]
        },
        {
          "output_type": "stream",
          "name": "stderr",
          "text": [
            "100%|██████████| 300/300 [00:09<00:00, 32.33it/s]\n"
          ]
        },
        {
          "output_type": "stream",
          "name": "stdout",
          "text": [
            "Precomputing scatters...\n",
            "Inferring best change points...\n",
            "Precomputing scatters...\n",
            "Inferring best change points...\n"
          ]
        },
        {
          "output_type": "stream",
          "name": "stderr",
          "text": [
            "100%|██████████| 300/300 [00:09<00:00, 32.55it/s]\n"
          ]
        },
        {
          "output_type": "stream",
          "name": "stdout",
          "text": [
            "Precomputing scatters...\n",
            "Inferring best change points...\n",
            "Precomputing scatters...\n",
            "Inferring best change points...\n"
          ]
        },
        {
          "output_type": "stream",
          "name": "stderr",
          "text": [
            "100%|██████████| 300/300 [00:09<00:00, 32.42it/s]\n"
          ]
        },
        {
          "output_type": "stream",
          "name": "stdout",
          "text": [
            "Precomputing scatters...\n",
            "Inferring best change points...\n",
            "Precomputing scatters...\n",
            "Inferring best change points...\n"
          ]
        },
        {
          "output_type": "stream",
          "name": "stderr",
          "text": [
            "100%|██████████| 300/300 [00:09<00:00, 32.20it/s]\n"
          ]
        },
        {
          "output_type": "stream",
          "name": "stdout",
          "text": [
            "Precomputing scatters...\n",
            "Inferring best change points...\n",
            "Precomputing scatters...\n",
            "Inferring best change points...\n"
          ]
        },
        {
          "output_type": "stream",
          "name": "stderr",
          "text": [
            "100%|██████████| 300/300 [00:09<00:00, 31.69it/s]\n"
          ]
        },
        {
          "output_type": "stream",
          "name": "stdout",
          "text": [
            "Precomputing scatters...\n",
            "Inferring best change points...\n",
            "Precomputing scatters...\n",
            "Inferring best change points...\n"
          ]
        },
        {
          "output_type": "stream",
          "name": "stderr",
          "text": [
            "100%|██████████| 300/300 [00:09<00:00, 31.83it/s]\n"
          ]
        },
        {
          "output_type": "stream",
          "name": "stdout",
          "text": [
            "Precomputing scatters...\n",
            "Inferring best change points...\n",
            "Precomputing scatters...\n",
            "Inferring best change points...\n"
          ]
        },
        {
          "output_type": "stream",
          "name": "stderr",
          "text": [
            "100%|██████████| 300/300 [00:09<00:00, 32.12it/s]\n"
          ]
        },
        {
          "output_type": "stream",
          "name": "stdout",
          "text": [
            "Precomputing scatters...\n",
            "Inferring best change points...\n",
            "Precomputing scatters...\n",
            "Inferring best change points...\n"
          ]
        },
        {
          "output_type": "stream",
          "name": "stderr",
          "text": [
            "100%|██████████| 300/300 [00:09<00:00, 32.14it/s]\n"
          ]
        },
        {
          "output_type": "stream",
          "name": "stdout",
          "text": [
            "Precomputing scatters...\n",
            "Inferring best change points...\n",
            "Precomputing scatters...\n",
            "Inferring best change points...\n"
          ]
        },
        {
          "output_type": "stream",
          "name": "stderr",
          "text": [
            "100%|██████████| 300/300 [00:09<00:00, 32.52it/s]\n"
          ]
        },
        {
          "output_type": "stream",
          "name": "stdout",
          "text": [
            "Precomputing scatters...\n",
            "Inferring best change points...\n",
            "Precomputing scatters...\n",
            "Inferring best change points...\n"
          ]
        },
        {
          "output_type": "stream",
          "name": "stderr",
          "text": [
            "100%|██████████| 300/300 [00:09<00:00, 32.56it/s]\n"
          ]
        },
        {
          "output_type": "stream",
          "name": "stdout",
          "text": [
            "Precomputing scatters...\n",
            "Inferring best change points...\n",
            "Precomputing scatters...\n",
            "Inferring best change points...\n"
          ]
        },
        {
          "output_type": "stream",
          "name": "stderr",
          "text": [
            "100%|██████████| 300/300 [00:09<00:00, 32.20it/s]\n"
          ]
        },
        {
          "output_type": "stream",
          "name": "stdout",
          "text": [
            "Precomputing scatters...\n",
            "Inferring best change points...\n",
            "Precomputing scatters...\n",
            "Inferring best change points...\n"
          ]
        },
        {
          "output_type": "stream",
          "name": "stderr",
          "text": [
            "100%|██████████| 300/300 [00:09<00:00, 31.96it/s]\n"
          ]
        },
        {
          "output_type": "stream",
          "name": "stdout",
          "text": [
            "Precomputing scatters...\n",
            "Inferring best change points...\n",
            "Precomputing scatters...\n",
            "Inferring best change points...\n"
          ]
        },
        {
          "output_type": "stream",
          "name": "stderr",
          "text": [
            "100%|██████████| 300/300 [00:09<00:00, 32.20it/s]\n"
          ]
        },
        {
          "output_type": "stream",
          "name": "stdout",
          "text": [
            "Precomputing scatters...\n",
            "Inferring best change points...\n",
            "Precomputing scatters...\n",
            "Inferring best change points...\n"
          ]
        },
        {
          "output_type": "stream",
          "name": "stderr",
          "text": [
            "100%|██████████| 300/300 [00:09<00:00, 32.38it/s]\n"
          ]
        },
        {
          "output_type": "stream",
          "name": "stdout",
          "text": [
            "Precomputing scatters...\n",
            "Inferring best change points...\n",
            "Precomputing scatters...\n",
            "Inferring best change points...\n"
          ]
        },
        {
          "output_type": "stream",
          "name": "stderr",
          "text": [
            "100%|██████████| 300/300 [00:09<00:00, 32.52it/s]\n"
          ]
        },
        {
          "output_type": "stream",
          "name": "stdout",
          "text": [
            "Precomputing scatters...\n",
            "Inferring best change points...\n",
            "Precomputing scatters...\n",
            "Inferring best change points...\n"
          ]
        },
        {
          "output_type": "stream",
          "name": "stderr",
          "text": [
            "100%|██████████| 300/300 [00:09<00:00, 32.44it/s]\n"
          ]
        },
        {
          "output_type": "stream",
          "name": "stdout",
          "text": [
            "Precomputing scatters...\n",
            "Inferring best change points...\n",
            "Precomputing scatters...\n",
            "Inferring best change points...\n"
          ]
        },
        {
          "output_type": "stream",
          "name": "stderr",
          "text": [
            "100%|██████████| 300/300 [00:09<00:00, 32.45it/s]\n"
          ]
        },
        {
          "output_type": "stream",
          "name": "stdout",
          "text": [
            "Precomputing scatters...\n",
            "Inferring best change points...\n",
            "Precomputing scatters...\n",
            "Inferring best change points...\n"
          ]
        },
        {
          "output_type": "stream",
          "name": "stderr",
          "text": [
            "100%|██████████| 300/300 [00:09<00:00, 32.37it/s]\n"
          ]
        },
        {
          "output_type": "stream",
          "name": "stdout",
          "text": [
            "Precomputing scatters...\n",
            "Inferring best change points...\n",
            "Precomputing scatters...\n",
            "Inferring best change points...\n"
          ]
        },
        {
          "output_type": "stream",
          "name": "stderr",
          "text": [
            "100%|██████████| 300/300 [00:09<00:00, 31.97it/s]\n"
          ]
        },
        {
          "output_type": "stream",
          "name": "stdout",
          "text": [
            "Precomputing scatters...\n",
            "Inferring best change points...\n",
            "Precomputing scatters...\n",
            "Inferring best change points...\n"
          ]
        },
        {
          "output_type": "stream",
          "name": "stderr",
          "text": [
            "100%|██████████| 300/300 [00:09<00:00, 32.10it/s]\n"
          ]
        },
        {
          "output_type": "stream",
          "name": "stdout",
          "text": [
            "Precomputing scatters...\n",
            "Inferring best change points...\n",
            "Precomputing scatters...\n",
            "Inferring best change points...\n"
          ]
        },
        {
          "output_type": "stream",
          "name": "stderr",
          "text": [
            "100%|██████████| 300/300 [00:09<00:00, 32.21it/s]\n"
          ]
        },
        {
          "output_type": "stream",
          "name": "stdout",
          "text": [
            "Precomputing scatters...\n",
            "Inferring best change points...\n",
            "Precomputing scatters...\n",
            "Inferring best change points...\n"
          ]
        },
        {
          "output_type": "stream",
          "name": "stderr",
          "text": [
            "100%|██████████| 300/300 [00:09<00:00, 32.50it/s]\n"
          ]
        },
        {
          "output_type": "stream",
          "name": "stdout",
          "text": [
            "Precomputing scatters...\n",
            "Inferring best change points...\n",
            "Precomputing scatters...\n",
            "Inferring best change points...\n"
          ]
        },
        {
          "output_type": "stream",
          "name": "stderr",
          "text": [
            "100%|██████████| 300/300 [00:09<00:00, 32.55it/s]\n"
          ]
        },
        {
          "output_type": "stream",
          "name": "stdout",
          "text": [
            "Precomputing scatters...\n",
            "Inferring best change points...\n",
            "Precomputing scatters...\n",
            "Inferring best change points...\n"
          ]
        },
        {
          "output_type": "stream",
          "name": "stderr",
          "text": [
            "100%|██████████| 300/300 [00:09<00:00, 32.54it/s]\n"
          ]
        },
        {
          "output_type": "stream",
          "name": "stdout",
          "text": [
            "Precomputing scatters...\n",
            "Inferring best change points...\n",
            "Precomputing scatters...\n",
            "Inferring best change points...\n"
          ]
        },
        {
          "output_type": "stream",
          "name": "stderr",
          "text": [
            "100%|██████████| 300/300 [00:09<00:00, 31.98it/s]\n"
          ]
        },
        {
          "output_type": "stream",
          "name": "stdout",
          "text": [
            "Precomputing scatters...\n",
            "Inferring best change points...\n",
            "Precomputing scatters...\n",
            "Inferring best change points...\n"
          ]
        },
        {
          "output_type": "stream",
          "name": "stderr",
          "text": [
            "100%|██████████| 300/300 [00:09<00:00, 32.62it/s]\n"
          ]
        },
        {
          "output_type": "stream",
          "name": "stdout",
          "text": [
            "Precomputing scatters...\n",
            "Inferring best change points...\n",
            "Precomputing scatters...\n",
            "Inferring best change points...\n"
          ]
        },
        {
          "output_type": "stream",
          "name": "stderr",
          "text": [
            "100%|██████████| 300/300 [00:09<00:00, 32.62it/s]\n"
          ]
        },
        {
          "output_type": "stream",
          "name": "stdout",
          "text": [
            "Precomputing scatters...\n",
            "Inferring best change points...\n",
            "Precomputing scatters...\n",
            "Inferring best change points...\n"
          ]
        },
        {
          "output_type": "stream",
          "name": "stderr",
          "text": [
            "100%|██████████| 300/300 [00:09<00:00, 32.57it/s]\n"
          ]
        },
        {
          "output_type": "stream",
          "name": "stdout",
          "text": [
            "Precomputing scatters...\n",
            "Inferring best change points...\n",
            "Precomputing scatters...\n",
            "Inferring best change points...\n"
          ]
        },
        {
          "output_type": "stream",
          "name": "stderr",
          "text": [
            "100%|██████████| 300/300 [00:09<00:00, 32.45it/s]\n"
          ]
        },
        {
          "output_type": "stream",
          "name": "stdout",
          "text": [
            "Precomputing scatters...\n",
            "Inferring best change points...\n",
            "Precomputing scatters...\n",
            "Inferring best change points...\n"
          ]
        },
        {
          "output_type": "stream",
          "name": "stderr",
          "text": [
            "100%|██████████| 300/300 [00:09<00:00, 32.48it/s]\n"
          ]
        },
        {
          "output_type": "stream",
          "name": "stdout",
          "text": [
            "Precomputing scatters...\n",
            "Inferring best change points...\n",
            "Precomputing scatters...\n",
            "Inferring best change points...\n"
          ]
        },
        {
          "output_type": "stream",
          "name": "stderr",
          "text": [
            "100%|██████████| 300/300 [00:09<00:00, 32.89it/s]\n"
          ]
        },
        {
          "output_type": "stream",
          "name": "stdout",
          "text": [
            "Precomputing scatters...\n",
            "Inferring best change points...\n",
            "Precomputing scatters...\n",
            "Inferring best change points...\n"
          ]
        },
        {
          "output_type": "stream",
          "name": "stderr",
          "text": [
            "100%|██████████| 300/300 [00:09<00:00, 32.12it/s]\n"
          ]
        },
        {
          "output_type": "stream",
          "name": "stdout",
          "text": [
            "Precomputing scatters...\n",
            "Inferring best change points...\n",
            "Precomputing scatters...\n",
            "Inferring best change points...\n"
          ]
        },
        {
          "output_type": "stream",
          "name": "stderr",
          "text": [
            "100%|██████████| 300/300 [00:09<00:00, 32.27it/s]\n"
          ]
        },
        {
          "output_type": "stream",
          "name": "stdout",
          "text": [
            "Precomputing scatters...\n",
            "Inferring best change points...\n",
            "Precomputing scatters...\n",
            "Inferring best change points...\n"
          ]
        },
        {
          "output_type": "stream",
          "name": "stderr",
          "text": [
            "100%|██████████| 300/300 [00:09<00:00, 32.54it/s]\n"
          ]
        },
        {
          "output_type": "stream",
          "name": "stdout",
          "text": [
            "Precomputing scatters...\n",
            "Inferring best change points...\n",
            "Precomputing scatters...\n",
            "Inferring best change points...\n"
          ]
        },
        {
          "output_type": "stream",
          "name": "stderr",
          "text": [
            "100%|██████████| 300/300 [00:09<00:00, 32.49it/s]\n"
          ]
        },
        {
          "output_type": "stream",
          "name": "stdout",
          "text": [
            "Precomputing scatters...\n",
            "Inferring best change points...\n",
            "Precomputing scatters...\n",
            "Inferring best change points...\n"
          ]
        },
        {
          "output_type": "stream",
          "name": "stderr",
          "text": [
            "100%|██████████| 300/300 [00:09<00:00, 32.29it/s]\n"
          ]
        },
        {
          "output_type": "stream",
          "name": "stdout",
          "text": [
            "Precomputing scatters...\n",
            "Inferring best change points...\n",
            "Precomputing scatters...\n",
            "Inferring best change points...\n"
          ]
        },
        {
          "output_type": "stream",
          "name": "stderr",
          "text": [
            "100%|██████████| 300/300 [00:09<00:00, 32.81it/s]\n"
          ]
        },
        {
          "output_type": "stream",
          "name": "stdout",
          "text": [
            "Precomputing scatters...\n",
            "Inferring best change points...\n",
            "Precomputing scatters...\n",
            "Inferring best change points...\n"
          ]
        },
        {
          "output_type": "stream",
          "name": "stderr",
          "text": [
            "100%|██████████| 300/300 [00:09<00:00, 32.31it/s]\n"
          ]
        },
        {
          "output_type": "stream",
          "name": "stdout",
          "text": [
            "Precomputing scatters...\n",
            "Inferring best change points...\n",
            "Precomputing scatters...\n",
            "Inferring best change points...\n"
          ]
        },
        {
          "output_type": "stream",
          "name": "stderr",
          "text": [
            "100%|██████████| 300/300 [00:09<00:00, 32.64it/s]\n"
          ]
        },
        {
          "output_type": "stream",
          "name": "stdout",
          "text": [
            "Precomputing scatters...\n",
            "Inferring best change points...\n",
            "Precomputing scatters...\n",
            "Inferring best change points...\n"
          ]
        },
        {
          "output_type": "stream",
          "name": "stderr",
          "text": [
            "100%|██████████| 300/300 [00:09<00:00, 32.64it/s]\n"
          ]
        },
        {
          "output_type": "stream",
          "name": "stdout",
          "text": [
            "Precomputing scatters...\n",
            "Inferring best change points...\n",
            "Precomputing scatters...\n",
            "Inferring best change points...\n"
          ]
        },
        {
          "output_type": "stream",
          "name": "stderr",
          "text": [
            "100%|██████████| 300/300 [00:09<00:00, 32.31it/s]\n"
          ]
        },
        {
          "output_type": "stream",
          "name": "stdout",
          "text": [
            "Precomputing scatters...\n",
            "Inferring best change points...\n",
            "Precomputing scatters...\n",
            "Inferring best change points...\n"
          ]
        },
        {
          "output_type": "stream",
          "name": "stderr",
          "text": [
            "100%|██████████| 300/300 [00:09<00:00, 32.27it/s]\n"
          ]
        },
        {
          "output_type": "stream",
          "name": "stdout",
          "text": [
            "Precomputing scatters...\n",
            "Inferring best change points...\n",
            "Precomputing scatters...\n",
            "Inferring best change points...\n"
          ]
        },
        {
          "output_type": "stream",
          "name": "stderr",
          "text": [
            "100%|██████████| 300/300 [00:09<00:00, 32.19it/s]\n"
          ]
        },
        {
          "output_type": "stream",
          "name": "stdout",
          "text": [
            "Precomputing scatters...\n",
            "Inferring best change points...\n",
            "Precomputing scatters...\n",
            "Inferring best change points...\n"
          ]
        },
        {
          "output_type": "stream",
          "name": "stderr",
          "text": [
            "100%|██████████| 300/300 [00:09<00:00, 32.31it/s]\n"
          ]
        },
        {
          "output_type": "stream",
          "name": "stdout",
          "text": [
            "Precomputing scatters...\n",
            "Inferring best change points...\n",
            "Precomputing scatters...\n",
            "Inferring best change points...\n"
          ]
        },
        {
          "output_type": "stream",
          "name": "stderr",
          "text": [
            "100%|██████████| 300/300 [00:09<00:00, 32.37it/s]\n"
          ]
        },
        {
          "output_type": "stream",
          "name": "stdout",
          "text": [
            "Precomputing scatters...\n",
            "Inferring best change points...\n",
            "Precomputing scatters...\n",
            "Inferring best change points...\n"
          ]
        },
        {
          "output_type": "stream",
          "name": "stderr",
          "text": [
            "100%|██████████| 300/300 [00:09<00:00, 32.00it/s]\n"
          ]
        },
        {
          "output_type": "stream",
          "name": "stdout",
          "text": [
            "Precomputing scatters...\n",
            "Inferring best change points...\n",
            "Precomputing scatters...\n",
            "Inferring best change points...\n"
          ]
        },
        {
          "output_type": "stream",
          "name": "stderr",
          "text": [
            "100%|██████████| 300/300 [00:09<00:00, 32.49it/s]\n"
          ]
        },
        {
          "output_type": "stream",
          "name": "stdout",
          "text": [
            "Precomputing scatters...\n",
            "Inferring best change points...\n",
            "Precomputing scatters...\n",
            "Inferring best change points...\n"
          ]
        },
        {
          "output_type": "stream",
          "name": "stderr",
          "text": [
            "100%|██████████| 300/300 [00:09<00:00, 32.52it/s]\n"
          ]
        },
        {
          "output_type": "stream",
          "name": "stdout",
          "text": [
            "Precomputing scatters...\n",
            "Inferring best change points...\n",
            "Precomputing scatters...\n",
            "Inferring best change points...\n"
          ]
        },
        {
          "output_type": "stream",
          "name": "stderr",
          "text": [
            "100%|██████████| 300/300 [00:09<00:00, 32.37it/s]\n"
          ]
        },
        {
          "output_type": "stream",
          "name": "stdout",
          "text": [
            "Precomputing scatters...\n",
            "Inferring best change points...\n",
            "Precomputing scatters...\n",
            "Inferring best change points...\n"
          ]
        },
        {
          "output_type": "stream",
          "name": "stderr",
          "text": [
            "100%|██████████| 300/300 [00:09<00:00, 31.96it/s]\n"
          ]
        },
        {
          "output_type": "stream",
          "name": "stdout",
          "text": [
            "Precomputing scatters...\n",
            "Inferring best change points...\n",
            "Precomputing scatters...\n",
            "Inferring best change points...\n"
          ]
        },
        {
          "output_type": "stream",
          "name": "stderr",
          "text": [
            "100%|██████████| 300/300 [00:09<00:00, 32.27it/s]\n"
          ]
        },
        {
          "output_type": "stream",
          "name": "stdout",
          "text": [
            "Precomputing scatters...\n",
            "Inferring best change points...\n",
            "Precomputing scatters...\n",
            "Inferring best change points...\n"
          ]
        },
        {
          "output_type": "stream",
          "name": "stderr",
          "text": [
            "100%|██████████| 300/300 [00:09<00:00, 32.36it/s]\n"
          ]
        },
        {
          "output_type": "stream",
          "name": "stdout",
          "text": [
            "Precomputing scatters...\n",
            "Inferring best change points...\n",
            "Precomputing scatters...\n",
            "Inferring best change points...\n"
          ]
        },
        {
          "output_type": "stream",
          "name": "stderr",
          "text": [
            "100%|██████████| 300/300 [00:09<00:00, 31.88it/s]\n"
          ]
        },
        {
          "output_type": "stream",
          "name": "stdout",
          "text": [
            "Precomputing scatters...\n",
            "Inferring best change points...\n",
            "Precomputing scatters...\n",
            "Inferring best change points...\n"
          ]
        },
        {
          "output_type": "stream",
          "name": "stderr",
          "text": [
            "100%|██████████| 300/300 [00:09<00:00, 32.30it/s]\n"
          ]
        },
        {
          "output_type": "stream",
          "name": "stdout",
          "text": [
            "Precomputing scatters...\n",
            "Inferring best change points...\n",
            "Precomputing scatters...\n",
            "Inferring best change points...\n"
          ]
        },
        {
          "output_type": "stream",
          "name": "stderr",
          "text": [
            "100%|██████████| 300/300 [00:09<00:00, 32.51it/s]\n"
          ]
        },
        {
          "output_type": "stream",
          "name": "stdout",
          "text": [
            "Precomputing scatters...\n",
            "Inferring best change points...\n",
            "Precomputing scatters...\n",
            "Inferring best change points...\n"
          ]
        },
        {
          "output_type": "stream",
          "name": "stderr",
          "text": [
            "100%|██████████| 300/300 [00:09<00:00, 32.43it/s]\n"
          ]
        },
        {
          "output_type": "stream",
          "name": "stdout",
          "text": [
            "Precomputing scatters...\n",
            "Inferring best change points...\n",
            "Precomputing scatters...\n",
            "Inferring best change points...\n"
          ]
        },
        {
          "output_type": "stream",
          "name": "stderr",
          "text": [
            "100%|██████████| 300/300 [00:09<00:00, 32.10it/s]\n"
          ]
        },
        {
          "output_type": "stream",
          "name": "stdout",
          "text": [
            "Precomputing scatters...\n",
            "Inferring best change points...\n",
            "Precomputing scatters...\n",
            "Inferring best change points...\n"
          ]
        },
        {
          "output_type": "stream",
          "name": "stderr",
          "text": [
            "100%|██████████| 300/300 [00:09<00:00, 32.43it/s]\n"
          ]
        },
        {
          "output_type": "stream",
          "name": "stdout",
          "text": [
            "Precomputing scatters...\n",
            "Inferring best change points...\n",
            "Precomputing scatters...\n",
            "Inferring best change points...\n"
          ]
        },
        {
          "output_type": "stream",
          "name": "stderr",
          "text": [
            "100%|██████████| 300/300 [00:09<00:00, 32.58it/s]\n"
          ]
        },
        {
          "output_type": "stream",
          "name": "stdout",
          "text": [
            "Precomputing scatters...\n",
            "Inferring best change points...\n",
            "Precomputing scatters...\n",
            "Inferring best change points...\n"
          ]
        },
        {
          "output_type": "stream",
          "name": "stderr",
          "text": [
            "100%|██████████| 300/300 [00:09<00:00, 32.25it/s]\n"
          ]
        },
        {
          "output_type": "stream",
          "name": "stdout",
          "text": [
            "Precomputing scatters...\n",
            "Inferring best change points...\n",
            "Precomputing scatters...\n",
            "Inferring best change points...\n"
          ]
        },
        {
          "output_type": "stream",
          "name": "stderr",
          "text": [
            "100%|██████████| 300/300 [00:09<00:00, 32.39it/s]\n"
          ]
        },
        {
          "output_type": "stream",
          "name": "stdout",
          "text": [
            "Precomputing scatters...\n",
            "Inferring best change points...\n",
            "Precomputing scatters...\n",
            "Inferring best change points...\n"
          ]
        },
        {
          "output_type": "stream",
          "name": "stderr",
          "text": [
            "100%|██████████| 300/300 [00:09<00:00, 32.40it/s]\n"
          ]
        },
        {
          "output_type": "stream",
          "name": "stdout",
          "text": [
            "Precomputing scatters...\n",
            "Inferring best change points...\n",
            "Precomputing scatters...\n",
            "Inferring best change points...\n"
          ]
        },
        {
          "output_type": "stream",
          "name": "stderr",
          "text": [
            "100%|██████████| 300/300 [00:09<00:00, 32.61it/s]\n"
          ]
        },
        {
          "output_type": "stream",
          "name": "stdout",
          "text": [
            "Precomputing scatters...\n",
            "Inferring best change points...\n",
            "Precomputing scatters...\n",
            "Inferring best change points...\n"
          ]
        },
        {
          "output_type": "stream",
          "name": "stderr",
          "text": [
            "100%|██████████| 300/300 [00:09<00:00, 32.05it/s]\n"
          ]
        },
        {
          "output_type": "stream",
          "name": "stdout",
          "text": [
            "Precomputing scatters...\n",
            "Inferring best change points...\n",
            "Precomputing scatters...\n",
            "Inferring best change points...\n"
          ]
        },
        {
          "output_type": "stream",
          "name": "stderr",
          "text": [
            "100%|██████████| 300/300 [00:09<00:00, 32.69it/s]\n"
          ]
        },
        {
          "output_type": "stream",
          "name": "stdout",
          "text": [
            "Precomputing scatters...\n",
            "Inferring best change points...\n",
            "Precomputing scatters...\n",
            "Inferring best change points...\n"
          ]
        },
        {
          "output_type": "stream",
          "name": "stderr",
          "text": [
            "100%|██████████| 300/300 [00:09<00:00, 32.48it/s]\n"
          ]
        },
        {
          "output_type": "stream",
          "name": "stdout",
          "text": [
            "Precomputing scatters...\n",
            "Inferring best change points...\n",
            "Precomputing scatters...\n",
            "Inferring best change points...\n"
          ]
        },
        {
          "output_type": "stream",
          "name": "stderr",
          "text": [
            "100%|██████████| 300/300 [00:09<00:00, 32.15it/s]\n"
          ]
        },
        {
          "output_type": "stream",
          "name": "stdout",
          "text": [
            "Precomputing scatters...\n",
            "Inferring best change points...\n",
            "Precomputing scatters...\n",
            "Inferring best change points...\n"
          ]
        },
        {
          "output_type": "stream",
          "name": "stderr",
          "text": [
            "100%|██████████| 300/300 [00:09<00:00, 32.29it/s]\n"
          ]
        },
        {
          "output_type": "stream",
          "name": "stdout",
          "text": [
            "Precomputing scatters...\n",
            "Inferring best change points...\n",
            "Precomputing scatters...\n",
            "Inferring best change points...\n"
          ]
        },
        {
          "output_type": "stream",
          "name": "stderr",
          "text": [
            "100%|██████████| 300/300 [00:09<00:00, 32.44it/s]\n"
          ]
        },
        {
          "output_type": "stream",
          "name": "stdout",
          "text": [
            "Precomputing scatters...\n",
            "Inferring best change points...\n",
            "Precomputing scatters...\n",
            "Inferring best change points...\n"
          ]
        },
        {
          "output_type": "stream",
          "name": "stderr",
          "text": [
            "100%|██████████| 300/300 [00:09<00:00, 32.43it/s]\n"
          ]
        },
        {
          "output_type": "stream",
          "name": "stdout",
          "text": [
            "Precomputing scatters...\n",
            "Inferring best change points...\n",
            "Precomputing scatters...\n",
            "Inferring best change points...\n"
          ]
        },
        {
          "output_type": "stream",
          "name": "stderr",
          "text": [
            "100%|██████████| 300/300 [00:09<00:00, 32.50it/s]\n"
          ]
        },
        {
          "output_type": "stream",
          "name": "stdout",
          "text": [
            "Precomputing scatters...\n",
            "Inferring best change points...\n",
            "Precomputing scatters...\n",
            "Inferring best change points...\n"
          ]
        },
        {
          "output_type": "stream",
          "name": "stderr",
          "text": [
            "100%|██████████| 300/300 [00:09<00:00, 32.50it/s]\n"
          ]
        },
        {
          "output_type": "stream",
          "name": "stdout",
          "text": [
            "Precomputing scatters...\n",
            "Inferring best change points...\n",
            "Precomputing scatters...\n",
            "Inferring best change points...\n"
          ]
        },
        {
          "output_type": "stream",
          "name": "stderr",
          "text": [
            "100%|██████████| 300/300 [00:09<00:00, 32.84it/s]\n"
          ]
        },
        {
          "output_type": "stream",
          "name": "stdout",
          "text": [
            "Precomputing scatters...\n",
            "Inferring best change points...\n",
            "Precomputing scatters...\n",
            "Inferring best change points...\n"
          ]
        },
        {
          "output_type": "stream",
          "name": "stderr",
          "text": [
            "100%|██████████| 300/300 [00:09<00:00, 32.35it/s]\n"
          ]
        },
        {
          "output_type": "stream",
          "name": "stdout",
          "text": [
            "Precomputing scatters...\n",
            "Inferring best change points...\n",
            "Precomputing scatters...\n",
            "Inferring best change points...\n"
          ]
        },
        {
          "output_type": "stream",
          "name": "stderr",
          "text": [
            "100%|██████████| 300/300 [00:09<00:00, 32.22it/s]\n"
          ]
        },
        {
          "output_type": "stream",
          "name": "stdout",
          "text": [
            "Precomputing scatters...\n",
            "Inferring best change points...\n",
            "Precomputing scatters...\n",
            "Inferring best change points...\n"
          ]
        },
        {
          "output_type": "stream",
          "name": "stderr",
          "text": [
            "100%|██████████| 300/300 [00:09<00:00, 32.20it/s]\n"
          ]
        },
        {
          "output_type": "stream",
          "name": "stdout",
          "text": [
            "Precomputing scatters...\n",
            "Inferring best change points...\n",
            "Precomputing scatters...\n",
            "Inferring best change points...\n"
          ]
        },
        {
          "output_type": "stream",
          "name": "stderr",
          "text": [
            "100%|██████████| 300/300 [00:09<00:00, 32.25it/s]\n"
          ]
        },
        {
          "output_type": "stream",
          "name": "stdout",
          "text": [
            "Precomputing scatters...\n",
            "Inferring best change points...\n",
            "Precomputing scatters...\n",
            "Inferring best change points...\n"
          ]
        },
        {
          "output_type": "stream",
          "name": "stderr",
          "text": [
            "100%|██████████| 300/300 [00:09<00:00, 32.44it/s]\n"
          ]
        },
        {
          "output_type": "stream",
          "name": "stdout",
          "text": [
            "Precomputing scatters...\n",
            "Inferring best change points...\n",
            "Precomputing scatters...\n",
            "Inferring best change points...\n"
          ]
        },
        {
          "output_type": "stream",
          "name": "stderr",
          "text": [
            "100%|██████████| 300/300 [00:09<00:00, 32.53it/s]\n"
          ]
        },
        {
          "output_type": "stream",
          "name": "stdout",
          "text": [
            "Precomputing scatters...\n",
            "Inferring best change points...\n",
            "Precomputing scatters...\n",
            "Inferring best change points...\n"
          ]
        },
        {
          "output_type": "stream",
          "name": "stderr",
          "text": [
            "100%|██████████| 300/300 [00:09<00:00, 32.68it/s]\n"
          ]
        },
        {
          "output_type": "stream",
          "name": "stdout",
          "text": [
            "Precomputing scatters...\n",
            "Inferring best change points...\n",
            "Precomputing scatters...\n",
            "Inferring best change points...\n"
          ]
        },
        {
          "output_type": "stream",
          "name": "stderr",
          "text": [
            "100%|██████████| 300/300 [00:09<00:00, 32.44it/s]\n"
          ]
        },
        {
          "output_type": "stream",
          "name": "stdout",
          "text": [
            "Precomputing scatters...\n",
            "Inferring best change points...\n",
            "Precomputing scatters...\n",
            "Inferring best change points...\n"
          ]
        },
        {
          "output_type": "stream",
          "name": "stderr",
          "text": [
            "100%|██████████| 300/300 [00:09<00:00, 32.46it/s]\n"
          ]
        },
        {
          "output_type": "stream",
          "name": "stdout",
          "text": [
            "Precomputing scatters...\n",
            "Inferring best change points...\n",
            "Precomputing scatters...\n",
            "Inferring best change points...\n"
          ]
        },
        {
          "output_type": "stream",
          "name": "stderr",
          "text": [
            "100%|██████████| 300/300 [00:09<00:00, 32.05it/s]\n"
          ]
        },
        {
          "output_type": "stream",
          "name": "stdout",
          "text": [
            "Precomputing scatters...\n",
            "Inferring best change points...\n",
            "Precomputing scatters...\n",
            "Inferring best change points...\n"
          ]
        },
        {
          "output_type": "stream",
          "name": "stderr",
          "text": [
            "100%|██████████| 300/300 [00:09<00:00, 32.26it/s]\n"
          ]
        },
        {
          "output_type": "stream",
          "name": "stdout",
          "text": [
            "Precomputing scatters...\n",
            "Inferring best change points...\n",
            "Precomputing scatters...\n",
            "Inferring best change points...\n"
          ]
        },
        {
          "output_type": "stream",
          "name": "stderr",
          "text": [
            "100%|██████████| 300/300 [00:09<00:00, 31.94it/s]\n"
          ]
        },
        {
          "output_type": "stream",
          "name": "stdout",
          "text": [
            "Precomputing scatters...\n",
            "Inferring best change points...\n",
            "Precomputing scatters...\n",
            "Inferring best change points...\n"
          ]
        },
        {
          "output_type": "stream",
          "name": "stderr",
          "text": [
            "100%|██████████| 300/300 [00:09<00:00, 32.58it/s]\n"
          ]
        },
        {
          "output_type": "stream",
          "name": "stdout",
          "text": [
            "Precomputing scatters...\n",
            "Inferring best change points...\n",
            "Precomputing scatters...\n",
            "Inferring best change points...\n"
          ]
        },
        {
          "output_type": "stream",
          "name": "stderr",
          "text": [
            "100%|██████████| 300/300 [00:09<00:00, 32.57it/s]\n"
          ]
        },
        {
          "output_type": "stream",
          "name": "stdout",
          "text": [
            "Precomputing scatters...\n",
            "Inferring best change points...\n",
            "Precomputing scatters...\n",
            "Inferring best change points...\n"
          ]
        },
        {
          "output_type": "stream",
          "name": "stderr",
          "text": [
            "100%|██████████| 300/300 [00:09<00:00, 32.37it/s]\n"
          ]
        },
        {
          "output_type": "stream",
          "name": "stdout",
          "text": [
            "Precomputing scatters...\n",
            "Inferring best change points...\n",
            "Precomputing scatters...\n",
            "Inferring best change points...\n"
          ]
        },
        {
          "output_type": "stream",
          "name": "stderr",
          "text": [
            "100%|██████████| 300/300 [00:09<00:00, 32.52it/s]\n"
          ]
        },
        {
          "output_type": "stream",
          "name": "stdout",
          "text": [
            "Precomputing scatters...\n",
            "Inferring best change points...\n",
            "Precomputing scatters...\n",
            "Inferring best change points...\n"
          ]
        },
        {
          "output_type": "stream",
          "name": "stderr",
          "text": [
            "100%|██████████| 300/300 [00:09<00:00, 32.48it/s]\n"
          ]
        },
        {
          "output_type": "stream",
          "name": "stdout",
          "text": [
            "Precomputing scatters...\n",
            "Inferring best change points...\n",
            "Precomputing scatters...\n",
            "Inferring best change points...\n"
          ]
        },
        {
          "output_type": "stream",
          "name": "stderr",
          "text": [
            "100%|██████████| 300/300 [00:09<00:00, 32.87it/s]\n"
          ]
        },
        {
          "output_type": "stream",
          "name": "stdout",
          "text": [
            "Precomputing scatters...\n",
            "Inferring best change points...\n",
            "Precomputing scatters...\n",
            "Inferring best change points...\n"
          ]
        },
        {
          "output_type": "stream",
          "name": "stderr",
          "text": [
            "100%|██████████| 300/300 [00:09<00:00, 32.00it/s]\n"
          ]
        },
        {
          "output_type": "stream",
          "name": "stdout",
          "text": [
            "Precomputing scatters...\n",
            "Inferring best change points...\n",
            "Precomputing scatters...\n",
            "Inferring best change points...\n"
          ]
        },
        {
          "output_type": "stream",
          "name": "stderr",
          "text": [
            "100%|██████████| 300/300 [00:09<00:00, 32.66it/s]\n"
          ]
        },
        {
          "output_type": "stream",
          "name": "stdout",
          "text": [
            "Precomputing scatters...\n",
            "Inferring best change points...\n",
            "Precomputing scatters...\n",
            "Inferring best change points...\n"
          ]
        },
        {
          "output_type": "stream",
          "name": "stderr",
          "text": [
            "100%|██████████| 300/300 [00:09<00:00, 32.57it/s]\n"
          ]
        },
        {
          "output_type": "stream",
          "name": "stdout",
          "text": [
            "Precomputing scatters...\n",
            "Inferring best change points...\n",
            "Precomputing scatters...\n",
            "Inferring best change points...\n"
          ]
        },
        {
          "output_type": "stream",
          "name": "stderr",
          "text": [
            "100%|██████████| 300/300 [00:09<00:00, 32.00it/s]\n"
          ]
        },
        {
          "output_type": "stream",
          "name": "stdout",
          "text": [
            "Precomputing scatters...\n",
            "Inferring best change points...\n",
            "Precomputing scatters...\n",
            "Inferring best change points...\n"
          ]
        },
        {
          "output_type": "stream",
          "name": "stderr",
          "text": [
            "100%|██████████| 300/300 [00:09<00:00, 32.24it/s]\n"
          ]
        },
        {
          "output_type": "stream",
          "name": "stdout",
          "text": [
            "Precomputing scatters...\n",
            "Inferring best change points...\n",
            "Precomputing scatters...\n",
            "Inferring best change points...\n"
          ]
        },
        {
          "output_type": "stream",
          "name": "stderr",
          "text": [
            "100%|██████████| 300/300 [00:09<00:00, 32.57it/s]\n"
          ]
        },
        {
          "output_type": "stream",
          "name": "stdout",
          "text": [
            "Precomputing scatters...\n",
            "Inferring best change points...\n",
            "Precomputing scatters...\n",
            "Inferring best change points...\n"
          ]
        },
        {
          "output_type": "stream",
          "name": "stderr",
          "text": [
            "100%|██████████| 300/300 [00:09<00:00, 32.83it/s]\n"
          ]
        },
        {
          "output_type": "stream",
          "name": "stdout",
          "text": [
            "Precomputing scatters...\n",
            "Inferring best change points...\n",
            "Precomputing scatters...\n",
            "Inferring best change points...\n"
          ]
        },
        {
          "output_type": "stream",
          "name": "stderr",
          "text": [
            "100%|██████████| 300/300 [00:09<00:00, 32.26it/s]\n"
          ]
        },
        {
          "output_type": "stream",
          "name": "stdout",
          "text": [
            "Precomputing scatters...\n",
            "Inferring best change points...\n",
            "Precomputing scatters...\n",
            "Inferring best change points...\n"
          ]
        },
        {
          "output_type": "stream",
          "name": "stderr",
          "text": [
            "100%|██████████| 300/300 [00:09<00:00, 32.57it/s]\n"
          ]
        },
        {
          "output_type": "stream",
          "name": "stdout",
          "text": [
            "Precomputing scatters...\n",
            "Inferring best change points...\n",
            "Precomputing scatters...\n",
            "Inferring best change points...\n"
          ]
        },
        {
          "output_type": "stream",
          "name": "stderr",
          "text": [
            "100%|██████████| 300/300 [00:09<00:00, 32.30it/s]\n"
          ]
        },
        {
          "output_type": "stream",
          "name": "stdout",
          "text": [
            "Precomputing scatters...\n",
            "Inferring best change points...\n",
            "Precomputing scatters...\n",
            "Inferring best change points...\n"
          ]
        },
        {
          "output_type": "stream",
          "name": "stderr",
          "text": [
            "100%|██████████| 300/300 [00:09<00:00, 31.82it/s]\n"
          ]
        },
        {
          "output_type": "stream",
          "name": "stdout",
          "text": [
            "Precomputing scatters...\n",
            "Inferring best change points...\n",
            "Precomputing scatters...\n",
            "Inferring best change points...\n"
          ]
        },
        {
          "output_type": "stream",
          "name": "stderr",
          "text": [
            "100%|██████████| 300/300 [00:09<00:00, 32.49it/s]\n"
          ]
        },
        {
          "output_type": "stream",
          "name": "stdout",
          "text": [
            "Precomputing scatters...\n",
            "Inferring best change points...\n",
            "Precomputing scatters...\n",
            "Inferring best change points...\n"
          ]
        },
        {
          "output_type": "stream",
          "name": "stderr",
          "text": [
            "100%|██████████| 300/300 [00:09<00:00, 32.57it/s]\n"
          ]
        },
        {
          "output_type": "stream",
          "name": "stdout",
          "text": [
            "Precomputing scatters...\n",
            "Inferring best change points...\n",
            "Precomputing scatters...\n",
            "Inferring best change points...\n"
          ]
        },
        {
          "output_type": "stream",
          "name": "stderr",
          "text": [
            "100%|██████████| 300/300 [00:09<00:00, 32.63it/s]\n"
          ]
        },
        {
          "output_type": "stream",
          "name": "stdout",
          "text": [
            "Precomputing scatters...\n",
            "Inferring best change points...\n",
            "Precomputing scatters...\n",
            "Inferring best change points...\n"
          ]
        },
        {
          "output_type": "stream",
          "name": "stderr",
          "text": [
            "100%|██████████| 300/300 [00:09<00:00, 32.53it/s]\n"
          ]
        },
        {
          "output_type": "stream",
          "name": "stdout",
          "text": [
            "Precomputing scatters...\n",
            "Inferring best change points...\n",
            "Precomputing scatters...\n",
            "Inferring best change points...\n"
          ]
        },
        {
          "output_type": "stream",
          "name": "stderr",
          "text": [
            "100%|██████████| 300/300 [00:09<00:00, 32.56it/s]\n"
          ]
        },
        {
          "output_type": "stream",
          "name": "stdout",
          "text": [
            "Precomputing scatters...\n",
            "Inferring best change points...\n",
            "Precomputing scatters...\n",
            "Inferring best change points...\n"
          ]
        },
        {
          "output_type": "stream",
          "name": "stderr",
          "text": [
            "100%|██████████| 300/300 [00:09<00:00, 32.37it/s]\n"
          ]
        },
        {
          "output_type": "stream",
          "name": "stdout",
          "text": [
            "Precomputing scatters...\n",
            "Inferring best change points...\n",
            "Precomputing scatters...\n",
            "Inferring best change points...\n"
          ]
        },
        {
          "output_type": "stream",
          "name": "stderr",
          "text": [
            "100%|██████████| 300/300 [00:09<00:00, 32.11it/s]\n"
          ]
        },
        {
          "output_type": "stream",
          "name": "stdout",
          "text": [
            "Precomputing scatters...\n",
            "Inferring best change points...\n",
            "Precomputing scatters...\n",
            "Inferring best change points...\n"
          ]
        },
        {
          "output_type": "stream",
          "name": "stderr",
          "text": [
            "100%|██████████| 300/300 [00:09<00:00, 32.14it/s]\n"
          ]
        },
        {
          "output_type": "stream",
          "name": "stdout",
          "text": [
            "Precomputing scatters...\n",
            "Inferring best change points...\n",
            "Precomputing scatters...\n",
            "Inferring best change points...\n"
          ]
        },
        {
          "output_type": "stream",
          "name": "stderr",
          "text": [
            "100%|██████████| 300/300 [00:09<00:00, 32.42it/s]\n"
          ]
        },
        {
          "output_type": "stream",
          "name": "stdout",
          "text": [
            "Precomputing scatters...\n",
            "Inferring best change points...\n",
            "Precomputing scatters...\n",
            "Inferring best change points...\n"
          ]
        },
        {
          "output_type": "stream",
          "name": "stderr",
          "text": [
            "100%|██████████| 300/300 [00:09<00:00, 32.46it/s]\n"
          ]
        },
        {
          "output_type": "stream",
          "name": "stdout",
          "text": [
            "Precomputing scatters...\n",
            "Inferring best change points...\n",
            "Precomputing scatters...\n",
            "Inferring best change points...\n"
          ]
        },
        {
          "output_type": "stream",
          "name": "stderr",
          "text": [
            "100%|██████████| 300/300 [00:09<00:00, 32.08it/s]\n"
          ]
        },
        {
          "output_type": "stream",
          "name": "stdout",
          "text": [
            "Precomputing scatters...\n",
            "Inferring best change points...\n",
            "Precomputing scatters...\n",
            "Inferring best change points...\n"
          ]
        },
        {
          "output_type": "stream",
          "name": "stderr",
          "text": [
            "100%|██████████| 300/300 [00:09<00:00, 32.33it/s]\n"
          ]
        },
        {
          "output_type": "stream",
          "name": "stdout",
          "text": [
            "Precomputing scatters...\n",
            "Inferring best change points...\n",
            "Precomputing scatters...\n",
            "Inferring best change points...\n"
          ]
        },
        {
          "output_type": "stream",
          "name": "stderr",
          "text": [
            "100%|██████████| 300/300 [00:09<00:00, 32.15it/s]\n"
          ]
        },
        {
          "output_type": "stream",
          "name": "stdout",
          "text": [
            "Precomputing scatters...\n",
            "Inferring best change points...\n",
            "Precomputing scatters...\n",
            "Inferring best change points...\n"
          ]
        },
        {
          "output_type": "stream",
          "name": "stderr",
          "text": [
            "100%|██████████| 300/300 [00:09<00:00, 32.12it/s]\n"
          ]
        },
        {
          "output_type": "stream",
          "name": "stdout",
          "text": [
            "Precomputing scatters...\n",
            "Inferring best change points...\n",
            "Precomputing scatters...\n",
            "Inferring best change points...\n"
          ]
        },
        {
          "output_type": "stream",
          "name": "stderr",
          "text": [
            "100%|██████████| 300/300 [00:09<00:00, 32.24it/s]\n"
          ]
        },
        {
          "output_type": "stream",
          "name": "stdout",
          "text": [
            "Precomputing scatters...\n",
            "Inferring best change points...\n",
            "Precomputing scatters...\n",
            "Inferring best change points...\n"
          ]
        },
        {
          "output_type": "stream",
          "name": "stderr",
          "text": [
            "100%|██████████| 300/300 [00:09<00:00, 31.93it/s]\n"
          ]
        },
        {
          "output_type": "stream",
          "name": "stdout",
          "text": [
            "Precomputing scatters...\n",
            "Inferring best change points...\n",
            "Precomputing scatters...\n",
            "Inferring best change points...\n"
          ]
        },
        {
          "output_type": "stream",
          "name": "stderr",
          "text": [
            "100%|██████████| 300/300 [00:09<00:00, 32.05it/s]\n"
          ]
        },
        {
          "output_type": "stream",
          "name": "stdout",
          "text": [
            "Precomputing scatters...\n",
            "Inferring best change points...\n",
            "Precomputing scatters...\n",
            "Inferring best change points...\n"
          ]
        },
        {
          "output_type": "stream",
          "name": "stderr",
          "text": [
            "100%|██████████| 300/300 [00:09<00:00, 32.09it/s]\n"
          ]
        },
        {
          "output_type": "stream",
          "name": "stdout",
          "text": [
            "Precomputing scatters...\n",
            "Inferring best change points...\n",
            "Precomputing scatters...\n",
            "Inferring best change points...\n"
          ]
        },
        {
          "output_type": "stream",
          "name": "stderr",
          "text": [
            "100%|██████████| 300/300 [00:09<00:00, 32.19it/s]\n"
          ]
        },
        {
          "output_type": "stream",
          "name": "stdout",
          "text": [
            "Precomputing scatters...\n",
            "Inferring best change points...\n",
            "Precomputing scatters...\n",
            "Inferring best change points...\n"
          ]
        },
        {
          "output_type": "stream",
          "name": "stderr",
          "text": [
            "100%|██████████| 300/300 [00:09<00:00, 32.19it/s]\n"
          ]
        },
        {
          "output_type": "stream",
          "name": "stdout",
          "text": [
            "Precomputing scatters...\n",
            "Inferring best change points...\n",
            "Precomputing scatters...\n",
            "Inferring best change points...\n"
          ]
        },
        {
          "output_type": "stream",
          "name": "stderr",
          "text": [
            "100%|██████████| 300/300 [00:09<00:00, 32.54it/s]\n"
          ]
        },
        {
          "output_type": "stream",
          "name": "stdout",
          "text": [
            "Precomputing scatters...\n",
            "Inferring best change points...\n",
            "Precomputing scatters...\n",
            "Inferring best change points...\n"
          ]
        },
        {
          "output_type": "stream",
          "name": "stderr",
          "text": [
            "100%|██████████| 300/300 [00:09<00:00, 32.37it/s]\n"
          ]
        },
        {
          "output_type": "stream",
          "name": "stdout",
          "text": [
            "Precomputing scatters...\n",
            "Inferring best change points...\n",
            "Precomputing scatters...\n",
            "Inferring best change points...\n"
          ]
        },
        {
          "output_type": "stream",
          "name": "stderr",
          "text": [
            "100%|██████████| 300/300 [00:09<00:00, 32.24it/s]\n"
          ]
        },
        {
          "output_type": "stream",
          "name": "stdout",
          "text": [
            "Precomputing scatters...\n",
            "Inferring best change points...\n",
            "Precomputing scatters...\n",
            "Inferring best change points...\n"
          ]
        },
        {
          "output_type": "stream",
          "name": "stderr",
          "text": [
            "100%|██████████| 300/300 [00:09<00:00, 32.28it/s]\n"
          ]
        },
        {
          "output_type": "stream",
          "name": "stdout",
          "text": [
            "Precomputing scatters...\n",
            "Inferring best change points...\n",
            "Precomputing scatters...\n",
            "Inferring best change points...\n"
          ]
        },
        {
          "output_type": "stream",
          "name": "stderr",
          "text": [
            "100%|██████████| 300/300 [00:09<00:00, 31.90it/s]\n"
          ]
        },
        {
          "output_type": "stream",
          "name": "stdout",
          "text": [
            "Precomputing scatters...\n",
            "Inferring best change points...\n",
            "Precomputing scatters...\n",
            "Inferring best change points...\n"
          ]
        },
        {
          "output_type": "stream",
          "name": "stderr",
          "text": [
            "100%|██████████| 300/300 [00:09<00:00, 32.38it/s]\n"
          ]
        },
        {
          "output_type": "stream",
          "name": "stdout",
          "text": [
            "Precomputing scatters...\n",
            "Inferring best change points...\n",
            "Precomputing scatters...\n",
            "Inferring best change points...\n"
          ]
        },
        {
          "output_type": "stream",
          "name": "stderr",
          "text": [
            "100%|██████████| 300/300 [00:09<00:00, 32.27it/s]\n"
          ]
        },
        {
          "output_type": "stream",
          "name": "stdout",
          "text": [
            "Precomputing scatters...\n",
            "Inferring best change points...\n",
            "Precomputing scatters...\n",
            "Inferring best change points...\n"
          ]
        },
        {
          "output_type": "stream",
          "name": "stderr",
          "text": [
            "100%|██████████| 300/300 [00:09<00:00, 31.93it/s]\n"
          ]
        },
        {
          "output_type": "stream",
          "name": "stdout",
          "text": [
            "Precomputing scatters...\n",
            "Inferring best change points...\n",
            "Precomputing scatters...\n",
            "Inferring best change points...\n"
          ]
        },
        {
          "output_type": "stream",
          "name": "stderr",
          "text": [
            "100%|██████████| 300/300 [00:09<00:00, 32.28it/s]\n"
          ]
        },
        {
          "output_type": "stream",
          "name": "stdout",
          "text": [
            "Precomputing scatters...\n",
            "Inferring best change points...\n",
            "Precomputing scatters...\n",
            "Inferring best change points...\n"
          ]
        },
        {
          "output_type": "stream",
          "name": "stderr",
          "text": [
            "100%|██████████| 300/300 [00:09<00:00, 32.51it/s]\n"
          ]
        },
        {
          "output_type": "stream",
          "name": "stdout",
          "text": [
            "Precomputing scatters...\n",
            "Inferring best change points...\n",
            "Precomputing scatters...\n",
            "Inferring best change points...\n"
          ]
        },
        {
          "output_type": "stream",
          "name": "stderr",
          "text": [
            "100%|██████████| 300/300 [00:09<00:00, 32.42it/s]\n"
          ]
        },
        {
          "output_type": "stream",
          "name": "stdout",
          "text": [
            "Precomputing scatters...\n",
            "Inferring best change points...\n",
            "Precomputing scatters...\n",
            "Inferring best change points...\n"
          ]
        },
        {
          "output_type": "stream",
          "name": "stderr",
          "text": [
            "100%|██████████| 300/300 [00:09<00:00, 32.54it/s]\n"
          ]
        },
        {
          "output_type": "stream",
          "name": "stdout",
          "text": [
            "Precomputing scatters...\n",
            "Inferring best change points...\n",
            "Precomputing scatters...\n",
            "Inferring best change points...\n"
          ]
        },
        {
          "output_type": "stream",
          "name": "stderr",
          "text": [
            "100%|██████████| 300/300 [00:09<00:00, 32.68it/s]\n"
          ]
        },
        {
          "output_type": "stream",
          "name": "stdout",
          "text": [
            "Precomputing scatters...\n",
            "Inferring best change points...\n",
            "Precomputing scatters...\n",
            "Inferring best change points...\n"
          ]
        },
        {
          "output_type": "stream",
          "name": "stderr",
          "text": [
            "100%|██████████| 300/300 [00:09<00:00, 32.29it/s]\n"
          ]
        },
        {
          "output_type": "stream",
          "name": "stdout",
          "text": [
            "Precomputing scatters...\n",
            "Inferring best change points...\n",
            "Precomputing scatters...\n",
            "Inferring best change points...\n"
          ]
        },
        {
          "output_type": "stream",
          "name": "stderr",
          "text": [
            "100%|██████████| 300/300 [00:09<00:00, 32.05it/s]\n"
          ]
        },
        {
          "output_type": "stream",
          "name": "stdout",
          "text": [
            "Precomputing scatters...\n",
            "Inferring best change points...\n",
            "Precomputing scatters...\n",
            "Inferring best change points...\n"
          ]
        },
        {
          "output_type": "stream",
          "name": "stderr",
          "text": [
            "100%|██████████| 300/300 [00:09<00:00, 32.70it/s]\n"
          ]
        },
        {
          "output_type": "stream",
          "name": "stdout",
          "text": [
            "Precomputing scatters...\n",
            "Inferring best change points...\n",
            "Precomputing scatters...\n",
            "Inferring best change points...\n"
          ]
        },
        {
          "output_type": "stream",
          "name": "stderr",
          "text": [
            "100%|██████████| 300/300 [00:09<00:00, 32.40it/s]\n"
          ]
        },
        {
          "output_type": "stream",
          "name": "stdout",
          "text": [
            "Precomputing scatters...\n",
            "Inferring best change points...\n",
            "Precomputing scatters...\n",
            "Inferring best change points...\n"
          ]
        },
        {
          "output_type": "stream",
          "name": "stderr",
          "text": [
            "100%|██████████| 300/300 [00:09<00:00, 32.36it/s]\n"
          ]
        },
        {
          "output_type": "stream",
          "name": "stdout",
          "text": [
            "Precomputing scatters...\n",
            "Inferring best change points...\n",
            "Precomputing scatters...\n",
            "Inferring best change points...\n"
          ]
        },
        {
          "output_type": "stream",
          "name": "stderr",
          "text": [
            "100%|██████████| 300/300 [00:09<00:00, 32.14it/s]\n"
          ]
        },
        {
          "output_type": "stream",
          "name": "stdout",
          "text": [
            "Precomputing scatters...\n",
            "Inferring best change points...\n",
            "Precomputing scatters...\n",
            "Inferring best change points...\n"
          ]
        },
        {
          "output_type": "stream",
          "name": "stderr",
          "text": [
            "100%|██████████| 300/300 [00:09<00:00, 31.98it/s]\n"
          ]
        },
        {
          "output_type": "stream",
          "name": "stdout",
          "text": [
            "Precomputing scatters...\n",
            "Inferring best change points...\n",
            "Precomputing scatters...\n",
            "Inferring best change points...\n"
          ]
        },
        {
          "output_type": "stream",
          "name": "stderr",
          "text": [
            "100%|██████████| 300/300 [00:09<00:00, 32.01it/s]\n"
          ]
        },
        {
          "output_type": "stream",
          "name": "stdout",
          "text": [
            "Precomputing scatters...\n",
            "Inferring best change points...\n",
            "Precomputing scatters...\n",
            "Inferring best change points...\n"
          ]
        },
        {
          "output_type": "stream",
          "name": "stderr",
          "text": [
            "100%|██████████| 300/300 [00:09<00:00, 31.67it/s]\n"
          ]
        },
        {
          "output_type": "stream",
          "name": "stdout",
          "text": [
            "Precomputing scatters...\n",
            "Inferring best change points...\n",
            "Precomputing scatters...\n",
            "Inferring best change points...\n"
          ]
        },
        {
          "output_type": "stream",
          "name": "stderr",
          "text": [
            "100%|██████████| 300/300 [00:10<00:00, 29.76it/s]\n"
          ]
        },
        {
          "output_type": "stream",
          "name": "stdout",
          "text": [
            "Precomputing scatters...\n",
            "Inferring best change points...\n",
            "Precomputing scatters...\n",
            "Inferring best change points...\n"
          ]
        }
      ]
    }
  ]
}